{
  "nbformat": 4,
  "nbformat_minor": 0,
  "metadata": {
    "colab": {
      "name": "Copy of RUL Predict.ipynb",
      "provenance": [],
      "toc_visible": true,
      "mount_file_id": "1bUkxdbRNquGV-Up7t5usmkwaiGNNvtnz",
      "authorship_tag": "ABX9TyPgDMr7gMjOIWV+LjgZfSzL",
      "include_colab_link": true
    },
    "kernelspec": {
      "name": "python3",
      "display_name": "Python 3"
    },
    "language_info": {
      "name": "python"
    }
  },
  "cells": [
    {
      "cell_type": "markdown",
      "metadata": {
        "id": "view-in-github",
        "colab_type": "text"
      },
      "source": [
        "<a href=\"https://colab.research.google.com/github/StudentHagal/Thesis/blob/main/RUL_Predict.ipynb\" target=\"_parent\"><img src=\"https://colab.research.google.com/assets/colab-badge.svg\" alt=\"Open In Colab\"/></a>"
      ]
    },
    {
      "cell_type": "markdown",
      "metadata": {
        "id": "UVr5sT70mOdq"
      },
      "source": [
        "# 0) Preparation"
      ]
    },
    {
      "cell_type": "markdown",
      "metadata": {
        "id": "JAfDsIexmSZG"
      },
      "source": [
        "## Load Requirements"
      ]
    },
    {
      "cell_type": "code",
      "metadata": {
        "colab": {
          "base_uri": "https://localhost:8080/"
        },
        "id": "J2JFhSZS4yIJ",
        "outputId": "1da392aa-68f5-41ad-ef58-d101001684ed"
      },
      "source": [
        "# Github repository\n",
        "!git clone https://github.com/StudentHagal/Thesis.git\n",
        "\n",
        "# Libraries\n",
        "import sys\n",
        "import pandas as pd\n",
        "import hashlib\n",
        "import matplotlib\n",
        "import numpy as np\n",
        "import pandas as pd\n",
        "import sklearn\n",
        "import joblib\n",
        "import scipy\n",
        "import matplotlib.pyplot as plt\n",
        "from pandas import read_csv\n",
        "from pandas.plotting import scatter_matrix\n",
        "from matplotlib import pyplot\n",
        "from sklearn.model_selection import train_test_split\n",
        "from sklearn.model_selection import cross_val_score\n",
        "from sklearn.model_selection import KFold\n",
        "from sklearn.metrics import mean_absolute_error\n",
        "from sklearn.linear_model import LinearRegression\n",
        "from sklearn.linear_model import Ridge\n",
        "from sklearn.ensemble import RandomForestRegressor\n",
        "\n",
        "\n",
        "#Extension\n",
        "!pip install ipython-autotime\n",
        "%load_ext autotime\n",
        "\n",
        "print('load completed')\n"
      ],
      "execution_count": 1,
      "outputs": [
        {
          "output_type": "stream",
          "name": "stdout",
          "text": [
            "Cloning into 'Thesis'...\n",
            "remote: Enumerating objects: 145, done.\u001b[K\n",
            "remote: Counting objects: 100% (145/145), done.\u001b[K\n",
            "remote: Compressing objects: 100% (137/137), done.\u001b[K\n",
            "remote: Total 145 (delta 51), reused 0 (delta 0), pack-reused 0\u001b[K\n",
            "Receiving objects: 100% (145/145), 4.77 MiB | 3.31 MiB/s, done.\n",
            "Resolving deltas: 100% (51/51), done.\n",
            "Collecting ipython-autotime\n",
            "  Downloading ipython_autotime-0.3.1-py2.py3-none-any.whl (6.8 kB)\n",
            "Requirement already satisfied: ipython in /usr/local/lib/python3.7/dist-packages (from ipython-autotime) (5.5.0)\n",
            "Requirement already satisfied: pexpect in /usr/local/lib/python3.7/dist-packages (from ipython->ipython-autotime) (4.8.0)\n",
            "Requirement already satisfied: decorator in /usr/local/lib/python3.7/dist-packages (from ipython->ipython-autotime) (4.4.2)\n",
            "Requirement already satisfied: pickleshare in /usr/local/lib/python3.7/dist-packages (from ipython->ipython-autotime) (0.7.5)\n",
            "Requirement already satisfied: prompt-toolkit<2.0.0,>=1.0.4 in /usr/local/lib/python3.7/dist-packages (from ipython->ipython-autotime) (1.0.18)\n",
            "Requirement already satisfied: traitlets>=4.2 in /usr/local/lib/python3.7/dist-packages (from ipython->ipython-autotime) (5.1.0)\n",
            "Requirement already satisfied: pygments in /usr/local/lib/python3.7/dist-packages (from ipython->ipython-autotime) (2.6.1)\n",
            "Requirement already satisfied: simplegeneric>0.8 in /usr/local/lib/python3.7/dist-packages (from ipython->ipython-autotime) (0.8.1)\n",
            "Requirement already satisfied: setuptools>=18.5 in /usr/local/lib/python3.7/dist-packages (from ipython->ipython-autotime) (57.4.0)\n",
            "Requirement already satisfied: wcwidth in /usr/local/lib/python3.7/dist-packages (from prompt-toolkit<2.0.0,>=1.0.4->ipython->ipython-autotime) (0.2.5)\n",
            "Requirement already satisfied: six>=1.9.0 in /usr/local/lib/python3.7/dist-packages (from prompt-toolkit<2.0.0,>=1.0.4->ipython->ipython-autotime) (1.15.0)\n",
            "Requirement already satisfied: ptyprocess>=0.5 in /usr/local/lib/python3.7/dist-packages (from pexpect->ipython->ipython-autotime) (0.7.0)\n",
            "Installing collected packages: ipython-autotime\n",
            "Successfully installed ipython-autotime-0.3.1\n",
            "load completed\n",
            "time: 2.98 ms (started: 2021-10-07 16:09:24 +00:00)\n"
          ]
        }
      ]
    },
    {
      "cell_type": "markdown",
      "metadata": {
        "id": "eiCBLrIbSSYm"
      },
      "source": [
        "## Check Lib Version"
      ]
    },
    {
      "cell_type": "code",
      "metadata": {
        "id": "bf4XnFEiSRts",
        "colab": {
          "base_uri": "https://localhost:8080/"
        },
        "outputId": "1fdfd18b-1dd6-478b-a5b4-401005c839b8"
      },
      "source": [
        "# Check the versions of libraries\n",
        "# !!! WARNING !!!\n",
        "# Important because model result may be different for other version\n",
        " \n",
        "print('Python: {}'.format(sys.version))\n",
        "print('scipy: {}'.format(scipy.__version__))\n",
        "print('numpy: {}'.format(np.__version__))\n",
        "print('matplotlib: {}'.format(matplotlib.__version__))\n",
        "print('pandas: {}'.format(pd.__version__))\n",
        "print('sklearn: {}'.format(sklearn.__version__))\n",
        "print('joblib: {}'.format(joblib.__version__))"
      ],
      "execution_count": 2,
      "outputs": [
        {
          "output_type": "stream",
          "name": "stdout",
          "text": [
            "Python: 3.7.12 (default, Sep 10 2021, 00:21:48) \n",
            "[GCC 7.5.0]\n",
            "scipy: 1.4.1\n",
            "numpy: 1.19.5\n",
            "matplotlib: 3.2.2\n",
            "pandas: 1.1.5\n",
            "sklearn: 0.22.2.post1\n",
            "joblib: 1.0.1\n",
            "time: 7.16 ms (started: 2021-10-07 16:09:24 +00:00)\n"
          ]
        }
      ]
    },
    {
      "cell_type": "markdown",
      "metadata": {
        "id": "cJK3k6Buma8H"
      },
      "source": [
        "## Global variables"
      ]
    },
    {
      "cell_type": "code",
      "metadata": {
        "colab": {
          "base_uri": "https://localhost:8080/"
        },
        "id": "oq-Jytr8kU6Q",
        "outputId": "b3eb9f3f-6121-4e80-c4fd-dc25dc50e80f"
      },
      "source": [
        "# Global Variables declaration\n",
        "\n",
        "#known hash value of file\n",
        "compare = '10f68054068bc4ac4d7fee65e8fd7a184151e3ce3abce5d85350fc13c412d93b' \n",
        "#Stored file path                     \n",
        "raw_file = \"/content/Thesis/Resources/database.csv\"\n",
        "#environment path\n",
        "main_dir = '/content/Thesis/'           \n",
        "model_dir = '/content/Thesis/Resources/models/'                                  \n",
        "process_dir = '/content/Thesis/Resources/Processed/'                                \n",
        "#Column names for dataset            \n",
        "col_names = ['No', 'Datetime', 'Control_Mode', 'L1', 'L2', 'L3', 'Frequency', 'kVA_Total',           \n",
        "             'kVA_L1', 'kVA_L2', 'kVA_L3', 'KVAr', 'Oil_Pressure', 'Coolant_Temp', \n",
        "             'Charger_Alternator', 'PF_Avg', 'PF_L1', 'PF_L2', \n",
        "             'PF_L3', 'L1_N', 'L2_N', 'L3_N', 'Source_Ext_Voltage', 'ECU_Temp', \n",
        "             'RPM', 'Train_code']\n",
        "df = pd.read_csv(raw_file, names=col_names)\n",
        "features = ['Oil_Pressure', 'Coolant_Temp', 'PF_Avg', 'ECU_Temp']\n",
        "#Unused columns in dataset\n",
        "unused_col = ['No', 'Control_Mode', 'L1', 'L2', 'L3', 'Frequency',                       \n",
        "              'kVA_Total', 'kVA_L1', 'kVA_L2', 'kVA_L3', 'KVAr', 'Charger_Alternator',\n",
        "              'RPM', 'PF_L1', 'PF_L2', 'PF_L3', 'L1_N','L2_N', 'L3_N',\n",
        "              'Source_Ext_Voltage']\n",
        "\n",
        "#Threshold value variable 40% min, 60% max for labelling\n",
        "oil_threshold_40, oil_threshold_60 = df.Oil_Pressure.quantile([0.4 , 0.6])\n",
        "coolant_threshold_40, coolant_threshold_60 = df.Coolant_Temp.quantile([0.4 , 0.6])\n",
        "pf_threshold_40, pf_threshold_60 = df.PF_Avg.quantile([0.4 , 0.6])\n",
        "ecu_threshold_40, ecu_threshold_60 = df.ECU_Temp.quantile([0.4 , 0.6])\n",
        "#Threshold value variable 25% min, 75% max for labelling\n",
        "oil_threshold_25, oil_threshold_75 = df.Oil_Pressure.quantile([0.25 , 0.75])\n",
        "coolant_threshold_25, coolant_threshold_75 = df.Coolant_Temp.quantile([0.25 , 0.75])\n",
        "pf_threshold_25, pf_threshold_75 = df.PF_Avg.quantile([0.25 , 0.75])\n",
        "ecu_threshold_25, ecu_threshold_75 = df.ECU_Temp.quantile([0.25 , 0.75])\n",
        "\n",
        "#Algorithm Selection\n",
        "model_RFreg = RandomForestRegressor(random_state=1)\n",
        "model_OLS = LinearRegression()\n",
        "model_Ridge = Ridge()\n",
        "\n",
        "#Model Evaluation var\n",
        "val_results = []\n",
        "names = []\n",
        "models = []\n",
        "models.append(('OLS', model_OLS))\n",
        "models.append(('Ridge', model_Ridge))\n",
        "models.append(('RF-reg', model_RFreg))"
      ],
      "execution_count": 3,
      "outputs": [
        {
          "output_type": "stream",
          "name": "stdout",
          "text": [
            "time: 209 ms (started: 2021-10-07 16:09:24 +00:00)\n"
          ]
        }
      ]
    },
    {
      "cell_type": "markdown",
      "metadata": {
        "id": "MIvy5w5JmoBZ"
      },
      "source": [
        "## Hash Check Function"
      ]
    },
    {
      "cell_type": "code",
      "metadata": {
        "colab": {
          "base_uri": "https://localhost:8080/"
        },
        "id": "xwDzDPoAcmE7",
        "outputId": "cc018743-fc69-4178-d322-c32bebcec46e"
      },
      "source": [
        "# Function that returns the SHA-2 hash of the file\n",
        "def hash_file(filepath):\n",
        "\n",
        "   # make a hash object with SHA-2\n",
        "   h = hashlib.sha256()\n",
        "\n",
        "   # open file for reading in binary mode\n",
        "   with open(filepath,'rb') as file:\n",
        "       # loop till the end of the file\n",
        "       chunk = 0\n",
        "       while chunk != b'':\n",
        "           # read only 1024 bytes at a time\n",
        "           chunk = file.read(1024)\n",
        "           h.update(chunk)\n",
        "\n",
        "   # return the hex representation of digest\n",
        "   return h.hexdigest()\n"
      ],
      "execution_count": 4,
      "outputs": [
        {
          "output_type": "stream",
          "name": "stdout",
          "text": [
            "time: 7.12 ms (started: 2021-10-07 16:09:24 +00:00)\n"
          ]
        }
      ]
    },
    {
      "cell_type": "markdown",
      "metadata": {
        "id": "DpwVGPXeTteG"
      },
      "source": [
        "# 1) Standardized Dataset"
      ]
    },
    {
      "cell_type": "markdown",
      "metadata": {
        "id": "tvuliSwTPTAu"
      },
      "source": [
        "## Hash Validation"
      ]
    },
    {
      "cell_type": "code",
      "metadata": {
        "colab": {
          "base_uri": "https://localhost:8080/"
        },
        "id": "LhyimYT4WY8T",
        "outputId": "4bd48c49-8e27-4e21-c92e-2da1d178333d"
      },
      "source": [
        "# Checking hash value of all vehicles dataset file\n",
        "message = hash_file(process_dir+'all_vehicles.csv')\n",
        "print('SHA-256 value of all vehicles dataset file is :')\n",
        "print(message)\n",
        "\n",
        "# Checking hash value of ML labeled dataset file\n",
        "message = hash_file(process_dir+'predict1_smote.csv')\n",
        "print('SHA-256 value of ML labeled dataset file is :')\n",
        "print(message)"
      ],
      "execution_count": 5,
      "outputs": [
        {
          "output_type": "stream",
          "name": "stdout",
          "text": [
            "SHA-256 value of all vehicles dataset file is :\n",
            "befb8ea34ab0546b9439d8ed4b346c014ff33748d6191e335e9c6c0e406ba403\n",
            "SHA-256 value of ML labeled dataset file is :\n",
            "43699538897111fbbfc3739cbbcb383c21b403042706dc9a8410a9bd7b5ca2e5\n",
            "time: 28.8 ms (started: 2021-10-07 16:09:24 +00:00)\n"
          ]
        }
      ]
    },
    {
      "cell_type": "markdown",
      "metadata": {
        "id": "FJscIGNb6igO"
      },
      "source": [
        "## All vehicles"
      ]
    },
    {
      "cell_type": "code",
      "metadata": {
        "colab": {
          "base_uri": "https://localhost:8080/",
          "height": 606
        },
        "id": "HyFM3qxzU5dw",
        "outputId": "eae7eca1-64f3-4cb6-8bd0-371b14bdb323"
      },
      "source": [
        "#load dataset for all vehicles\n",
        "df_allvehicles = pd.read_csv(process_dir+'all_vehicles.csv', index_col=0)\n",
        "#df_allvehicles.drop(labels='Unnamed: 0', axis=1, inplace=True)\n",
        "MTBF_allvehicles = df_allvehicles.Delta_Time_h.mean()\n",
        "df_allvehicles"
      ],
      "execution_count": 6,
      "outputs": [
        {
          "output_type": "execute_result",
          "data": {
            "text/html": [
              "<div>\n",
              "<style scoped>\n",
              "    .dataframe tbody tr th:only-of-type {\n",
              "        vertical-align: middle;\n",
              "    }\n",
              "\n",
              "    .dataframe tbody tr th {\n",
              "        vertical-align: top;\n",
              "    }\n",
              "\n",
              "    .dataframe thead th {\n",
              "        text-align: right;\n",
              "    }\n",
              "</style>\n",
              "<table border=\"1\" class=\"dataframe\">\n",
              "  <thead>\n",
              "    <tr style=\"text-align: right;\">\n",
              "      <th></th>\n",
              "      <th>Datetime</th>\n",
              "      <th>Oil_Pressure</th>\n",
              "      <th>Coolant_Temp</th>\n",
              "      <th>PF_Avg</th>\n",
              "      <th>ECU_Temp</th>\n",
              "      <th>Label</th>\n",
              "      <th>Train_code</th>\n",
              "      <th>diffs</th>\n",
              "      <th>Delta_Time_h</th>\n",
              "    </tr>\n",
              "  </thead>\n",
              "  <tbody>\n",
              "    <tr>\n",
              "      <th>14136</th>\n",
              "      <td>2020-01-04 00:00:00</td>\n",
              "      <td>624.0</td>\n",
              "      <td>78.0</td>\n",
              "      <td>0.87</td>\n",
              "      <td>37.0</td>\n",
              "      <td>Maintenance</td>\n",
              "      <td>P-01818</td>\n",
              "      <td>0 days 00:00:00</td>\n",
              "      <td>0.000000</td>\n",
              "    </tr>\n",
              "    <tr>\n",
              "      <th>14137</th>\n",
              "      <td>2020-01-04 01:00:00</td>\n",
              "      <td>624.0</td>\n",
              "      <td>77.0</td>\n",
              "      <td>0.87</td>\n",
              "      <td>37.0</td>\n",
              "      <td>Maintenance</td>\n",
              "      <td>P-01818</td>\n",
              "      <td>0 days 01:00:00</td>\n",
              "      <td>1.000000</td>\n",
              "    </tr>\n",
              "    <tr>\n",
              "      <th>14139</th>\n",
              "      <td>2020-01-04 03:00:00</td>\n",
              "      <td>620.0</td>\n",
              "      <td>78.0</td>\n",
              "      <td>0.89</td>\n",
              "      <td>39.0</td>\n",
              "      <td>Maintenance</td>\n",
              "      <td>P-01818</td>\n",
              "      <td>0 days 02:00:00</td>\n",
              "      <td>2.000000</td>\n",
              "    </tr>\n",
              "    <tr>\n",
              "      <th>2936</th>\n",
              "      <td>2020-01-04 07:00:00</td>\n",
              "      <td>620.0</td>\n",
              "      <td>82.0</td>\n",
              "      <td>0.89</td>\n",
              "      <td>43.0</td>\n",
              "      <td>Maintenance</td>\n",
              "      <td>P-01801</td>\n",
              "      <td>0 days 04:00:00</td>\n",
              "      <td>4.000000</td>\n",
              "    </tr>\n",
              "    <tr>\n",
              "      <th>20706</th>\n",
              "      <td>2020-01-04 08:00:00</td>\n",
              "      <td>624.0</td>\n",
              "      <td>79.0</td>\n",
              "      <td>0.87</td>\n",
              "      <td>38.0</td>\n",
              "      <td>Maintenance</td>\n",
              "      <td>P-01822</td>\n",
              "      <td>0 days 01:00:00</td>\n",
              "      <td>1.000000</td>\n",
              "    </tr>\n",
              "    <tr>\n",
              "      <th>...</th>\n",
              "      <td>...</td>\n",
              "      <td>...</td>\n",
              "      <td>...</td>\n",
              "      <td>...</td>\n",
              "      <td>...</td>\n",
              "      <td>...</td>\n",
              "      <td>...</td>\n",
              "      <td>...</td>\n",
              "      <td>...</td>\n",
              "    </tr>\n",
              "    <tr>\n",
              "      <th>17366</th>\n",
              "      <td>2021-12-03 07:02:00</td>\n",
              "      <td>616.0</td>\n",
              "      <td>82.0</td>\n",
              "      <td>0.88</td>\n",
              "      <td>36.0</td>\n",
              "      <td>Maintenance</td>\n",
              "      <td>P-01820</td>\n",
              "      <td>0 days 03:02:00</td>\n",
              "      <td>3.033333</td>\n",
              "    </tr>\n",
              "    <tr>\n",
              "      <th>6349</th>\n",
              "      <td>2021-12-03 18:00:00</td>\n",
              "      <td>620.0</td>\n",
              "      <td>80.0</td>\n",
              "      <td>0.84</td>\n",
              "      <td>38.0</td>\n",
              "      <td>Maintenance</td>\n",
              "      <td>P-01808</td>\n",
              "      <td>0 days 10:58:00</td>\n",
              "      <td>10.966667</td>\n",
              "    </tr>\n",
              "    <tr>\n",
              "      <th>17380</th>\n",
              "      <td>2021-12-03 21:00:00</td>\n",
              "      <td>612.0</td>\n",
              "      <td>82.0</td>\n",
              "      <td>0.88</td>\n",
              "      <td>41.0</td>\n",
              "      <td>Maintenance</td>\n",
              "      <td>P-01820</td>\n",
              "      <td>0 days 03:00:00</td>\n",
              "      <td>3.000000</td>\n",
              "    </tr>\n",
              "    <tr>\n",
              "      <th>17381</th>\n",
              "      <td>2021-12-03 22:00:00</td>\n",
              "      <td>616.0</td>\n",
              "      <td>82.0</td>\n",
              "      <td>0.85</td>\n",
              "      <td>38.0</td>\n",
              "      <td>Maintenance</td>\n",
              "      <td>P-01820</td>\n",
              "      <td>0 days 01:00:00</td>\n",
              "      <td>1.000000</td>\n",
              "    </tr>\n",
              "    <tr>\n",
              "      <th>17382</th>\n",
              "      <td>2021-12-03 23:00:00</td>\n",
              "      <td>616.0</td>\n",
              "      <td>82.0</td>\n",
              "      <td>0.85</td>\n",
              "      <td>38.0</td>\n",
              "      <td>Maintenance</td>\n",
              "      <td>P-01820</td>\n",
              "      <td>0 days 01:00:00</td>\n",
              "      <td>1.000000</td>\n",
              "    </tr>\n",
              "  </tbody>\n",
              "</table>\n",
              "<p>4292 rows × 9 columns</p>\n",
              "</div>"
            ],
            "text/plain": [
              "                  Datetime  Oil_Pressure  ...            diffs  Delta_Time_h\n",
              "14136  2020-01-04 00:00:00         624.0  ...  0 days 00:00:00      0.000000\n",
              "14137  2020-01-04 01:00:00         624.0  ...  0 days 01:00:00      1.000000\n",
              "14139  2020-01-04 03:00:00         620.0  ...  0 days 02:00:00      2.000000\n",
              "2936   2020-01-04 07:00:00         620.0  ...  0 days 04:00:00      4.000000\n",
              "20706  2020-01-04 08:00:00         624.0  ...  0 days 01:00:00      1.000000\n",
              "...                    ...           ...  ...              ...           ...\n",
              "17366  2021-12-03 07:02:00         616.0  ...  0 days 03:02:00      3.033333\n",
              "6349   2021-12-03 18:00:00         620.0  ...  0 days 10:58:00     10.966667\n",
              "17380  2021-12-03 21:00:00         612.0  ...  0 days 03:00:00      3.000000\n",
              "17381  2021-12-03 22:00:00         616.0  ...  0 days 01:00:00      1.000000\n",
              "17382  2021-12-03 23:00:00         616.0  ...  0 days 01:00:00      1.000000\n",
              "\n",
              "[4292 rows x 9 columns]"
            ]
          },
          "metadata": {},
          "execution_count": 6
        },
        {
          "output_type": "stream",
          "name": "stdout",
          "text": [
            "time: 59.1 ms (started: 2021-10-07 16:09:24 +00:00)\n"
          ]
        }
      ]
    },
    {
      "cell_type": "code",
      "metadata": {
        "colab": {
          "base_uri": "https://localhost:8080/",
          "height": 314
        },
        "id": "e4XHc56UDd2u",
        "outputId": "5bd9412c-2da7-4fd2-a11d-b2e27dff5e96"
      },
      "source": [
        "df_allvehicles.describe()"
      ],
      "execution_count": 7,
      "outputs": [
        {
          "output_type": "execute_result",
          "data": {
            "text/html": [
              "<div>\n",
              "<style scoped>\n",
              "    .dataframe tbody tr th:only-of-type {\n",
              "        vertical-align: middle;\n",
              "    }\n",
              "\n",
              "    .dataframe tbody tr th {\n",
              "        vertical-align: top;\n",
              "    }\n",
              "\n",
              "    .dataframe thead th {\n",
              "        text-align: right;\n",
              "    }\n",
              "</style>\n",
              "<table border=\"1\" class=\"dataframe\">\n",
              "  <thead>\n",
              "    <tr style=\"text-align: right;\">\n",
              "      <th></th>\n",
              "      <th>Oil_Pressure</th>\n",
              "      <th>Coolant_Temp</th>\n",
              "      <th>PF_Avg</th>\n",
              "      <th>ECU_Temp</th>\n",
              "      <th>Delta_Time_h</th>\n",
              "    </tr>\n",
              "  </thead>\n",
              "  <tbody>\n",
              "    <tr>\n",
              "      <th>count</th>\n",
              "      <td>4292.000000</td>\n",
              "      <td>4292.000000</td>\n",
              "      <td>4292.000000</td>\n",
              "      <td>4292.000000</td>\n",
              "      <td>4292.000000</td>\n",
              "    </tr>\n",
              "    <tr>\n",
              "      <th>mean</th>\n",
              "      <td>612.411929</td>\n",
              "      <td>80.450140</td>\n",
              "      <td>0.859329</td>\n",
              "      <td>41.253262</td>\n",
              "      <td>3.914026</td>\n",
              "    </tr>\n",
              "    <tr>\n",
              "      <th>std</th>\n",
              "      <td>8.840592</td>\n",
              "      <td>1.651418</td>\n",
              "      <td>0.026699</td>\n",
              "      <td>3.383639</td>\n",
              "      <td>32.081543</td>\n",
              "    </tr>\n",
              "    <tr>\n",
              "      <th>min</th>\n",
              "      <td>592.000000</td>\n",
              "      <td>76.000000</td>\n",
              "      <td>0.780000</td>\n",
              "      <td>36.000000</td>\n",
              "      <td>0.000000</td>\n",
              "    </tr>\n",
              "    <tr>\n",
              "      <th>25%</th>\n",
              "      <td>608.000000</td>\n",
              "      <td>79.000000</td>\n",
              "      <td>0.850000</td>\n",
              "      <td>38.000000</td>\n",
              "      <td>1.000000</td>\n",
              "    </tr>\n",
              "    <tr>\n",
              "      <th>50%</th>\n",
              "      <td>616.000000</td>\n",
              "      <td>81.000000</td>\n",
              "      <td>0.870000</td>\n",
              "      <td>41.000000</td>\n",
              "      <td>1.000000</td>\n",
              "    </tr>\n",
              "    <tr>\n",
              "      <th>75%</th>\n",
              "      <td>620.000000</td>\n",
              "      <td>82.000000</td>\n",
              "      <td>0.880000</td>\n",
              "      <td>44.000000</td>\n",
              "      <td>1.133333</td>\n",
              "    </tr>\n",
              "    <tr>\n",
              "      <th>max</th>\n",
              "      <td>624.000000</td>\n",
              "      <td>82.000000</td>\n",
              "      <td>0.890000</td>\n",
              "      <td>48.000000</td>\n",
              "      <td>676.500000</td>\n",
              "    </tr>\n",
              "  </tbody>\n",
              "</table>\n",
              "</div>"
            ],
            "text/plain": [
              "       Oil_Pressure  Coolant_Temp       PF_Avg     ECU_Temp  Delta_Time_h\n",
              "count   4292.000000   4292.000000  4292.000000  4292.000000   4292.000000\n",
              "mean     612.411929     80.450140     0.859329    41.253262      3.914026\n",
              "std        8.840592      1.651418     0.026699     3.383639     32.081543\n",
              "min      592.000000     76.000000     0.780000    36.000000      0.000000\n",
              "25%      608.000000     79.000000     0.850000    38.000000      1.000000\n",
              "50%      616.000000     81.000000     0.870000    41.000000      1.000000\n",
              "75%      620.000000     82.000000     0.880000    44.000000      1.133333\n",
              "max      624.000000     82.000000     0.890000    48.000000    676.500000"
            ]
          },
          "metadata": {},
          "execution_count": 7
        },
        {
          "output_type": "stream",
          "name": "stdout",
          "text": [
            "time: 41.2 ms (started: 2021-10-07 16:09:24 +00:00)\n"
          ]
        }
      ]
    },
    {
      "cell_type": "code",
      "metadata": {
        "colab": {
          "base_uri": "https://localhost:8080/",
          "height": 313
        },
        "id": "QR7fPcqjauxd",
        "outputId": "d27c000a-1d1b-4fe5-f7bc-704844ce3003"
      },
      "source": [
        "# Simple Scatterplot\n",
        "plt.scatter(df_allvehicles.Delta_Time_h, df_allvehicles.Oil_Pressure)\n",
        "plt.title('Scatter plot')\n",
        "plt.xlabel('Delta_Time (h)')\n",
        "plt.ylabel('Oil Pressure')\n",
        "plt.show()"
      ],
      "execution_count": 8,
      "outputs": [
        {
          "output_type": "display_data",
          "data": {
            "image/png": "[encoded data removed]",
            "text/plain": [
              "<Figure size 432x288 with 1 Axes>"
            ]
          },
          "metadata": {
            "needs_background": "light"
          }
        },
        {
          "output_type": "stream",
          "name": "stdout",
          "text": [
            "time: 208 ms (started: 2021-10-07 16:09:24 +00:00)\n"
          ]
        }
      ]
    },
    {
      "cell_type": "markdown",
      "metadata": {
        "id": "9UX9K25v1DTb"
      },
      "source": [
        "## Single vehicle"
      ]
    },
    {
      "cell_type": "code",
      "metadata": {
        "colab": {
          "base_uri": "https://localhost:8080/",
          "height": 606
        },
        "id": "wdJ-TRnP1HPS",
        "outputId": "f9305287-5d27-4d83-e7d4-2f29a051aec5"
      },
      "source": [
        "#Preprocess data of a single vehicle\n",
        "df_single = df_allvehicles.loc[df_allvehicles['Train_code'] == 'P-01908']\n",
        "MTBF_single = df_single.Delta_Time_h.mean()\n",
        "df_single"
      ],
      "execution_count": 9,
      "outputs": [
        {
          "output_type": "execute_result",
          "data": {
            "text/html": [
              "<div>\n",
              "<style scoped>\n",
              "    .dataframe tbody tr th:only-of-type {\n",
              "        vertical-align: middle;\n",
              "    }\n",
              "\n",
              "    .dataframe tbody tr th {\n",
              "        vertical-align: top;\n",
              "    }\n",
              "\n",
              "    .dataframe thead th {\n",
              "        text-align: right;\n",
              "    }\n",
              "</style>\n",
              "<table border=\"1\" class=\"dataframe\">\n",
              "  <thead>\n",
              "    <tr style=\"text-align: right;\">\n",
              "      <th></th>\n",
              "      <th>Datetime</th>\n",
              "      <th>Oil_Pressure</th>\n",
              "      <th>Coolant_Temp</th>\n",
              "      <th>PF_Avg</th>\n",
              "      <th>ECU_Temp</th>\n",
              "      <th>Label</th>\n",
              "      <th>Train_code</th>\n",
              "      <th>diffs</th>\n",
              "      <th>Delta_Time_h</th>\n",
              "    </tr>\n",
              "  </thead>\n",
              "  <tbody>\n",
              "    <tr>\n",
              "      <th>28123</th>\n",
              "      <td>2020-01-10 04:04:00</td>\n",
              "      <td>616.0</td>\n",
              "      <td>81.0</td>\n",
              "      <td>0.86</td>\n",
              "      <td>38.0</td>\n",
              "      <td>Maintenance</td>\n",
              "      <td>P-01908</td>\n",
              "      <td>0 days 02:04:00</td>\n",
              "      <td>2.066667</td>\n",
              "    </tr>\n",
              "    <tr>\n",
              "      <th>28124</th>\n",
              "      <td>2020-01-10 05:00:00</td>\n",
              "      <td>616.0</td>\n",
              "      <td>81.0</td>\n",
              "      <td>0.88</td>\n",
              "      <td>39.0</td>\n",
              "      <td>Maintenance</td>\n",
              "      <td>P-01908</td>\n",
              "      <td>0 days 00:56:00</td>\n",
              "      <td>0.933333</td>\n",
              "    </tr>\n",
              "    <tr>\n",
              "      <th>28125</th>\n",
              "      <td>2020-01-10 06:00:00</td>\n",
              "      <td>612.0</td>\n",
              "      <td>81.0</td>\n",
              "      <td>0.85</td>\n",
              "      <td>42.0</td>\n",
              "      <td>Maintenance</td>\n",
              "      <td>P-01908</td>\n",
              "      <td>0 days 01:00:00</td>\n",
              "      <td>1.000000</td>\n",
              "    </tr>\n",
              "    <tr>\n",
              "      <th>28126</th>\n",
              "      <td>2020-01-10 07:00:00</td>\n",
              "      <td>612.0</td>\n",
              "      <td>81.0</td>\n",
              "      <td>0.87</td>\n",
              "      <td>44.0</td>\n",
              "      <td>Maintenance</td>\n",
              "      <td>P-01908</td>\n",
              "      <td>0 days 01:00:00</td>\n",
              "      <td>1.000000</td>\n",
              "    </tr>\n",
              "    <tr>\n",
              "      <th>28147</th>\n",
              "      <td>2020-01-11 15:00:00</td>\n",
              "      <td>612.0</td>\n",
              "      <td>81.0</td>\n",
              "      <td>0.87</td>\n",
              "      <td>38.0</td>\n",
              "      <td>Maintenance</td>\n",
              "      <td>P-01908</td>\n",
              "      <td>0 days 05:00:00</td>\n",
              "      <td>5.000000</td>\n",
              "    </tr>\n",
              "    <tr>\n",
              "      <th>...</th>\n",
              "      <td>...</td>\n",
              "      <td>...</td>\n",
              "      <td>...</td>\n",
              "      <td>...</td>\n",
              "      <td>...</td>\n",
              "      <td>...</td>\n",
              "      <td>...</td>\n",
              "      <td>...</td>\n",
              "      <td>...</td>\n",
              "    </tr>\n",
              "    <tr>\n",
              "      <th>29494</th>\n",
              "      <td>2021-12-01 08:00:00</td>\n",
              "      <td>616.0</td>\n",
              "      <td>81.0</td>\n",
              "      <td>0.86</td>\n",
              "      <td>44.0</td>\n",
              "      <td>Maintenance</td>\n",
              "      <td>P-01908</td>\n",
              "      <td>0 days 02:00:00</td>\n",
              "      <td>2.000000</td>\n",
              "    </tr>\n",
              "    <tr>\n",
              "      <th>29495</th>\n",
              "      <td>2021-12-01 09:00:00</td>\n",
              "      <td>612.0</td>\n",
              "      <td>81.0</td>\n",
              "      <td>0.86</td>\n",
              "      <td>45.0</td>\n",
              "      <td>Maintenance</td>\n",
              "      <td>P-01908</td>\n",
              "      <td>0 days 01:00:00</td>\n",
              "      <td>1.000000</td>\n",
              "    </tr>\n",
              "    <tr>\n",
              "      <th>29496</th>\n",
              "      <td>2021-12-01 10:00:00</td>\n",
              "      <td>608.0</td>\n",
              "      <td>82.0</td>\n",
              "      <td>0.87</td>\n",
              "      <td>46.0</td>\n",
              "      <td>Maintenance</td>\n",
              "      <td>P-01908</td>\n",
              "      <td>0 days 01:00:00</td>\n",
              "      <td>1.000000</td>\n",
              "    </tr>\n",
              "    <tr>\n",
              "      <th>29497</th>\n",
              "      <td>2021-12-01 11:00:00</td>\n",
              "      <td>604.0</td>\n",
              "      <td>82.0</td>\n",
              "      <td>0.87</td>\n",
              "      <td>46.0</td>\n",
              "      <td>Maintenance</td>\n",
              "      <td>P-01908</td>\n",
              "      <td>0 days 01:00:00</td>\n",
              "      <td>1.000000</td>\n",
              "    </tr>\n",
              "    <tr>\n",
              "      <th>29498</th>\n",
              "      <td>2021-12-01 12:00:00</td>\n",
              "      <td>608.0</td>\n",
              "      <td>82.0</td>\n",
              "      <td>0.87</td>\n",
              "      <td>46.0</td>\n",
              "      <td>Maintenance</td>\n",
              "      <td>P-01908</td>\n",
              "      <td>0 days 01:00:00</td>\n",
              "      <td>1.000000</td>\n",
              "    </tr>\n",
              "  </tbody>\n",
              "</table>\n",
              "<p>426 rows × 9 columns</p>\n",
              "</div>"
            ],
            "text/plain": [
              "                  Datetime  Oil_Pressure  ...            diffs  Delta_Time_h\n",
              "28123  2020-01-10 04:04:00         616.0  ...  0 days 02:04:00      2.066667\n",
              "28124  2020-01-10 05:00:00         616.0  ...  0 days 00:56:00      0.933333\n",
              "28125  2020-01-10 06:00:00         612.0  ...  0 days 01:00:00      1.000000\n",
              "28126  2020-01-10 07:00:00         612.0  ...  0 days 01:00:00      1.000000\n",
              "28147  2020-01-11 15:00:00         612.0  ...  0 days 05:00:00      5.000000\n",
              "...                    ...           ...  ...              ...           ...\n",
              "29494  2021-12-01 08:00:00         616.0  ...  0 days 02:00:00      2.000000\n",
              "29495  2021-12-01 09:00:00         612.0  ...  0 days 01:00:00      1.000000\n",
              "29496  2021-12-01 10:00:00         608.0  ...  0 days 01:00:00      1.000000\n",
              "29497  2021-12-01 11:00:00         604.0  ...  0 days 01:00:00      1.000000\n",
              "29498  2021-12-01 12:00:00         608.0  ...  0 days 01:00:00      1.000000\n",
              "\n",
              "[426 rows x 9 columns]"
            ]
          },
          "metadata": {},
          "execution_count": 9
        },
        {
          "output_type": "stream",
          "name": "stdout",
          "text": [
            "time: 55.4 ms (started: 2021-10-07 16:09:25 +00:00)\n"
          ]
        }
      ]
    },
    {
      "cell_type": "code",
      "metadata": {
        "colab": {
          "base_uri": "https://localhost:8080/",
          "height": 314
        },
        "id": "QnT21RofBnTl",
        "outputId": "375ebd81-cc73-4a35-b345-1469a0bdbade"
      },
      "source": [
        "df_single.describe()"
      ],
      "execution_count": 10,
      "outputs": [
        {
          "output_type": "execute_result",
          "data": {
            "text/html": [
              "<div>\n",
              "<style scoped>\n",
              "    .dataframe tbody tr th:only-of-type {\n",
              "        vertical-align: middle;\n",
              "    }\n",
              "\n",
              "    .dataframe tbody tr th {\n",
              "        vertical-align: top;\n",
              "    }\n",
              "\n",
              "    .dataframe thead th {\n",
              "        text-align: right;\n",
              "    }\n",
              "</style>\n",
              "<table border=\"1\" class=\"dataframe\">\n",
              "  <thead>\n",
              "    <tr style=\"text-align: right;\">\n",
              "      <th></th>\n",
              "      <th>Oil_Pressure</th>\n",
              "      <th>Coolant_Temp</th>\n",
              "      <th>PF_Avg</th>\n",
              "      <th>ECU_Temp</th>\n",
              "      <th>Delta_Time_h</th>\n",
              "    </tr>\n",
              "  </thead>\n",
              "  <tbody>\n",
              "    <tr>\n",
              "      <th>count</th>\n",
              "      <td>426.000000</td>\n",
              "      <td>426.000000</td>\n",
              "      <td>426.000000</td>\n",
              "      <td>426.000000</td>\n",
              "      <td>426.000000</td>\n",
              "    </tr>\n",
              "    <tr>\n",
              "      <th>mean</th>\n",
              "      <td>616.779343</td>\n",
              "      <td>80.319249</td>\n",
              "      <td>0.869812</td>\n",
              "      <td>40.532864</td>\n",
              "      <td>7.365023</td>\n",
              "    </tr>\n",
              "    <tr>\n",
              "      <th>std</th>\n",
              "      <td>4.603134</td>\n",
              "      <td>1.087449</td>\n",
              "      <td>0.016131</td>\n",
              "      <td>3.001976</td>\n",
              "      <td>56.634380</td>\n",
              "    </tr>\n",
              "    <tr>\n",
              "      <th>min</th>\n",
              "      <td>604.000000</td>\n",
              "      <td>77.000000</td>\n",
              "      <td>0.790000</td>\n",
              "      <td>36.000000</td>\n",
              "      <td>0.033333</td>\n",
              "    </tr>\n",
              "    <tr>\n",
              "      <th>25%</th>\n",
              "      <td>612.000000</td>\n",
              "      <td>80.000000</td>\n",
              "      <td>0.860000</td>\n",
              "      <td>38.000000</td>\n",
              "      <td>1.000000</td>\n",
              "    </tr>\n",
              "    <tr>\n",
              "      <th>50%</th>\n",
              "      <td>616.000000</td>\n",
              "      <td>80.000000</td>\n",
              "      <td>0.870000</td>\n",
              "      <td>40.000000</td>\n",
              "      <td>1.000000</td>\n",
              "    </tr>\n",
              "    <tr>\n",
              "      <th>75%</th>\n",
              "      <td>620.000000</td>\n",
              "      <td>81.000000</td>\n",
              "      <td>0.880000</td>\n",
              "      <td>43.000000</td>\n",
              "      <td>2.000000</td>\n",
              "    </tr>\n",
              "    <tr>\n",
              "      <th>max</th>\n",
              "      <td>624.000000</td>\n",
              "      <td>82.000000</td>\n",
              "      <td>0.890000</td>\n",
              "      <td>48.000000</td>\n",
              "      <td>672.883333</td>\n",
              "    </tr>\n",
              "  </tbody>\n",
              "</table>\n",
              "</div>"
            ],
            "text/plain": [
              "       Oil_Pressure  Coolant_Temp      PF_Avg    ECU_Temp  Delta_Time_h\n",
              "count    426.000000    426.000000  426.000000  426.000000    426.000000\n",
              "mean     616.779343     80.319249    0.869812   40.532864      7.365023\n",
              "std        4.603134      1.087449    0.016131    3.001976     56.634380\n",
              "min      604.000000     77.000000    0.790000   36.000000      0.033333\n",
              "25%      612.000000     80.000000    0.860000   38.000000      1.000000\n",
              "50%      616.000000     80.000000    0.870000   40.000000      1.000000\n",
              "75%      620.000000     81.000000    0.880000   43.000000      2.000000\n",
              "max      624.000000     82.000000    0.890000   48.000000    672.883333"
            ]
          },
          "metadata": {},
          "execution_count": 10
        },
        {
          "output_type": "stream",
          "name": "stdout",
          "text": [
            "time: 41.7 ms (started: 2021-10-07 16:09:25 +00:00)\n"
          ]
        }
      ]
    },
    {
      "cell_type": "code",
      "metadata": {
        "colab": {
          "base_uri": "https://localhost:8080/",
          "height": 313
        },
        "id": "yDXlYCRO2wuU",
        "outputId": "3a3155e8-3855-4722-8a48-af22345c0569"
      },
      "source": [
        "# Simple Scatterplot\n",
        "plt.scatter( df_single.Delta_Time_h, df_single.Oil_Pressure)\n",
        "plt.title('Scatter plot P-01908')\n",
        "plt.xlabel('Delta_Time (h)')\n",
        "plt.ylabel('Oil Pressure')\n",
        "plt.show()"
      ],
      "execution_count": 11,
      "outputs": [
        {
          "output_type": "display_data",
          "data": {
            "image/png": "[encoded data removed]",
            "text/plain": [
              "<Figure size 432x288 with 1 Axes>"
            ]
          },
          "metadata": {
            "needs_background": "light"
          }
        },
        {
          "output_type": "stream",
          "name": "stdout",
          "text": [
            "time: 183 ms (started: 2021-10-07 16:09:25 +00:00)\n"
          ]
        }
      ]
    },
    {
      "cell_type": "markdown",
      "metadata": {
        "id": "xOO8uRNq6oMI"
      },
      "source": [
        "## ML Label"
      ]
    },
    {
      "cell_type": "code",
      "metadata": {
        "colab": {
          "base_uri": "https://localhost:8080/",
          "height": 606
        },
        "id": "x5BaulXU6rCV",
        "outputId": "98c9e087-29d5-4081-e0fe-0fb24ed93708"
      },
      "source": [
        "#Preprocess dataset from ML classifier\n",
        "df_MLlabel = pd.read_csv(process_dir+'predict1_smote.csv')\n",
        "dropped_col = ['Unnamed: 0','LR', 'KNN', 'SVM', 'RF', 'LDA', 'NB']\n",
        "df_MLlabel.drop(labels=dropped_col, axis=1, inplace=True)\n",
        "df_MLlabel = df_MLlabel.loc[df_MLlabel['DT'] == 'Maintenance']\n",
        "df_MLlabel['Datetime'] = pd.to_datetime(df_MLlabel.Datetime)\n",
        "df_MLlabel = df_MLlabel.sort_values(by='Datetime')\n",
        "df_MLlabel['Delta_Time'] = df_MLlabel.Datetime.diff()\n",
        "df_MLlabel = df_MLlabel.fillna(pd.Timedelta(seconds=0))\n",
        "df_MLlabel['Delta_Time_h'] = df_MLlabel['Delta_Time']/np.timedelta64(1,'h')\n",
        "MTBF_MLlabel = df_MLlabel.Delta_Time_h.mean()\n",
        "df_MLlabel"
      ],
      "execution_count": 12,
      "outputs": [
        {
          "output_type": "execute_result",
          "data": {
            "text/html": [
              "<div>\n",
              "<style scoped>\n",
              "    .dataframe tbody tr th:only-of-type {\n",
              "        vertical-align: middle;\n",
              "    }\n",
              "\n",
              "    .dataframe tbody tr th {\n",
              "        vertical-align: top;\n",
              "    }\n",
              "\n",
              "    .dataframe thead th {\n",
              "        text-align: right;\n",
              "    }\n",
              "</style>\n",
              "<table border=\"1\" class=\"dataframe\">\n",
              "  <thead>\n",
              "    <tr style=\"text-align: right;\">\n",
              "      <th></th>\n",
              "      <th>Datetime</th>\n",
              "      <th>Oil_Pressure</th>\n",
              "      <th>Coolant_Temp</th>\n",
              "      <th>PF_Avg</th>\n",
              "      <th>ECU_Temp</th>\n",
              "      <th>Train_code</th>\n",
              "      <th>DT</th>\n",
              "      <th>Delta_Time</th>\n",
              "      <th>Delta_Time_h</th>\n",
              "    </tr>\n",
              "  </thead>\n",
              "  <tbody>\n",
              "    <tr>\n",
              "      <th>20361</th>\n",
              "      <td>2020-01-04 00:00:00</td>\n",
              "      <td>572.0</td>\n",
              "      <td>78.0</td>\n",
              "      <td>0.74</td>\n",
              "      <td>40.0</td>\n",
              "      <td>P-01822</td>\n",
              "      <td>Maintenance</td>\n",
              "      <td>0 days 00:00:00</td>\n",
              "      <td>0.000000</td>\n",
              "    </tr>\n",
              "    <tr>\n",
              "      <th>13889</th>\n",
              "      <td>2020-01-04 00:00:00</td>\n",
              "      <td>624.0</td>\n",
              "      <td>78.0</td>\n",
              "      <td>0.87</td>\n",
              "      <td>37.0</td>\n",
              "      <td>P-01818</td>\n",
              "      <td>Maintenance</td>\n",
              "      <td>0 days 00:00:00</td>\n",
              "      <td>0.000000</td>\n",
              "    </tr>\n",
              "    <tr>\n",
              "      <th>13890</th>\n",
              "      <td>2020-01-04 01:00:00</td>\n",
              "      <td>624.0</td>\n",
              "      <td>77.0</td>\n",
              "      <td>0.87</td>\n",
              "      <td>37.0</td>\n",
              "      <td>P-01818</td>\n",
              "      <td>Maintenance</td>\n",
              "      <td>0 days 01:00:00</td>\n",
              "      <td>1.000000</td>\n",
              "    </tr>\n",
              "    <tr>\n",
              "      <th>13891</th>\n",
              "      <td>2020-01-04 02:00:00</td>\n",
              "      <td>628.0</td>\n",
              "      <td>77.0</td>\n",
              "      <td>0.86</td>\n",
              "      <td>36.0</td>\n",
              "      <td>P-01818</td>\n",
              "      <td>Maintenance</td>\n",
              "      <td>0 days 01:00:00</td>\n",
              "      <td>1.000000</td>\n",
              "    </tr>\n",
              "    <tr>\n",
              "      <th>13892</th>\n",
              "      <td>2020-01-04 03:00:00</td>\n",
              "      <td>620.0</td>\n",
              "      <td>78.0</td>\n",
              "      <td>0.89</td>\n",
              "      <td>39.0</td>\n",
              "      <td>P-01818</td>\n",
              "      <td>Maintenance</td>\n",
              "      <td>0 days 01:00:00</td>\n",
              "      <td>1.000000</td>\n",
              "    </tr>\n",
              "    <tr>\n",
              "      <th>...</th>\n",
              "      <td>...</td>\n",
              "      <td>...</td>\n",
              "      <td>...</td>\n",
              "      <td>...</td>\n",
              "      <td>...</td>\n",
              "      <td>...</td>\n",
              "      <td>...</td>\n",
              "      <td>...</td>\n",
              "      <td>...</td>\n",
              "    </tr>\n",
              "    <tr>\n",
              "      <th>21408</th>\n",
              "      <td>2021-12-02 06:00:00</td>\n",
              "      <td>620.0</td>\n",
              "      <td>77.0</td>\n",
              "      <td>0.88</td>\n",
              "      <td>35.0</td>\n",
              "      <td>P-01822</td>\n",
              "      <td>Maintenance</td>\n",
              "      <td>0 days 06:22:00</td>\n",
              "      <td>6.366667</td>\n",
              "    </tr>\n",
              "    <tr>\n",
              "      <th>21409</th>\n",
              "      <td>2021-12-02 07:00:00</td>\n",
              "      <td>616.0</td>\n",
              "      <td>78.0</td>\n",
              "      <td>0.87</td>\n",
              "      <td>42.0</td>\n",
              "      <td>P-01822</td>\n",
              "      <td>Maintenance</td>\n",
              "      <td>0 days 01:00:00</td>\n",
              "      <td>1.000000</td>\n",
              "    </tr>\n",
              "    <tr>\n",
              "      <th>21410</th>\n",
              "      <td>2021-12-02 08:00:00</td>\n",
              "      <td>620.0</td>\n",
              "      <td>78.0</td>\n",
              "      <td>0.87</td>\n",
              "      <td>42.0</td>\n",
              "      <td>P-01822</td>\n",
              "      <td>Maintenance</td>\n",
              "      <td>0 days 01:00:00</td>\n",
              "      <td>1.000000</td>\n",
              "    </tr>\n",
              "    <tr>\n",
              "      <th>21417</th>\n",
              "      <td>2021-12-02 15:00:00</td>\n",
              "      <td>616.0</td>\n",
              "      <td>78.0</td>\n",
              "      <td>0.86</td>\n",
              "      <td>46.0</td>\n",
              "      <td>P-01822</td>\n",
              "      <td>Maintenance</td>\n",
              "      <td>0 days 07:00:00</td>\n",
              "      <td>7.000000</td>\n",
              "    </tr>\n",
              "    <tr>\n",
              "      <th>21418</th>\n",
              "      <td>2021-12-02 16:00:00</td>\n",
              "      <td>620.0</td>\n",
              "      <td>78.0</td>\n",
              "      <td>0.86</td>\n",
              "      <td>43.0</td>\n",
              "      <td>P-01822</td>\n",
              "      <td>Maintenance</td>\n",
              "      <td>0 days 01:00:00</td>\n",
              "      <td>1.000000</td>\n",
              "    </tr>\n",
              "  </tbody>\n",
              "</table>\n",
              "<p>2778 rows × 9 columns</p>\n",
              "</div>"
            ],
            "text/plain": [
              "                 Datetime  Oil_Pressure  ...      Delta_Time  Delta_Time_h\n",
              "20361 2020-01-04 00:00:00         572.0  ... 0 days 00:00:00      0.000000\n",
              "13889 2020-01-04 00:00:00         624.0  ... 0 days 00:00:00      0.000000\n",
              "13890 2020-01-04 01:00:00         624.0  ... 0 days 01:00:00      1.000000\n",
              "13891 2020-01-04 02:00:00         628.0  ... 0 days 01:00:00      1.000000\n",
              "13892 2020-01-04 03:00:00         620.0  ... 0 days 01:00:00      1.000000\n",
              "...                   ...           ...  ...             ...           ...\n",
              "21408 2021-12-02 06:00:00         620.0  ... 0 days 06:22:00      6.366667\n",
              "21409 2021-12-02 07:00:00         616.0  ... 0 days 01:00:00      1.000000\n",
              "21410 2021-12-02 08:00:00         620.0  ... 0 days 01:00:00      1.000000\n",
              "21417 2021-12-02 15:00:00         616.0  ... 0 days 07:00:00      7.000000\n",
              "21418 2021-12-02 16:00:00         620.0  ... 0 days 01:00:00      1.000000\n",
              "\n",
              "[2778 rows x 9 columns]"
            ]
          },
          "metadata": {},
          "execution_count": 12
        },
        {
          "output_type": "stream",
          "name": "stdout",
          "text": [
            "time: 143 ms (started: 2021-10-07 16:09:25 +00:00)\n"
          ]
        }
      ]
    },
    {
      "cell_type": "code",
      "metadata": {
        "colab": {
          "base_uri": "https://localhost:8080/",
          "height": 314
        },
        "id": "YtYeA6YTBLVW",
        "outputId": "672c5621-38c6-46d6-faf0-62a78f255cd9"
      },
      "source": [
        "df_MLlabel.describe()"
      ],
      "execution_count": 13,
      "outputs": [
        {
          "output_type": "execute_result",
          "data": {
            "text/html": [
              "<div>\n",
              "<style scoped>\n",
              "    .dataframe tbody tr th:only-of-type {\n",
              "        vertical-align: middle;\n",
              "    }\n",
              "\n",
              "    .dataframe tbody tr th {\n",
              "        vertical-align: top;\n",
              "    }\n",
              "\n",
              "    .dataframe thead th {\n",
              "        text-align: right;\n",
              "    }\n",
              "</style>\n",
              "<table border=\"1\" class=\"dataframe\">\n",
              "  <thead>\n",
              "    <tr style=\"text-align: right;\">\n",
              "      <th></th>\n",
              "      <th>Oil_Pressure</th>\n",
              "      <th>Coolant_Temp</th>\n",
              "      <th>PF_Avg</th>\n",
              "      <th>ECU_Temp</th>\n",
              "      <th>Delta_Time</th>\n",
              "      <th>Delta_Time_h</th>\n",
              "    </tr>\n",
              "  </thead>\n",
              "  <tbody>\n",
              "    <tr>\n",
              "      <th>count</th>\n",
              "      <td>2778.000000</td>\n",
              "      <td>2778.000000</td>\n",
              "      <td>2778.000000</td>\n",
              "      <td>2778.000000</td>\n",
              "      <td>2778</td>\n",
              "      <td>2778.000000</td>\n",
              "    </tr>\n",
              "    <tr>\n",
              "      <th>mean</th>\n",
              "      <td>984.698344</td>\n",
              "      <td>77.520878</td>\n",
              "      <td>1.369950</td>\n",
              "      <td>1076.606911</td>\n",
              "      <td>0 days 06:02:09.589632829</td>\n",
              "      <td>6.035997</td>\n",
              "    </tr>\n",
              "    <tr>\n",
              "      <th>std</th>\n",
              "      <td>4914.412854</td>\n",
              "      <td>0.499654</td>\n",
              "      <td>13.064565</td>\n",
              "      <td>5732.717568</td>\n",
              "      <td>1 days 17:52:20.903698116</td>\n",
              "      <td>41.872473</td>\n",
              "    </tr>\n",
              "    <tr>\n",
              "      <th>min</th>\n",
              "      <td>0.000000</td>\n",
              "      <td>77.000000</td>\n",
              "      <td>0.000000</td>\n",
              "      <td>26.000000</td>\n",
              "      <td>0 days 00:00:00</td>\n",
              "      <td>0.000000</td>\n",
              "    </tr>\n",
              "    <tr>\n",
              "      <th>25%</th>\n",
              "      <td>620.000000</td>\n",
              "      <td>77.000000</td>\n",
              "      <td>0.820000</td>\n",
              "      <td>37.000000</td>\n",
              "      <td>0 days 00:35:15</td>\n",
              "      <td>0.587500</td>\n",
              "    </tr>\n",
              "    <tr>\n",
              "      <th>50%</th>\n",
              "      <td>628.000000</td>\n",
              "      <td>78.000000</td>\n",
              "      <td>0.860000</td>\n",
              "      <td>40.000000</td>\n",
              "      <td>0 days 01:00:00</td>\n",
              "      <td>1.000000</td>\n",
              "    </tr>\n",
              "    <tr>\n",
              "      <th>75%</th>\n",
              "      <td>636.000000</td>\n",
              "      <td>78.000000</td>\n",
              "      <td>0.880000</td>\n",
              "      <td>43.000000</td>\n",
              "      <td>0 days 02:00:00</td>\n",
              "      <td>2.000000</td>\n",
              "    </tr>\n",
              "    <tr>\n",
              "      <th>max</th>\n",
              "      <td>65531.000000</td>\n",
              "      <td>78.000000</td>\n",
              "      <td>327.650000</td>\n",
              "      <td>32767.000000</td>\n",
              "      <td>28 days 22:55:00</td>\n",
              "      <td>694.916667</td>\n",
              "    </tr>\n",
              "  </tbody>\n",
              "</table>\n",
              "</div>"
            ],
            "text/plain": [
              "       Oil_Pressure  Coolant_Temp  ...                 Delta_Time  Delta_Time_h\n",
              "count   2778.000000   2778.000000  ...                       2778   2778.000000\n",
              "mean     984.698344     77.520878  ...  0 days 06:02:09.589632829      6.035997\n",
              "std     4914.412854      0.499654  ...  1 days 17:52:20.903698116     41.872473\n",
              "min        0.000000     77.000000  ...            0 days 00:00:00      0.000000\n",
              "25%      620.000000     77.000000  ...            0 days 00:35:15      0.587500\n",
              "50%      628.000000     78.000000  ...            0 days 01:00:00      1.000000\n",
              "75%      636.000000     78.000000  ...            0 days 02:00:00      2.000000\n",
              "max    65531.000000     78.000000  ...           28 days 22:55:00    694.916667\n",
              "\n",
              "[8 rows x 6 columns]"
            ]
          },
          "metadata": {},
          "execution_count": 13
        },
        {
          "output_type": "stream",
          "name": "stdout",
          "text": [
            "time: 41.6 ms (started: 2021-10-07 16:09:25 +00:00)\n"
          ]
        }
      ]
    },
    {
      "cell_type": "code",
      "metadata": {
        "colab": {
          "base_uri": "https://localhost:8080/",
          "height": 312
        },
        "id": "inoBkj4z8cyk",
        "outputId": "74a0c901-32a6-42ef-e551-6ae81e2bbad3"
      },
      "source": [
        "# Simple Scatterplot\n",
        "plt.scatter(df_MLlabel.Delta_Time_h,df_MLlabel.Oil_Pressure )\n",
        "plt.title('Scatter plot ML Classifier')\n",
        "plt.xlabel('Timedelta (h)')\n",
        "plt.ylabel('Oil Pressure')\n",
        "plt.show()"
      ],
      "execution_count": 14,
      "outputs": [
        {
          "output_type": "display_data",
          "data": {
            "image/png": "[encoded data removed]",
            "text/plain": [
              "<Figure size 432x288 with 1 Axes>"
            ]
          },
          "metadata": {
            "needs_background": "light"
          }
        },
        {
          "output_type": "stream",
          "name": "stdout",
          "text": [
            "time: 205 ms (started: 2021-10-07 16:09:25 +00:00)\n"
          ]
        }
      ]
    },
    {
      "cell_type": "markdown",
      "metadata": {
        "id": "iSkn-Slvy6jH"
      },
      "source": [
        "# 3) Model Training"
      ]
    },
    {
      "cell_type": "markdown",
      "metadata": {
        "id": "MARTB4xRnOqp"
      },
      "source": [
        "## Dataset Split"
      ]
    },
    {
      "cell_type": "code",
      "metadata": {
        "colab": {
          "base_uri": "https://localhost:8080/"
        },
        "id": "tBCmLmj0nD5a",
        "outputId": "eef7453d-9598-4ab5-b8ea-c7eab459b83d"
      },
      "source": [
        "#Data splitting\n",
        "\n",
        "#separate feature (X) and predicted (y) parameters for all vehicles\n",
        "X = df_allvehicles[features]\n",
        "y = df_allvehicles['Delta_Time_h']\n",
        "\n",
        "#separate feature (X) and predicted (y) parameters for single vehicle\n",
        "X1 = df_single[features]\n",
        "y1 = df_single['Delta_Time_h']\n",
        "\n",
        "#separate feature (X) and predicted (y) parameters for ML classifier\n",
        "X2 = df_MLlabel[features]\n",
        "y2 = df_MLlabel['Delta_Time_h']"
      ],
      "execution_count": 15,
      "outputs": [
        {
          "output_type": "stream",
          "name": "stdout",
          "text": [
            "time: 9.12 ms (started: 2021-10-07 16:09:25 +00:00)\n"
          ]
        }
      ]
    },
    {
      "cell_type": "code",
      "metadata": {
        "colab": {
          "base_uri": "https://localhost:8080/"
        },
        "id": "Wqc8q82FnK7L",
        "outputId": "e533d95c-0456-4cc5-9af9-b49019eb3925"
      },
      "source": [
        "# Split-out training and test dataset for all vehicles\n",
        "X_train, X_test, Y_train, Y_test = train_test_split(X, y, test_size=0.20, \n",
        "                                                    random_state=1)\n",
        "print('Training data size = ', X_train.shape)\n",
        "print('Testing data size = ', X_test.shape)\n",
        "\n",
        "# Split-out training and test dataset for single vehicle\n",
        "X1_train, X1_test, Y1_train, Y1_test = train_test_split(X1, y1, test_size=0.20, \n",
        "                                                    random_state=1)\n",
        "print('Training data size (single vehicle) = ', X1_train.shape)\n",
        "print('Testing data size (single vehicle) = ', X1_test.shape)\n",
        "\n",
        "# Split-out training and test dataset for ML classifier\n",
        "X2_train, X2_test, Y2_train, Y2_test = train_test_split(X2, y2, test_size=0.20, \n",
        "                                                    random_state=1)\n",
        "print('Training data size (ML Classifier) = ', X2_train.shape)\n",
        "print('Testing data size (ML Classifier) = ', X2_test.shape)\n",
        "\n",
        "print('Data split completed')"
      ],
      "execution_count": 16,
      "outputs": [
        {
          "output_type": "stream",
          "name": "stdout",
          "text": [
            "Training data size =  (3433, 4)\n",
            "Testing data size =  (859, 4)\n",
            "Training data size (single vehicle) =  (340, 4)\n",
            "Testing data size (single vehicle) =  (86, 4)\n",
            "Training data size (ML Classifier) =  (2222, 4)\n",
            "Testing data size (ML Classifier) =  (556, 4)\n",
            "Data split completed\n",
            "time: 23.1 ms (started: 2021-10-07 16:09:25 +00:00)\n"
          ]
        }
      ]
    },
    {
      "cell_type": "markdown",
      "metadata": {
        "id": "2mXCVQ9mwBSq"
      },
      "source": [
        "## Model Training & Validation"
      ]
    },
    {
      "cell_type": "code",
      "metadata": {
        "colab": {
          "base_uri": "https://localhost:8080/",
          "height": 349
        },
        "id": "TuVsq_l-zCiO",
        "outputId": "6b6f6a34-132a-4a61-e7d7-44948602fd4e"
      },
      "source": [
        "# Cross validation of each model training in turn\n",
        "# Change variable X_train and Y_train if using other dataset (Check Dataset Split part for variables used)\n",
        "for name, model in models:\n",
        "\tkfold = KFold(n_splits=10, random_state=1, shuffle=True)\n",
        "\tcv_results = cross_val_score(model, X_train, Y_train, cv=kfold, scoring='neg_mean_absolute_error')\t\n",
        " #MEA scoring will be shown in negative, due to how cross_val_score scoring function works. The closer to 0 is better\n",
        "\tval_results.append(cv_results)\n",
        "\tnames.append(name)\n",
        "\tprint('%s: %f (%f)' % (name, cv_results.mean(), cv_results.std()))\n",
        "\n",
        "# Compare result\n",
        "pyplot.boxplot(val_results, labels=names)\n",
        "pyplot.title('Algorithm MEA Comparison')\n",
        "pyplot.show()"
      ],
      "execution_count": 17,
      "outputs": [
        {
          "output_type": "stream",
          "name": "stdout",
          "text": [
            "OLS: -4.732938 (1.283825)\n",
            "Ridge: -4.710381 (1.294073)\n",
            "RF-reg: -5.253497 (1.606916)\n"
          ]
        },
        {
          "output_type": "display_data",
          "data": {
            "image/png": "[encoded data removed]",
            "text/plain": [
              "<Figure size 432x288 with 1 Axes>"
            ]
          },
          "metadata": {
            "needs_background": "light"
          }
        },
        {
          "output_type": "stream",
          "name": "stdout",
          "text": [
            "time: 5.07 s (started: 2021-10-07 16:09:25 +00:00)\n"
          ]
        }
      ]
    },
    {
      "cell_type": "code",
      "metadata": {
        "colab": {
          "base_uri": "https://localhost:8080/"
        },
        "id": "XMOl6SaXwXDj",
        "outputId": "7543f72c-447a-4852-95a9-a416d797e72b"
      },
      "source": [
        "# Re-train each algorithm using whole training dataset for better model\n",
        "# Change variable X_train and Y_train if using other dataset\n",
        "# Each model is separated in different code block for easier tracking of Runtime\n",
        "model_OLS.fit(X_train, Y_train)\n",
        "joblib.dump(model_OLS, model_dir+'model_OLS.joblib')"
      ],
      "execution_count": 18,
      "outputs": [
        {
          "output_type": "execute_result",
          "data": {
            "text/plain": [
              "['/content/Thesis/Resources/models/model_OLS.joblib']"
            ]
          },
          "metadata": {},
          "execution_count": 18
        },
        {
          "output_type": "stream",
          "name": "stdout",
          "text": [
            "time: 12.8 ms (started: 2021-10-07 16:09:30 +00:00)\n"
          ]
        }
      ]
    },
    {
      "cell_type": "code",
      "metadata": {
        "colab": {
          "base_uri": "https://localhost:8080/"
        },
        "id": "u-eqqvf-wYHT",
        "outputId": "392cc44e-18c0-4b14-c1e4-6b7f6b25915b"
      },
      "source": [
        "model_Ridge.fit(X_train, Y_train)\n",
        "joblib.dump(model_Ridge, model_dir+'model_Ridge.joblib')"
      ],
      "execution_count": 19,
      "outputs": [
        {
          "output_type": "execute_result",
          "data": {
            "text/plain": [
              "['/content/Thesis/Resources/models/model_Ridge.joblib']"
            ]
          },
          "metadata": {},
          "execution_count": 19
        },
        {
          "output_type": "stream",
          "name": "stdout",
          "text": [
            "time: 15.5 ms (started: 2021-10-07 16:09:30 +00:00)\n"
          ]
        }
      ]
    },
    {
      "cell_type": "code",
      "metadata": {
        "colab": {
          "base_uri": "https://localhost:8080/"
        },
        "id": "QVZJwUtQwWr6",
        "outputId": "82f80cc2-401f-43bc-852e-e36127fe322f"
      },
      "source": [
        "model_RFreg.fit(X_train, Y_train)\n",
        "joblib.dump(model_RFreg, model_dir+'model_RFreg.joblib')"
      ],
      "execution_count": 20,
      "outputs": [
        {
          "output_type": "execute_result",
          "data": {
            "text/plain": [
              "['/content/Thesis/Resources/models/model_RFreg.joblib']"
            ]
          },
          "metadata": {},
          "execution_count": 20
        },
        {
          "output_type": "stream",
          "name": "stdout",
          "text": [
            "time: 643 ms (started: 2021-10-07 16:09:30 +00:00)\n"
          ]
        }
      ]
    },
    {
      "cell_type": "markdown",
      "metadata": {
        "id": "kI5G3LFNAujj"
      },
      "source": [
        "# 4) Model Testing"
      ]
    },
    {
      "cell_type": "code",
      "metadata": {
        "colab": {
          "base_uri": "https://localhost:8080/"
        },
        "id": "TlLIl_8kAzKL",
        "outputId": "04728d8c-ae2d-488e-8a7d-5ea94839ebbe"
      },
      "source": [
        "#RUL result is MTBF_dataset-Prediction\n",
        "#Change MTBF_dataset and Y_test variable depend on dataset: \n",
        "#MTBF_allvehicles, Y_test for All vehicles dataset, \n",
        "#MTBF_single, Y1_test for Single vehicle dataset, \n",
        "#MTBF_MLlabel, Y2_test for ML labelled dataset\n",
        "\n",
        "predictions_OLS = MTBF_allvehicles-model_OLS.predict(X_test)\n",
        "print('OLS MEA Result:')\n",
        "print(mean_absolute_error(Y_test, predictions_OLS))"
      ],
      "execution_count": 21,
      "outputs": [
        {
          "output_type": "stream",
          "name": "stdout",
          "text": [
            "OLS MEA Result:\n",
            "5.135236893716892\n",
            "time: 8.44 ms (started: 2021-10-07 16:09:31 +00:00)\n"
          ]
        }
      ]
    },
    {
      "cell_type": "code",
      "metadata": {
        "colab": {
          "base_uri": "https://localhost:8080/"
        },
        "id": "tzwtjmNLE3qY",
        "outputId": "54c2a2d9-0610-4be7-ce14-edb4ef92b468"
      },
      "source": [
        "predictions_Ridge = MTBF_allvehicles-model_Ridge.predict(X_test)\n",
        "print('Ridge MEA Result:')\n",
        "print(mean_absolute_error(Y_test, predictions_Ridge))"
      ],
      "execution_count": 22,
      "outputs": [
        {
          "output_type": "stream",
          "name": "stdout",
          "text": [
            "Ridge MEA Result:\n",
            "5.098606484079501\n",
            "time: 6.83 ms (started: 2021-10-07 16:09:31 +00:00)\n"
          ]
        }
      ]
    },
    {
      "cell_type": "code",
      "metadata": {
        "colab": {
          "base_uri": "https://localhost:8080/"
        },
        "id": "uOkhrEcSE4GL",
        "outputId": "4e7a81c0-905c-4fc7-9b08-34269720f4a4"
      },
      "source": [
        "predictions_RFreg = MTBF_allvehicles-model_RFreg.predict(X_test)\n",
        "print('RF-Reg MEA Result:')\n",
        "print(mean_absolute_error(Y_test, predictions_RFreg))"
      ],
      "execution_count": 23,
      "outputs": [
        {
          "output_type": "stream",
          "name": "stdout",
          "text": [
            "RF-Reg MEA Result:\n",
            "6.423420580520167\n",
            "time: 32.5 ms (started: 2021-10-07 16:09:31 +00:00)\n"
          ]
        }
      ]
    },
    {
      "cell_type": "code",
      "metadata": {
        "colab": {
          "base_uri": "https://localhost:8080/",
          "height": 436
        },
        "id": "HB6rDLy3FCqn",
        "outputId": "01927c84-4fcb-4b3f-9002-7754213d552c"
      },
      "source": [
        "df_RUL = pd.DataFrame({'OLS': predictions_OLS, 'Ridge': predictions_Ridge,\n",
        "                         'RF-reg':predictions_RFreg})\n",
        "df_RUL"
      ],
      "execution_count": 24,
      "outputs": [
        {
          "output_type": "execute_result",
          "data": {
            "text/html": [
              "<div>\n",
              "<style scoped>\n",
              "    .dataframe tbody tr th:only-of-type {\n",
              "        vertical-align: middle;\n",
              "    }\n",
              "\n",
              "    .dataframe tbody tr th {\n",
              "        vertical-align: top;\n",
              "    }\n",
              "\n",
              "    .dataframe thead th {\n",
              "        text-align: right;\n",
              "    }\n",
              "</style>\n",
              "<table border=\"1\" class=\"dataframe\">\n",
              "  <thead>\n",
              "    <tr style=\"text-align: right;\">\n",
              "      <th></th>\n",
              "      <th>OLS</th>\n",
              "      <th>Ridge</th>\n",
              "      <th>RF-reg</th>\n",
              "    </tr>\n",
              "  </thead>\n",
              "  <tbody>\n",
              "    <tr>\n",
              "      <th>0</th>\n",
              "      <td>-1.833904</td>\n",
              "      <td>-1.614103</td>\n",
              "      <td>-2.617738</td>\n",
              "    </tr>\n",
              "    <tr>\n",
              "      <th>1</th>\n",
              "      <td>-0.611197</td>\n",
              "      <td>-0.565618</td>\n",
              "      <td>0.728836</td>\n",
              "    </tr>\n",
              "    <tr>\n",
              "      <th>2</th>\n",
              "      <td>-2.711277</td>\n",
              "      <td>-2.463635</td>\n",
              "      <td>-145.076350</td>\n",
              "    </tr>\n",
              "    <tr>\n",
              "      <th>3</th>\n",
              "      <td>2.726215</td>\n",
              "      <td>2.345269</td>\n",
              "      <td>2.936193</td>\n",
              "    </tr>\n",
              "    <tr>\n",
              "      <th>4</th>\n",
              "      <td>-2.035265</td>\n",
              "      <td>-1.858111</td>\n",
              "      <td>2.256976</td>\n",
              "    </tr>\n",
              "    <tr>\n",
              "      <th>...</th>\n",
              "      <td>...</td>\n",
              "      <td>...</td>\n",
              "      <td>...</td>\n",
              "    </tr>\n",
              "    <tr>\n",
              "      <th>854</th>\n",
              "      <td>-0.826060</td>\n",
              "      <td>-0.863113</td>\n",
              "      <td>2.090934</td>\n",
              "    </tr>\n",
              "    <tr>\n",
              "      <th>855</th>\n",
              "      <td>0.804459</td>\n",
              "      <td>0.938550</td>\n",
              "      <td>-0.834198</td>\n",
              "    </tr>\n",
              "    <tr>\n",
              "      <th>856</th>\n",
              "      <td>2.326497</td>\n",
              "      <td>2.270112</td>\n",
              "      <td>2.914026</td>\n",
              "    </tr>\n",
              "    <tr>\n",
              "      <th>857</th>\n",
              "      <td>0.658862</td>\n",
              "      <td>0.792806</td>\n",
              "      <td>2.624096</td>\n",
              "    </tr>\n",
              "    <tr>\n",
              "      <th>858</th>\n",
              "      <td>0.490000</td>\n",
              "      <td>0.411186</td>\n",
              "      <td>2.202931</td>\n",
              "    </tr>\n",
              "  </tbody>\n",
              "</table>\n",
              "<p>859 rows × 3 columns</p>\n",
              "</div>"
            ],
            "text/plain": [
              "          OLS     Ridge      RF-reg\n",
              "0   -1.833904 -1.614103   -2.617738\n",
              "1   -0.611197 -0.565618    0.728836\n",
              "2   -2.711277 -2.463635 -145.076350\n",
              "3    2.726215  2.345269    2.936193\n",
              "4   -2.035265 -1.858111    2.256976\n",
              "..        ...       ...         ...\n",
              "854 -0.826060 -0.863113    2.090934\n",
              "855  0.804459  0.938550   -0.834198\n",
              "856  2.326497  2.270112    2.914026\n",
              "857  0.658862  0.792806    2.624096\n",
              "858  0.490000  0.411186    2.202931\n",
              "\n",
              "[859 rows x 3 columns]"
            ]
          },
          "metadata": {},
          "execution_count": 24
        },
        {
          "output_type": "stream",
          "name": "stdout",
          "text": [
            "time: 25.3 ms (started: 2021-10-07 16:09:31 +00:00)\n"
          ]
        }
      ]
    }
  ]
}
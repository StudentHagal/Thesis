{
  "nbformat": 4,
  "nbformat_minor": 0,
  "metadata": {
    "colab": {
      "name": "Runtime Evaluation Test.ipynb",
      "provenance": [],
      "mount_file_id": "1Y5nNDeFBFpGgMBE6QC7_YD0c6DNxKS5L",
      "authorship_tag": "ABX9TyOD3mp/xS62VZMVeU+0UOR9",
      "include_colab_link": true
    },
    "kernelspec": {
      "name": "python3",
      "display_name": "Python 3"
    },
    "language_info": {
      "name": "python"
    }
  },
  "cells": [
    {
      "cell_type": "markdown",
      "metadata": {
        "id": "view-in-github",
        "colab_type": "text"
      },
      "source": [
        "<a href=\"https://colab.research.google.com/github/StudentHagal/Thesis/blob/main/Runtime_Evaluation_Test.ipynb\" target=\"_parent\"><img src=\"https://colab.research.google.com/assets/colab-badge.svg\" alt=\"Open In Colab\"/></a>"
      ]
    },
    {
      "cell_type": "markdown",
      "metadata": {
        "id": "5RKzwYyIEo82"
      },
      "source": [
        "# 0) Preparation"
      ]
    },
    {
      "cell_type": "markdown",
      "metadata": {
        "id": "ZWuef7PMFJs2"
      },
      "source": [
        "## Load Requirements"
      ]
    },
    {
      "cell_type": "code",
      "metadata": {
        "colab": {
          "base_uri": "https://localhost:8080/"
        },
        "id": "W01aUFm6EfCE",
        "outputId": "2e9ec076-4015-4c35-8e12-20fbbbc57136"
      },
      "source": [
        "# Libraries\n",
        "import sys\n",
        "import numpy as np\n",
        "import pandas as pd\n",
        "import sklearn\n",
        "import joblib\n",
        "import hashlib\n",
        "import matplotlib.pyplot as plt\n",
        "from sklearn.linear_model import LogisticRegression\n",
        "from sklearn.tree import DecisionTreeClassifier\n",
        "from sklearn.neighbors import KNeighborsClassifier\n",
        "from sklearn.discriminant_analysis import LinearDiscriminantAnalysis\n",
        "from sklearn.naive_bayes import GaussianNB\n",
        "from sklearn.svm import SVC\n",
        "from sklearn.ensemble import RandomForestClassifier\n",
        "from timeit import default_timer as timer\n",
        "from sklearn.preprocessing import StandardScaler\n",
        "from sklearn.preprocessing import normalize\n",
        "from sklearn.decomposition import PCA\n",
        "\n",
        "\n",
        "#Extension\n",
        "!pip install ipython-autotime\n",
        "%load_ext autotime\n",
        "!git clone https://github.com/StudentHagal/Thesis.git\n",
        "\n",
        "print('Load completed')"
      ],
      "execution_count": 1,
      "outputs": [
        {
          "output_type": "stream",
          "name": "stdout",
          "text": [
            "Collecting ipython-autotime\n",
            "  Downloading ipython_autotime-0.3.1-py2.py3-none-any.whl (6.8 kB)\n",
            "Requirement already satisfied: ipython in /usr/local/lib/python3.7/dist-packages (from ipython-autotime) (5.5.0)\n",
            "Requirement already satisfied: decorator in /usr/local/lib/python3.7/dist-packages (from ipython->ipython-autotime) (4.4.2)\n",
            "Requirement already satisfied: prompt-toolkit<2.0.0,>=1.0.4 in /usr/local/lib/python3.7/dist-packages (from ipython->ipython-autotime) (1.0.18)\n",
            "Requirement already satisfied: pygments in /usr/local/lib/python3.7/dist-packages (from ipython->ipython-autotime) (2.6.1)\n",
            "Requirement already satisfied: traitlets>=4.2 in /usr/local/lib/python3.7/dist-packages (from ipython->ipython-autotime) (5.1.1)\n",
            "Requirement already satisfied: pexpect in /usr/local/lib/python3.7/dist-packages (from ipython->ipython-autotime) (4.8.0)\n",
            "Requirement already satisfied: pickleshare in /usr/local/lib/python3.7/dist-packages (from ipython->ipython-autotime) (0.7.5)\n",
            "Requirement already satisfied: setuptools>=18.5 in /usr/local/lib/python3.7/dist-packages (from ipython->ipython-autotime) (57.4.0)\n",
            "Requirement already satisfied: simplegeneric>0.8 in /usr/local/lib/python3.7/dist-packages (from ipython->ipython-autotime) (0.8.1)\n",
            "Requirement already satisfied: wcwidth in /usr/local/lib/python3.7/dist-packages (from prompt-toolkit<2.0.0,>=1.0.4->ipython->ipython-autotime) (0.2.5)\n",
            "Requirement already satisfied: six>=1.9.0 in /usr/local/lib/python3.7/dist-packages (from prompt-toolkit<2.0.0,>=1.0.4->ipython->ipython-autotime) (1.15.0)\n",
            "Requirement already satisfied: ptyprocess>=0.5 in /usr/local/lib/python3.7/dist-packages (from pexpect->ipython->ipython-autotime) (0.7.0)\n",
            "Installing collected packages: ipython-autotime\n",
            "Successfully installed ipython-autotime-0.3.1\n",
            "Cloning into 'Thesis'...\n",
            "remote: Enumerating objects: 255, done.\u001b[K\n",
            "remote: Counting objects: 100% (255/255), done.\u001b[K\n",
            "remote: Compressing objects: 100% (244/244), done.\u001b[K\n",
            "remote: Total 255 (delta 90), reused 0 (delta 0), pack-reused 0\u001b[K\n",
            "Receiving objects: 100% (255/255), 16.94 MiB | 3.47 MiB/s, done.\n",
            "Resolving deltas: 100% (90/90), done.\n",
            "Load completed\n",
            "time: 12.3 s (started: 2022-01-10 13:52:19 +00:00)\n"
          ]
        }
      ]
    },
    {
      "cell_type": "code",
      "metadata": {
        "colab": {
          "base_uri": "https://localhost:8080/"
        },
        "id": "3n2x4fUVE_oW",
        "outputId": "537484b8-f02b-4fd0-aacb-b2582bb508bd"
      },
      "source": [
        "# Check the versions of libraries\n",
        "# !!! WARNING !!!\n",
        "# Important because model result may be different for other version\n",
        " \n",
        "print('Python: {}'.format(sys.version))\n",
        "print('numpy: {}'.format(np.__version__))\n",
        "print('pandas: {}'.format(pd.__version__))\n",
        "print('sklearn: {}'.format(sklearn.__version__))\n",
        "print('joblib: {}'.format(joblib.__version__))"
      ],
      "execution_count": 2,
      "outputs": [
        {
          "output_type": "stream",
          "name": "stdout",
          "text": [
            "Python: 3.7.12 (default, Sep 10 2021, 00:21:48) \n",
            "[GCC 7.5.0]\n",
            "numpy: 1.19.5\n",
            "pandas: 1.1.5\n",
            "sklearn: 1.0.1\n",
            "joblib: 1.1.0\n",
            "time: 7.05 ms (started: 2022-01-10 13:52:31 +00:00)\n"
          ]
        }
      ]
    },
    {
      "cell_type": "markdown",
      "metadata": {
        "id": "sEEGDYunFfDW"
      },
      "source": [
        "## Global Variables"
      ]
    },
    {
      "cell_type": "code",
      "metadata": {
        "colab": {
          "base_uri": "https://localhost:8080/"
        },
        "id": "XQhJdmBOFeBB",
        "outputId": "2da82b27-9eec-4ba4-e89a-61b444c8f7ab"
      },
      "source": [
        "#Global variables declaration\n",
        "\n",
        "#Stored file path                     \n",
        "raw_file = \"/content/Thesis/Resources/database.csv\"\n",
        "#environment path         \n",
        "model_dir = '/content/Thesis/Resources/models/'                                  \n",
        "process_dir = '/content/Thesis/Resources/processed/'\n",
        "#Column names for dataset\n",
        "col_names = ['No', 'Datetime', 'Control_Mode', 'L1', 'L2', 'L3', 'Frequency', 'kVA_Total',           \n",
        "             'kVA_L1', 'kVA_L2', 'kVA_L3', 'KVAr', 'Oil_Pressure', 'Coolant_Temp', \n",
        "             'Charger_Alternator', 'PF_Avg', 'PF_L1', 'PF_L2', \n",
        "             'PF_L3', 'L1_N', 'L2_N', 'L3_N', 'Source_Ext_Voltage', 'ECU_Temp', \n",
        "             'RPM', 'Train_code']\n",
        "features = ['Oil_Pressure', 'Coolant_Temp', 'PF_Avg', 'ECU_Temp']\n",
        "#Unused columns in dataset\n",
        "unused_col = ['No', 'Datetime', 'Control_Mode', 'L1', 'L2', 'L3', 'Frequency',                       \n",
        "              'kVA_Total', 'kVA_L1', 'kVA_L2', 'kVA_L3', 'KVAr', 'Charger_Alternator',\n",
        "              'RPM', 'PF_L1', 'PF_L2', 'PF_L3', 'L1_N','L2_N', 'L3_N',\n",
        "              'Source_Ext_Voltage', 'Train_code']\n"
      ],
      "execution_count": 3,
      "outputs": [
        {
          "output_type": "stream",
          "name": "stdout",
          "text": [
            "time: 10.2 ms (started: 2022-01-10 13:52:31 +00:00)\n"
          ]
        }
      ]
    },
    {
      "cell_type": "markdown",
      "metadata": {
        "id": "ttk7DU5sjhFL"
      },
      "source": [
        "## Function Declaration"
      ]
    },
    {
      "cell_type": "code",
      "metadata": {
        "colab": {
          "base_uri": "https://localhost:8080/"
        },
        "id": "zdunRN5zjl1k",
        "outputId": "c45a88b7-5db6-4107-c186-436058a10d3e"
      },
      "source": [
        "# Function that returns the SHA-2 hash of the file\n",
        "def hash_file(filepath):\n",
        "\n",
        "   # make a hash object with SHA-2\n",
        "   h = hashlib.sha256()\n",
        "\n",
        "   # open file for reading in binary mode\n",
        "   with open(filepath,'rb') as file:\n",
        "       # loop till the end of the file\n",
        "       chunk = 0\n",
        "       while chunk != b'':\n",
        "           # read only 1024 bytes at a time\n",
        "           chunk = file.read(1024)\n",
        "           h.update(chunk)\n",
        "\n",
        "   # return the hex representation of digest\n",
        "   return h.hexdigest()\n"
      ],
      "execution_count": 4,
      "outputs": [
        {
          "output_type": "stream",
          "name": "stdout",
          "text": [
            "time: 6.47 ms (started: 2022-01-10 13:52:31 +00:00)\n"
          ]
        }
      ]
    },
    {
      "cell_type": "markdown",
      "metadata": {
        "id": "zkNpeh1BEuNe"
      },
      "source": [
        "# 1) Prediction Test"
      ]
    },
    {
      "cell_type": "markdown",
      "metadata": {
        "id": "FiESWlMAi4SA"
      },
      "source": [
        "## Generate Random Data"
      ]
    },
    {
      "cell_type": "code",
      "metadata": {
        "colab": {
          "base_uri": "https://localhost:8080/",
          "height": 441
        },
        "id": "5vXHbR2rs7cc",
        "outputId": "94eca921-a075-4cc2-d660-750bf52824ca"
      },
      "source": [
        "#Runtime testing dataset\n",
        "#Generate n samples for each features uniformly at range of min(0) to any integer\n",
        "\n",
        "s_oil = np.random.uniform(low=0.0, high=700.0, size=3000000)\n",
        "s_coolant = np.random.uniform(low=0.0, high=100.0, size=3000000)\n",
        "s_pf = np.random.uniform(low=0.0, high=1.5, size=3000000)\n",
        "s_ecu = np.random.uniform(low=0.0, high=75.0, size=3000000)\n",
        "\n",
        "df_random = pd.DataFrame({'Oil_Pressure':s_oil, 'Coolant_Temp':s_coolant,\n",
        "                          'PF_Avg':s_pf, 'ECU_Temp':s_ecu})\n",
        "df_random"
      ],
      "execution_count": 5,
      "outputs": [
        {
          "output_type": "execute_result",
          "data": {
            "text/html": [
              "\n",
              "  <div id=\"df-ad491338-b698-4dcd-a534-ee844b8ea637\">\n",
              "    <div class=\"colab-df-container\">\n",
              "      <div>\n",
              "<style scoped>\n",
              "    .dataframe tbody tr th:only-of-type {\n",
              "        vertical-align: middle;\n",
              "    }\n",
              "\n",
              "    .dataframe tbody tr th {\n",
              "        vertical-align: top;\n",
              "    }\n",
              "\n",
              "    .dataframe thead th {\n",
              "        text-align: right;\n",
              "    }\n",
              "</style>\n",
              "<table border=\"1\" class=\"dataframe\">\n",
              "  <thead>\n",
              "    <tr style=\"text-align: right;\">\n",
              "      <th></th>\n",
              "      <th>Oil_Pressure</th>\n",
              "      <th>Coolant_Temp</th>\n",
              "      <th>PF_Avg</th>\n",
              "      <th>ECU_Temp</th>\n",
              "    </tr>\n",
              "  </thead>\n",
              "  <tbody>\n",
              "    <tr>\n",
              "      <th>0</th>\n",
              "      <td>459.847976</td>\n",
              "      <td>55.079949</td>\n",
              "      <td>0.773934</td>\n",
              "      <td>32.694955</td>\n",
              "    </tr>\n",
              "    <tr>\n",
              "      <th>1</th>\n",
              "      <td>368.172066</td>\n",
              "      <td>31.582689</td>\n",
              "      <td>0.086697</td>\n",
              "      <td>20.542290</td>\n",
              "    </tr>\n",
              "    <tr>\n",
              "      <th>2</th>\n",
              "      <td>371.308868</td>\n",
              "      <td>67.882821</td>\n",
              "      <td>0.750865</td>\n",
              "      <td>29.305062</td>\n",
              "    </tr>\n",
              "    <tr>\n",
              "      <th>3</th>\n",
              "      <td>452.428671</td>\n",
              "      <td>59.691615</td>\n",
              "      <td>1.463705</td>\n",
              "      <td>14.121522</td>\n",
              "    </tr>\n",
              "    <tr>\n",
              "      <th>4</th>\n",
              "      <td>659.838613</td>\n",
              "      <td>45.932712</td>\n",
              "      <td>1.051276</td>\n",
              "      <td>31.413218</td>\n",
              "    </tr>\n",
              "    <tr>\n",
              "      <th>...</th>\n",
              "      <td>...</td>\n",
              "      <td>...</td>\n",
              "      <td>...</td>\n",
              "      <td>...</td>\n",
              "    </tr>\n",
              "    <tr>\n",
              "      <th>2999995</th>\n",
              "      <td>335.962051</td>\n",
              "      <td>94.569793</td>\n",
              "      <td>0.225025</td>\n",
              "      <td>55.355323</td>\n",
              "    </tr>\n",
              "    <tr>\n",
              "      <th>2999996</th>\n",
              "      <td>552.783977</td>\n",
              "      <td>4.010791</td>\n",
              "      <td>0.239621</td>\n",
              "      <td>51.583666</td>\n",
              "    </tr>\n",
              "    <tr>\n",
              "      <th>2999997</th>\n",
              "      <td>172.470790</td>\n",
              "      <td>65.491847</td>\n",
              "      <td>0.599189</td>\n",
              "      <td>59.251903</td>\n",
              "    </tr>\n",
              "    <tr>\n",
              "      <th>2999998</th>\n",
              "      <td>444.600232</td>\n",
              "      <td>51.262029</td>\n",
              "      <td>1.192304</td>\n",
              "      <td>31.602411</td>\n",
              "    </tr>\n",
              "    <tr>\n",
              "      <th>2999999</th>\n",
              "      <td>349.889200</td>\n",
              "      <td>17.398270</td>\n",
              "      <td>0.953394</td>\n",
              "      <td>45.438690</td>\n",
              "    </tr>\n",
              "  </tbody>\n",
              "</table>\n",
              "<p>3000000 rows × 4 columns</p>\n",
              "</div>\n",
              "      <button class=\"colab-df-convert\" onclick=\"convertToInteractive('df-ad491338-b698-4dcd-a534-ee844b8ea637')\"\n",
              "              title=\"Convert this dataframe to an interactive table.\"\n",
              "              style=\"display:none;\">\n",
              "        \n",
              "  <svg xmlns=\"http://www.w3.org/2000/svg\" height=\"24px\"viewBox=\"0 0 24 24\"\n",
              "       width=\"24px\">\n",
              "    <path d=\"M0 0h24v24H0V0z\" fill=\"none\"/>\n",
              "    <path d=\"M18.56 5.44l.94 2.06.94-2.06 2.06-.94-2.06-.94-.94-2.06-.94 2.06-2.06.94zm-11 1L8.5 8.5l.94-2.06 2.06-.94-2.06-.94L8.5 2.5l-.94 2.06-2.06.94zm10 10l.94 2.06.94-2.06 2.06-.94-2.06-.94-.94-2.06-.94 2.06-2.06.94z\"/><path d=\"M17.41 7.96l-1.37-1.37c-.4-.4-.92-.59-1.43-.59-.52 0-1.04.2-1.43.59L10.3 9.45l-7.72 7.72c-.78.78-.78 2.05 0 2.83L4 21.41c.39.39.9.59 1.41.59.51 0 1.02-.2 1.41-.59l7.78-7.78 2.81-2.81c.8-.78.8-2.07 0-2.86zM5.41 20L4 18.59l7.72-7.72 1.47 1.35L5.41 20z\"/>\n",
              "  </svg>\n",
              "      </button>\n",
              "      \n",
              "  <style>\n",
              "    .colab-df-container {\n",
              "      display:flex;\n",
              "      flex-wrap:wrap;\n",
              "      gap: 12px;\n",
              "    }\n",
              "\n",
              "    .colab-df-convert {\n",
              "      background-color: #E8F0FE;\n",
              "      border: none;\n",
              "      border-radius: 50%;\n",
              "      cursor: pointer;\n",
              "      display: none;\n",
              "      fill: #1967D2;\n",
              "      height: 32px;\n",
              "      padding: 0 0 0 0;\n",
              "      width: 32px;\n",
              "    }\n",
              "\n",
              "    .colab-df-convert:hover {\n",
              "      background-color: #E2EBFA;\n",
              "      box-shadow: 0px 1px 2px rgba(60, 64, 67, 0.3), 0px 1px 3px 1px rgba(60, 64, 67, 0.15);\n",
              "      fill: #174EA6;\n",
              "    }\n",
              "\n",
              "    [theme=dark] .colab-df-convert {\n",
              "      background-color: #3B4455;\n",
              "      fill: #D2E3FC;\n",
              "    }\n",
              "\n",
              "    [theme=dark] .colab-df-convert:hover {\n",
              "      background-color: #434B5C;\n",
              "      box-shadow: 0px 1px 3px 1px rgba(0, 0, 0, 0.15);\n",
              "      filter: drop-shadow(0px 1px 2px rgba(0, 0, 0, 0.3));\n",
              "      fill: #FFFFFF;\n",
              "    }\n",
              "  </style>\n",
              "\n",
              "      <script>\n",
              "        const buttonEl =\n",
              "          document.querySelector('#df-ad491338-b698-4dcd-a534-ee844b8ea637 button.colab-df-convert');\n",
              "        buttonEl.style.display =\n",
              "          google.colab.kernel.accessAllowed ? 'block' : 'none';\n",
              "\n",
              "        async function convertToInteractive(key) {\n",
              "          const element = document.querySelector('#df-ad491338-b698-4dcd-a534-ee844b8ea637');\n",
              "          const dataTable =\n",
              "            await google.colab.kernel.invokeFunction('convertToInteractive',\n",
              "                                                     [key], {});\n",
              "          if (!dataTable) return;\n",
              "\n",
              "          const docLinkHtml = 'Like what you see? Visit the ' +\n",
              "            '<a target=\"_blank\" href=https://colab.research.google.com/notebooks/data_table.ipynb>data table notebook</a>'\n",
              "            + ' to learn more about interactive tables.';\n",
              "          element.innerHTML = '';\n",
              "          dataTable['output_type'] = 'display_data';\n",
              "          await google.colab.output.renderOutput(dataTable, element);\n",
              "          const docLink = document.createElement('div');\n",
              "          docLink.innerHTML = docLinkHtml;\n",
              "          element.appendChild(docLink);\n",
              "        }\n",
              "      </script>\n",
              "    </div>\n",
              "  </div>\n",
              "  "
            ],
            "text/plain": [
              "         Oil_Pressure  Coolant_Temp    PF_Avg   ECU_Temp\n",
              "0          459.847976     55.079949  0.773934  32.694955\n",
              "1          368.172066     31.582689  0.086697  20.542290\n",
              "2          371.308868     67.882821  0.750865  29.305062\n",
              "3          452.428671     59.691615  1.463705  14.121522\n",
              "4          659.838613     45.932712  1.051276  31.413218\n",
              "...               ...           ...       ...        ...\n",
              "2999995    335.962051     94.569793  0.225025  55.355323\n",
              "2999996    552.783977      4.010791  0.239621  51.583666\n",
              "2999997    172.470790     65.491847  0.599189  59.251903\n",
              "2999998    444.600232     51.262029  1.192304  31.602411\n",
              "2999999    349.889200     17.398270  0.953394  45.438690\n",
              "\n",
              "[3000000 rows x 4 columns]"
            ]
          },
          "metadata": {},
          "execution_count": 5
        },
        {
          "output_type": "stream",
          "name": "stdout",
          "text": [
            "time: 315 ms (started: 2022-01-10 13:52:31 +00:00)\n"
          ]
        }
      ]
    },
    {
      "cell_type": "markdown",
      "metadata": {
        "id": "Q0W0-dnUxT5I"
      },
      "source": [
        "## Runtime test"
      ]
    },
    {
      "cell_type": "markdown",
      "metadata": {
        "id": "3QBl4eYNHGXj"
      },
      "source": [
        "### ML model"
      ]
    },
    {
      "cell_type": "code",
      "metadata": {
        "colab": {
          "base_uri": "https://localhost:8080/"
        },
        "id": "Cho164c0taAj",
        "outputId": "1c96c20a-32ff-451b-92f1-5f797c232a05"
      },
      "source": [
        "#Import and load Model\n",
        "Opsi1_LR = joblib.load(model_dir+'Opsi1_LR')\n",
        "Opsi1_KNN = joblib.load(model_dir+'Opsi1_KNN')\n",
        "Opsi1_DT = joblib.load(model_dir+'Opsi1_DT')\n",
        "Opsi1_SVM = joblib.load(model_dir+'Opsi1_SVM')\n",
        "Opsi1_RF = joblib.load(model_dir+'Opsi1_RF')\n",
        "Opsi1_LDA = joblib.load(model_dir+'Opsi1_LDA')\n",
        "Opsi1_NB = joblib.load(model_dir+'Opsi1_NB')\n",
        "Opsi3_LR = joblib.load(model_dir+'Opsi3_LR')\n",
        "Opsi3_KNN = joblib.load(model_dir+'Opsi3_KNN')\n",
        "Opsi3_DT = joblib.load(model_dir+'Opsi3_DT')\n",
        "Opsi3_SVM = joblib.load(model_dir+'Opsi3_SVM')\n",
        "Opsi3_RF = joblib.load(model_dir+'Opsi3_RF')\n",
        "Opsi3_LDA = joblib.load(model_dir+'Opsi3_LDA')\n",
        "Opsi3_NB = joblib.load(model_dir+'Opsi3_NB')\n",
        "\n",
        "# save into a list for easy training & cross validation\n",
        "models = []\n",
        "models.append(('LR_Opsi1', Opsi1_LR))\n",
        "models.append(('KNN_Opsi1', Opsi1_KNN))\n",
        "models.append(('DT_Opsi1', Opsi1_DT))\n",
        "models.append(('SVM_Opsi1', Opsi1_SVM))\n",
        "models.append(('RF_Opsi1', Opsi1_RF))\n",
        "models.append(('LDA_Opsi1', Opsi1_LDA))\n",
        "models.append(('NB_Opsi1', Opsi1_NB))\n",
        "models.append(('LR_Opsi3', Opsi3_LR))\n",
        "models.append(('KNN_Opsi3', Opsi3_KNN))\n",
        "models.append(('DT_Opsi3', Opsi3_DT))\n",
        "models.append(('SVM_Opsi3', Opsi3_SVM))\n",
        "models.append(('RF_Opsi3', Opsi3_RF))\n",
        "models.append(('LDA_Opsi3', Opsi3_LDA))\n",
        "models.append(('NB_Opsi3', Opsi3_NB))\n",
        "\n",
        "#Loop for evaluation of ML model\n",
        "model_predictions = []\n",
        "names = []\n",
        "runtimes = []\n",
        "\n",
        "for name, model in models:\n",
        "  start = timer() #Start measure Runtime\n",
        "  #Show metrics to evaluate performance\n",
        "  pred = model.predict(df_random)  #predict result from model\n",
        "  model_predictions.append(pred)\n",
        "  names.append(name)\n",
        "  print('%s Predict Completed!' % (name))\n",
        "  end = timer() #End measure Runtime\n",
        "  duration = end-start\n",
        "  runtimes.append(duration)\n",
        "  print('Runtime (s) : %f' % (duration))\n",
        "\n"
      ],
      "execution_count": 6,
      "outputs": [
        {
          "output_type": "stream",
          "name": "stdout",
          "text": [
            "LR_Opsi1 Predict Completed!\n",
            "Runtime (s) : 0.218718\n",
            "KNN_Opsi1 Predict Completed!\n",
            "Runtime (s) : 118.010537\n",
            "DT_Opsi1 Predict Completed!\n",
            "Runtime (s) : 0.210087\n",
            "SVM_Opsi1 Predict Completed!\n",
            "Runtime (s) : 1351.848275\n",
            "RF_Opsi1 Predict Completed!\n",
            "Runtime (s) : 24.397070\n",
            "LDA_Opsi1 Predict Completed!\n",
            "Runtime (s) : 0.178461\n",
            "NB_Opsi1 Predict Completed!\n",
            "Runtime (s) : 0.360470\n",
            "LR_Opsi3 Predict Completed!\n",
            "Runtime (s) : 0.136936\n",
            "KNN_Opsi3 Predict Completed!\n",
            "Runtime (s) : 114.893142\n",
            "DT_Opsi3 Predict Completed!\n",
            "Runtime (s) : 0.098962\n",
            "SVM_Opsi3 Predict Completed!\n",
            "Runtime (s) : 748.047621\n",
            "RF_Opsi3 Predict Completed!\n",
            "Runtime (s) : 18.266464\n",
            "LDA_Opsi3 Predict Completed!\n",
            "Runtime (s) : 0.136169\n",
            "NB_Opsi3 Predict Completed!\n",
            "Runtime (s) : 0.357519\n",
            "time: 39min 37s (started: 2022-01-10 13:52:31 +00:00)\n"
          ]
        }
      ]
    },
    {
      "cell_type": "markdown",
      "metadata": {
        "id": "S1C8dl42HCtR"
      },
      "source": [
        "### Rule-based"
      ]
    },
    {
      "cell_type": "code",
      "metadata": {
        "colab": {
          "base_uri": "https://localhost:8080/"
        },
        "id": "Z6LNvd6bHCFO",
        "outputId": "7f628bd6-e672-4f04-a4b3-3bdb7d933b0f"
      },
      "source": [
        "#Rule-Based_Statistical\n",
        "\n",
        "#Stat_Outlier = (value < q25 - (q75-q25) * 1.5) or (value > q75 + (q75-q25) * 1.5)\n",
        "Outlier_Oil = (df_random['Oil_Pressure'] < 544.000) | (df_random['Oil_Pressure'] > 672.000)\n",
        "Outlier_Coolant =(df_random['Coolant_Temp'] < 67.000) | (df_random['Coolant_Temp'] > 91.000) \n",
        "Outlier_ECU = (df_random['ECU_Temp'] < 18.000) | (df_random['ECU_Temp'] > 66.000) \n",
        "Outlier_PFA = (df_random['PF_Avg'] < 0.615) | (df_random['PF_Avg'] > 1.055)\n",
        "\n",
        "#Stat_Maintenance = (q25 - (q75-q25) * 1.5 <= value <= q25) or (q75 <= value <= q75 + (q75-q25) * 1.5)\n",
        "Maintenance_Oil = (df_random['Oil_Pressure'].between(544.000, 592.00)) | (df_random['Oil_Pressure'].between(624.00, 672.000))\n",
        "Maintenance_Coolant = (df_random['Coolant_Temp'].between(67.000, 76.00)) | (df_random['Coolant_Temp'].between(82.00, 91.000)) \n",
        "Maintenance_ECU = (df_random['ECU_Temp'].between(18.000, 36.00)) | (df_random['ECU_Temp'].between(48.00, 66.000))\n",
        "Maintenance_PFA = (df_random['PF_Avg'].between(0.615, 0.78) | (df_random['PF_Avg'].between(0.89, 1.055)))\n",
        "\n",
        "#Stat_Normal = q25 < value < q75 \n",
        "Normal_Oil = df_random['Oil_Pressure'].between(592.00, 624.00, inclusive=False) \n",
        "Normal_Coolant = df_random['Coolant_Temp'].between(76.00, 82.00, inclusive=False)\n",
        "Normal_ECU = df_random['ECU_Temp'].between(36.00, 48.00, inclusive=False) \n",
        "Normal_PFA = df_random['PF_Avg'].between(0.78, 0.89, inclusive=False)\n",
        "\n",
        "#Label Condition\n",
        "Outlier =  Outlier_Oil & Outlier_Coolant & Outlier_ECU & Outlier_PFA\n",
        "Maintenance = Maintenance_Oil | Maintenance_Coolant |  Maintenance_ECU | Maintenance_PFA\n",
        "\n",
        "#Check conditions for each row in dataframe\n",
        "df_RB_Statistical = df_random.copy()\n",
        "df_RB_Statistical['Label'] = 'Normal'\n",
        "df_RB_Statistical.loc[Outlier, 'Label'] = 'Outlier'\n",
        "df_RB_Statistical.loc[Maintenance, 'Label'] = 'Maintenance'\n",
        "\n",
        "# class distribution\n",
        "print(df_RB_Statistical.groupby('Label').size())\n",
        "print('Total sample : %d' % len(df_RB_Statistical))\n"
      ],
      "execution_count": 7,
      "outputs": [
        {
          "output_type": "stream",
          "name": "stdout",
          "text": [
            "Label\n",
            "Maintenance    2140962\n",
            "Normal          385479\n",
            "Outlier         473559\n",
            "dtype: int64\n",
            "Total sample : 3000000\n",
            "time: 637 ms (started: 2022-01-10 14:32:09 +00:00)\n"
          ]
        }
      ]
    },
    {
      "cell_type": "code",
      "metadata": {
        "colab": {
          "base_uri": "https://localhost:8080/"
        },
        "id": "a0GQ7-ftHV5X",
        "outputId": "6f005091-37b6-4c92-8fcd-8037e94dae86"
      },
      "source": [
        "#Rule-based_Clustering\n",
        "\n",
        "#Label Condition based on P1 and P2 Component from PCA result and clusters_dbscan\n",
        "#need to pre-process features data with PCA\n",
        "\n",
        "# Scaling and Normalize data\n",
        "features_norm = ['Oil_Pressure_Norm',\t'Coolant_Temp_Norm',\t'PF_Avg_Norm',\t'ECU_Temp_Norm']\n",
        "X_scaled = StandardScaler().fit_transform(df_random)         #Bring all the attributes to a comparable level (Z-score normalization)                      \n",
        "X_normalized = normalize(X_scaled)                            #Centering data to Origin\n",
        "X_normalized = pd.DataFrame(X_normalized, columns=features_norm)     #Converting the numpy array into a pandas DataFrame\n",
        "\n",
        "# fit transform data\n",
        "pca = PCA(n_components = 4)\n",
        "PCA_comp = ['P1', 'P2', 'P3', 'P4'] #set Px value based on the numbers of features\n",
        "X_transform = pca.fit_transform(X_normalized)\n",
        "X_transform = pd.DataFrame(X_transform, columns=PCA_comp)\n",
        "\n",
        "# Select two PCA components with highest variation (Dimensionality reduction)\n",
        "df_cluster = pd.DataFrame(dict(x=X_transform['P1'], y=X_transform['P2']))\n",
        "\n",
        "#cluster_0 = P1 > 0.25 AND P2 < 0.2\n",
        "cluster_0 = (df_cluster['x'] > 0.25) & (df_cluster['y'] < 0.2)\n",
        "#cluster_1 = P1 > 0.25 AND P2 > 0.2\n",
        "cluster_1 = (df_cluster['x'] > 0.25) & (df_cluster['y'] > 0.2)\n",
        "#cluster_2 = P1 <= 0.25 AND P2 <= 0.2\n",
        "cluster_2 = (df_cluster['x'] <= 0.25) & (df_cluster['y'] <= 0.2)\n",
        "\n",
        "#Add label to dataset\n",
        "df_RB_Clustering = df_RB_Statistical.copy()\n",
        "df_RB_Clustering['Label_cluster'] = np.nan\n",
        "df_RB_Clustering.loc[cluster_0, 'Label_cluster'] = 0\n",
        "df_RB_Clustering.loc[cluster_1, 'Label_cluster'] = 1\n",
        "df_RB_Clustering.loc[cluster_2, 'Label_cluster'] = 2\n",
        "\n",
        "# Label distribution result\n",
        "print(df_RB_Clustering.groupby('Label_cluster').size())\n",
        "print('Total sample : %d' % len(df_RB_Clustering))"
      ],
      "execution_count": 8,
      "outputs": [
        {
          "output_type": "stream",
          "name": "stdout",
          "text": [
            "Label_cluster\n",
            "0.0     636020\n",
            "1.0     367968\n",
            "2.0    1257810\n",
            "dtype: int64\n",
            "Total sample : 3000000\n",
            "time: 1.16 s (started: 2022-01-10 14:32:09 +00:00)\n"
          ]
        }
      ]
    },
    {
      "cell_type": "markdown",
      "metadata": {
        "id": "A2hwwj2jHL14"
      },
      "source": [
        "## Results"
      ]
    },
    {
      "cell_type": "code",
      "metadata": {
        "colab": {
          "base_uri": "https://localhost:8080/",
          "height": 506
        },
        "id": "SOJQTDRDEdPH",
        "outputId": "928e09ed-cfce-4757-a39e-ca04feffc658"
      },
      "source": [
        "df_eval = pd.DataFrame({'Model':names, 'Runtime':runtimes})\n",
        "df_eval"
      ],
      "execution_count": 9,
      "outputs": [
        {
          "output_type": "execute_result",
          "data": {
            "text/html": [
              "\n",
              "  <div id=\"df-c36b2580-294f-4ea1-878e-e58d211aab00\">\n",
              "    <div class=\"colab-df-container\">\n",
              "      <div>\n",
              "<style scoped>\n",
              "    .dataframe tbody tr th:only-of-type {\n",
              "        vertical-align: middle;\n",
              "    }\n",
              "\n",
              "    .dataframe tbody tr th {\n",
              "        vertical-align: top;\n",
              "    }\n",
              "\n",
              "    .dataframe thead th {\n",
              "        text-align: right;\n",
              "    }\n",
              "</style>\n",
              "<table border=\"1\" class=\"dataframe\">\n",
              "  <thead>\n",
              "    <tr style=\"text-align: right;\">\n",
              "      <th></th>\n",
              "      <th>Model</th>\n",
              "      <th>Runtime</th>\n",
              "    </tr>\n",
              "  </thead>\n",
              "  <tbody>\n",
              "    <tr>\n",
              "      <th>0</th>\n",
              "      <td>LR_Opsi1</td>\n",
              "      <td>0.218718</td>\n",
              "    </tr>\n",
              "    <tr>\n",
              "      <th>1</th>\n",
              "      <td>KNN_Opsi1</td>\n",
              "      <td>118.010537</td>\n",
              "    </tr>\n",
              "    <tr>\n",
              "      <th>2</th>\n",
              "      <td>DT_Opsi1</td>\n",
              "      <td>0.210087</td>\n",
              "    </tr>\n",
              "    <tr>\n",
              "      <th>3</th>\n",
              "      <td>SVM_Opsi1</td>\n",
              "      <td>1351.848275</td>\n",
              "    </tr>\n",
              "    <tr>\n",
              "      <th>4</th>\n",
              "      <td>RF_Opsi1</td>\n",
              "      <td>24.397070</td>\n",
              "    </tr>\n",
              "    <tr>\n",
              "      <th>5</th>\n",
              "      <td>LDA_Opsi1</td>\n",
              "      <td>0.178461</td>\n",
              "    </tr>\n",
              "    <tr>\n",
              "      <th>6</th>\n",
              "      <td>NB_Opsi1</td>\n",
              "      <td>0.360470</td>\n",
              "    </tr>\n",
              "    <tr>\n",
              "      <th>7</th>\n",
              "      <td>LR_Opsi3</td>\n",
              "      <td>0.136936</td>\n",
              "    </tr>\n",
              "    <tr>\n",
              "      <th>8</th>\n",
              "      <td>KNN_Opsi3</td>\n",
              "      <td>114.893142</td>\n",
              "    </tr>\n",
              "    <tr>\n",
              "      <th>9</th>\n",
              "      <td>DT_Opsi3</td>\n",
              "      <td>0.098962</td>\n",
              "    </tr>\n",
              "    <tr>\n",
              "      <th>10</th>\n",
              "      <td>SVM_Opsi3</td>\n",
              "      <td>748.047621</td>\n",
              "    </tr>\n",
              "    <tr>\n",
              "      <th>11</th>\n",
              "      <td>RF_Opsi3</td>\n",
              "      <td>18.266464</td>\n",
              "    </tr>\n",
              "    <tr>\n",
              "      <th>12</th>\n",
              "      <td>LDA_Opsi3</td>\n",
              "      <td>0.136169</td>\n",
              "    </tr>\n",
              "    <tr>\n",
              "      <th>13</th>\n",
              "      <td>NB_Opsi3</td>\n",
              "      <td>0.357519</td>\n",
              "    </tr>\n",
              "  </tbody>\n",
              "</table>\n",
              "</div>\n",
              "      <button class=\"colab-df-convert\" onclick=\"convertToInteractive('df-c36b2580-294f-4ea1-878e-e58d211aab00')\"\n",
              "              title=\"Convert this dataframe to an interactive table.\"\n",
              "              style=\"display:none;\">\n",
              "        \n",
              "  <svg xmlns=\"http://www.w3.org/2000/svg\" height=\"24px\"viewBox=\"0 0 24 24\"\n",
              "       width=\"24px\">\n",
              "    <path d=\"M0 0h24v24H0V0z\" fill=\"none\"/>\n",
              "    <path d=\"M18.56 5.44l.94 2.06.94-2.06 2.06-.94-2.06-.94-.94-2.06-.94 2.06-2.06.94zm-11 1L8.5 8.5l.94-2.06 2.06-.94-2.06-.94L8.5 2.5l-.94 2.06-2.06.94zm10 10l.94 2.06.94-2.06 2.06-.94-2.06-.94-.94-2.06-.94 2.06-2.06.94z\"/><path d=\"M17.41 7.96l-1.37-1.37c-.4-.4-.92-.59-1.43-.59-.52 0-1.04.2-1.43.59L10.3 9.45l-7.72 7.72c-.78.78-.78 2.05 0 2.83L4 21.41c.39.39.9.59 1.41.59.51 0 1.02-.2 1.41-.59l7.78-7.78 2.81-2.81c.8-.78.8-2.07 0-2.86zM5.41 20L4 18.59l7.72-7.72 1.47 1.35L5.41 20z\"/>\n",
              "  </svg>\n",
              "      </button>\n",
              "      \n",
              "  <style>\n",
              "    .colab-df-container {\n",
              "      display:flex;\n",
              "      flex-wrap:wrap;\n",
              "      gap: 12px;\n",
              "    }\n",
              "\n",
              "    .colab-df-convert {\n",
              "      background-color: #E8F0FE;\n",
              "      border: none;\n",
              "      border-radius: 50%;\n",
              "      cursor: pointer;\n",
              "      display: none;\n",
              "      fill: #1967D2;\n",
              "      height: 32px;\n",
              "      padding: 0 0 0 0;\n",
              "      width: 32px;\n",
              "    }\n",
              "\n",
              "    .colab-df-convert:hover {\n",
              "      background-color: #E2EBFA;\n",
              "      box-shadow: 0px 1px 2px rgba(60, 64, 67, 0.3), 0px 1px 3px 1px rgba(60, 64, 67, 0.15);\n",
              "      fill: #174EA6;\n",
              "    }\n",
              "\n",
              "    [theme=dark] .colab-df-convert {\n",
              "      background-color: #3B4455;\n",
              "      fill: #D2E3FC;\n",
              "    }\n",
              "\n",
              "    [theme=dark] .colab-df-convert:hover {\n",
              "      background-color: #434B5C;\n",
              "      box-shadow: 0px 1px 3px 1px rgba(0, 0, 0, 0.15);\n",
              "      filter: drop-shadow(0px 1px 2px rgba(0, 0, 0, 0.3));\n",
              "      fill: #FFFFFF;\n",
              "    }\n",
              "  </style>\n",
              "\n",
              "      <script>\n",
              "        const buttonEl =\n",
              "          document.querySelector('#df-c36b2580-294f-4ea1-878e-e58d211aab00 button.colab-df-convert');\n",
              "        buttonEl.style.display =\n",
              "          google.colab.kernel.accessAllowed ? 'block' : 'none';\n",
              "\n",
              "        async function convertToInteractive(key) {\n",
              "          const element = document.querySelector('#df-c36b2580-294f-4ea1-878e-e58d211aab00');\n",
              "          const dataTable =\n",
              "            await google.colab.kernel.invokeFunction('convertToInteractive',\n",
              "                                                     [key], {});\n",
              "          if (!dataTable) return;\n",
              "\n",
              "          const docLinkHtml = 'Like what you see? Visit the ' +\n",
              "            '<a target=\"_blank\" href=https://colab.research.google.com/notebooks/data_table.ipynb>data table notebook</a>'\n",
              "            + ' to learn more about interactive tables.';\n",
              "          element.innerHTML = '';\n",
              "          dataTable['output_type'] = 'display_data';\n",
              "          await google.colab.output.renderOutput(dataTable, element);\n",
              "          const docLink = document.createElement('div');\n",
              "          docLink.innerHTML = docLinkHtml;\n",
              "          element.appendChild(docLink);\n",
              "        }\n",
              "      </script>\n",
              "    </div>\n",
              "  </div>\n",
              "  "
            ],
            "text/plain": [
              "        Model      Runtime\n",
              "0    LR_Opsi1     0.218718\n",
              "1   KNN_Opsi1   118.010537\n",
              "2    DT_Opsi1     0.210087\n",
              "3   SVM_Opsi1  1351.848275\n",
              "4    RF_Opsi1    24.397070\n",
              "5   LDA_Opsi1     0.178461\n",
              "6    NB_Opsi1     0.360470\n",
              "7    LR_Opsi3     0.136936\n",
              "8   KNN_Opsi3   114.893142\n",
              "9    DT_Opsi3     0.098962\n",
              "10  SVM_Opsi3   748.047621\n",
              "11   RF_Opsi3    18.266464\n",
              "12  LDA_Opsi3     0.136169\n",
              "13   NB_Opsi3     0.357519"
            ]
          },
          "metadata": {},
          "execution_count": 9
        },
        {
          "output_type": "stream",
          "name": "stdout",
          "text": [
            "time: 14.6 ms (started: 2022-01-10 14:32:11 +00:00)\n"
          ]
        }
      ]
    },
    {
      "cell_type": "code",
      "metadata": {
        "colab": {
          "base_uri": "https://localhost:8080/"
        },
        "id": "_PXXlAx2FJrf",
        "outputId": "ce88cdfe-b435-4058-9f3d-78e9c4974aef"
      },
      "source": [
        "df_pred = pd.DataFrame(model_predictions, index=names)\n",
        "df_pred = df_pred.transpose()\n",
        "\n",
        "# class distribution\n",
        "for col in df_pred.columns :\n",
        "  print(df_pred.groupby(col).size())\n",
        "\n",
        "# Rule-Based statistical distribution result\n",
        "print(df_RB_Statistical.groupby('Label').size())\n",
        "print('Total sample : %d' % len(df_RB_Statistical))\n",
        "# Rule-Based clustering distribution result\n",
        "print(df_RB_Clustering.groupby('Label_cluster').size())\n",
        "print('Total sample : %d' % len(df_RB_Clustering))"
      ],
      "execution_count": 10,
      "outputs": [
        {
          "output_type": "stream",
          "name": "stdout",
          "text": [
            "LR_Opsi1\n",
            "Maintenance    3000000\n",
            "dtype: int64\n",
            "KNN_Opsi1\n",
            "Maintenance    2287424\n",
            "Normal          699748\n",
            "Outlier          12828\n",
            "dtype: int64\n",
            "DT_Opsi1\n",
            "Maintenance    2688304\n",
            "Normal          220849\n",
            "Outlier          90847\n",
            "dtype: int64\n",
            "SVM_Opsi1\n",
            "Maintenance    2998668\n",
            "Normal            1329\n",
            "Outlier              3\n",
            "dtype: int64\n",
            "RF_Opsi1\n",
            "Maintenance    2842592\n",
            "Normal          130453\n",
            "Outlier          26955\n",
            "dtype: int64\n",
            "LDA_Opsi1\n",
            "Maintenance    3000000\n",
            "dtype: int64\n",
            "NB_Opsi1\n",
            "Maintenance    3000000\n",
            "dtype: int64\n",
            "LR_Opsi3\n",
            "2    3000000\n",
            "dtype: int64\n",
            "KNN_Opsi3\n",
            "2    3000000\n",
            "dtype: int64\n",
            "DT_Opsi3\n",
            "2    3000000\n",
            "dtype: int64\n",
            "SVM_Opsi3\n",
            "2    3000000\n",
            "dtype: int64\n",
            "RF_Opsi3\n",
            "2    3000000\n",
            "dtype: int64\n",
            "LDA_Opsi3\n",
            "2    3000000\n",
            "dtype: int64\n",
            "NB_Opsi3\n",
            "2    3000000\n",
            "dtype: int64\n",
            "Label\n",
            "Maintenance    2140962\n",
            "Normal          385479\n",
            "Outlier         473559\n",
            "dtype: int64\n",
            "Total sample : 3000000\n",
            "Label_cluster\n",
            "0.0     636020\n",
            "1.0     367968\n",
            "2.0    1257810\n",
            "dtype: int64\n",
            "Total sample : 3000000\n",
            "time: 4min 7s (started: 2022-01-10 14:32:11 +00:00)\n"
          ]
        }
      ]
    }
  ]
}
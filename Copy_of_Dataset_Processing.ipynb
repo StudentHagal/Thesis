{
  "nbformat": 4,
  "nbformat_minor": 0,
  "metadata": {
    "colab": {
      "name": "Copy of Dataset_Processing.ipynb",
      "provenance": [],
      "collapsed_sections": [],
      "mount_file_id": "19MvHUBVDHEO8GOxz7n2EijTCBViy2z-V",
      "authorship_tag": "ABX9TyOUTlH4Lgj3vDvqg69UPrb+",
      "include_colab_link": true
    },
    "kernelspec": {
      "name": "python3",
      "display_name": "Python 3"
    },
    "language_info": {
      "name": "python"
    }
  },
  "cells": [
    {
      "cell_type": "markdown",
      "metadata": {
        "id": "view-in-github",
        "colab_type": "text"
      },
      "source": [
        "<a href=\"https://colab.research.google.com/github/StudentHagal/Thesis/blob/main/Copy_of_Dataset_Processing.ipynb\" target=\"_parent\"><img src=\"https://colab.research.google.com/assets/colab-badge.svg\" alt=\"Open In Colab\"/></a>"
      ]
    },
    {
      "cell_type": "markdown",
      "metadata": {
        "id": "yd8N4RzBRljs"
      },
      "source": [
        "# 0) Preparation"
      ]
    },
    {
      "cell_type": "markdown",
      "metadata": {
        "id": "WEB71CQ3Rr4a"
      },
      "source": [
        "## Load Requirements"
      ]
    },
    {
      "cell_type": "code",
      "metadata": {
        "colab": {
          "base_uri": "https://localhost:8080/"
        },
        "id": "7QPk-wHtRX6e",
        "outputId": "08b408b2-f93e-4cd3-e939-3b26b5a17f54"
      },
      "source": [
        "# Github Repo\n",
        "!git clone https://github.com/StudentHagal/Thesis.git\n",
        "\n",
        "# Libraries\n",
        "import sys\n",
        "import pandas as pd\n",
        "import hashlib\n",
        "import matplotlib\n",
        "import numpy as np\n",
        "import pandas as pd\n",
        "import sklearn\n",
        "import scipy\n",
        "import joblib\n",
        "import matplotlib.pyplot as plt\n",
        "from collections import Counter\n",
        "from imblearn.over_sampling import SMOTE\n",
        "from pandas import read_csv\n",
        "from pandas.plotting import scatter_matrix\n",
        "from matplotlib import pyplot\n",
        "from sklearn.model_selection import train_test_split\n",
        "from sklearn.model_selection import cross_val_score\n",
        "from sklearn.model_selection import RepeatedKFold\n",
        "from sklearn import linear_model\n",
        "from sklearn.linear_model import LinearRegression\n",
        "from sklearn.svm import SVR\n",
        "from sklearn.preprocessing import StandardScaler\n",
        "from sklearn.preprocessing import normalize\n",
        "from sklearn.decomposition import PCA\n",
        "from sklearn.metrics import r2_score\n",
        "\n",
        "#Extension\n",
        "!pip install ipython-autotime\n",
        "%load_ext autotime\n",
        "\n",
        "print('Load completed')\n"
      ],
      "execution_count": 1,
      "outputs": [
        {
          "output_type": "stream",
          "name": "stdout",
          "text": [
            "Cloning into 'Thesis'...\n",
            "remote: Enumerating objects: 44, done.\u001b[K\n",
            "remote: Counting objects: 100% (44/44), done.\u001b[K\n",
            "remote: Compressing objects: 100% (39/39), done.\u001b[K\n",
            "remote: Total 44 (delta 6), reused 0 (delta 0), pack-reused 0\u001b[K\n",
            "Unpacking objects: 100% (44/44), done.\n"
          ]
        },
        {
          "output_type": "stream",
          "name": "stderr",
          "text": [
            "/usr/local/lib/python3.7/dist-packages/sklearn/externals/six.py:31: FutureWarning: The module is deprecated in version 0.21 and will be removed in version 0.23 since we've dropped support for Python 2.7. Please rely on the official version of six (https://pypi.org/project/six/).\n",
            "  \"(https://pypi.org/project/six/).\", FutureWarning)\n",
            "/usr/local/lib/python3.7/dist-packages/sklearn/utils/deprecation.py:144: FutureWarning: The sklearn.neighbors.base module is  deprecated in version 0.22 and will be removed in version 0.24. The corresponding classes / functions should instead be imported from sklearn.neighbors. Anything that cannot be imported from sklearn.neighbors is now part of the private API.\n",
            "  warnings.warn(message, FutureWarning)\n"
          ]
        },
        {
          "output_type": "stream",
          "name": "stdout",
          "text": [
            "Collecting ipython-autotime\n",
            "  Downloading ipython_autotime-0.3.1-py2.py3-none-any.whl (6.8 kB)\n",
            "Requirement already satisfied: ipython in /usr/local/lib/python3.7/dist-packages (from ipython-autotime) (5.5.0)\n",
            "Requirement already satisfied: pygments in /usr/local/lib/python3.7/dist-packages (from ipython->ipython-autotime) (2.6.1)\n",
            "Requirement already satisfied: pexpect in /usr/local/lib/python3.7/dist-packages (from ipython->ipython-autotime) (4.8.0)\n",
            "Requirement already satisfied: simplegeneric>0.8 in /usr/local/lib/python3.7/dist-packages (from ipython->ipython-autotime) (0.8.1)\n",
            "Requirement already satisfied: setuptools>=18.5 in /usr/local/lib/python3.7/dist-packages (from ipython->ipython-autotime) (57.4.0)\n",
            "Requirement already satisfied: traitlets>=4.2 in /usr/local/lib/python3.7/dist-packages (from ipython->ipython-autotime) (5.1.0)\n",
            "Requirement already satisfied: pickleshare in /usr/local/lib/python3.7/dist-packages (from ipython->ipython-autotime) (0.7.5)\n",
            "Requirement already satisfied: prompt-toolkit<2.0.0,>=1.0.4 in /usr/local/lib/python3.7/dist-packages (from ipython->ipython-autotime) (1.0.18)\n",
            "Requirement already satisfied: decorator in /usr/local/lib/python3.7/dist-packages (from ipython->ipython-autotime) (4.4.2)\n",
            "Requirement already satisfied: six>=1.9.0 in /usr/local/lib/python3.7/dist-packages (from prompt-toolkit<2.0.0,>=1.0.4->ipython->ipython-autotime) (1.15.0)\n",
            "Requirement already satisfied: wcwidth in /usr/local/lib/python3.7/dist-packages (from prompt-toolkit<2.0.0,>=1.0.4->ipython->ipython-autotime) (0.2.5)\n",
            "Requirement already satisfied: ptyprocess>=0.5 in /usr/local/lib/python3.7/dist-packages (from pexpect->ipython->ipython-autotime) (0.7.0)\n",
            "Installing collected packages: ipython-autotime\n",
            "Successfully installed ipython-autotime-0.3.1\n",
            "Load completed\n",
            "time: 1.8 ms (started: 2021-10-07 14:11:14 +00:00)\n"
          ]
        }
      ]
    },
    {
      "cell_type": "markdown",
      "metadata": {
        "id": "5Y2taOXKRvZP"
      },
      "source": [
        "## Check Lib version"
      ]
    },
    {
      "cell_type": "code",
      "metadata": {
        "colab": {
          "base_uri": "https://localhost:8080/"
        },
        "id": "9E1-UuaYRgI9",
        "outputId": "3df69fe8-0552-41e8-b832-5b0e559e39f6"
      },
      "source": [
        "# Check the versions of libraries\n",
        "# !!! WARNING !!!\n",
        "# Important because model result may be different for other version\n",
        " \n",
        "print('Python: {}'.format(sys.version))\n",
        "print('scipy: {}'.format(scipy.__version__))\n",
        "print('numpy: {}'.format(np.__version__))\n",
        "print('matplotlib: {}'.format(matplotlib.__version__))\n",
        "print('pandas: {}'.format(pd.__version__))\n",
        "print('sklearn: {}'.format(sklearn.__version__))\n",
        "print('joblib: {}'.format(joblib.__version__))"
      ],
      "execution_count": null,
      "outputs": [
        {
          "output_type": "stream",
          "name": "stdout",
          "text": [
            "Python: 3.7.12 (default, Sep 10 2021, 00:21:48) \n",
            "[GCC 7.5.0]\n",
            "scipy: 1.4.1\n",
            "numpy: 1.19.5\n",
            "matplotlib: 3.2.2\n",
            "pandas: 1.1.5\n",
            "sklearn: 0.22.2.post1\n",
            "joblib: 1.0.1\n",
            "time: 7.54 ms (started: 2021-10-07 12:00:06 +00:00)\n"
          ]
        }
      ]
    },
    {
      "cell_type": "markdown",
      "metadata": {
        "id": "8TXHAhOyR0x7"
      },
      "source": [
        "## Global Variables declaration"
      ]
    },
    {
      "cell_type": "code",
      "metadata": {
        "colab": {
          "base_uri": "https://localhost:8080/"
        },
        "id": "cnPNhwA2Rg1r",
        "outputId": "7d43e5cd-a3d3-41cd-9fe8-7b5a235242fe"
      },
      "source": [
        "# Global Variable\n",
        "\n",
        "#known hash value of file\n",
        "compare = '10f68054068bc4ac4d7fee65e8fd7a184151e3ce3abce5d85350fc13c412d93b'    \n",
        "#Stored file path                     \n",
        "raw_file = \"/content/drive/MyDrive/Colab Notebooks/ML Resources/Raw Data/Format csv/database.csv\"\n",
        "#environment path\n",
        "code_dir = '/content/drive/MyDrive/Colab Notebooks/Thesis Repo/'           \n",
        "model_dir = '/content/drive/MyDrive/Colab Notebooks/ML Resources/models/'                                  \n",
        "process_dir = '/content/drive/MyDrive/Colab Notebooks/ML Resources/Processed Data/'\n",
        "#Column names for dataset\n",
        "col_names = ['No', 'Datetime', 'Control_Mode', 'L1', 'L2', 'L3', 'Frequency', 'kVA_Total',           \n",
        "             'kVA_L1', 'kVA_L2', 'kVA_L3', 'KVAr', 'Oil_Pressure', 'Coolant_Temp', \n",
        "             'Charger_Alternator', 'PF_Avg', 'PF_L1', 'PF_L2', \n",
        "             'PF_L3', 'L1_N', 'L2_N', 'L3_N', 'Source_Ext_Voltage', 'ECU_Temp', \n",
        "             'RPM', 'Train_code']\n",
        "features = ['Oil_Pressure', 'Coolant_Temp', 'PF_Avg', 'ECU_Temp']\n",
        "df = pd.read_csv(raw_file, names=col_names)\n",
        "#Unused columns in dataset\n",
        "unused_col = ['No', 'Control_Mode', 'L1', 'L2', 'L3', 'Frequency',                              \n",
        "              'kVA_Total', 'kVA_L1', 'kVA_L2', 'kVA_L3', 'KVAr', 'Charger_Alternator',\n",
        "              'RPM', 'PF_L1', 'PF_L2', 'PF_L3', 'L1_N','L2_N', 'L3_N',\n",
        "              'Source_Ext_Voltage']\n",
        "\n",
        "results = []\n",
        "names = []\n",
        "array_predict = []\n",
        "\n",
        "# Algorithm considered\n",
        "model_LinearReg = LinearRegression()\n",
        "model_BayesRidge = linear_model.BayesianRidge()\n",
        "model_SVR = SVR()\n",
        "models = []\n",
        "models.append(('LinearReg', model_LinearReg))\n",
        "models.append(('BR', model_BayesRidge))\n",
        "models.append(('SVR', model_SVR))\n",
        "\n",
        "#Threshold value variable 40% min, 60% max\n",
        "oil_threshold_40, oil_threshold_60 = df.Oil_Pressure.quantile([0.4 , 0.6])\n",
        "coolant_threshold_40, coolant_threshold_60 = df.Coolant_Temp.quantile([0.4 , 0.6])\n",
        "pf_threshold_40, pf_threshold_60 = df.PF_Avg.quantile([0.4 , 0.6])\n",
        "ecu_threshold_40, ecu_threshold_60 = df.ECU_Temp.quantile([0.4 , 0.6])\n",
        "#Threshold value variable 25% min, 75% max\n",
        "oil_threshold_25, oil_threshold_75 = df.Oil_Pressure.quantile([0.25 , 0.75])\n",
        "coolant_threshold_25, coolant_threshold_75 = df.Coolant_Temp.quantile([0.25 , 0.75])\n",
        "pf_threshold_25, pf_threshold_75 = df.PF_Avg.quantile([0.25 , 0.75])\n",
        "ecu_threshold_25, ecu_threshold_75 = df.ECU_Temp.quantile([0.25 , 0.75])"
      ],
      "execution_count": null,
      "outputs": [
        {
          "output_type": "stream",
          "name": "stdout",
          "text": [
            "time: 185 ms (started: 2021-10-07 12:00:06 +00:00)\n"
          ]
        }
      ]
    },
    {
      "cell_type": "markdown",
      "metadata": {
        "id": "q-rBZdhjSQUF"
      },
      "source": [
        "## Hash Check Function"
      ]
    },
    {
      "cell_type": "code",
      "metadata": {
        "colab": {
          "base_uri": "https://localhost:8080/"
        },
        "id": "aTtD-DvWSThD",
        "outputId": "c6e93e03-ad08-405b-d957-8d897f75f1b6"
      },
      "source": [
        "# Function that returns the SHA-2 hash of the file\n",
        "def hash_file(filename):\n",
        "\n",
        "   # make a hash object with SHA-2\n",
        "   h = hashlib.sha256()\n",
        "\n",
        "   # open file for reading in binary mode\n",
        "   with open('/content/drive/MyDrive/Colab Notebooks/ML Resources/Raw Data/Format csv/database.csv','rb') as file:\n",
        "       # loop till the end of the file\n",
        "       chunk = 0\n",
        "       while chunk != b'':\n",
        "           # read only 1024 bytes at a time\n",
        "           chunk = file.read(1024)\n",
        "           h.update(chunk)\n",
        "\n",
        "   # return the hex representation of digest\n",
        "   return h.hexdigest()\n"
      ],
      "execution_count": null,
      "outputs": [
        {
          "output_type": "stream",
          "name": "stdout",
          "text": [
            "time: 11 ms (started: 2021-10-07 12:00:06 +00:00)\n"
          ]
        }
      ]
    },
    {
      "cell_type": "markdown",
      "metadata": {
        "id": "dwO8IMKzSZYr"
      },
      "source": [
        "# 1) Processing Dataset"
      ]
    },
    {
      "cell_type": "markdown",
      "metadata": {
        "id": "pyVsFhJgQOVo"
      },
      "source": [
        "### Hash Validation"
      ]
    },
    {
      "cell_type": "code",
      "metadata": {
        "colab": {
          "base_uri": "https://localhost:8080/"
        },
        "id": "W8H_73QxSVln",
        "outputId": "51c690e3-6ecf-400e-ae17-171135cc3180"
      },
      "source": [
        "# Checking hash value of a file\n",
        "compare = '10f68054068bc4ac4d7fee65e8fd7a184151e3ce3abce5d85350fc13c412d93b'\n",
        "message = hash_file('database.csv')\n",
        "print('SHA-256 value of your file is :')\n",
        "print(message)\n",
        "\n",
        "if (compare == message) :\n",
        "  print('Hash check SUCCESS')\n",
        "else :\n",
        "  print('Hash check INVALID')"
      ],
      "execution_count": null,
      "outputs": [
        {
          "output_type": "stream",
          "name": "stdout",
          "text": [
            "SHA-256 value of your file is :\n",
            "10f68054068bc4ac4d7fee65e8fd7a184151e3ce3abce5d85350fc13c412d93b\n",
            "Hash check SUCCESS\n",
            "time: 28 ms (started: 2021-10-07 12:00:06 +00:00)\n"
          ]
        }
      ]
    },
    {
      "cell_type": "markdown",
      "metadata": {
        "id": "v4fQ51NnS8UB"
      },
      "source": [
        "## Feature Selection"
      ]
    },
    {
      "cell_type": "code",
      "metadata": {
        "colab": {
          "base_uri": "https://localhost:8080/",
          "height": 343
        },
        "id": "Q65CpC_YSlIV",
        "outputId": "5138d60b-1692-428f-eaa6-b33632ae9ad3"
      },
      "source": [
        "# Summarize raw dataset\n",
        "pd.set_option('display.max_columns', None)\n",
        "# size of (row, column) data\n",
        "print('Total data size : ', df.shape)\n",
        "# show sample entry of data\n",
        "df.head(5)"
      ],
      "execution_count": null,
      "outputs": [
        {
          "output_type": "stream",
          "name": "stdout",
          "text": [
            "Total data size :  (34357, 26)\n"
          ]
        },
        {
          "output_type": "execute_result",
          "data": {
            "text/html": [
              "<div>\n",
              "<style scoped>\n",
              "    .dataframe tbody tr th:only-of-type {\n",
              "        vertical-align: middle;\n",
              "    }\n",
              "\n",
              "    .dataframe tbody tr th {\n",
              "        vertical-align: top;\n",
              "    }\n",
              "\n",
              "    .dataframe thead th {\n",
              "        text-align: right;\n",
              "    }\n",
              "</style>\n",
              "<table border=\"1\" class=\"dataframe\">\n",
              "  <thead>\n",
              "    <tr style=\"text-align: right;\">\n",
              "      <th></th>\n",
              "      <th>No</th>\n",
              "      <th>Datetime</th>\n",
              "      <th>Control_Mode</th>\n",
              "      <th>L1</th>\n",
              "      <th>L2</th>\n",
              "      <th>L3</th>\n",
              "      <th>Frequency</th>\n",
              "      <th>kVA_Total</th>\n",
              "      <th>kVA_L1</th>\n",
              "      <th>kVA_L2</th>\n",
              "      <th>kVA_L3</th>\n",
              "      <th>KVAr</th>\n",
              "      <th>Oil_Pressure</th>\n",
              "      <th>Coolant_Temp</th>\n",
              "      <th>Charger_Alternator</th>\n",
              "      <th>PF_Avg</th>\n",
              "      <th>PF_L1</th>\n",
              "      <th>PF_L2</th>\n",
              "      <th>PF_L3</th>\n",
              "      <th>L1_N</th>\n",
              "      <th>L2_N</th>\n",
              "      <th>L3_N</th>\n",
              "      <th>Source_Ext_Voltage</th>\n",
              "      <th>ECU_Temp</th>\n",
              "      <th>RPM</th>\n",
              "      <th>Train_code</th>\n",
              "    </tr>\n",
              "  </thead>\n",
              "  <tbody>\n",
              "    <tr>\n",
              "      <th>0</th>\n",
              "      <td>1.1</td>\n",
              "      <td>01-08-20 02:03</td>\n",
              "      <td>2.0</td>\n",
              "      <td>28.0</td>\n",
              "      <td>27.0</td>\n",
              "      <td>26.0</td>\n",
              "      <td>50.0</td>\n",
              "      <td>18.51</td>\n",
              "      <td>6.35</td>\n",
              "      <td>6.09</td>\n",
              "      <td>5.89</td>\n",
              "      <td>0.00</td>\n",
              "      <td>636.0</td>\n",
              "      <td>81.0</td>\n",
              "      <td>26.9</td>\n",
              "      <td>0.83</td>\n",
              "      <td>0.83</td>\n",
              "      <td>0.82</td>\n",
              "      <td>0.84</td>\n",
              "      <td>220.8</td>\n",
              "      <td>221.1</td>\n",
              "      <td>220.8</td>\n",
              "      <td>25.98</td>\n",
              "      <td>32767.0</td>\n",
              "      <td>1499.0</td>\n",
              "      <td>MP3-01605</td>\n",
              "    </tr>\n",
              "    <tr>\n",
              "      <th>1</th>\n",
              "      <td>1.2</td>\n",
              "      <td>01-08-20 03:00</td>\n",
              "      <td>2.0</td>\n",
              "      <td>39.0</td>\n",
              "      <td>39.0</td>\n",
              "      <td>37.0</td>\n",
              "      <td>50.0</td>\n",
              "      <td>25.74</td>\n",
              "      <td>8.65</td>\n",
              "      <td>8.45</td>\n",
              "      <td>8.24</td>\n",
              "      <td>0.00</td>\n",
              "      <td>636.0</td>\n",
              "      <td>81.0</td>\n",
              "      <td>26.9</td>\n",
              "      <td>0.76</td>\n",
              "      <td>0.77</td>\n",
              "      <td>0.75</td>\n",
              "      <td>0.77</td>\n",
              "      <td>220.8</td>\n",
              "      <td>220.5</td>\n",
              "      <td>220.8</td>\n",
              "      <td>25.84</td>\n",
              "      <td>32767.0</td>\n",
              "      <td>1501.0</td>\n",
              "      <td>MP3-01605</td>\n",
              "    </tr>\n",
              "    <tr>\n",
              "      <th>2</th>\n",
              "      <td>1.3</td>\n",
              "      <td>01-08-20 04:00</td>\n",
              "      <td>2.0</td>\n",
              "      <td>104.0</td>\n",
              "      <td>100.0</td>\n",
              "      <td>100.0</td>\n",
              "      <td>50.0</td>\n",
              "      <td>68.59</td>\n",
              "      <td>22.89</td>\n",
              "      <td>22.32</td>\n",
              "      <td>22.02</td>\n",
              "      <td>46.74</td>\n",
              "      <td>632.0</td>\n",
              "      <td>82.0</td>\n",
              "      <td>26.9</td>\n",
              "      <td>0.77</td>\n",
              "      <td>0.77</td>\n",
              "      <td>0.76</td>\n",
              "      <td>0.77</td>\n",
              "      <td>220.2</td>\n",
              "      <td>220.7</td>\n",
              "      <td>220.5</td>\n",
              "      <td>25.93</td>\n",
              "      <td>32767.0</td>\n",
              "      <td>1499.0</td>\n",
              "      <td>MP3-01605</td>\n",
              "    </tr>\n",
              "    <tr>\n",
              "      <th>3</th>\n",
              "      <td>1.4</td>\n",
              "      <td>01-08-20 05:00</td>\n",
              "      <td>2.0</td>\n",
              "      <td>90.0</td>\n",
              "      <td>87.0</td>\n",
              "      <td>87.0</td>\n",
              "      <td>50.0</td>\n",
              "      <td>59.36</td>\n",
              "      <td>19.81</td>\n",
              "      <td>19.30</td>\n",
              "      <td>19.15</td>\n",
              "      <td>39.78</td>\n",
              "      <td>632.0</td>\n",
              "      <td>82.0</td>\n",
              "      <td>26.9</td>\n",
              "      <td>0.78</td>\n",
              "      <td>0.78</td>\n",
              "      <td>0.77</td>\n",
              "      <td>0.78</td>\n",
              "      <td>220.5</td>\n",
              "      <td>220.5</td>\n",
              "      <td>220.8</td>\n",
              "      <td>26.18</td>\n",
              "      <td>32767.0</td>\n",
              "      <td>1500.0</td>\n",
              "      <td>MP3-01605</td>\n",
              "    </tr>\n",
              "    <tr>\n",
              "      <th>4</th>\n",
              "      <td>1.5</td>\n",
              "      <td>01-08-20 06:00</td>\n",
              "      <td>2.0</td>\n",
              "      <td>98.0</td>\n",
              "      <td>96.0</td>\n",
              "      <td>96.0</td>\n",
              "      <td>50.0</td>\n",
              "      <td>64.60</td>\n",
              "      <td>21.66</td>\n",
              "      <td>21.14</td>\n",
              "      <td>21.14</td>\n",
              "      <td>43.31</td>\n",
              "      <td>628.0</td>\n",
              "      <td>82.0</td>\n",
              "      <td>27.0</td>\n",
              "      <td>0.78</td>\n",
              "      <td>0.77</td>\n",
              "      <td>0.78</td>\n",
              "      <td>0.78</td>\n",
              "      <td>220.3</td>\n",
              "      <td>220.4</td>\n",
              "      <td>220.6</td>\n",
              "      <td>26.14</td>\n",
              "      <td>32767.0</td>\n",
              "      <td>1500.0</td>\n",
              "      <td>MP3-01605</td>\n",
              "    </tr>\n",
              "  </tbody>\n",
              "</table>\n",
              "</div>"
            ],
            "text/plain": [
              "    No        Datetime  Control_Mode     L1     L2     L3  Frequency  \\\n",
              "0  1.1  01-08-20 02:03           2.0   28.0   27.0   26.0       50.0   \n",
              "1  1.2  01-08-20 03:00           2.0   39.0   39.0   37.0       50.0   \n",
              "2  1.3  01-08-20 04:00           2.0  104.0  100.0  100.0       50.0   \n",
              "3  1.4  01-08-20 05:00           2.0   90.0   87.0   87.0       50.0   \n",
              "4  1.5  01-08-20 06:00           2.0   98.0   96.0   96.0       50.0   \n",
              "\n",
              "   kVA_Total  kVA_L1  kVA_L2  kVA_L3   KVAr  Oil_Pressure  Coolant_Temp  \\\n",
              "0      18.51    6.35    6.09    5.89   0.00         636.0          81.0   \n",
              "1      25.74    8.65    8.45    8.24   0.00         636.0          81.0   \n",
              "2      68.59   22.89   22.32   22.02  46.74         632.0          82.0   \n",
              "3      59.36   19.81   19.30   19.15  39.78         632.0          82.0   \n",
              "4      64.60   21.66   21.14   21.14  43.31         628.0          82.0   \n",
              "\n",
              "   Charger_Alternator  PF_Avg  PF_L1  PF_L2  PF_L3   L1_N   L2_N   L3_N  \\\n",
              "0                26.9    0.83   0.83   0.82   0.84  220.8  221.1  220.8   \n",
              "1                26.9    0.76   0.77   0.75   0.77  220.8  220.5  220.8   \n",
              "2                26.9    0.77   0.77   0.76   0.77  220.2  220.7  220.5   \n",
              "3                26.9    0.78   0.78   0.77   0.78  220.5  220.5  220.8   \n",
              "4                27.0    0.78   0.77   0.78   0.78  220.3  220.4  220.6   \n",
              "\n",
              "   Source_Ext_Voltage  ECU_Temp     RPM Train_code  \n",
              "0               25.98   32767.0  1499.0  MP3-01605  \n",
              "1               25.84   32767.0  1501.0  MP3-01605  \n",
              "2               25.93   32767.0  1499.0  MP3-01605  \n",
              "3               26.18   32767.0  1500.0  MP3-01605  \n",
              "4               26.14   32767.0  1500.0  MP3-01605  "
            ]
          },
          "metadata": {},
          "execution_count": 6
        },
        {
          "output_type": "stream",
          "name": "stdout",
          "text": [
            "time: 56 ms (started: 2021-10-07 12:00:06 +00:00)\n"
          ]
        }
      ]
    },
    {
      "cell_type": "code",
      "metadata": {
        "colab": {
          "base_uri": "https://localhost:8080/",
          "height": 334
        },
        "id": "ChxR-gpZSqZ3",
        "outputId": "1407977f-0919-4c47-e0df-ffad5b38f81b"
      },
      "source": [
        "# statistical value of data\n",
        "df.describe()\n"
      ],
      "execution_count": null,
      "outputs": [
        {
          "output_type": "execute_result",
          "data": {
            "text/html": [
              "<div>\n",
              "<style scoped>\n",
              "    .dataframe tbody tr th:only-of-type {\n",
              "        vertical-align: middle;\n",
              "    }\n",
              "\n",
              "    .dataframe tbody tr th {\n",
              "        vertical-align: top;\n",
              "    }\n",
              "\n",
              "    .dataframe thead th {\n",
              "        text-align: right;\n",
              "    }\n",
              "</style>\n",
              "<table border=\"1\" class=\"dataframe\">\n",
              "  <thead>\n",
              "    <tr style=\"text-align: right;\">\n",
              "      <th></th>\n",
              "      <th>No</th>\n",
              "      <th>Control_Mode</th>\n",
              "      <th>L1</th>\n",
              "      <th>L2</th>\n",
              "      <th>L3</th>\n",
              "      <th>Frequency</th>\n",
              "      <th>kVA_Total</th>\n",
              "      <th>kVA_L1</th>\n",
              "      <th>kVA_L2</th>\n",
              "      <th>kVA_L3</th>\n",
              "      <th>KVAr</th>\n",
              "      <th>Oil_Pressure</th>\n",
              "      <th>Coolant_Temp</th>\n",
              "      <th>Charger_Alternator</th>\n",
              "      <th>PF_Avg</th>\n",
              "      <th>PF_L1</th>\n",
              "      <th>PF_L2</th>\n",
              "      <th>PF_L3</th>\n",
              "      <th>L1_N</th>\n",
              "      <th>L2_N</th>\n",
              "      <th>L3_N</th>\n",
              "      <th>Source_Ext_Voltage</th>\n",
              "      <th>ECU_Temp</th>\n",
              "      <th>RPM</th>\n",
              "    </tr>\n",
              "  </thead>\n",
              "  <tbody>\n",
              "    <tr>\n",
              "      <th>count</th>\n",
              "      <td>33832.000000</td>\n",
              "      <td>33832.000000</td>\n",
              "      <td>33832.000000</td>\n",
              "      <td>33832.000000</td>\n",
              "      <td>33832.000000</td>\n",
              "      <td>33832.000000</td>\n",
              "      <td>33832.000000</td>\n",
              "      <td>33832.000000</td>\n",
              "      <td>33832.000000</td>\n",
              "      <td>33832.000000</td>\n",
              "      <td>3.383200e+04</td>\n",
              "      <td>33832.000000</td>\n",
              "      <td>33832.000000</td>\n",
              "      <td>33832.000000</td>\n",
              "      <td>33832.000000</td>\n",
              "      <td>33832.000000</td>\n",
              "      <td>33832.000000</td>\n",
              "      <td>33832.000000</td>\n",
              "      <td>33832.000000</td>\n",
              "      <td>33832.000000</td>\n",
              "      <td>33832.000000</td>\n",
              "      <td>33832.000000</td>\n",
              "      <td>33832.000000</td>\n",
              "      <td>33832.000000</td>\n",
              "    </tr>\n",
              "    <tr>\n",
              "      <th>mean</th>\n",
              "      <td>16.382906</td>\n",
              "      <td>1.531893</td>\n",
              "      <td>104.661208</td>\n",
              "      <td>103.481822</td>\n",
              "      <td>103.836072</td>\n",
              "      <td>41.849285</td>\n",
              "      <td>69.517004</td>\n",
              "      <td>23.098147</td>\n",
              "      <td>22.853998</td>\n",
              "      <td>22.919337</td>\n",
              "      <td>2.567771e+04</td>\n",
              "      <td>1533.996364</td>\n",
              "      <td>663.118379</td>\n",
              "      <td>23.126040</td>\n",
              "      <td>5.953150</td>\n",
              "      <td>5.577243</td>\n",
              "      <td>5.935014</td>\n",
              "      <td>6.347120</td>\n",
              "      <td>186.349900</td>\n",
              "      <td>186.401478</td>\n",
              "      <td>186.174010</td>\n",
              "      <td>23.340322</td>\n",
              "      <td>6278.678647</td>\n",
              "      <td>1345.971831</td>\n",
              "    </tr>\n",
              "    <tr>\n",
              "      <th>std</th>\n",
              "      <td>9.070813</td>\n",
              "      <td>0.810421</td>\n",
              "      <td>79.092619</td>\n",
              "      <td>78.685596</td>\n",
              "      <td>78.725843</td>\n",
              "      <td>18.329195</td>\n",
              "      <td>52.483808</td>\n",
              "      <td>17.573883</td>\n",
              "      <td>17.497579</td>\n",
              "      <td>17.482340</td>\n",
              "      <td>3.308827e+05</td>\n",
              "      <td>8092.570600</td>\n",
              "      <td>4389.881127</td>\n",
              "      <td>10.263944</td>\n",
              "      <td>40.234364</td>\n",
              "      <td>39.608321</td>\n",
              "      <td>41.013527</td>\n",
              "      <td>42.585116</td>\n",
              "      <td>80.731685</td>\n",
              "      <td>80.867993</td>\n",
              "      <td>80.890586</td>\n",
              "      <td>9.010295</td>\n",
              "      <td>12862.110888</td>\n",
              "      <td>2602.133855</td>\n",
              "    </tr>\n",
              "    <tr>\n",
              "      <th>min</th>\n",
              "      <td>1.100000</td>\n",
              "      <td>0.000000</td>\n",
              "      <td>0.000000</td>\n",
              "      <td>0.000000</td>\n",
              "      <td>0.000000</td>\n",
              "      <td>0.000000</td>\n",
              "      <td>0.000000</td>\n",
              "      <td>0.000000</td>\n",
              "      <td>0.000000</td>\n",
              "      <td>0.000000</td>\n",
              "      <td>0.000000e+00</td>\n",
              "      <td>0.000000</td>\n",
              "      <td>0.000000</td>\n",
              "      <td>0.000000</td>\n",
              "      <td>0.000000</td>\n",
              "      <td>0.000000</td>\n",
              "      <td>0.000000</td>\n",
              "      <td>0.000000</td>\n",
              "      <td>0.000000</td>\n",
              "      <td>0.000000</td>\n",
              "      <td>0.000000</td>\n",
              "      <td>0.000000</td>\n",
              "      <td>0.000000</td>\n",
              "      <td>0.000000</td>\n",
              "    </tr>\n",
              "    <tr>\n",
              "      <th>25%</th>\n",
              "      <td>8.200000</td>\n",
              "      <td>1.000000</td>\n",
              "      <td>39.000000</td>\n",
              "      <td>38.000000</td>\n",
              "      <td>38.000000</td>\n",
              "      <td>50.000000</td>\n",
              "      <td>26.037500</td>\n",
              "      <td>8.440000</td>\n",
              "      <td>8.280000</td>\n",
              "      <td>8.260000</td>\n",
              "      <td>9.680000e+00</td>\n",
              "      <td>592.000000</td>\n",
              "      <td>76.000000</td>\n",
              "      <td>27.100000</td>\n",
              "      <td>0.780000</td>\n",
              "      <td>0.780000</td>\n",
              "      <td>0.780000</td>\n",
              "      <td>0.780000</td>\n",
              "      <td>219.600000</td>\n",
              "      <td>219.700000</td>\n",
              "      <td>219.675000</td>\n",
              "      <td>26.330000</td>\n",
              "      <td>36.000000</td>\n",
              "      <td>1499.000000</td>\n",
              "    </tr>\n",
              "    <tr>\n",
              "      <th>50%</th>\n",
              "      <td>16.900000</td>\n",
              "      <td>2.000000</td>\n",
              "      <td>104.000000</td>\n",
              "      <td>103.000000</td>\n",
              "      <td>103.000000</td>\n",
              "      <td>50.000000</td>\n",
              "      <td>69.020000</td>\n",
              "      <td>22.985000</td>\n",
              "      <td>22.725000</td>\n",
              "      <td>22.940000</td>\n",
              "      <td>3.354000e+01</td>\n",
              "      <td>612.000000</td>\n",
              "      <td>81.000000</td>\n",
              "      <td>27.700000</td>\n",
              "      <td>0.870000</td>\n",
              "      <td>0.870000</td>\n",
              "      <td>0.860000</td>\n",
              "      <td>0.860000</td>\n",
              "      <td>221.100000</td>\n",
              "      <td>221.300000</td>\n",
              "      <td>221.100000</td>\n",
              "      <td>27.110000</td>\n",
              "      <td>41.000000</td>\n",
              "      <td>1499.000000</td>\n",
              "    </tr>\n",
              "    <tr>\n",
              "      <th>75%</th>\n",
              "      <td>24.360000</td>\n",
              "      <td>2.000000</td>\n",
              "      <td>159.000000</td>\n",
              "      <td>157.000000</td>\n",
              "      <td>157.000000</td>\n",
              "      <td>50.000000</td>\n",
              "      <td>105.420000</td>\n",
              "      <td>35.160000</td>\n",
              "      <td>34.700000</td>\n",
              "      <td>34.680000</td>\n",
              "      <td>5.388000e+01</td>\n",
              "      <td>624.000000</td>\n",
              "      <td>82.000000</td>\n",
              "      <td>27.900000</td>\n",
              "      <td>0.890000</td>\n",
              "      <td>0.890000</td>\n",
              "      <td>0.890000</td>\n",
              "      <td>0.880000</td>\n",
              "      <td>222.200000</td>\n",
              "      <td>222.400000</td>\n",
              "      <td>222.300000</td>\n",
              "      <td>27.300000</td>\n",
              "      <td>48.000000</td>\n",
              "      <td>1500.000000</td>\n",
              "    </tr>\n",
              "    <tr>\n",
              "      <th>max</th>\n",
              "      <td>31.990000</td>\n",
              "      <td>5.000000</td>\n",
              "      <td>555.000000</td>\n",
              "      <td>562.000000</td>\n",
              "      <td>557.000000</td>\n",
              "      <td>51.900000</td>\n",
              "      <td>376.510000</td>\n",
              "      <td>125.340000</td>\n",
              "      <td>127.240000</td>\n",
              "      <td>125.700000</td>\n",
              "      <td>4.294967e+06</td>\n",
              "      <td>65535.000000</td>\n",
              "      <td>65531.000000</td>\n",
              "      <td>29.900000</td>\n",
              "      <td>327.650000</td>\n",
              "      <td>327.650000</td>\n",
              "      <td>327.650000</td>\n",
              "      <td>327.650000</td>\n",
              "      <td>227.800000</td>\n",
              "      <td>227.900000</td>\n",
              "      <td>229.100000</td>\n",
              "      <td>30.720000</td>\n",
              "      <td>32767.000000</td>\n",
              "      <td>65531.000000</td>\n",
              "    </tr>\n",
              "  </tbody>\n",
              "</table>\n",
              "</div>"
            ],
            "text/plain": [
              "                 No  Control_Mode            L1            L2            L3  \\\n",
              "count  33832.000000  33832.000000  33832.000000  33832.000000  33832.000000   \n",
              "mean      16.382906      1.531893    104.661208    103.481822    103.836072   \n",
              "std        9.070813      0.810421     79.092619     78.685596     78.725843   \n",
              "min        1.100000      0.000000      0.000000      0.000000      0.000000   \n",
              "25%        8.200000      1.000000     39.000000     38.000000     38.000000   \n",
              "50%       16.900000      2.000000    104.000000    103.000000    103.000000   \n",
              "75%       24.360000      2.000000    159.000000    157.000000    157.000000   \n",
              "max       31.990000      5.000000    555.000000    562.000000    557.000000   \n",
              "\n",
              "          Frequency     kVA_Total        kVA_L1        kVA_L2        kVA_L3  \\\n",
              "count  33832.000000  33832.000000  33832.000000  33832.000000  33832.000000   \n",
              "mean      41.849285     69.517004     23.098147     22.853998     22.919337   \n",
              "std       18.329195     52.483808     17.573883     17.497579     17.482340   \n",
              "min        0.000000      0.000000      0.000000      0.000000      0.000000   \n",
              "25%       50.000000     26.037500      8.440000      8.280000      8.260000   \n",
              "50%       50.000000     69.020000     22.985000     22.725000     22.940000   \n",
              "75%       50.000000    105.420000     35.160000     34.700000     34.680000   \n",
              "max       51.900000    376.510000    125.340000    127.240000    125.700000   \n",
              "\n",
              "               KVAr  Oil_Pressure  Coolant_Temp  Charger_Alternator  \\\n",
              "count  3.383200e+04  33832.000000  33832.000000        33832.000000   \n",
              "mean   2.567771e+04   1533.996364    663.118379           23.126040   \n",
              "std    3.308827e+05   8092.570600   4389.881127           10.263944   \n",
              "min    0.000000e+00      0.000000      0.000000            0.000000   \n",
              "25%    9.680000e+00    592.000000     76.000000           27.100000   \n",
              "50%    3.354000e+01    612.000000     81.000000           27.700000   \n",
              "75%    5.388000e+01    624.000000     82.000000           27.900000   \n",
              "max    4.294967e+06  65535.000000  65531.000000           29.900000   \n",
              "\n",
              "             PF_Avg         PF_L1         PF_L2         PF_L3          L1_N  \\\n",
              "count  33832.000000  33832.000000  33832.000000  33832.000000  33832.000000   \n",
              "mean       5.953150      5.577243      5.935014      6.347120    186.349900   \n",
              "std       40.234364     39.608321     41.013527     42.585116     80.731685   \n",
              "min        0.000000      0.000000      0.000000      0.000000      0.000000   \n",
              "25%        0.780000      0.780000      0.780000      0.780000    219.600000   \n",
              "50%        0.870000      0.870000      0.860000      0.860000    221.100000   \n",
              "75%        0.890000      0.890000      0.890000      0.880000    222.200000   \n",
              "max      327.650000    327.650000    327.650000    327.650000    227.800000   \n",
              "\n",
              "               L2_N          L3_N  Source_Ext_Voltage      ECU_Temp  \\\n",
              "count  33832.000000  33832.000000        33832.000000  33832.000000   \n",
              "mean     186.401478    186.174010           23.340322   6278.678647   \n",
              "std       80.867993     80.890586            9.010295  12862.110888   \n",
              "min        0.000000      0.000000            0.000000      0.000000   \n",
              "25%      219.700000    219.675000           26.330000     36.000000   \n",
              "50%      221.300000    221.100000           27.110000     41.000000   \n",
              "75%      222.400000    222.300000           27.300000     48.000000   \n",
              "max      227.900000    229.100000           30.720000  32767.000000   \n",
              "\n",
              "                RPM  \n",
              "count  33832.000000  \n",
              "mean    1345.971831  \n",
              "std     2602.133855  \n",
              "min        0.000000  \n",
              "25%     1499.000000  \n",
              "50%     1499.000000  \n",
              "75%     1500.000000  \n",
              "max    65531.000000  "
            ]
          },
          "metadata": {},
          "execution_count": 7
        },
        {
          "output_type": "stream",
          "name": "stdout",
          "text": [
            "time: 124 ms (started: 2021-10-07 12:00:06 +00:00)\n"
          ]
        }
      ]
    },
    {
      "cell_type": "code",
      "metadata": {
        "colab": {
          "base_uri": "https://localhost:8080/"
        },
        "id": "c-GI0TgRUAMg",
        "outputId": "75b72af0-7f63-44ea-f90f-f13d033e0d86"
      },
      "source": [
        "df.info()"
      ],
      "execution_count": null,
      "outputs": [
        {
          "output_type": "stream",
          "name": "stdout",
          "text": [
            "<class 'pandas.core.frame.DataFrame'>\n",
            "RangeIndex: 34357 entries, 0 to 34356\n",
            "Data columns (total 26 columns):\n",
            " #   Column              Non-Null Count  Dtype  \n",
            "---  ------              --------------  -----  \n",
            " 0   No                  33832 non-null  float64\n",
            " 1   Datetime            33832 non-null  object \n",
            " 2   Control_Mode        33832 non-null  float64\n",
            " 3   L1                  33832 non-null  float64\n",
            " 4   L2                  33832 non-null  float64\n",
            " 5   L3                  33832 non-null  float64\n",
            " 6   Frequency           33832 non-null  float64\n",
            " 7   kVA_Total           33832 non-null  float64\n",
            " 8   kVA_L1              33832 non-null  float64\n",
            " 9   kVA_L2              33832 non-null  float64\n",
            " 10  kVA_L3              33832 non-null  float64\n",
            " 11  KVAr                33832 non-null  float64\n",
            " 12  Oil_Pressure        33832 non-null  float64\n",
            " 13  Coolant_Temp        33832 non-null  float64\n",
            " 14  Charger_Alternator  33832 non-null  float64\n",
            " 15  PF_Avg              33832 non-null  float64\n",
            " 16  PF_L1               33832 non-null  float64\n",
            " 17  PF_L2               33832 non-null  float64\n",
            " 18  PF_L3               33832 non-null  float64\n",
            " 19  L1_N                33832 non-null  float64\n",
            " 20  L2_N                33832 non-null  float64\n",
            " 21  L3_N                33832 non-null  float64\n",
            " 22  Source_Ext_Voltage  33832 non-null  float64\n",
            " 23  ECU_Temp            33832 non-null  float64\n",
            " 24  RPM                 33832 non-null  float64\n",
            " 25  Train_code          33832 non-null  object \n",
            "dtypes: float64(24), object(2)\n",
            "memory usage: 6.8+ MB\n",
            "time: 22.1 ms (started: 2021-10-07 12:00:07 +00:00)\n"
          ]
        }
      ]
    },
    {
      "cell_type": "code",
      "metadata": {
        "colab": {
          "base_uri": "https://localhost:8080/"
        },
        "id": "E2GqgA8JSseb",
        "outputId": "ebdd658b-4d6e-4a05-d183-70df02783e8b"
      },
      "source": [
        "# class distribution\n",
        "df.groupby('Train_code').size()"
      ],
      "execution_count": null,
      "outputs": [
        {
          "output_type": "execute_result",
          "data": {
            "text/plain": [
              "Train_code\n",
              "MP3-01605    1434\n",
              "MP3-01606     983\n",
              "P-01601       423\n",
              "P-01801      1922\n",
              "P-01808      3068\n",
              "P-01810      2570\n",
              "P-01811      2258\n",
              "P-01812      1231\n",
              "P-01818      2280\n",
              "P-01820      2186\n",
              "P-01821      2006\n",
              "P-01822      2901\n",
              "P-01823       867\n",
              "P-01825      1396\n",
              "P-01903      2128\n",
              "P-01908      3187\n",
              "P-01914      2992\n",
              "dtype: int64"
            ]
          },
          "metadata": {},
          "execution_count": 9
        },
        {
          "output_type": "stream",
          "name": "stdout",
          "text": [
            "time: 12.2 ms (started: 2021-10-07 12:00:07 +00:00)\n"
          ]
        }
      ]
    },
    {
      "cell_type": "code",
      "metadata": {
        "colab": {
          "base_uri": "https://localhost:8080/"
        },
        "id": "zEkdtIsJTpI7",
        "outputId": "90307869-3dac-4fa0-b205-9c55935d4c93"
      },
      "source": [
        "# convert Datetime Dtype\n",
        "df['Datetime'] = pd.to_datetime(df.Datetime)\n",
        "\n",
        "df.info()"
      ],
      "execution_count": null,
      "outputs": [
        {
          "output_type": "stream",
          "name": "stdout",
          "text": [
            "<class 'pandas.core.frame.DataFrame'>\n",
            "RangeIndex: 34357 entries, 0 to 34356\n",
            "Data columns (total 26 columns):\n",
            " #   Column              Non-Null Count  Dtype         \n",
            "---  ------              --------------  -----         \n",
            " 0   No                  33832 non-null  float64       \n",
            " 1   Datetime            33832 non-null  datetime64[ns]\n",
            " 2   Control_Mode        33832 non-null  float64       \n",
            " 3   L1                  33832 non-null  float64       \n",
            " 4   L2                  33832 non-null  float64       \n",
            " 5   L3                  33832 non-null  float64       \n",
            " 6   Frequency           33832 non-null  float64       \n",
            " 7   kVA_Total           33832 non-null  float64       \n",
            " 8   kVA_L1              33832 non-null  float64       \n",
            " 9   kVA_L2              33832 non-null  float64       \n",
            " 10  kVA_L3              33832 non-null  float64       \n",
            " 11  KVAr                33832 non-null  float64       \n",
            " 12  Oil_Pressure        33832 non-null  float64       \n",
            " 13  Coolant_Temp        33832 non-null  float64       \n",
            " 14  Charger_Alternator  33832 non-null  float64       \n",
            " 15  PF_Avg              33832 non-null  float64       \n",
            " 16  PF_L1               33832 non-null  float64       \n",
            " 17  PF_L2               33832 non-null  float64       \n",
            " 18  PF_L3               33832 non-null  float64       \n",
            " 19  L1_N                33832 non-null  float64       \n",
            " 20  L2_N                33832 non-null  float64       \n",
            " 21  L3_N                33832 non-null  float64       \n",
            " 22  Source_Ext_Voltage  33832 non-null  float64       \n",
            " 23  ECU_Temp            33832 non-null  float64       \n",
            " 24  RPM                 33832 non-null  float64       \n",
            " 25  Train_code          33832 non-null  object        \n",
            "dtypes: datetime64[ns](1), float64(24), object(1)\n",
            "memory usage: 6.8+ MB\n",
            "time: 3.38 s (started: 2021-10-07 12:00:07 +00:00)\n"
          ]
        }
      ]
    },
    {
      "cell_type": "code",
      "metadata": {
        "colab": {
          "base_uri": "https://localhost:8080/",
          "height": 864
        },
        "id": "e7cYQu5WSv85",
        "outputId": "307d43cf-5490-4b5e-af64-b3b4d6f2fa47"
      },
      "source": [
        "# Feature selection\n",
        "# delete columns with condition\n",
        "df.drop(labels=unused_col, axis=1, inplace=True)\n",
        "df"
      ],
      "execution_count": null,
      "outputs": [
        {
          "output_type": "execute_result",
          "data": {
            "text/html": [
              "<div>\n",
              "<style scoped>\n",
              "    .dataframe tbody tr th:only-of-type {\n",
              "        vertical-align: middle;\n",
              "    }\n",
              "\n",
              "    .dataframe tbody tr th {\n",
              "        vertical-align: top;\n",
              "    }\n",
              "\n",
              "    .dataframe thead th {\n",
              "        text-align: right;\n",
              "    }\n",
              "</style>\n",
              "<table border=\"1\" class=\"dataframe\">\n",
              "  <thead>\n",
              "    <tr style=\"text-align: right;\">\n",
              "      <th></th>\n",
              "      <th>Datetime</th>\n",
              "      <th>Oil_Pressure</th>\n",
              "      <th>Coolant_Temp</th>\n",
              "      <th>PF_Avg</th>\n",
              "      <th>ECU_Temp</th>\n",
              "      <th>Train_code</th>\n",
              "    </tr>\n",
              "  </thead>\n",
              "  <tbody>\n",
              "    <tr>\n",
              "      <th>0</th>\n",
              "      <td>2020-01-08 02:03:00</td>\n",
              "      <td>636.0</td>\n",
              "      <td>81.0</td>\n",
              "      <td>0.83</td>\n",
              "      <td>32767.0</td>\n",
              "      <td>MP3-01605</td>\n",
              "    </tr>\n",
              "    <tr>\n",
              "      <th>1</th>\n",
              "      <td>2020-01-08 03:00:00</td>\n",
              "      <td>636.0</td>\n",
              "      <td>81.0</td>\n",
              "      <td>0.76</td>\n",
              "      <td>32767.0</td>\n",
              "      <td>MP3-01605</td>\n",
              "    </tr>\n",
              "    <tr>\n",
              "      <th>2</th>\n",
              "      <td>2020-01-08 04:00:00</td>\n",
              "      <td>632.0</td>\n",
              "      <td>82.0</td>\n",
              "      <td>0.77</td>\n",
              "      <td>32767.0</td>\n",
              "      <td>MP3-01605</td>\n",
              "    </tr>\n",
              "    <tr>\n",
              "      <th>3</th>\n",
              "      <td>2020-01-08 05:00:00</td>\n",
              "      <td>632.0</td>\n",
              "      <td>82.0</td>\n",
              "      <td>0.78</td>\n",
              "      <td>32767.0</td>\n",
              "      <td>MP3-01605</td>\n",
              "    </tr>\n",
              "    <tr>\n",
              "      <th>4</th>\n",
              "      <td>2020-01-08 06:00:00</td>\n",
              "      <td>628.0</td>\n",
              "      <td>82.0</td>\n",
              "      <td>0.78</td>\n",
              "      <td>32767.0</td>\n",
              "      <td>MP3-01605</td>\n",
              "    </tr>\n",
              "    <tr>\n",
              "      <th>...</th>\n",
              "      <td>...</td>\n",
              "      <td>...</td>\n",
              "      <td>...</td>\n",
              "      <td>...</td>\n",
              "      <td>...</td>\n",
              "      <td>...</td>\n",
              "    </tr>\n",
              "    <tr>\n",
              "      <th>34352</th>\n",
              "      <td>2020-12-31 13:00:00</td>\n",
              "      <td>600.0</td>\n",
              "      <td>83.0</td>\n",
              "      <td>0.88</td>\n",
              "      <td>32767.0</td>\n",
              "      <td>P-01914</td>\n",
              "    </tr>\n",
              "    <tr>\n",
              "      <th>34353</th>\n",
              "      <td>2020-12-31 14:00:00</td>\n",
              "      <td>604.0</td>\n",
              "      <td>82.0</td>\n",
              "      <td>0.88</td>\n",
              "      <td>32767.0</td>\n",
              "      <td>P-01914</td>\n",
              "    </tr>\n",
              "    <tr>\n",
              "      <th>34354</th>\n",
              "      <td>2020-12-31 15:00:00</td>\n",
              "      <td>604.0</td>\n",
              "      <td>81.0</td>\n",
              "      <td>0.87</td>\n",
              "      <td>32767.0</td>\n",
              "      <td>P-01914</td>\n",
              "    </tr>\n",
              "    <tr>\n",
              "      <th>34355</th>\n",
              "      <td>2020-12-31 16:00:00</td>\n",
              "      <td>0.0</td>\n",
              "      <td>0.0</td>\n",
              "      <td>0.00</td>\n",
              "      <td>0.0</td>\n",
              "      <td>P-01914</td>\n",
              "    </tr>\n",
              "    <tr>\n",
              "      <th>34356</th>\n",
              "      <td>2020-12-31 17:05:00</td>\n",
              "      <td>0.0</td>\n",
              "      <td>0.0</td>\n",
              "      <td>0.00</td>\n",
              "      <td>0.0</td>\n",
              "      <td>P-01914</td>\n",
              "    </tr>\n",
              "  </tbody>\n",
              "</table>\n",
              "<p>34357 rows × 6 columns</p>\n",
              "</div>"
            ],
            "text/plain": [
              "                 Datetime  Oil_Pressure  Coolant_Temp  PF_Avg  ECU_Temp  \\\n",
              "0     2020-01-08 02:03:00         636.0          81.0    0.83   32767.0   \n",
              "1     2020-01-08 03:00:00         636.0          81.0    0.76   32767.0   \n",
              "2     2020-01-08 04:00:00         632.0          82.0    0.77   32767.0   \n",
              "3     2020-01-08 05:00:00         632.0          82.0    0.78   32767.0   \n",
              "4     2020-01-08 06:00:00         628.0          82.0    0.78   32767.0   \n",
              "...                   ...           ...           ...     ...       ...   \n",
              "34352 2020-12-31 13:00:00         600.0          83.0    0.88   32767.0   \n",
              "34353 2020-12-31 14:00:00         604.0          82.0    0.88   32767.0   \n",
              "34354 2020-12-31 15:00:00         604.0          81.0    0.87   32767.0   \n",
              "34355 2020-12-31 16:00:00           0.0           0.0    0.00       0.0   \n",
              "34356 2020-12-31 17:05:00           0.0           0.0    0.00       0.0   \n",
              "\n",
              "      Train_code  \n",
              "0      MP3-01605  \n",
              "1      MP3-01605  \n",
              "2      MP3-01605  \n",
              "3      MP3-01605  \n",
              "4      MP3-01605  \n",
              "...          ...  \n",
              "34352    P-01914  \n",
              "34353    P-01914  \n",
              "34354    P-01914  \n",
              "34355    P-01914  \n",
              "34356    P-01914  \n",
              "\n",
              "[34357 rows x 6 columns]"
            ]
          },
          "metadata": {},
          "execution_count": 11
        },
        {
          "output_type": "stream",
          "name": "stdout",
          "text": [
            "time: 26.9 ms (started: 2021-10-07 12:00:10 +00:00)\n"
          ]
        }
      ]
    },
    {
      "cell_type": "code",
      "metadata": {
        "colab": {
          "base_uri": "https://localhost:8080/",
          "height": 334
        },
        "id": "t_stVceITCNl",
        "outputId": "b3812ce3-d553-42c1-93c9-5ad16aad6c2f"
      },
      "source": [
        "# statistical value of data\n",
        "df.describe()"
      ],
      "execution_count": null,
      "outputs": [
        {
          "output_type": "execute_result",
          "data": {
            "text/html": [
              "<div>\n",
              "<style scoped>\n",
              "    .dataframe tbody tr th:only-of-type {\n",
              "        vertical-align: middle;\n",
              "    }\n",
              "\n",
              "    .dataframe tbody tr th {\n",
              "        vertical-align: top;\n",
              "    }\n",
              "\n",
              "    .dataframe thead th {\n",
              "        text-align: right;\n",
              "    }\n",
              "</style>\n",
              "<table border=\"1\" class=\"dataframe\">\n",
              "  <thead>\n",
              "    <tr style=\"text-align: right;\">\n",
              "      <th></th>\n",
              "      <th>Oil_Pressure</th>\n",
              "      <th>Coolant_Temp</th>\n",
              "      <th>PF_Avg</th>\n",
              "      <th>ECU_Temp</th>\n",
              "    </tr>\n",
              "  </thead>\n",
              "  <tbody>\n",
              "    <tr>\n",
              "      <th>count</th>\n",
              "      <td>33832.000000</td>\n",
              "      <td>33832.000000</td>\n",
              "      <td>33832.000000</td>\n",
              "      <td>33832.000000</td>\n",
              "    </tr>\n",
              "    <tr>\n",
              "      <th>mean</th>\n",
              "      <td>1533.996364</td>\n",
              "      <td>663.118379</td>\n",
              "      <td>5.953150</td>\n",
              "      <td>6278.678647</td>\n",
              "    </tr>\n",
              "    <tr>\n",
              "      <th>std</th>\n",
              "      <td>8092.570600</td>\n",
              "      <td>4389.881127</td>\n",
              "      <td>40.234364</td>\n",
              "      <td>12862.110888</td>\n",
              "    </tr>\n",
              "    <tr>\n",
              "      <th>min</th>\n",
              "      <td>0.000000</td>\n",
              "      <td>0.000000</td>\n",
              "      <td>0.000000</td>\n",
              "      <td>0.000000</td>\n",
              "    </tr>\n",
              "    <tr>\n",
              "      <th>25%</th>\n",
              "      <td>592.000000</td>\n",
              "      <td>76.000000</td>\n",
              "      <td>0.780000</td>\n",
              "      <td>36.000000</td>\n",
              "    </tr>\n",
              "    <tr>\n",
              "      <th>50%</th>\n",
              "      <td>612.000000</td>\n",
              "      <td>81.000000</td>\n",
              "      <td>0.870000</td>\n",
              "      <td>41.000000</td>\n",
              "    </tr>\n",
              "    <tr>\n",
              "      <th>75%</th>\n",
              "      <td>624.000000</td>\n",
              "      <td>82.000000</td>\n",
              "      <td>0.890000</td>\n",
              "      <td>48.000000</td>\n",
              "    </tr>\n",
              "    <tr>\n",
              "      <th>max</th>\n",
              "      <td>65535.000000</td>\n",
              "      <td>65531.000000</td>\n",
              "      <td>327.650000</td>\n",
              "      <td>32767.000000</td>\n",
              "    </tr>\n",
              "  </tbody>\n",
              "</table>\n",
              "</div>"
            ],
            "text/plain": [
              "       Oil_Pressure  Coolant_Temp        PF_Avg      ECU_Temp\n",
              "count  33832.000000  33832.000000  33832.000000  33832.000000\n",
              "mean    1533.996364    663.118379      5.953150   6278.678647\n",
              "std     8092.570600   4389.881127     40.234364  12862.110888\n",
              "min        0.000000      0.000000      0.000000      0.000000\n",
              "25%      592.000000     76.000000      0.780000     36.000000\n",
              "50%      612.000000     81.000000      0.870000     41.000000\n",
              "75%      624.000000     82.000000      0.890000     48.000000\n",
              "max    65535.000000  65531.000000    327.650000  32767.000000"
            ]
          },
          "metadata": {},
          "execution_count": 12
        },
        {
          "output_type": "stream",
          "name": "stdout",
          "text": [
            "time: 33.8 ms (started: 2021-10-07 12:00:10 +00:00)\n"
          ]
        }
      ]
    },
    {
      "cell_type": "code",
      "metadata": {
        "colab": {
          "base_uri": "https://localhost:8080/",
          "height": 298
        },
        "id": "uWp4GYRZTEBe",
        "outputId": "a2fb4f95-bdeb-471c-c177-bdbace3d3387"
      },
      "source": [
        "# visualisasi dalam grafik\n",
        "df.hist()\n",
        "pyplot.show()"
      ],
      "execution_count": null,
      "outputs": [
        {
          "output_type": "display_data",
          "data": {
            "image/png": "[encoded data removed]",
            "text/plain": [
              "<Figure size 432x288 with 4 Axes>"
            ]
          },
          "metadata": {
            "needs_background": "light"
          }
        },
        {
          "output_type": "stream",
          "name": "stdout",
          "text": [
            "time: 632 ms (started: 2021-10-07 12:00:10 +00:00)\n"
          ]
        }
      ]
    },
    {
      "cell_type": "code",
      "metadata": {
        "colab": {
          "base_uri": "https://localhost:8080/"
        },
        "id": "jf79ACYXZ71o",
        "outputId": "b54bcc35-3c16-455e-aaf4-50231b0caba3"
      },
      "source": [
        "#amount of Outlier data\n",
        "df[(df[features] >= df.quantile(q=0.75)) | (df[features] <= df.quantile(q=0.25))].count()"
      ],
      "execution_count": null,
      "outputs": [
        {
          "output_type": "execute_result",
          "data": {
            "text/plain": [
              "Datetime            0\n",
              "Oil_Pressure    17684\n",
              "Coolant_Temp    21942\n",
              "PF_Avg          17721\n",
              "ECU_Temp        17890\n",
              "Train_code          0\n",
              "dtype: int64"
            ]
          },
          "metadata": {},
          "execution_count": 14
        },
        {
          "output_type": "stream",
          "name": "stdout",
          "text": [
            "time: 52.5 ms (started: 2021-10-07 12:00:11 +00:00)\n"
          ]
        }
      ]
    },
    {
      "cell_type": "markdown",
      "metadata": {
        "id": "ldoiYBHmr7jH"
      },
      "source": [
        "## Data Processing"
      ]
    },
    {
      "cell_type": "markdown",
      "metadata": {
        "id": "ZY4US_yxgssB"
      },
      "source": [
        "### Label data for Classification"
      ]
    },
    {
      "cell_type": "code",
      "metadata": {
        "colab": {
          "base_uri": "https://localhost:8080/"
        },
        "id": "OLLGzjvSgvJO",
        "outputId": "d640d1cb-fc73-450b-df6f-87beb4e8fb48"
      },
      "source": [
        "#Print quantile value for label threshold\n",
        "\n",
        "print('Threshold values (40%, 60%) :')\n",
        "print('Oil_Pressure  = ', [oil_threshold_40, oil_threshold_60])\n",
        "print('Coolant_Temp  = ', [coolant_threshold_40, coolant_threshold_60])\n",
        "print('PF_Avg        = ', [pf_threshold_40, pf_threshold_60])\n",
        "print('ECU_Temp      = ', [ecu_threshold_40, ecu_threshold_60])\n",
        "print('')\n",
        "print('Threshold values (25%, 75%) :')\n",
        "print('Oil_Pressure  = ', [oil_threshold_25, oil_threshold_75])\n",
        "print('Coolant_Temp  = ', [coolant_threshold_25, coolant_threshold_75])\n",
        "print('PF_Avg        = ', [pf_threshold_25, pf_threshold_75])\n",
        "print('ECU_Temp      = ', [ecu_threshold_25, ecu_threshold_75])"
      ],
      "execution_count": null,
      "outputs": [
        {
          "output_type": "stream",
          "name": "stdout",
          "text": [
            "Threshold values (40%, 60%) :\n",
            "Oil_Pressure  =  [608.0, 616.0]\n",
            "Coolant_Temp  =  [79.0, 81.0]\n",
            "PF_Avg        =  [0.8500000000000001, 0.8700000000000001]\n",
            "ECU_Temp      =  [39.0, 43.0]\n",
            "\n",
            "Threshold values (25%, 75%) :\n",
            "Oil_Pressure  =  [592.0, 624.0]\n",
            "Coolant_Temp  =  [76.0, 82.0]\n",
            "PF_Avg        =  [0.78, 0.89]\n",
            "ECU_Temp      =  [36.0, 48.0]\n",
            "time: 8.64 ms (started: 2021-10-07 12:00:11 +00:00)\n"
          ]
        }
      ]
    },
    {
      "cell_type": "code",
      "metadata": {
        "colab": {
          "base_uri": "https://localhost:8080/"
        },
        "id": "_jCu-_Llg6Av",
        "outputId": "161a6b65-18d5-4ad5-8edc-3ea4d8baf36a"
      },
      "source": [
        "#Stat_Outlier = value <= 25% or value >= 75%\n",
        "Outlier_Oil = (df['Oil_Pressure'] <= oil_threshold_25) | (df['Oil_Pressure'] >= oil_threshold_75)\n",
        "Outlier_Coolant =(df['Coolant_Temp'] <= coolant_threshold_25) | (df['Coolant_Temp'] >= coolant_threshold_75) \n",
        "Outlier_ECU = (df['ECU_Temp'] <= ecu_threshold_25) | (df['ECU_Temp'] >= ecu_threshold_75) \n",
        "Outlier_PFA = (df['PF_Avg'] <= pf_threshold_25) | (df['PF_Avg'] >= pf_threshold_75)\n",
        "\n",
        "#All parameter have Stat_Outlier condition TRUE then it is labelled as Outlier\n",
        "df_Outlier = df[Outlier_Oil & Outlier_Coolant & Outlier_ECU & Outlier_PFA]\n",
        "df_Outlier.insert(5, 'Label', 'Outlier', True)\n",
        "print('Outlier data')\n",
        "print(df_Outlier.head(5))\n",
        "print('Outlier data size : ', df_Outlier.shape)\n",
        "print(' ')"
      ],
      "execution_count": null,
      "outputs": [
        {
          "output_type": "stream",
          "name": "stdout",
          "text": [
            "Outlier data\n",
            "              Datetime  Oil_Pressure  Coolant_Temp  PF_Avg  ECU_Temp    Label  \\\n",
            "2  2020-01-08 04:00:00         632.0          82.0    0.77   32767.0  Outlier   \n",
            "3  2020-01-08 05:00:00         632.0          82.0    0.78   32767.0  Outlier   \n",
            "4  2020-01-08 06:00:00         628.0          82.0    0.78   32767.0  Outlier   \n",
            "23 2020-01-09 08:00:00           0.0           0.0    0.00       0.0  Outlier   \n",
            "39 2020-01-12 00:00:00           0.0           0.0    0.00       0.0  Outlier   \n",
            "\n",
            "   Train_code  \n",
            "2   MP3-01605  \n",
            "3   MP3-01605  \n",
            "4   MP3-01605  \n",
            "23  MP3-01605  \n",
            "39  MP3-01605  \n",
            "Outlier data size :  (7569, 7)\n",
            " \n",
            "time: 33.5 ms (started: 2021-10-07 12:00:11 +00:00)\n"
          ]
        }
      ]
    },
    {
      "cell_type": "code",
      "metadata": {
        "colab": {
          "base_uri": "https://localhost:8080/"
        },
        "id": "r--JGEZohCiL",
        "outputId": "04563853-792c-424c-920e-17dbdf8863b3"
      },
      "source": [
        "#Stat_Normal = 40% <= value <= 60%\n",
        "Normal_Oil = df['Oil_Pressure'].between(oil_threshold_40, oil_threshold_60) \n",
        "Normal_Coolant = df['Coolant_Temp'].between(coolant_threshold_40, coolant_threshold_60)\n",
        "Normal_ECU = df['ECU_Temp'].between(ecu_threshold_40, ecu_threshold_60) \n",
        "Normal_PFA = df['PF_Avg'].between(pf_threshold_40, pf_threshold_60)\n",
        "\n",
        "#When any parameter have all Stat_Normal condition TRUE then it is labelled as Normal\n",
        "df_Normal = df[Normal_Oil & Normal_Coolant & Normal_ECU & Normal_PFA]\n",
        "df_Normal.insert(5, 'Label', 'Normal', True)\n",
        "print('Normal data')\n",
        "print(df_Normal.head(5))\n",
        "print('Normal data size : ', df_Normal.shape)\n",
        "print(' ')"
      ],
      "execution_count": null,
      "outputs": [
        {
          "output_type": "stream",
          "name": "stdout",
          "text": [
            "Normal data\n",
            "                Datetime  Oil_Pressure  Coolant_Temp  PF_Avg  ECU_Temp  \\\n",
            "5339 2020-04-12 20:00:00         616.0          81.0    0.87      42.0   \n",
            "5645 2020-07-09 01:00:00         616.0          81.0    0.87      39.0   \n",
            "5822 2021-08-02 01:00:00         616.0          81.0    0.86      41.0   \n",
            "5913 2020-09-10 00:00:00         616.0          81.0    0.87      39.0   \n",
            "6109 2021-10-02 23:00:00         616.0          81.0    0.87      39.0   \n",
            "\n",
            "       Label Train_code  \n",
            "5339  Normal    P-01808  \n",
            "5645  Normal    P-01808  \n",
            "5822  Normal    P-01808  \n",
            "5913  Normal    P-01808  \n",
            "6109  Normal    P-01808  \n",
            "Normal data size :  (372, 7)\n",
            " \n",
            "time: 26.3 ms (started: 2021-10-07 12:00:11 +00:00)\n"
          ]
        }
      ]
    },
    {
      "cell_type": "code",
      "metadata": {
        "colab": {
          "base_uri": "https://localhost:8080/"
        },
        "id": "eRUkVb2XhFiH",
        "outputId": "8fce02dc-a68f-4015-a5d5-159ae0584e4f"
      },
      "source": [
        "#Stat_Maintenance = 25% < value < 40% or 60% < value < 75%\n",
        "Maintenance_Oil = (df['Oil_Pressure'].between(oil_threshold_25, oil_threshold_40, inclusive=False)) | (df['Oil_Pressure'].between(oil_threshold_60, oil_threshold_75, inclusive=False))\n",
        "Maintenance_Coolant = (df['Coolant_Temp'].between(coolant_threshold_25, coolant_threshold_40, inclusive=False)) | (df['Coolant_Temp'].between(coolant_threshold_60, coolant_threshold_75, inclusive=False)) \n",
        "Maintenance_ECU = (df['ECU_Temp'].between(ecu_threshold_25, ecu_threshold_40, inclusive=False)) | (df['ECU_Temp'].between(ecu_threshold_60, ecu_threshold_75, inclusive=False))\n",
        "Maintenance_PFA = (df['PF_Avg'].between(pf_threshold_25, pf_threshold_40, inclusive=False)) | (df['PF_Avg'].between(pf_threshold_60, pf_threshold_75, inclusive=False))\n",
        "\n",
        "#When any feature have Stat_Maintenance condition TRUE then it is labelled as Maintenance\n",
        "df_Maintenance = df[Maintenance_Oil & Maintenance_Coolant & Maintenance_ECU & Maintenance_PFA]\n",
        "df_Maintenance.insert(5, 'Label', 'Maintenance', True)\n",
        "print('Maintenance data')\n",
        "print(df_Maintenance.head(5))\n",
        "print('Maintenance data size : ', df_Maintenance.shape)\n",
        "print(' ')"
      ],
      "execution_count": null,
      "outputs": [
        {
          "output_type": "stream",
          "name": "stdout",
          "text": [
            "Maintenance data\n",
            "                 Datetime  Oil_Pressure  Coolant_Temp  PF_Avg  ECU_Temp  \\\n",
            "12889 2020-01-10 22:00:00         620.0          78.0    0.79      44.0   \n",
            "13010 2020-03-10 18:00:00         604.0          78.0    0.81      46.0   \n",
            "13011 2020-03-10 19:00:00         604.0          78.0    0.80      44.0   \n",
            "13287 2020-04-16 10:00:00         620.0          77.0    0.79      38.0   \n",
            "13309 2020-03-18 20:00:00         600.0          77.0    0.88      38.0   \n",
            "\n",
            "             Label Train_code  \n",
            "12889  Maintenance    P-01812  \n",
            "13010  Maintenance    P-01812  \n",
            "13011  Maintenance    P-01812  \n",
            "13287  Maintenance    P-01812  \n",
            "13309  Maintenance    P-01812  \n",
            "Maintenance data size :  (56, 7)\n",
            " \n",
            "time: 35.7 ms (started: 2021-10-07 12:00:11 +00:00)\n"
          ]
        }
      ]
    },
    {
      "cell_type": "code",
      "metadata": {
        "colab": {
          "base_uri": "https://localhost:8080/"
        },
        "id": "Mg1k7ujyhIPT",
        "outputId": "c5153103-85e4-42e8-f410-5a2dc945220b"
      },
      "source": [
        "#Separate unlabelled data then export\n",
        "df_Unlabelled = pd.concat([df, df_Outlier, df_Outlier,\n",
        "                           df_Normal, df_Normal, \n",
        "                           df_Maintenance, df_Maintenance]).drop_duplicates(keep=False)\n",
        "df_Unlabelled.drop('Label',axis=1, inplace=True)\n",
        "print('Unlabelled data')\n",
        "print(df_Unlabelled.head(5))\n",
        "print('Unlabelled data size : ', df_Unlabelled.shape)\n",
        "df_Unlabelled.to_csv(process_dir+'unlabelled.csv')"
      ],
      "execution_count": null,
      "outputs": [
        {
          "output_type": "stream",
          "name": "stdout",
          "text": [
            "Unlabelled data\n",
            "             Datetime  Oil_Pressure  Coolant_Temp  PF_Avg  ECU_Temp Train_code\n",
            "0 2020-01-08 02:03:00         636.0          81.0    0.83   32767.0  MP3-01605\n",
            "1 2020-01-08 03:00:00         636.0          81.0    0.76   32767.0  MP3-01605\n",
            "2 2020-01-08 04:00:00         632.0          82.0    0.77   32767.0  MP3-01605\n",
            "3 2020-01-08 05:00:00         632.0          82.0    0.78   32767.0  MP3-01605\n",
            "4 2020-01-08 06:00:00         628.0          82.0    0.78   32767.0  MP3-01605\n",
            "Unlabelled data size :  (33832, 6)\n",
            "time: 311 ms (started: 2021-10-07 12:00:11 +00:00)\n"
          ]
        }
      ]
    },
    {
      "cell_type": "code",
      "metadata": {
        "colab": {
          "base_uri": "https://localhost:8080/",
          "height": 1000
        },
        "id": "Tkh_7_KSRlP8",
        "outputId": "8c23be17-b6ae-4c21-af3b-e365f2c9d5f2"
      },
      "source": [
        "#Training dataset 1 summary (include outlier)\n",
        "\n",
        "#merge labelled data into training dataset\n",
        "combine = pd.merge(df_Maintenance, df_Outlier, how = 'outer')\n",
        "labeled_dataset1 = pd.merge(combine, df_Normal, how = 'outer')\n",
        "print(labeled_dataset1)\n",
        "\n",
        "#Visualize data\n",
        "print('Training dataset size with outlier : ', labeled_dataset1.shape)\n",
        "# class distribution\n",
        "print(labeled_dataset1.groupby('Label').size())\n",
        "print(' ')\n",
        "# statistical value of data\n",
        "print(labeled_dataset1.describe(percentiles=[.25, .4, .5, .6, .75]))\n",
        "# box and whisker plots\n",
        "labeled_dataset1.plot(kind='box', subplots=True, layout=(2,3), sharex=False, sharey=False)\n",
        "pyplot.show()\n",
        "# histograms\n",
        "labeled_dataset1.hist()\n",
        "pyplot.show()\n",
        "#export df to csv\n",
        "labeled_dataset1.to_csv(process_dir+'labeled_dataset1.csv')"
      ],
      "execution_count": null,
      "outputs": [
        {
          "output_type": "stream",
          "name": "stdout",
          "text": [
            "                Datetime  Oil_Pressure  Coolant_Temp  PF_Avg  ECU_Temp  \\\n",
            "0    2020-01-10 22:00:00         620.0          78.0    0.79      44.0   \n",
            "1    2020-03-10 18:00:00         604.0          78.0    0.81      46.0   \n",
            "2    2020-03-10 19:00:00         604.0          78.0    0.80      44.0   \n",
            "3    2020-04-16 10:00:00         620.0          77.0    0.79      38.0   \n",
            "4    2020-03-18 20:00:00         600.0          77.0    0.88      38.0   \n",
            "...                  ...           ...           ...     ...       ...   \n",
            "7992 2020-08-25 22:00:00         608.0          80.0    0.87      41.0   \n",
            "7993 2020-07-26 04:00:00         608.0          80.0    0.86      39.0   \n",
            "7994 2020-08-26 03:00:00         608.0          80.0    0.86      40.0   \n",
            "7995 2020-08-28 04:00:00         608.0          79.0    0.87      39.0   \n",
            "7996 2020-07-31 21:00:00         608.0          81.0    0.87      39.0   \n",
            "\n",
            "            Label Train_code  \n",
            "0     Maintenance    P-01812  \n",
            "1     Maintenance    P-01812  \n",
            "2     Maintenance    P-01812  \n",
            "3     Maintenance    P-01812  \n",
            "4     Maintenance    P-01812  \n",
            "...           ...        ...  \n",
            "7992       Normal    P-01914  \n",
            "7993       Normal    P-01914  \n",
            "7994       Normal    P-01914  \n",
            "7995       Normal    P-01914  \n",
            "7996       Normal    P-01914  \n",
            "\n",
            "[7997 rows x 7 columns]\n",
            "Training dataset size with outlier :  (7997, 7)\n",
            "Label\n",
            "Maintenance      56\n",
            "Normal          372\n",
            "Outlier        7569\n",
            "dtype: int64\n",
            " \n",
            "       Oil_Pressure  Coolant_Temp       PF_Avg      ECU_Temp\n",
            "count   7997.000000   7997.000000  7997.000000   7997.000000\n",
            "mean    1792.683006    905.487808    13.071426   5902.727648\n",
            "std    10081.670250   5346.514983    62.719280  12584.697968\n",
            "min        0.000000      0.000000     0.000000      0.000000\n",
            "25%        0.000000      0.000000     0.000000      0.000000\n",
            "40%        0.000000      0.000000     0.000000      0.000000\n",
            "50%        0.000000      0.000000     0.000000      0.000000\n",
            "60%        0.000000      0.000000     0.000000      0.000000\n",
            "75%      592.000000     75.000000     0.770000     37.000000\n",
            "max    65535.000000  65531.000000   327.650000  32767.000000\n"
          ]
        },
        {
          "output_type": "display_data",
          "data": {
            "image/png": "[encoded data removed]",
            "text/plain": [
              "<Figure size 432x288 with 6 Axes>"
            ]
          },
          "metadata": {
            "needs_background": "light"
          }
        },
        {
          "output_type": "display_data",
          "data": {
            "image/png": "[encoded data removed]",
            "text/plain": [
              "<Figure size 432x288 with 4 Axes>"
            ]
          },
          "metadata": {
            "needs_background": "light"
          }
        },
        {
          "output_type": "stream",
          "name": "stdout",
          "text": [
            "time: 1.2 s (started: 2021-10-07 12:00:11 +00:00)\n"
          ]
        }
      ]
    },
    {
      "cell_type": "code",
      "metadata": {
        "colab": {
          "base_uri": "https://localhost:8080/",
          "height": 1000
        },
        "id": "2l5wLXsTR_9y",
        "outputId": "0968ca36-d308-42fd-a7d7-3836fc476aab"
      },
      "source": [
        "#Training dataset 2 Summary (exclude outlier)\n",
        "\n",
        "# merge labelled data into training dataset\n",
        "labeled_dataset2 = pd.merge(df_Maintenance, df_Normal, how = 'outer')\n",
        "print(labeled_dataset2)\n",
        "\n",
        "#Visualize data\n",
        "print('Training dataset size excluding outlier : ', labeled_dataset2.shape)\n",
        "# class distribution\n",
        "print(labeled_dataset2.groupby('Label').size())\n",
        "print(' ')\n",
        "# statistical value of data\n",
        "print(labeled_dataset2.describe(percentiles=[.25, .4, .5, .6, .75]))\n",
        "# box and whisker plots\n",
        "labeled_dataset2.plot(kind='box', subplots=True, layout=(2,3), sharex=False, sharey=False)\n",
        "pyplot.show()\n",
        "# histograms\n",
        "labeled_dataset2.hist()\n",
        "pyplot.show()\n",
        "#export df to csv\n",
        "labeled_dataset2.to_csv(process_dir+'labeled_dataset2.csv')"
      ],
      "execution_count": null,
      "outputs": [
        {
          "output_type": "stream",
          "name": "stdout",
          "text": [
            "               Datetime  Oil_Pressure  Coolant_Temp  PF_Avg  ECU_Temp  \\\n",
            "0   2020-01-10 22:00:00         620.0          78.0    0.79      44.0   \n",
            "1   2020-03-10 18:00:00         604.0          78.0    0.81      46.0   \n",
            "2   2020-03-10 19:00:00         604.0          78.0    0.80      44.0   \n",
            "3   2020-04-16 10:00:00         620.0          77.0    0.79      38.0   \n",
            "4   2020-03-18 20:00:00         600.0          77.0    0.88      38.0   \n",
            "..                  ...           ...           ...     ...       ...   \n",
            "423 2020-08-25 22:00:00         608.0          80.0    0.87      41.0   \n",
            "424 2020-07-26 04:00:00         608.0          80.0    0.86      39.0   \n",
            "425 2020-08-26 03:00:00         608.0          80.0    0.86      40.0   \n",
            "426 2020-08-28 04:00:00         608.0          79.0    0.87      39.0   \n",
            "427 2020-07-31 21:00:00         608.0          81.0    0.87      39.0   \n",
            "\n",
            "           Label Train_code  \n",
            "0    Maintenance    P-01812  \n",
            "1    Maintenance    P-01812  \n",
            "2    Maintenance    P-01812  \n",
            "3    Maintenance    P-01812  \n",
            "4    Maintenance    P-01812  \n",
            "..           ...        ...  \n",
            "423       Normal    P-01914  \n",
            "424       Normal    P-01914  \n",
            "425       Normal    P-01914  \n",
            "426       Normal    P-01914  \n",
            "427       Normal    P-01914  \n",
            "\n",
            "[428 rows x 7 columns]\n",
            "Training dataset size excluding outlier :  (428, 7)\n",
            "Label\n",
            "Maintenance     56\n",
            "Normal         372\n",
            "dtype: int64\n",
            " \n",
            "       Oil_Pressure  Coolant_Temp      PF_Avg    ECU_Temp\n",
            "count    428.000000    428.000000  428.000000  428.000000\n",
            "mean     613.598131     80.105140    0.861916   41.193925\n",
            "std        4.054338      1.135203    0.014617    1.980528\n",
            "min      600.000000     77.000000    0.790000   37.000000\n",
            "25%      612.000000     80.000000    0.860000   40.000000\n",
            "40%      612.000000     80.000000    0.860000   41.000000\n",
            "50%      616.000000     81.000000    0.865000   41.000000\n",
            "60%      616.000000     81.000000    0.870000   42.000000\n",
            "75%      616.000000     81.000000    0.870000   42.000000\n",
            "max      620.000000     81.000000    0.880000   47.000000\n"
          ]
        },
        {
          "output_type": "display_data",
          "data": {
            "image/png": "[encoded data removed]",
            "text/plain": [
              "<Figure size 432x288 with 6 Axes>"
            ]
          },
          "metadata": {
            "needs_background": "light"
          }
        },
        {
          "output_type": "display_data",
          "data": {
            "image/png": "[encoded data removed]",
            "text/plain": [
              "<Figure size 432x288 with 4 Axes>"
            ]
          },
          "metadata": {
            "needs_background": "light"
          }
        },
        {
          "output_type": "stream",
          "name": "stdout",
          "text": [
            "time: 1.04 s (started: 2021-10-07 12:00:13 +00:00)\n"
          ]
        }
      ]
    },
    {
      "cell_type": "markdown",
      "metadata": {
        "id": "tovqaxuKsIO_"
      },
      "source": [
        "### Filtered data for Regression"
      ]
    },
    {
      "cell_type": "code",
      "metadata": {
        "colab": {
          "base_uri": "https://localhost:8080/"
        },
        "id": "09jQ-XOshWSm",
        "outputId": "f8c5a5e3-e078-4219-a92d-04091295e4a3"
      },
      "source": [
        "# Pre-processing\n",
        "print('Total data size : ', df.shape)\n",
        "df.drop_duplicates()\n",
        "print('Removed duplicates data size : ', df.shape)"
      ],
      "execution_count": null,
      "outputs": [
        {
          "output_type": "stream",
          "name": "stdout",
          "text": [
            "Total data size :  (34357, 6)\n",
            "Removed duplicates data size :  (34357, 6)\n",
            "time: 20.2 ms (started: 2021-10-07 12:00:14 +00:00)\n"
          ]
        }
      ]
    },
    {
      "cell_type": "code",
      "metadata": {
        "colab": {
          "base_uri": "https://localhost:8080/",
          "height": 436
        },
        "id": "6J9rKbvBsP5D",
        "outputId": "0695d339-5487-44ca-f454-2de84bb930f2"
      },
      "source": [
        "#Filter Outlier data from each feature\n",
        "Filtered_Oil = df['Oil_Pressure'].between(oil_threshold_25, oil_threshold_75) \n",
        "Filtered_Coolant = df['Coolant_Temp'].between(coolant_threshold_25, coolant_threshold_75)\n",
        "Filtered_ECU = df['ECU_Temp'].between(ecu_threshold_25, ecu_threshold_75) \n",
        "Filtered_PFA = df['PF_Avg'].between(pf_threshold_25, pf_threshold_75)\n",
        "\n",
        "df_Filtered = df[Filtered_Coolant & Filtered_ECU & Filtered_Oil & Filtered_PFA]\n",
        "df_Filtered"
      ],
      "execution_count": null,
      "outputs": [
        {
          "output_type": "execute_result",
          "data": {
            "text/html": [
              "<div>\n",
              "<style scoped>\n",
              "    .dataframe tbody tr th:only-of-type {\n",
              "        vertical-align: middle;\n",
              "    }\n",
              "\n",
              "    .dataframe tbody tr th {\n",
              "        vertical-align: top;\n",
              "    }\n",
              "\n",
              "    .dataframe thead th {\n",
              "        text-align: right;\n",
              "    }\n",
              "</style>\n",
              "<table border=\"1\" class=\"dataframe\">\n",
              "  <thead>\n",
              "    <tr style=\"text-align: right;\">\n",
              "      <th></th>\n",
              "      <th>Datetime</th>\n",
              "      <th>Oil_Pressure</th>\n",
              "      <th>Coolant_Temp</th>\n",
              "      <th>PF_Avg</th>\n",
              "      <th>ECU_Temp</th>\n",
              "      <th>Train_code</th>\n",
              "    </tr>\n",
              "  </thead>\n",
              "  <tbody>\n",
              "    <tr>\n",
              "      <th>2935</th>\n",
              "      <td>2020-01-04 06:00:00</td>\n",
              "      <td>624.0</td>\n",
              "      <td>82.0</td>\n",
              "      <td>0.89</td>\n",
              "      <td>40.0</td>\n",
              "      <td>P-01801</td>\n",
              "    </tr>\n",
              "    <tr>\n",
              "      <th>2936</th>\n",
              "      <td>2020-01-04 07:00:00</td>\n",
              "      <td>620.0</td>\n",
              "      <td>82.0</td>\n",
              "      <td>0.89</td>\n",
              "      <td>43.0</td>\n",
              "      <td>P-01801</td>\n",
              "    </tr>\n",
              "    <tr>\n",
              "      <th>2940</th>\n",
              "      <td>2020-01-04 11:00:00</td>\n",
              "      <td>624.0</td>\n",
              "      <td>82.0</td>\n",
              "      <td>0.88</td>\n",
              "      <td>48.0</td>\n",
              "      <td>P-01801</td>\n",
              "    </tr>\n",
              "    <tr>\n",
              "      <th>2942</th>\n",
              "      <td>2020-01-04 13:14:00</td>\n",
              "      <td>624.0</td>\n",
              "      <td>82.0</td>\n",
              "      <td>0.87</td>\n",
              "      <td>46.0</td>\n",
              "      <td>P-01801</td>\n",
              "    </tr>\n",
              "    <tr>\n",
              "      <th>3021</th>\n",
              "      <td>2020-02-04 08:00:00</td>\n",
              "      <td>616.0</td>\n",
              "      <td>82.0</td>\n",
              "      <td>0.88</td>\n",
              "      <td>46.0</td>\n",
              "      <td>P-01801</td>\n",
              "    </tr>\n",
              "    <tr>\n",
              "      <th>...</th>\n",
              "      <td>...</td>\n",
              "      <td>...</td>\n",
              "      <td>...</td>\n",
              "      <td>...</td>\n",
              "      <td>...</td>\n",
              "      <td>...</td>\n",
              "    </tr>\n",
              "    <tr>\n",
              "      <th>34333</th>\n",
              "      <td>2020-07-31 19:00:00</td>\n",
              "      <td>604.0</td>\n",
              "      <td>81.0</td>\n",
              "      <td>0.85</td>\n",
              "      <td>40.0</td>\n",
              "      <td>P-01914</td>\n",
              "    </tr>\n",
              "    <tr>\n",
              "      <th>34334</th>\n",
              "      <td>2020-07-31 20:00:00</td>\n",
              "      <td>604.0</td>\n",
              "      <td>81.0</td>\n",
              "      <td>0.87</td>\n",
              "      <td>40.0</td>\n",
              "      <td>P-01914</td>\n",
              "    </tr>\n",
              "    <tr>\n",
              "      <th>34335</th>\n",
              "      <td>2020-07-31 21:00:00</td>\n",
              "      <td>608.0</td>\n",
              "      <td>81.0</td>\n",
              "      <td>0.87</td>\n",
              "      <td>39.0</td>\n",
              "      <td>P-01914</td>\n",
              "    </tr>\n",
              "    <tr>\n",
              "      <th>34336</th>\n",
              "      <td>2020-07-31 22:00:00</td>\n",
              "      <td>604.0</td>\n",
              "      <td>81.0</td>\n",
              "      <td>0.86</td>\n",
              "      <td>37.0</td>\n",
              "      <td>P-01914</td>\n",
              "    </tr>\n",
              "    <tr>\n",
              "      <th>34337</th>\n",
              "      <td>2020-07-31 23:00:00</td>\n",
              "      <td>608.0</td>\n",
              "      <td>81.0</td>\n",
              "      <td>0.86</td>\n",
              "      <td>36.0</td>\n",
              "      <td>P-01914</td>\n",
              "    </tr>\n",
              "  </tbody>\n",
              "</table>\n",
              "<p>7589 rows × 6 columns</p>\n",
              "</div>"
            ],
            "text/plain": [
              "                 Datetime  Oil_Pressure  Coolant_Temp  PF_Avg  ECU_Temp  \\\n",
              "2935  2020-01-04 06:00:00         624.0          82.0    0.89      40.0   \n",
              "2936  2020-01-04 07:00:00         620.0          82.0    0.89      43.0   \n",
              "2940  2020-01-04 11:00:00         624.0          82.0    0.88      48.0   \n",
              "2942  2020-01-04 13:14:00         624.0          82.0    0.87      46.0   \n",
              "3021  2020-02-04 08:00:00         616.0          82.0    0.88      46.0   \n",
              "...                   ...           ...           ...     ...       ...   \n",
              "34333 2020-07-31 19:00:00         604.0          81.0    0.85      40.0   \n",
              "34334 2020-07-31 20:00:00         604.0          81.0    0.87      40.0   \n",
              "34335 2020-07-31 21:00:00         608.0          81.0    0.87      39.0   \n",
              "34336 2020-07-31 22:00:00         604.0          81.0    0.86      37.0   \n",
              "34337 2020-07-31 23:00:00         608.0          81.0    0.86      36.0   \n",
              "\n",
              "      Train_code  \n",
              "2935     P-01801  \n",
              "2936     P-01801  \n",
              "2940     P-01801  \n",
              "2942     P-01801  \n",
              "3021     P-01801  \n",
              "...          ...  \n",
              "34333    P-01914  \n",
              "34334    P-01914  \n",
              "34335    P-01914  \n",
              "34336    P-01914  \n",
              "34337    P-01914  \n",
              "\n",
              "[7589 rows x 6 columns]"
            ]
          },
          "metadata": {},
          "execution_count": 23
        },
        {
          "output_type": "stream",
          "name": "stdout",
          "text": [
            "time: 28.8 ms (started: 2021-10-07 12:00:14 +00:00)\n"
          ]
        }
      ]
    },
    {
      "cell_type": "code",
      "metadata": {
        "colab": {
          "base_uri": "https://localhost:8080/",
          "height": 298
        },
        "id": "RSs35K13wQin",
        "outputId": "2e492403-2b84-49a9-ef23-3fe744a4a6c2"
      },
      "source": [
        "# visualisasi dalam grafik\n",
        "df_Filtered.hist()\n",
        "pyplot.show()"
      ],
      "execution_count": null,
      "outputs": [
        {
          "output_type": "display_data",
          "data": {
            "image/png": "[encoded data removed]",
            "text/plain": [
              "<Figure size 432x288 with 4 Axes>"
            ]
          },
          "metadata": {
            "needs_background": "light"
          }
        },
        {
          "output_type": "stream",
          "name": "stdout",
          "text": [
            "time: 556 ms (started: 2021-10-07 12:00:14 +00:00)\n"
          ]
        }
      ]
    },
    {
      "cell_type": "code",
      "metadata": {
        "colab": {
          "base_uri": "https://localhost:8080/",
          "height": 238
        },
        "id": "X3M6bUr_O61r",
        "outputId": "8b9afce4-27a7-4146-9821-84d1d7163a04"
      },
      "source": [
        "# Create dataframe ONLY for Maintenance condition\n",
        "#Stat_Maintenance = 25% < value < 40% or 60% < value < 75%\n",
        "Maintenance_Oil = (df_Filtered['Oil_Pressure'].between(oil_threshold_25, oil_threshold_40, inclusive=False)) | (df_Filtered['Oil_Pressure'].between(oil_threshold_60, oil_threshold_75, inclusive=False))\n",
        "Maintenance_Coolant = (df_Filtered['Coolant_Temp'].between(coolant_threshold_25, coolant_threshold_40, inclusive=False)) | (df_Filtered['Coolant_Temp'].between(coolant_threshold_60, coolant_threshold_75, inclusive=False)) \n",
        "Maintenance_ECU = (df_Filtered['ECU_Temp'].between(ecu_threshold_25, ecu_threshold_40, inclusive=False)) | (df_Filtered['ECU_Temp'].between(ecu_threshold_60, ecu_threshold_75, inclusive=False))\n",
        "Maintenance_PFA = (df_Filtered['PF_Avg'].between(pf_threshold_25, pf_threshold_40, inclusive=False)) | (df_Filtered['PF_Avg'].between(pf_threshold_60, pf_threshold_75, inclusive=False))\n",
        "\n",
        "#When parameter have Stat_Maintenance condition TRUE then it is labelled as Maintenance\n",
        "df_Maintenance = df_Filtered[Maintenance_Oil | Maintenance_Coolant | Maintenance_ECU | Maintenance_PFA] # OR condition (choose one only)\n",
        "#df_Maintenance = df_Filtered[Maintenance_Oil & Maintenance_Coolant & Maintenance_ECU & Maintenance_PFA] # AND condition (choose one only)\n",
        "\n",
        "df_Maintenance.insert(5, 'Label', 'Maintenance', True)\n",
        "df_Maintenance = df_Maintenance.drop_duplicates(subset='Datetime')\n",
        "print('Maintenance data size : ', df_Maintenance.shape)\n",
        "df_Maintenance.head(5)"
      ],
      "execution_count": null,
      "outputs": [
        {
          "output_type": "stream",
          "name": "stdout",
          "text": [
            "Maintenance data size :  (4292, 7)\n"
          ]
        },
        {
          "output_type": "execute_result",
          "data": {
            "text/html": [
              "<div>\n",
              "<style scoped>\n",
              "    .dataframe tbody tr th:only-of-type {\n",
              "        vertical-align: middle;\n",
              "    }\n",
              "\n",
              "    .dataframe tbody tr th {\n",
              "        vertical-align: top;\n",
              "    }\n",
              "\n",
              "    .dataframe thead th {\n",
              "        text-align: right;\n",
              "    }\n",
              "</style>\n",
              "<table border=\"1\" class=\"dataframe\">\n",
              "  <thead>\n",
              "    <tr style=\"text-align: right;\">\n",
              "      <th></th>\n",
              "      <th>Datetime</th>\n",
              "      <th>Oil_Pressure</th>\n",
              "      <th>Coolant_Temp</th>\n",
              "      <th>PF_Avg</th>\n",
              "      <th>ECU_Temp</th>\n",
              "      <th>Label</th>\n",
              "      <th>Train_code</th>\n",
              "    </tr>\n",
              "  </thead>\n",
              "  <tbody>\n",
              "    <tr>\n",
              "      <th>2936</th>\n",
              "      <td>2020-01-04 07:00:00</td>\n",
              "      <td>620.0</td>\n",
              "      <td>82.0</td>\n",
              "      <td>0.89</td>\n",
              "      <td>43.0</td>\n",
              "      <td>Maintenance</td>\n",
              "      <td>P-01801</td>\n",
              "    </tr>\n",
              "    <tr>\n",
              "      <th>2940</th>\n",
              "      <td>2020-01-04 11:00:00</td>\n",
              "      <td>624.0</td>\n",
              "      <td>82.0</td>\n",
              "      <td>0.88</td>\n",
              "      <td>48.0</td>\n",
              "      <td>Maintenance</td>\n",
              "      <td>P-01801</td>\n",
              "    </tr>\n",
              "    <tr>\n",
              "      <th>2942</th>\n",
              "      <td>2020-01-04 13:14:00</td>\n",
              "      <td>624.0</td>\n",
              "      <td>82.0</td>\n",
              "      <td>0.87</td>\n",
              "      <td>46.0</td>\n",
              "      <td>Maintenance</td>\n",
              "      <td>P-01801</td>\n",
              "    </tr>\n",
              "    <tr>\n",
              "      <th>3021</th>\n",
              "      <td>2020-02-04 08:00:00</td>\n",
              "      <td>616.0</td>\n",
              "      <td>82.0</td>\n",
              "      <td>0.88</td>\n",
              "      <td>46.0</td>\n",
              "      <td>Maintenance</td>\n",
              "      <td>P-01801</td>\n",
              "    </tr>\n",
              "    <tr>\n",
              "      <th>3089</th>\n",
              "      <td>2020-03-04 10:00:00</td>\n",
              "      <td>620.0</td>\n",
              "      <td>82.0</td>\n",
              "      <td>0.89</td>\n",
              "      <td>48.0</td>\n",
              "      <td>Maintenance</td>\n",
              "      <td>P-01801</td>\n",
              "    </tr>\n",
              "  </tbody>\n",
              "</table>\n",
              "</div>"
            ],
            "text/plain": [
              "                Datetime  Oil_Pressure  Coolant_Temp  PF_Avg  ECU_Temp  \\\n",
              "2936 2020-01-04 07:00:00         620.0          82.0    0.89      43.0   \n",
              "2940 2020-01-04 11:00:00         624.0          82.0    0.88      48.0   \n",
              "2942 2020-01-04 13:14:00         624.0          82.0    0.87      46.0   \n",
              "3021 2020-02-04 08:00:00         616.0          82.0    0.88      46.0   \n",
              "3089 2020-03-04 10:00:00         620.0          82.0    0.89      48.0   \n",
              "\n",
              "            Label Train_code  \n",
              "2936  Maintenance    P-01801  \n",
              "2940  Maintenance    P-01801  \n",
              "2942  Maintenance    P-01801  \n",
              "3021  Maintenance    P-01801  \n",
              "3089  Maintenance    P-01801  "
            ]
          },
          "metadata": {},
          "execution_count": 25
        },
        {
          "output_type": "stream",
          "name": "stdout",
          "text": [
            "time: 43.1 ms (started: 2021-10-07 12:00:14 +00:00)\n"
          ]
        }
      ]
    },
    {
      "cell_type": "code",
      "metadata": {
        "colab": {
          "base_uri": "https://localhost:8080/",
          "height": 606
        },
        "id": "va9LB5rV8NIQ",
        "outputId": "d2c68163-f74d-4073-c845-a3bf2c3f926e"
      },
      "source": [
        "# Dataset for All vehicles \n",
        "#calculate diffs from each row\n",
        "\n",
        "#df_Maintenance['diffs'] = df_Maintenance.sort_values(['Train_code','Datetime']).groupby('Train_code')['Datetime'].diff() #grouped by train code (Choose one)\n",
        "df_Maintenance = df_Maintenance.sort_values(by='Datetime')                                               #NOT grouped (Choose one)\n",
        "df_Maintenance['diffs'] = df_Maintenance['Datetime'].diff()                                              #NOT grouped (Choose one)\n",
        "df_Maintenance['diffs'] = df_Maintenance['diffs'].fillna(pd.Timedelta(seconds=0))\n",
        "df_Maintenance['Delta_Time_h'] = df_Maintenance.diffs/np.timedelta64(1,'h')\n",
        "df_Maintenance\n"
      ],
      "execution_count": null,
      "outputs": [
        {
          "output_type": "execute_result",
          "data": {
            "text/html": [
              "<div>\n",
              "<style scoped>\n",
              "    .dataframe tbody tr th:only-of-type {\n",
              "        vertical-align: middle;\n",
              "    }\n",
              "\n",
              "    .dataframe tbody tr th {\n",
              "        vertical-align: top;\n",
              "    }\n",
              "\n",
              "    .dataframe thead th {\n",
              "        text-align: right;\n",
              "    }\n",
              "</style>\n",
              "<table border=\"1\" class=\"dataframe\">\n",
              "  <thead>\n",
              "    <tr style=\"text-align: right;\">\n",
              "      <th></th>\n",
              "      <th>Datetime</th>\n",
              "      <th>Oil_Pressure</th>\n",
              "      <th>Coolant_Temp</th>\n",
              "      <th>PF_Avg</th>\n",
              "      <th>ECU_Temp</th>\n",
              "      <th>Label</th>\n",
              "      <th>Train_code</th>\n",
              "      <th>diffs</th>\n",
              "      <th>Delta_Time_h</th>\n",
              "    </tr>\n",
              "  </thead>\n",
              "  <tbody>\n",
              "    <tr>\n",
              "      <th>14136</th>\n",
              "      <td>2020-01-04 00:00:00</td>\n",
              "      <td>624.0</td>\n",
              "      <td>78.0</td>\n",
              "      <td>0.87</td>\n",
              "      <td>37.0</td>\n",
              "      <td>Maintenance</td>\n",
              "      <td>P-01818</td>\n",
              "      <td>0 days 00:00:00</td>\n",
              "      <td>0.000000</td>\n",
              "    </tr>\n",
              "    <tr>\n",
              "      <th>14137</th>\n",
              "      <td>2020-01-04 01:00:00</td>\n",
              "      <td>624.0</td>\n",
              "      <td>77.0</td>\n",
              "      <td>0.87</td>\n",
              "      <td>37.0</td>\n",
              "      <td>Maintenance</td>\n",
              "      <td>P-01818</td>\n",
              "      <td>0 days 01:00:00</td>\n",
              "      <td>1.000000</td>\n",
              "    </tr>\n",
              "    <tr>\n",
              "      <th>14139</th>\n",
              "      <td>2020-01-04 03:00:00</td>\n",
              "      <td>620.0</td>\n",
              "      <td>78.0</td>\n",
              "      <td>0.89</td>\n",
              "      <td>39.0</td>\n",
              "      <td>Maintenance</td>\n",
              "      <td>P-01818</td>\n",
              "      <td>0 days 02:00:00</td>\n",
              "      <td>2.000000</td>\n",
              "    </tr>\n",
              "    <tr>\n",
              "      <th>2936</th>\n",
              "      <td>2020-01-04 07:00:00</td>\n",
              "      <td>620.0</td>\n",
              "      <td>82.0</td>\n",
              "      <td>0.89</td>\n",
              "      <td>43.0</td>\n",
              "      <td>Maintenance</td>\n",
              "      <td>P-01801</td>\n",
              "      <td>0 days 04:00:00</td>\n",
              "      <td>4.000000</td>\n",
              "    </tr>\n",
              "    <tr>\n",
              "      <th>20706</th>\n",
              "      <td>2020-01-04 08:00:00</td>\n",
              "      <td>624.0</td>\n",
              "      <td>79.0</td>\n",
              "      <td>0.87</td>\n",
              "      <td>38.0</td>\n",
              "      <td>Maintenance</td>\n",
              "      <td>P-01822</td>\n",
              "      <td>0 days 01:00:00</td>\n",
              "      <td>1.000000</td>\n",
              "    </tr>\n",
              "    <tr>\n",
              "      <th>...</th>\n",
              "      <td>...</td>\n",
              "      <td>...</td>\n",
              "      <td>...</td>\n",
              "      <td>...</td>\n",
              "      <td>...</td>\n",
              "      <td>...</td>\n",
              "      <td>...</td>\n",
              "      <td>...</td>\n",
              "      <td>...</td>\n",
              "    </tr>\n",
              "    <tr>\n",
              "      <th>17366</th>\n",
              "      <td>2021-12-03 07:02:00</td>\n",
              "      <td>616.0</td>\n",
              "      <td>82.0</td>\n",
              "      <td>0.88</td>\n",
              "      <td>36.0</td>\n",
              "      <td>Maintenance</td>\n",
              "      <td>P-01820</td>\n",
              "      <td>0 days 03:02:00</td>\n",
              "      <td>3.033333</td>\n",
              "    </tr>\n",
              "    <tr>\n",
              "      <th>6349</th>\n",
              "      <td>2021-12-03 18:00:00</td>\n",
              "      <td>620.0</td>\n",
              "      <td>80.0</td>\n",
              "      <td>0.84</td>\n",
              "      <td>38.0</td>\n",
              "      <td>Maintenance</td>\n",
              "      <td>P-01808</td>\n",
              "      <td>0 days 10:58:00</td>\n",
              "      <td>10.966667</td>\n",
              "    </tr>\n",
              "    <tr>\n",
              "      <th>17380</th>\n",
              "      <td>2021-12-03 21:00:00</td>\n",
              "      <td>612.0</td>\n",
              "      <td>82.0</td>\n",
              "      <td>0.88</td>\n",
              "      <td>41.0</td>\n",
              "      <td>Maintenance</td>\n",
              "      <td>P-01820</td>\n",
              "      <td>0 days 03:00:00</td>\n",
              "      <td>3.000000</td>\n",
              "    </tr>\n",
              "    <tr>\n",
              "      <th>17381</th>\n",
              "      <td>2021-12-03 22:00:00</td>\n",
              "      <td>616.0</td>\n",
              "      <td>82.0</td>\n",
              "      <td>0.85</td>\n",
              "      <td>38.0</td>\n",
              "      <td>Maintenance</td>\n",
              "      <td>P-01820</td>\n",
              "      <td>0 days 01:00:00</td>\n",
              "      <td>1.000000</td>\n",
              "    </tr>\n",
              "    <tr>\n",
              "      <th>17382</th>\n",
              "      <td>2021-12-03 23:00:00</td>\n",
              "      <td>616.0</td>\n",
              "      <td>82.0</td>\n",
              "      <td>0.85</td>\n",
              "      <td>38.0</td>\n",
              "      <td>Maintenance</td>\n",
              "      <td>P-01820</td>\n",
              "      <td>0 days 01:00:00</td>\n",
              "      <td>1.000000</td>\n",
              "    </tr>\n",
              "  </tbody>\n",
              "</table>\n",
              "<p>4292 rows × 9 columns</p>\n",
              "</div>"
            ],
            "text/plain": [
              "                 Datetime  Oil_Pressure  Coolant_Temp  PF_Avg  ECU_Temp  \\\n",
              "14136 2020-01-04 00:00:00         624.0          78.0    0.87      37.0   \n",
              "14137 2020-01-04 01:00:00         624.0          77.0    0.87      37.0   \n",
              "14139 2020-01-04 03:00:00         620.0          78.0    0.89      39.0   \n",
              "2936  2020-01-04 07:00:00         620.0          82.0    0.89      43.0   \n",
              "20706 2020-01-04 08:00:00         624.0          79.0    0.87      38.0   \n",
              "...                   ...           ...           ...     ...       ...   \n",
              "17366 2021-12-03 07:02:00         616.0          82.0    0.88      36.0   \n",
              "6349  2021-12-03 18:00:00         620.0          80.0    0.84      38.0   \n",
              "17380 2021-12-03 21:00:00         612.0          82.0    0.88      41.0   \n",
              "17381 2021-12-03 22:00:00         616.0          82.0    0.85      38.0   \n",
              "17382 2021-12-03 23:00:00         616.0          82.0    0.85      38.0   \n",
              "\n",
              "             Label Train_code           diffs  Delta_Time_h  \n",
              "14136  Maintenance    P-01818 0 days 00:00:00      0.000000  \n",
              "14137  Maintenance    P-01818 0 days 01:00:00      1.000000  \n",
              "14139  Maintenance    P-01818 0 days 02:00:00      2.000000  \n",
              "2936   Maintenance    P-01801 0 days 04:00:00      4.000000  \n",
              "20706  Maintenance    P-01822 0 days 01:00:00      1.000000  \n",
              "...            ...        ...             ...           ...  \n",
              "17366  Maintenance    P-01820 0 days 03:02:00      3.033333  \n",
              "6349   Maintenance    P-01808 0 days 10:58:00     10.966667  \n",
              "17380  Maintenance    P-01820 0 days 03:00:00      3.000000  \n",
              "17381  Maintenance    P-01820 0 days 01:00:00      1.000000  \n",
              "17382  Maintenance    P-01820 0 days 01:00:00      1.000000  \n",
              "\n",
              "[4292 rows x 9 columns]"
            ]
          },
          "metadata": {},
          "execution_count": 26
        },
        {
          "output_type": "stream",
          "name": "stdout",
          "text": [
            "time: 32.6 ms (started: 2021-10-07 12:00:14 +00:00)\n"
          ]
        }
      ]
    },
    {
      "cell_type": "code",
      "metadata": {
        "id": "5Xr9-jPyuADq",
        "colab": {
          "base_uri": "https://localhost:8080/",
          "height": 600
        },
        "outputId": "67fc8fdc-a9f7-4e75-bdfb-f90f348f4905"
      },
      "source": [
        "# Visualize MTBF\n",
        "print(df_Maintenance.groupby('Train_code').Delta_Time_h.mean())\n",
        "df_Maintenance.groupby('Train_code').Delta_Time_h.mean().plot(kind='bar')\n"
      ],
      "execution_count": null,
      "outputs": [
        {
          "output_type": "stream",
          "name": "stdout",
          "text": [
            "Train_code\n",
            "P-01801    1.256061\n",
            "P-01808    2.438431\n",
            "P-01811    1.313102\n",
            "P-01812    1.476762\n",
            "P-01818    8.848509\n",
            "P-01820    2.808978\n",
            "P-01821    5.535510\n",
            "P-01822    2.266574\n",
            "P-01823    3.446022\n",
            "P-01825    1.191146\n",
            "P-01903    2.617284\n",
            "P-01908    7.365023\n",
            "P-01914    3.210440\n",
            "Name: Delta_Time_h, dtype: float64\n"
          ]
        },
        {
          "output_type": "execute_result",
          "data": {
            "text/plain": [
              "<matplotlib.axes._subplots.AxesSubplot at 0x7f50a3221cd0>"
            ]
          },
          "metadata": {},
          "execution_count": 27
        },
        {
          "output_type": "display_data",
          "data": {
            "image/png": "[encoded data removed]",
            "text/plain": [
              "<Figure size 432x288 with 1 Axes>"
            ]
          },
          "metadata": {
            "needs_background": "light"
          }
        },
        {
          "output_type": "stream",
          "name": "stdout",
          "text": [
            "time: 266 ms (started: 2021-10-07 12:00:14 +00:00)\n"
          ]
        }
      ]
    },
    {
      "cell_type": "code",
      "metadata": {
        "colab": {
          "base_uri": "https://localhost:8080/"
        },
        "id": "wMN0IuGiKyg8",
        "outputId": "5b53a240-57c6-4cc6-ae65-01ef82e671d4"
      },
      "source": [
        "#Export Dataset for All vehicles grouped by train code\n",
        "df_Maintenance.to_csv(process_dir+'all_vehicles.csv')"
      ],
      "execution_count": null,
      "outputs": [
        {
          "output_type": "stream",
          "name": "stdout",
          "text": [
            "time: 118 ms (started: 2021-10-07 12:00:15 +00:00)\n"
          ]
        }
      ]
    }
  ]
}
{
  "nbformat": 4,
  "nbformat_minor": 0,
  "metadata": {
    "colab": {
      "name": "Copy of Statistical Approach.ipynb",
      "provenance": [],
      "toc_visible": true,
      "mount_file_id": "1seWjMPEP4VCGz8g51dAtKDd0vGTYRfVq",
      "authorship_tag": "ABX9TyOk+KPbCXzaVgM9R8QaJ5r3",
      "include_colab_link": true
    },
    "kernelspec": {
      "name": "python3",
      "display_name": "Python 3"
    },
    "language_info": {
      "name": "python"
    }
  },
  "cells": [
    {
      "cell_type": "markdown",
      "metadata": {
        "id": "view-in-github",
        "colab_type": "text"
      },
      "source": [
        "<a href=\"https://colab.research.google.com/github/StudentHagal/Thesis/blob/main/Statistical_Approach.ipynb\" target=\"_parent\"><img src=\"https://colab.research.google.com/assets/colab-badge.svg\" alt=\"Open In Colab\"/></a>"
      ]
    },
    {
      "cell_type": "markdown",
      "metadata": {
        "id": "7abxNzhgbxzN"
      },
      "source": [
        "# ML Modelling"
      ]
    },
    {
      "cell_type": "markdown",
      "metadata": {
        "id": "UVr5sT70mOdq"
      },
      "source": [
        "## 0) Preparation"
      ]
    },
    {
      "cell_type": "markdown",
      "metadata": {
        "id": "JAfDsIexmSZG"
      },
      "source": [
        "### Load Requirements"
      ]
    },
    {
      "cell_type": "code",
      "metadata": {
        "colab": {
          "base_uri": "https://localhost:8080/"
        },
        "id": "J2JFhSZS4yIJ",
        "outputId": "c32e445d-5019-4da8-adcd-2211c32dc259"
      },
      "source": [
        "# Github Repo\n",
        "!git clone https://github.com/StudentHagal/Thesis.git\n",
        "\n",
        "# Libraries\n",
        "import sys\n",
        "import pandas as pd\n",
        "import hashlib\n",
        "import matplotlib\n",
        "import numpy as np\n",
        "import pandas as pd\n",
        "import sklearn\n",
        "import scipy\n",
        "import joblib\n",
        "import matplotlib.pyplot as plt\n",
        "from collections import Counter\n",
        "from imblearn.over_sampling import SMOTE\n",
        "from pandas import read_csv\n",
        "from pandas.plotting import scatter_matrix\n",
        "from matplotlib import pyplot\n",
        "from sklearn.model_selection import train_test_split\n",
        "from sklearn.model_selection import cross_val_score\n",
        "from sklearn.model_selection import StratifiedKFold\n",
        "from sklearn.metrics import classification_report\n",
        "from sklearn.metrics import confusion_matrix\n",
        "from sklearn.metrics import accuracy_score\n",
        "from sklearn.metrics import plot_confusion_matrix\n",
        "from sklearn.linear_model import LogisticRegression\n",
        "from sklearn.tree import DecisionTreeClassifier\n",
        "from sklearn.neighbors import KNeighborsClassifier\n",
        "from sklearn.discriminant_analysis import LinearDiscriminantAnalysis\n",
        "from sklearn.naive_bayes import GaussianNB\n",
        "from sklearn.svm import SVC\n",
        "from sklearn.ensemble import RandomForestClassifier\n",
        "from sklearn.cluster import DBSCAN\n",
        "from sklearn.cluster import KMeans\n",
        "from sklearn.preprocessing import StandardScaler\n",
        "from sklearn.preprocessing import normalize\n",
        "from sklearn.decomposition import PCA\n",
        "\n",
        "#Extension\n",
        "!pip install ipython-autotime\n",
        "%load_ext autotime\n",
        "\n",
        "print('Load completed')\n"
      ],
      "execution_count": 1,
      "outputs": [
        {
          "output_type": "stream",
          "name": "stdout",
          "text": [
            "Cloning into 'Thesis'...\n",
            "remote: Enumerating objects: 77, done.\u001b[K\n",
            "remote: Counting objects: 100% (77/77), done.\u001b[K\n",
            "remote: Compressing objects: 100% (69/69), done.\u001b[K\n",
            "remote: Total 77 (delta 15), reused 0 (delta 0), pack-reused 0\u001b[K\n",
            "Unpacking objects: 100% (77/77), done.\n"
          ]
        },
        {
          "output_type": "stream",
          "name": "stderr",
          "text": [
            "/usr/local/lib/python3.7/dist-packages/sklearn/externals/six.py:31: FutureWarning: The module is deprecated in version 0.21 and will be removed in version 0.23 since we've dropped support for Python 2.7. Please rely on the official version of six (https://pypi.org/project/six/).\n",
            "  \"(https://pypi.org/project/six/).\", FutureWarning)\n",
            "/usr/local/lib/python3.7/dist-packages/sklearn/utils/deprecation.py:144: FutureWarning: The sklearn.neighbors.base module is  deprecated in version 0.22 and will be removed in version 0.24. The corresponding classes / functions should instead be imported from sklearn.neighbors. Anything that cannot be imported from sklearn.neighbors is now part of the private API.\n",
            "  warnings.warn(message, FutureWarning)\n"
          ]
        },
        {
          "output_type": "stream",
          "name": "stdout",
          "text": [
            "Collecting ipython-autotime\n",
            "  Downloading ipython_autotime-0.3.1-py2.py3-none-any.whl (6.8 kB)\n",
            "Requirement already satisfied: ipython in /usr/local/lib/python3.7/dist-packages (from ipython-autotime) (5.5.0)\n",
            "Requirement already satisfied: pygments in /usr/local/lib/python3.7/dist-packages (from ipython->ipython-autotime) (2.6.1)\n",
            "Requirement already satisfied: traitlets>=4.2 in /usr/local/lib/python3.7/dist-packages (from ipython->ipython-autotime) (5.1.0)\n",
            "Requirement already satisfied: pexpect in /usr/local/lib/python3.7/dist-packages (from ipython->ipython-autotime) (4.8.0)\n",
            "Requirement already satisfied: decorator in /usr/local/lib/python3.7/dist-packages (from ipython->ipython-autotime) (4.4.2)\n",
            "Requirement already satisfied: simplegeneric>0.8 in /usr/local/lib/python3.7/dist-packages (from ipython->ipython-autotime) (0.8.1)\n",
            "Requirement already satisfied: pickleshare in /usr/local/lib/python3.7/dist-packages (from ipython->ipython-autotime) (0.7.5)\n",
            "Requirement already satisfied: setuptools>=18.5 in /usr/local/lib/python3.7/dist-packages (from ipython->ipython-autotime) (57.4.0)\n",
            "Requirement already satisfied: prompt-toolkit<2.0.0,>=1.0.4 in /usr/local/lib/python3.7/dist-packages (from ipython->ipython-autotime) (1.0.18)\n",
            "Requirement already satisfied: wcwidth in /usr/local/lib/python3.7/dist-packages (from prompt-toolkit<2.0.0,>=1.0.4->ipython->ipython-autotime) (0.2.5)\n",
            "Requirement already satisfied: six>=1.9.0 in /usr/local/lib/python3.7/dist-packages (from prompt-toolkit<2.0.0,>=1.0.4->ipython->ipython-autotime) (1.15.0)\n",
            "Requirement already satisfied: ptyprocess>=0.5 in /usr/local/lib/python3.7/dist-packages (from pexpect->ipython->ipython-autotime) (0.7.0)\n",
            "Installing collected packages: ipython-autotime\n",
            "Successfully installed ipython-autotime-0.3.1\n",
            "Load completed\n",
            "time: 1.21 ms (started: 2021-10-07 14:40:14 +00:00)\n"
          ]
        }
      ]
    },
    {
      "cell_type": "code",
      "metadata": {
        "colab": {
          "base_uri": "https://localhost:8080/"
        },
        "id": "Vay1s-h_YIKV",
        "outputId": "882cc33f-29e4-4a4c-d204-e740e20ccc0a"
      },
      "source": [
        "# Check the versions of libraries\n",
        "# !!! WARNING !!!\n",
        "# Important because model result may be different for other version\n",
        " \n",
        "print('Python: {}'.format(sys.version))\n",
        "print('scipy: {}'.format(scipy.__version__))\n",
        "print('numpy: {}'.format(np.__version__))\n",
        "print('matplotlib: {}'.format(matplotlib.__version__))\n",
        "print('pandas: {}'.format(pd.__version__))\n",
        "print('sklearn: {}'.format(sklearn.__version__))\n",
        "print('joblib: {}'.format(joblib.__version__))"
      ],
      "execution_count": 2,
      "outputs": [
        {
          "output_type": "stream",
          "name": "stdout",
          "text": [
            "Python: 3.7.12 (default, Sep 10 2021, 00:21:48) \n",
            "[GCC 7.5.0]\n",
            "scipy: 1.4.1\n",
            "numpy: 1.19.5\n",
            "matplotlib: 3.2.2\n",
            "pandas: 1.1.5\n",
            "sklearn: 0.22.2.post1\n",
            "joblib: 1.0.1\n",
            "time: 5.32 ms (started: 2021-10-07 14:40:14 +00:00)\n"
          ]
        }
      ]
    },
    {
      "cell_type": "markdown",
      "metadata": {
        "id": "cJK3k6Buma8H"
      },
      "source": [
        "### Global variables"
      ]
    },
    {
      "cell_type": "code",
      "metadata": {
        "colab": {
          "base_uri": "https://localhost:8080/"
        },
        "id": "oq-Jytr8kU6Q",
        "outputId": "665b508d-fdd1-47d2-8079-4942db6a1b66"
      },
      "source": [
        "# Global Variable\n",
        "compare = '10f68054068bc4ac4d7fee65e8fd7a184151e3ce3abce5d85350fc13c412d93b'                         #known hash value of file\n",
        "#Stored file path                     \n",
        "raw_file = \"/content/Thesis/Resources/database.csv\"\n",
        "#environment path\n",
        "main_dir = '/content/Thesis/'           \n",
        "model_dir = '/content/Thesis/Resources/models/'                                  \n",
        "process_dir = '/content/Thesis/Resources/Processed/'\n",
        "#Column names for dataset\n",
        "col_names = ['No', 'Datetime', 'Control_Mode', 'L1', 'L2', 'L3', 'Frequency', 'kVA_Total',           \n",
        "             'kVA_L1', 'kVA_L2', 'kVA_L3', 'KVAr', 'Oil_Pressure', 'Coolant_Temp', \n",
        "             'Charger_Alternator', 'PF_Avg', 'PF_L1', 'PF_L2', \n",
        "             'PF_L3', 'L1_N', 'L2_N', 'L3_N', 'Source_Ext_Voltage', 'ECU_Temp', \n",
        "             'RPM', 'Train_code']\n",
        "#Unused columns in dataset\n",
        "unused_col = ['No', 'Control_Mode', 'L1', 'L2', 'L3', 'Frequency',                       \n",
        "              'kVA_Total', 'kVA_L1', 'kVA_L2', 'kVA_L3', 'KVAr', 'Charger_Alternator',\n",
        "              'RPM', 'PF_L1', 'PF_L2', 'PF_L3', 'L1_N','L2_N', 'L3_N',\n",
        "              'Source_Ext_Voltage', 'Train_code']\n",
        "df = pd.read_csv(raw_file, names=col_names)\n",
        "features = ['Oil_Pressure', 'Coolant_Temp', 'PF_Avg', 'ECU_Temp']\n",
        "results1 = []\n",
        "names1 = []\n",
        "results2 = []\n",
        "names2 = []\n",
        "\n",
        "# Algorithm considered\n",
        "model_LR = LogisticRegression(max_iter=475)\n",
        "model_KNN = KNeighborsClassifier()\n",
        "model_DT = DecisionTreeClassifier()\n",
        "model_SVM = SVC(gamma='auto')\n",
        "model_RF = RandomForestClassifier()\n",
        "model_LDA = LinearDiscriminantAnalysis()\n",
        "model_NB = GaussianNB()\n",
        "balancing_smote = SMOTE(random_state=1)\n",
        "###################################################################\n",
        "models = []\n",
        "models.append(('LR', model_LR))\n",
        "models.append(('KNN', model_KNN))\n",
        "models.append(('DT', model_DT))\n",
        "models.append(('SVM', model_SVM))\n",
        "models.append(('RF', model_RF))\n",
        "models.append(('LDA', model_LDA))\n",
        "models.append(('NB', model_NB))\n"
      ],
      "execution_count": 3,
      "outputs": [
        {
          "output_type": "stream",
          "name": "stdout",
          "text": [
            "time: 143 ms (started: 2021-10-07 14:40:14 +00:00)\n"
          ]
        }
      ]
    },
    {
      "cell_type": "markdown",
      "metadata": {
        "id": "MIvy5w5JmoBZ"
      },
      "source": [
        "### Hash Check Function"
      ]
    },
    {
      "cell_type": "code",
      "metadata": {
        "colab": {
          "base_uri": "https://localhost:8080/"
        },
        "id": "xwDzDPoAcmE7",
        "outputId": "c25dc3e9-5927-4d40-bafe-fd01b64fa795"
      },
      "source": [
        "# Function that returns the SHA-2 hash of the file\n",
        "def hash_file(filepath):\n",
        "\n",
        "   # make a hash object with SHA-2\n",
        "   h = hashlib.sha256()\n",
        "\n",
        "   # open file for reading in binary mode\n",
        "   with open(filepath,'rb') as file:\n",
        "       # loop till the end of the file\n",
        "       chunk = 0\n",
        "       while chunk != b'':\n",
        "           # read only 1024 bytes at a time\n",
        "           chunk = file.read(1024)\n",
        "           h.update(chunk)\n",
        "\n",
        "   # return the hex representation of digest\n",
        "   return h.hexdigest()\n"
      ],
      "execution_count": 4,
      "outputs": [
        {
          "output_type": "stream",
          "name": "stdout",
          "text": [
            "time: 6.88 ms (started: 2021-10-07 14:40:14 +00:00)\n"
          ]
        }
      ]
    },
    {
      "cell_type": "markdown",
      "metadata": {
        "id": "DpwVGPXeTteG"
      },
      "source": [
        "## 1) Standardized Dataset"
      ]
    },
    {
      "cell_type": "markdown",
      "metadata": {
        "id": "hz_FdTtmXOOk"
      },
      "source": [
        "### Outlier"
      ]
    },
    {
      "cell_type": "code",
      "metadata": {
        "colab": {
          "base_uri": "https://localhost:8080/"
        },
        "id": "LhyimYT4WY8T",
        "outputId": "34ffe2c7-cc2e-4756-a3a9-b932add3b2c9"
      },
      "source": [
        "# Checking hash value of a file\n",
        "file_path1 = process_dir+'labeled_dataset1.csv'\n",
        "message = hash_file(file_path1)\n",
        "print('SHA-256 value of your file is :')\n",
        "print(message)"
      ],
      "execution_count": 5,
      "outputs": [
        {
          "output_type": "stream",
          "name": "stdout",
          "text": [
            "SHA-256 value of your file is :\n",
            "14f81646f37364caefe0597ca89aa00d6097cd20db87310fb44678602d55defa\n",
            "time: 6.18 ms (started: 2021-10-07 14:40:14 +00:00)\n"
          ]
        }
      ]
    },
    {
      "cell_type": "code",
      "metadata": {
        "id": "4RVWOiooG-pn",
        "colab": {
          "base_uri": "https://localhost:8080/",
          "height": 1000
        },
        "outputId": "cdf875cc-0e59-473c-e8cb-4db0a998b23c"
      },
      "source": [
        "#Training dataset summary 1 (include outlier)\n",
        "\n",
        "#load file training dataset 1\n",
        "labeled_dataset1 = pd.read_csv(file_path1,index_col=0)\n",
        "print(labeled_dataset1)\n",
        "#Visualize data\n",
        "print('Training dataset size with outlier : ', labeled_dataset1.shape)\n",
        "# class distribution\n",
        "print(labeled_dataset1.groupby('Label').size())\n",
        "print(' ')\n",
        "# statistical value of data\n",
        "print(labeled_dataset1.describe(percentiles=[.1, .4, .5, .6, .9]))\n",
        "# box and whisker plots\n",
        "labeled_dataset1.plot(kind='box', subplots=True, layout=(2,3), sharex=False, sharey=False)\n",
        "pyplot.show()\n",
        "# histograms\n",
        "labeled_dataset1.hist()\n",
        "pyplot.show()\n"
      ],
      "execution_count": 6,
      "outputs": [
        {
          "output_type": "stream",
          "name": "stdout",
          "text": [
            "                 Datetime  Oil_Pressure  ...        Label  Train_code\n",
            "0     2020-01-10 22:00:00         620.0  ...  Maintenance     P-01812\n",
            "1     2020-03-10 18:00:00         604.0  ...  Maintenance     P-01812\n",
            "2     2020-03-10 19:00:00         604.0  ...  Maintenance     P-01812\n",
            "3     2020-04-16 10:00:00         620.0  ...  Maintenance     P-01812\n",
            "4     2020-03-18 20:00:00         600.0  ...  Maintenance     P-01812\n",
            "...                   ...           ...  ...          ...         ...\n",
            "7992  2020-08-25 22:00:00         608.0  ...       Normal     P-01914\n",
            "7993  2020-07-26 04:00:00         608.0  ...       Normal     P-01914\n",
            "7994  2020-08-26 03:00:00         608.0  ...       Normal     P-01914\n",
            "7995  2020-08-28 04:00:00         608.0  ...       Normal     P-01914\n",
            "7996  2020-07-31 21:00:00         608.0  ...       Normal     P-01914\n",
            "\n",
            "[7997 rows x 7 columns]\n",
            "Training dataset size with outlier :  (7997, 7)\n",
            "Label\n",
            "Maintenance      56\n",
            "Normal          372\n",
            "Outlier        7569\n",
            "dtype: int64\n",
            " \n",
            "       Oil_Pressure  Coolant_Temp       PF_Avg      ECU_Temp\n",
            "count   7997.000000   7997.000000  7997.000000   7997.000000\n",
            "mean    1792.683006    905.487808    13.071426   5902.727648\n",
            "std    10081.670250   5346.514983    62.719280  12584.697968\n",
            "min        0.000000      0.000000     0.000000      0.000000\n",
            "10%        0.000000      0.000000     0.000000      0.000000\n",
            "40%        0.000000      0.000000     0.000000      0.000000\n",
            "50%        0.000000      0.000000     0.000000      0.000000\n",
            "60%        0.000000      0.000000     0.000000      0.000000\n",
            "90%      644.000000     82.000000     0.910000  32767.000000\n",
            "max    65535.000000  65531.000000   327.650000  32767.000000\n"
          ]
        },
        {
          "output_type": "display_data",
          "data": {
            "image/png": "[encoded data removed]",
            "text/plain": [
              "<Figure size 432x288 with 6 Axes>"
            ]
          },
          "metadata": {
            "needs_background": "light"
          }
        },
        {
          "output_type": "display_data",
          "data": {
            "image/png": "[encoded data removed]",
            "text/plain": [
              "<Figure size 432x288 with 4 Axes>"
            ]
          },
          "metadata": {
            "needs_background": "light"
          }
        },
        {
          "output_type": "stream",
          "name": "stdout",
          "text": [
            "time: 1.18 s (started: 2021-10-07 14:40:15 +00:00)\n"
          ]
        }
      ]
    },
    {
      "cell_type": "code",
      "metadata": {
        "colab": {
          "base_uri": "https://localhost:8080/"
        },
        "id": "B4L3Xoa-s7Vk",
        "outputId": "745aa17f-dabd-4bfa-8c12-8bed766c8bd9"
      },
      "source": [
        "# Pre-process training and test dataset to balance class label (with outlier)\n",
        "\n",
        "X1 = labeled_dataset1[features]\n",
        "y1 = labeled_dataset1['Label']\n",
        "\n",
        "print('Original dataset shape %s' % Counter(y1))\n",
        "X1_res, y1_res = balancing_smote.fit_resample(X1, y1)\n",
        "print('Resampled dataset shape %s' % Counter(y1_res))"
      ],
      "execution_count": 7,
      "outputs": [
        {
          "output_type": "stream",
          "name": "stdout",
          "text": [
            "Original dataset shape Counter({'Outlier': 7569, 'Normal': 372, 'Maintenance': 56})\n",
            "Resampled dataset shape Counter({'Maintenance': 7569, 'Outlier': 7569, 'Normal': 7569})\n",
            "time: 107 ms (started: 2021-10-07 14:40:16 +00:00)\n"
          ]
        },
        {
          "output_type": "stream",
          "name": "stderr",
          "text": [
            "/usr/local/lib/python3.7/dist-packages/sklearn/utils/deprecation.py:87: FutureWarning: Function safe_indexing is deprecated; safe_indexing is deprecated in version 0.22 and will be removed in version 0.24.\n",
            "  warnings.warn(msg, category=FutureWarning)\n",
            "/usr/local/lib/python3.7/dist-packages/sklearn/utils/deprecation.py:87: FutureWarning: Function safe_indexing is deprecated; safe_indexing is deprecated in version 0.22 and will be removed in version 0.24.\n",
            "  warnings.warn(msg, category=FutureWarning)\n"
          ]
        }
      ]
    },
    {
      "cell_type": "code",
      "metadata": {
        "colab": {
          "base_uri": "https://localhost:8080/"
        },
        "id": "To60spxhLPwM",
        "outputId": "518b9158-73e6-4b3b-d491-b65e223130ce"
      },
      "source": [
        "# Split-out validation and test dataset (with outlier)\n",
        "X1_train, X1_test, Y1_train, Y1_test = train_test_split(X1_res, y1_res, test_size=0.20, random_state=1)\n",
        "\n",
        "print('training data size = ', X1_train.shape)\n",
        "print('testing data size = ', X1_test.shape)\n",
        "print('data split completed')"
      ],
      "execution_count": 8,
      "outputs": [
        {
          "output_type": "stream",
          "name": "stdout",
          "text": [
            "training data size =  (18165, 4)\n",
            "testing data size =  (4542, 4)\n",
            "data split completed\n",
            "time: 10.6 ms (started: 2021-10-07 14:40:16 +00:00)\n"
          ]
        }
      ]
    },
    {
      "cell_type": "markdown",
      "metadata": {
        "id": "_ynbWeE8XSLH"
      },
      "source": [
        "### No Outlier"
      ]
    },
    {
      "cell_type": "code",
      "metadata": {
        "colab": {
          "base_uri": "https://localhost:8080/"
        },
        "id": "BFrOX72laVrH",
        "outputId": "a6117eb3-efdf-4597-c62a-fb8455040d91"
      },
      "source": [
        "# Checking hash value of a file\n",
        "file_path2 = process_dir+'labeled_dataset2.csv'\n",
        "message = hash_file(file_path2)\n",
        "print('SHA-256 value of your file is :')\n",
        "print(message)"
      ],
      "execution_count": 9,
      "outputs": [
        {
          "output_type": "stream",
          "name": "stdout",
          "text": [
            "SHA-256 value of your file is :\n",
            "8c944d3f0fdaf327010fe0b4443b024672efb89a34f9ff83aa568dc66b0033ec\n",
            "time: 4.17 ms (started: 2021-10-07 14:40:16 +00:00)\n"
          ]
        }
      ]
    },
    {
      "cell_type": "code",
      "metadata": {
        "colab": {
          "base_uri": "https://localhost:8080/",
          "height": 0
        },
        "id": "-F21rPxB-ST2",
        "outputId": "0760dd4f-5c2f-434e-db2d-c99d0c528111"
      },
      "source": [
        "#Training dataset Summary 2 (exclude outlier)\n",
        "\n",
        "# merge labelled data into training dataset\n",
        "labeled_dataset2 = pd.read_csv(file_path2,index_col=0)\n",
        "print(labeled_dataset2)\n",
        "\n",
        "#Visualize data\n",
        "print('Training dataset size excluding outlier : ', labeled_dataset2.shape)\n",
        "# class distribution\n",
        "print(labeled_dataset2.groupby('Label').size())\n",
        "print(' ')\n",
        "# statistical value of data\n",
        "print(labeled_dataset2.describe(percentiles=[.1, .4, .5, .6, .9]))\n",
        "# box and whisker plots\n",
        "labeled_dataset2.plot(kind='box', subplots=True, layout=(2,3), sharex=False, sharey=False)\n",
        "pyplot.show()\n",
        "# histograms\n",
        "labeled_dataset2.hist()\n",
        "pyplot.show()"
      ],
      "execution_count": 10,
      "outputs": [
        {
          "output_type": "stream",
          "name": "stdout",
          "text": [
            "                Datetime  Oil_Pressure  ...        Label  Train_code\n",
            "0    2020-01-10 22:00:00         620.0  ...  Maintenance     P-01812\n",
            "1    2020-03-10 18:00:00         604.0  ...  Maintenance     P-01812\n",
            "2    2020-03-10 19:00:00         604.0  ...  Maintenance     P-01812\n",
            "3    2020-04-16 10:00:00         620.0  ...  Maintenance     P-01812\n",
            "4    2020-03-18 20:00:00         600.0  ...  Maintenance     P-01812\n",
            "..                   ...           ...  ...          ...         ...\n",
            "423  2020-08-25 22:00:00         608.0  ...       Normal     P-01914\n",
            "424  2020-07-26 04:00:00         608.0  ...       Normal     P-01914\n",
            "425  2020-08-26 03:00:00         608.0  ...       Normal     P-01914\n",
            "426  2020-08-28 04:00:00         608.0  ...       Normal     P-01914\n",
            "427  2020-07-31 21:00:00         608.0  ...       Normal     P-01914\n",
            "\n",
            "[428 rows x 7 columns]\n",
            "Training dataset size excluding outlier :  (428, 7)\n",
            "Label\n",
            "Maintenance     56\n",
            "Normal         372\n",
            "dtype: int64\n",
            " \n",
            "       Oil_Pressure  Coolant_Temp      PF_Avg    ECU_Temp\n",
            "count    428.000000    428.000000  428.000000  428.000000\n",
            "mean     613.598131     80.105140    0.861916   41.193925\n",
            "std        4.054338      1.135203    0.014617    1.980528\n",
            "min      600.000000     77.000000    0.790000   37.000000\n",
            "10%      608.000000     78.000000    0.860000   39.000000\n",
            "40%      612.000000     80.000000    0.860000   41.000000\n",
            "50%      616.000000     81.000000    0.865000   41.000000\n",
            "60%      616.000000     81.000000    0.870000   42.000000\n",
            "90%      620.000000     81.000000    0.870000   43.000000\n",
            "max      620.000000     81.000000    0.880000   47.000000\n"
          ]
        },
        {
          "output_type": "display_data",
          "data": {
            "image/png": "[encoded data removed]",
            "text/plain": [
              "<Figure size 432x288 with 6 Axes>"
            ]
          },
          "metadata": {
            "needs_background": "light"
          }
        },
        {
          "output_type": "display_data",
          "data": {
            "image/png": "[encoded data removed]",
            "text/plain": [
              "<Figure size 432x288 with 4 Axes>"
            ]
          },
          "metadata": {
            "needs_background": "light"
          }
        },
        {
          "output_type": "stream",
          "name": "stdout",
          "text": [
            "time: 942 ms (started: 2021-10-07 14:40:16 +00:00)\n"
          ]
        }
      ]
    },
    {
      "cell_type": "code",
      "metadata": {
        "colab": {
          "base_uri": "https://localhost:8080/"
        },
        "id": "0Rwc7FdRuBf1",
        "outputId": "6c0e9fce-165b-4383-fa38-e8d1274fb31b"
      },
      "source": [
        "# Pre-process training and test dataset to balance class label (with outlier)\n",
        "\n",
        "X2 = labeled_dataset2[features]\n",
        "y2 = labeled_dataset2['Label']\n",
        "\n",
        "print('Original dataset shape %s' % Counter(y2))\n",
        "X2_res, y2_res = balancing_smote.fit_resample(X2, y2)\n",
        "print('Resampled dataset shape %s' % Counter(y2_res))"
      ],
      "execution_count": 11,
      "outputs": [
        {
          "output_type": "stream",
          "name": "stdout",
          "text": [
            "Original dataset shape Counter({'Normal': 372, 'Maintenance': 56})\n",
            "Resampled dataset shape Counter({'Maintenance': 372, 'Normal': 372})\n",
            "time: 14.9 ms (started: 2021-10-07 14:40:17 +00:00)\n"
          ]
        },
        {
          "output_type": "stream",
          "name": "stderr",
          "text": [
            "/usr/local/lib/python3.7/dist-packages/sklearn/utils/deprecation.py:87: FutureWarning: Function safe_indexing is deprecated; safe_indexing is deprecated in version 0.22 and will be removed in version 0.24.\n",
            "  warnings.warn(msg, category=FutureWarning)\n"
          ]
        }
      ]
    },
    {
      "cell_type": "code",
      "metadata": {
        "colab": {
          "base_uri": "https://localhost:8080/"
        },
        "id": "PNqLlBrbEo_h",
        "outputId": "2dd79a11-e247-449f-f13f-0c9f2774ded7"
      },
      "source": [
        "# Split-out validation dataset (exclude outlier)\n",
        "X2_train, X2_test, Y2_train, Y2_test = train_test_split(X2_res, y2_res, test_size=0.20, random_state=1)\n",
        "\n",
        "print('training data size = ', X2_train.shape)\n",
        "print('testing data size = ', X2_test.shape)\n",
        "print('data split completed')"
      ],
      "execution_count": 12,
      "outputs": [
        {
          "output_type": "stream",
          "name": "stdout",
          "text": [
            "training data size =  (595, 4)\n",
            "testing data size =  (149, 4)\n",
            "data split completed\n",
            "time: 8.2 ms (started: 2021-10-07 14:40:17 +00:00)\n"
          ]
        }
      ]
    },
    {
      "cell_type": "code",
      "metadata": {
        "colab": {
          "base_uri": "https://localhost:8080/",
          "height": 0
        },
        "id": "ooPzIDyxYc71",
        "outputId": "20617a58-2bfa-464b-fc93-ae1113993535"
      },
      "source": [
        "df_Unlabelled = pd.read_csv(process_dir+'unlabelled.csv',index_col=0)\n",
        "df_Unlabelled"
      ],
      "execution_count": 13,
      "outputs": [
        {
          "output_type": "execute_result",
          "data": {
            "text/html": [
              "<div>\n",
              "<style scoped>\n",
              "    .dataframe tbody tr th:only-of-type {\n",
              "        vertical-align: middle;\n",
              "    }\n",
              "\n",
              "    .dataframe tbody tr th {\n",
              "        vertical-align: top;\n",
              "    }\n",
              "\n",
              "    .dataframe thead th {\n",
              "        text-align: right;\n",
              "    }\n",
              "</style>\n",
              "<table border=\"1\" class=\"dataframe\">\n",
              "  <thead>\n",
              "    <tr style=\"text-align: right;\">\n",
              "      <th></th>\n",
              "      <th>Datetime</th>\n",
              "      <th>Oil_Pressure</th>\n",
              "      <th>Coolant_Temp</th>\n",
              "      <th>PF_Avg</th>\n",
              "      <th>ECU_Temp</th>\n",
              "      <th>Train_code</th>\n",
              "    </tr>\n",
              "  </thead>\n",
              "  <tbody>\n",
              "    <tr>\n",
              "      <th>0</th>\n",
              "      <td>2020-01-08 02:03:00</td>\n",
              "      <td>636.0</td>\n",
              "      <td>81.0</td>\n",
              "      <td>0.83</td>\n",
              "      <td>32767.0</td>\n",
              "      <td>MP3-01605</td>\n",
              "    </tr>\n",
              "    <tr>\n",
              "      <th>1</th>\n",
              "      <td>2020-01-08 03:00:00</td>\n",
              "      <td>636.0</td>\n",
              "      <td>81.0</td>\n",
              "      <td>0.76</td>\n",
              "      <td>32767.0</td>\n",
              "      <td>MP3-01605</td>\n",
              "    </tr>\n",
              "    <tr>\n",
              "      <th>2</th>\n",
              "      <td>2020-01-08 04:00:00</td>\n",
              "      <td>632.0</td>\n",
              "      <td>82.0</td>\n",
              "      <td>0.77</td>\n",
              "      <td>32767.0</td>\n",
              "      <td>MP3-01605</td>\n",
              "    </tr>\n",
              "    <tr>\n",
              "      <th>3</th>\n",
              "      <td>2020-01-08 05:00:00</td>\n",
              "      <td>632.0</td>\n",
              "      <td>82.0</td>\n",
              "      <td>0.78</td>\n",
              "      <td>32767.0</td>\n",
              "      <td>MP3-01605</td>\n",
              "    </tr>\n",
              "    <tr>\n",
              "      <th>4</th>\n",
              "      <td>2020-01-08 06:00:00</td>\n",
              "      <td>628.0</td>\n",
              "      <td>82.0</td>\n",
              "      <td>0.78</td>\n",
              "      <td>32767.0</td>\n",
              "      <td>MP3-01605</td>\n",
              "    </tr>\n",
              "    <tr>\n",
              "      <th>...</th>\n",
              "      <td>...</td>\n",
              "      <td>...</td>\n",
              "      <td>...</td>\n",
              "      <td>...</td>\n",
              "      <td>...</td>\n",
              "      <td>...</td>\n",
              "    </tr>\n",
              "    <tr>\n",
              "      <th>34352</th>\n",
              "      <td>2020-12-31 13:00:00</td>\n",
              "      <td>600.0</td>\n",
              "      <td>83.0</td>\n",
              "      <td>0.88</td>\n",
              "      <td>32767.0</td>\n",
              "      <td>P-01914</td>\n",
              "    </tr>\n",
              "    <tr>\n",
              "      <th>34353</th>\n",
              "      <td>2020-12-31 14:00:00</td>\n",
              "      <td>604.0</td>\n",
              "      <td>82.0</td>\n",
              "      <td>0.88</td>\n",
              "      <td>32767.0</td>\n",
              "      <td>P-01914</td>\n",
              "    </tr>\n",
              "    <tr>\n",
              "      <th>34354</th>\n",
              "      <td>2020-12-31 15:00:00</td>\n",
              "      <td>604.0</td>\n",
              "      <td>81.0</td>\n",
              "      <td>0.87</td>\n",
              "      <td>32767.0</td>\n",
              "      <td>P-01914</td>\n",
              "    </tr>\n",
              "    <tr>\n",
              "      <th>34355</th>\n",
              "      <td>2020-12-31 16:00:00</td>\n",
              "      <td>0.0</td>\n",
              "      <td>0.0</td>\n",
              "      <td>0.00</td>\n",
              "      <td>0.0</td>\n",
              "      <td>P-01914</td>\n",
              "    </tr>\n",
              "    <tr>\n",
              "      <th>34356</th>\n",
              "      <td>2020-12-31 17:05:00</td>\n",
              "      <td>0.0</td>\n",
              "      <td>0.0</td>\n",
              "      <td>0.00</td>\n",
              "      <td>0.0</td>\n",
              "      <td>P-01914</td>\n",
              "    </tr>\n",
              "  </tbody>\n",
              "</table>\n",
              "<p>33832 rows × 6 columns</p>\n",
              "</div>"
            ],
            "text/plain": [
              "                  Datetime  Oil_Pressure  ...  ECU_Temp  Train_code\n",
              "0      2020-01-08 02:03:00         636.0  ...   32767.0   MP3-01605\n",
              "1      2020-01-08 03:00:00         636.0  ...   32767.0   MP3-01605\n",
              "2      2020-01-08 04:00:00         632.0  ...   32767.0   MP3-01605\n",
              "3      2020-01-08 05:00:00         632.0  ...   32767.0   MP3-01605\n",
              "4      2020-01-08 06:00:00         628.0  ...   32767.0   MP3-01605\n",
              "...                    ...           ...  ...       ...         ...\n",
              "34352  2020-12-31 13:00:00         600.0  ...   32767.0     P-01914\n",
              "34353  2020-12-31 14:00:00         604.0  ...   32767.0     P-01914\n",
              "34354  2020-12-31 15:00:00         604.0  ...   32767.0     P-01914\n",
              "34355  2020-12-31 16:00:00           0.0  ...       0.0     P-01914\n",
              "34356  2020-12-31 17:05:00           0.0  ...       0.0     P-01914\n",
              "\n",
              "[33832 rows x 6 columns]"
            ]
          },
          "metadata": {},
          "execution_count": 13
        },
        {
          "output_type": "stream",
          "name": "stdout",
          "text": [
            "time: 70.6 ms (started: 2021-10-07 14:40:17 +00:00)\n"
          ]
        }
      ]
    },
    {
      "cell_type": "markdown",
      "metadata": {
        "id": "JS6NEB30Vu22"
      },
      "source": [
        "## 2) Algorithm Training & Validation"
      ]
    },
    {
      "cell_type": "markdown",
      "metadata": {
        "id": "GJTQryhlXKas"
      },
      "source": [
        "### Outlier"
      ]
    },
    {
      "cell_type": "code",
      "metadata": {
        "colab": {
          "base_uri": "https://localhost:8080/",
          "height": 0
        },
        "id": "5fP1d1rnVwKR",
        "outputId": "f449934b-accf-428a-f385-556327d39c10"
      },
      "source": [
        "# Cross validation of each model training in turn (with Outlier)\n",
        "for name, model in models:\n",
        "\tkfold = StratifiedKFold(n_splits=10, random_state=1, shuffle=True)\n",
        "\tcv_results = cross_val_score(model, X1_train, Y1_train, cv=kfold, \n",
        "                             scoring='accuracy')\n",
        "\tresults1.append(cv_results)\n",
        "\tnames1.append(name)\n",
        "\tprint('%s: %f (%f)' % (name, cv_results.mean(), cv_results.std()))\n",
        "\n",
        "# Compare result\n",
        "pyplot.boxplot(results1, labels=names1)\n",
        "pyplot.title('Algorithm Accuracy Comparison 1')\n",
        "pyplot.show()"
      ],
      "execution_count": 14,
      "outputs": [
        {
          "output_type": "stream",
          "name": "stderr",
          "text": [
            "/usr/local/lib/python3.7/dist-packages/sklearn/linear_model/_logistic.py:940: ConvergenceWarning: lbfgs failed to converge (status=1):\n",
            "STOP: TOTAL NO. of ITERATIONS REACHED LIMIT.\n",
            "\n",
            "Increase the number of iterations (max_iter) or scale the data as shown in:\n",
            "    https://scikit-learn.org/stable/modules/preprocessing.html\n",
            "Please also refer to the documentation for alternative solver options:\n",
            "    https://scikit-learn.org/stable/modules/linear_model.html#logistic-regression\n",
            "  extra_warning_msg=_LOGISTIC_SOLVER_CONVERGENCE_MSG)\n",
            "/usr/local/lib/python3.7/dist-packages/sklearn/linear_model/_logistic.py:940: ConvergenceWarning: lbfgs failed to converge (status=1):\n",
            "STOP: TOTAL NO. of ITERATIONS REACHED LIMIT.\n",
            "\n",
            "Increase the number of iterations (max_iter) or scale the data as shown in:\n",
            "    https://scikit-learn.org/stable/modules/preprocessing.html\n",
            "Please also refer to the documentation for alternative solver options:\n",
            "    https://scikit-learn.org/stable/modules/linear_model.html#logistic-regression\n",
            "  extra_warning_msg=_LOGISTIC_SOLVER_CONVERGENCE_MSG)\n"
          ]
        },
        {
          "output_type": "stream",
          "name": "stdout",
          "text": [
            "LR: 0.627800 (0.005728)\n",
            "KNN: 0.999945 (0.000165)\n",
            "DT: 1.000000 (0.000000)\n",
            "SVM: 1.000000 (0.000000)\n",
            "RF: 1.000000 (0.000000)\n",
            "LDA: 0.399835 (0.006972)\n",
            "NB: 0.990036 (0.002263)\n"
          ]
        },
        {
          "output_type": "display_data",
          "data": {
            "image/png": "[encoded data removed]",
            "text/plain": [
              "<Figure size 432x288 with 1 Axes>"
            ]
          },
          "metadata": {
            "needs_background": "light"
          }
        },
        {
          "output_type": "stream",
          "name": "stdout",
          "text": [
            "time: 41.9 s (started: 2021-10-07 14:40:17 +00:00)\n"
          ]
        }
      ]
    },
    {
      "cell_type": "code",
      "metadata": {
        "colab": {
          "base_uri": "https://localhost:8080/"
        },
        "id": "VCQ7UTOGhKd5",
        "outputId": "a1434451-9f08-458e-88cd-74ac2f44c3b6"
      },
      "source": [
        "# Re-train each algorithm using whole training dataset with Outlier for better model\n",
        "# Each model is separated in different code block for easier tracking of Runtime \n",
        "model1_LR = model_LR.fit(X1_train, Y1_train)\n",
        "joblib.dump(model1_LR,model_dir+'Opsi1_LR.joblib')"
      ],
      "execution_count": 15,
      "outputs": [
        {
          "output_type": "execute_result",
          "data": {
            "text/plain": [
              "['/content/Thesis/Resources/models/Opsi1_LR.joblib']"
            ]
          },
          "metadata": {},
          "execution_count": 15
        },
        {
          "output_type": "stream",
          "name": "stdout",
          "text": [
            "time: 3.15 s (started: 2021-10-07 14:40:59 +00:00)\n"
          ]
        }
      ]
    },
    {
      "cell_type": "code",
      "metadata": {
        "colab": {
          "base_uri": "https://localhost:8080/"
        },
        "id": "b1L47crjbcZi",
        "outputId": "b5120636-9c84-4556-fd61-7268d78d6b77"
      },
      "source": [
        "model1_KNN = model_KNN.fit(X1_train, Y1_train)\n",
        "joblib.dump(model1_KNN,model_dir+'Opsi1_KNN.joblib')"
      ],
      "execution_count": 16,
      "outputs": [
        {
          "output_type": "execute_result",
          "data": {
            "text/plain": [
              "['/content/Thesis/Resources/models/Opsi1_KNN.joblib']"
            ]
          },
          "metadata": {},
          "execution_count": 16
        },
        {
          "output_type": "stream",
          "name": "stdout",
          "text": [
            "time: 89.7 ms (started: 2021-10-07 14:41:02 +00:00)\n"
          ]
        }
      ]
    },
    {
      "cell_type": "code",
      "metadata": {
        "colab": {
          "base_uri": "https://localhost:8080/"
        },
        "id": "PDFXot7Abd27",
        "outputId": "64d9e5a2-8564-4fef-d99b-b5b1a8993a2e"
      },
      "source": [
        "model1_DT = model_DT.fit(X1_train, Y1_train)\n",
        "joblib.dump(model1_DT,model_dir+'Opsi1_DT.joblib')"
      ],
      "execution_count": 17,
      "outputs": [
        {
          "output_type": "execute_result",
          "data": {
            "text/plain": [
              "['/content/Thesis/Resources/models/Opsi1_DT.joblib']"
            ]
          },
          "metadata": {},
          "execution_count": 17
        },
        {
          "output_type": "stream",
          "name": "stdout",
          "text": [
            "time: 33.9 ms (started: 2021-10-07 14:41:02 +00:00)\n"
          ]
        }
      ]
    },
    {
      "cell_type": "code",
      "metadata": {
        "colab": {
          "base_uri": "https://localhost:8080/"
        },
        "id": "brljCvEebfXK",
        "outputId": "bae05037-3bbc-4c2d-bd87-26d4984adae6"
      },
      "source": [
        "model1_SVM = model_SVM.fit(X1_train, Y1_train)\n",
        "joblib.dump(model1_SVM,model_dir+'Opsi1_SVM.joblib')"
      ],
      "execution_count": 18,
      "outputs": [
        {
          "output_type": "execute_result",
          "data": {
            "text/plain": [
              "['/content/Thesis/Resources/models/Opsi1_SVM.joblib']"
            ]
          },
          "metadata": {},
          "execution_count": 18
        },
        {
          "output_type": "stream",
          "name": "stdout",
          "text": [
            "time: 953 ms (started: 2021-10-07 14:41:02 +00:00)\n"
          ]
        }
      ]
    },
    {
      "cell_type": "code",
      "metadata": {
        "colab": {
          "base_uri": "https://localhost:8080/"
        },
        "id": "ysQTqTHMbgsX",
        "outputId": "96b3a133-d7cf-4f7f-f6a7-4a963e337dd4"
      },
      "source": [
        "model1_RF = model_RF.fit(X1_train, Y1_train)\n",
        "joblib.dump(model1_RF,model_dir+'Opsi1_RF.joblib')"
      ],
      "execution_count": 19,
      "outputs": [
        {
          "output_type": "execute_result",
          "data": {
            "text/plain": [
              "['/content/Thesis/Resources/models/Opsi1_RF.joblib']"
            ]
          },
          "metadata": {},
          "execution_count": 19
        },
        {
          "output_type": "stream",
          "name": "stdout",
          "text": [
            "time: 675 ms (started: 2021-10-07 14:41:03 +00:00)\n"
          ]
        }
      ]
    },
    {
      "cell_type": "code",
      "metadata": {
        "colab": {
          "base_uri": "https://localhost:8080/"
        },
        "id": "PzoozNtzbh7M",
        "outputId": "09c9cdb6-70b6-4a5a-a4ed-5083affc4c6e"
      },
      "source": [
        "model1_LDA = model_LDA.fit(X1_train, Y1_train)\n",
        "joblib.dump(model1_LDA,model_dir+'Opsi1_LDA.joblib')"
      ],
      "execution_count": 20,
      "outputs": [
        {
          "output_type": "execute_result",
          "data": {
            "text/plain": [
              "['/content/Thesis/Resources/models/Opsi1_LDA.joblib']"
            ]
          },
          "metadata": {},
          "execution_count": 20
        },
        {
          "output_type": "stream",
          "name": "stdout",
          "text": [
            "time: 70.8 ms (started: 2021-10-07 14:41:04 +00:00)\n"
          ]
        }
      ]
    },
    {
      "cell_type": "code",
      "metadata": {
        "colab": {
          "base_uri": "https://localhost:8080/"
        },
        "id": "4GFzIRPfbjBy",
        "outputId": "80769068-ae59-4660-9de3-2d6ca8b6a257"
      },
      "source": [
        "model1_NB = model_NB.fit(X1_train, Y1_train)\n",
        "joblib.dump(model1_NB,model_dir+'Opsi1_NB.joblib')"
      ],
      "execution_count": 21,
      "outputs": [
        {
          "output_type": "execute_result",
          "data": {
            "text/plain": [
              "['/content/Thesis/Resources/models/Opsi1_NB.joblib']"
            ]
          },
          "metadata": {},
          "execution_count": 21
        },
        {
          "output_type": "stream",
          "name": "stdout",
          "text": [
            "time: 52.9 ms (started: 2021-10-07 14:41:04 +00:00)\n"
          ]
        }
      ]
    },
    {
      "cell_type": "code",
      "metadata": {
        "colab": {
          "base_uri": "https://localhost:8080/"
        },
        "id": "8HK1l3X8blAZ",
        "outputId": "a9496f99-f203-462f-8710-502508987a3d"
      },
      "source": [
        "print('Model with outlier training completed!')"
      ],
      "execution_count": 22,
      "outputs": [
        {
          "output_type": "stream",
          "name": "stdout",
          "text": [
            "Model with outlier training completed!\n",
            "time: 3.98 ms (started: 2021-10-07 14:41:04 +00:00)\n"
          ]
        }
      ]
    },
    {
      "cell_type": "markdown",
      "metadata": {
        "id": "QnqdplmYUgja"
      },
      "source": [
        "### No Outlier"
      ]
    },
    {
      "cell_type": "code",
      "metadata": {
        "colab": {
          "base_uri": "https://localhost:8080/"
        },
        "id": "T9SBDr55ZBcv",
        "outputId": "64b6dd2a-4b18-447f-c575-4389be4d66b5"
      },
      "source": [
        "# Algorithm considered\n",
        "model_LR = LogisticRegression(max_iter=475)\n",
        "model_KNN = KNeighborsClassifier()\n",
        "model_DT = DecisionTreeClassifier()\n",
        "model_SVM = SVC(gamma='auto')\n",
        "model_RF = RandomForestClassifier()\n",
        "model_LDA = LinearDiscriminantAnalysis()\n",
        "model_NB = GaussianNB()\n",
        "model_Kmeans = KMeans(n_clusters=3, random_state=0)\n",
        "model_dbscan = DBSCAN(eps=0.5, min_samples=100)\n",
        "###################################################################\n",
        "models = []\n",
        "models.append(('LR', model_LR))\n",
        "models.append(('KNN', model_KNN))\n",
        "models.append(('DT', model_DT))\n",
        "models.append(('SVM', model_SVM))\n",
        "models.append(('RF', model_RF))\n",
        "models.append(('LDA', model_LDA))\n",
        "models.append(('NB', model_NB))\n"
      ],
      "execution_count": 23,
      "outputs": [
        {
          "output_type": "stream",
          "name": "stdout",
          "text": [
            "time: 15.7 ms (started: 2021-10-07 14:41:04 +00:00)\n"
          ]
        }
      ]
    },
    {
      "cell_type": "code",
      "metadata": {
        "colab": {
          "base_uri": "https://localhost:8080/",
          "height": 0
        },
        "id": "P4Pgur2aVeSB",
        "outputId": "ff3cb2c4-b0b6-45b8-e2e1-4c61c043761c"
      },
      "source": [
        "# evaluate each model training in turn (exclude Outlier)\n",
        "for name, model in models:\n",
        "\tkfold = StratifiedKFold(n_splits=10, random_state=1, shuffle=True)\n",
        "\tcv_results = cross_val_score(model, X2_train, Y2_train, cv=kfold, \n",
        "                             scoring='accuracy')\n",
        "\tresults2.append(cv_results)\n",
        "\tnames2.append(name)\n",
        "\tprint('%s: %f (%f)' % (name, cv_results.mean(), cv_results.std()))\n",
        "\n",
        "# Compare result\n",
        "pyplot.boxplot(results2, labels=names2)\n",
        "pyplot.title('Algorithm Accuracy Comparison 2')\n",
        "pyplot.show()"
      ],
      "execution_count": 24,
      "outputs": [
        {
          "output_type": "stream",
          "name": "stdout",
          "text": [
            "LR: 0.978192 (0.044949)\n",
            "KNN: 1.000000 (0.000000)\n",
            "DT: 1.000000 (0.000000)\n",
            "SVM: 1.000000 (0.000000)\n",
            "RF: 1.000000 (0.000000)\n",
            "LDA: 0.989915 (0.013447)\n",
            "NB: 1.000000 (0.000000)\n"
          ]
        },
        {
          "output_type": "display_data",
          "data": {
            "image/png": "[encoded data removed]",
            "text/plain": [
              "<Figure size 432x288 with 1 Axes>"
            ]
          },
          "metadata": {
            "needs_background": "light"
          }
        },
        {
          "output_type": "stream",
          "name": "stdout",
          "text": [
            "time: 2.08 s (started: 2021-10-07 14:41:04 +00:00)\n"
          ]
        }
      ]
    },
    {
      "cell_type": "code",
      "metadata": {
        "colab": {
          "base_uri": "https://localhost:8080/"
        },
        "id": "PqRTC4KslVeI",
        "outputId": "893532e3-6056-4b45-f5f7-e996ee46591c"
      },
      "source": [
        "# Re-train each algorithm using whole training dataset excluding Outlier for better model \n",
        "# Each model is separated in different code block for easier tracking of Runtime\n",
        "model2_LR = model_LR.fit(X2_train, Y2_train)\n",
        "joblib.dump(model2_LR,model_dir+'Opsi2_LR.joblib')"
      ],
      "execution_count": 25,
      "outputs": [
        {
          "output_type": "execute_result",
          "data": {
            "text/plain": [
              "['/content/Thesis/Resources/models/Opsi2_LR.joblib']"
            ]
          },
          "metadata": {},
          "execution_count": 25
        },
        {
          "output_type": "stream",
          "name": "stdout",
          "text": [
            "time: 37.9 ms (started: 2021-10-07 14:41:06 +00:00)\n"
          ]
        }
      ]
    },
    {
      "cell_type": "code",
      "metadata": {
        "colab": {
          "base_uri": "https://localhost:8080/"
        },
        "id": "rPQ9Rxx7bzPD",
        "outputId": "78d5ed4b-56d3-44f5-b284-ba671ace7218"
      },
      "source": [
        "model2_KNN = model_KNN.fit(X2_train, Y2_train)\n",
        "joblib.dump(model2_KNN,model_dir+'Opsi2_KNN.joblib')"
      ],
      "execution_count": 26,
      "outputs": [
        {
          "output_type": "execute_result",
          "data": {
            "text/plain": [
              "['/content/Thesis/Resources/models/Opsi2_KNN.joblib']"
            ]
          },
          "metadata": {},
          "execution_count": 26
        },
        {
          "output_type": "stream",
          "name": "stdout",
          "text": [
            "time: 11.7 ms (started: 2021-10-07 14:41:06 +00:00)\n"
          ]
        }
      ]
    },
    {
      "cell_type": "code",
      "metadata": {
        "colab": {
          "base_uri": "https://localhost:8080/"
        },
        "id": "cInLfft9b0bL",
        "outputId": "e86af2f0-2e0a-46df-b3d2-4495864b7c4e"
      },
      "source": [
        "model2_DT = model_DT.fit(X2_train, Y2_train)\n",
        "joblib.dump(model2_DT,model_dir+'Opsi2_DT.joblib')"
      ],
      "execution_count": 27,
      "outputs": [
        {
          "output_type": "execute_result",
          "data": {
            "text/plain": [
              "['/content/Thesis/Resources/models/Opsi2_DT.joblib']"
            ]
          },
          "metadata": {},
          "execution_count": 27
        },
        {
          "output_type": "stream",
          "name": "stdout",
          "text": [
            "time: 11.2 ms (started: 2021-10-07 14:41:06 +00:00)\n"
          ]
        }
      ]
    },
    {
      "cell_type": "code",
      "metadata": {
        "colab": {
          "base_uri": "https://localhost:8080/"
        },
        "id": "93TftAIkb1nJ",
        "outputId": "80a7b576-24d1-46fc-9286-d2a0e378f406"
      },
      "source": [
        "model2_SVM = model_SVM.fit(X2_train, Y2_train)\n",
        "joblib.dump(model2_SVM,model_dir+'Opsi2_SVM.joblib')"
      ],
      "execution_count": 28,
      "outputs": [
        {
          "output_type": "execute_result",
          "data": {
            "text/plain": [
              "['/content/Thesis/Resources/models/Opsi2_SVM.joblib']"
            ]
          },
          "metadata": {},
          "execution_count": 28
        },
        {
          "output_type": "stream",
          "name": "stdout",
          "text": [
            "time: 15.2 ms (started: 2021-10-07 14:41:06 +00:00)\n"
          ]
        }
      ]
    },
    {
      "cell_type": "code",
      "metadata": {
        "colab": {
          "base_uri": "https://localhost:8080/"
        },
        "id": "QWTOLPHub2nX",
        "outputId": "862872bf-4a60-4b5c-9caf-7104fd49f153"
      },
      "source": [
        "model2_RF = model_RF.fit(X2_train, Y2_train)\n",
        "joblib.dump(model2_RF,model_dir+'Opsi2_RF.joblib')"
      ],
      "execution_count": 29,
      "outputs": [
        {
          "output_type": "execute_result",
          "data": {
            "text/plain": [
              "['/content/Thesis/Resources/models/Opsi2_RF.joblib']"
            ]
          },
          "metadata": {},
          "execution_count": 29
        },
        {
          "output_type": "stream",
          "name": "stdout",
          "text": [
            "time: 296 ms (started: 2021-10-07 14:41:06 +00:00)\n"
          ]
        }
      ]
    },
    {
      "cell_type": "code",
      "metadata": {
        "colab": {
          "base_uri": "https://localhost:8080/"
        },
        "id": "jn_7Dt_Kb3eq",
        "outputId": "3a36e983-e39e-47b2-a848-b540be3b00f3"
      },
      "source": [
        "model2_LDA = model_LDA.fit(X2_train, Y2_train)\n",
        "joblib.dump(model2_LDA,model_dir+'Opsi2_LDA.joblib')"
      ],
      "execution_count": 30,
      "outputs": [
        {
          "output_type": "execute_result",
          "data": {
            "text/plain": [
              "['/content/Thesis/Resources/models/Opsi2_LDA.joblib']"
            ]
          },
          "metadata": {},
          "execution_count": 30
        },
        {
          "output_type": "stream",
          "name": "stdout",
          "text": [
            "time: 19.1 ms (started: 2021-10-07 14:41:06 +00:00)\n"
          ]
        }
      ]
    },
    {
      "cell_type": "code",
      "metadata": {
        "colab": {
          "base_uri": "https://localhost:8080/"
        },
        "id": "SKXsrn8Hb4e3",
        "outputId": "5a4517da-a152-41d0-ee19-da18076fa8be"
      },
      "source": [
        "model2_NB = model_NB.fit(X2_train, Y2_train)\n",
        "joblib.dump(model2_NB,model_dir+'Opsi2_NB.joblib')"
      ],
      "execution_count": 31,
      "outputs": [
        {
          "output_type": "execute_result",
          "data": {
            "text/plain": [
              "['/content/Thesis/Resources/models/Opsi2_NB.joblib']"
            ]
          },
          "metadata": {},
          "execution_count": 31
        },
        {
          "output_type": "stream",
          "name": "stdout",
          "text": [
            "time: 8.42 ms (started: 2021-10-07 14:41:07 +00:00)\n"
          ]
        }
      ]
    },
    {
      "cell_type": "code",
      "metadata": {
        "colab": {
          "base_uri": "https://localhost:8080/"
        },
        "id": "jC6xR4vkcDJZ",
        "outputId": "ee75ad79-af29-428e-b121-b77d0931af99"
      },
      "source": [
        "print('Model no outlier training completed!')"
      ],
      "execution_count": 32,
      "outputs": [
        {
          "output_type": "stream",
          "name": "stdout",
          "text": [
            "Model no outlier training completed!\n",
            "time: 2.21 ms (started: 2021-10-07 14:41:07 +00:00)\n"
          ]
        }
      ]
    },
    {
      "cell_type": "markdown",
      "metadata": {
        "id": "bKk1VNHycDqB"
      },
      "source": [
        "# ML Model Evaluation\n"
      ]
    },
    {
      "cell_type": "markdown",
      "metadata": {
        "id": "wykIUgv0cRiF"
      },
      "source": [
        "## 1) ML Model Testing\n"
      ]
    },
    {
      "cell_type": "markdown",
      "metadata": {
        "id": "F5iqcXP2aH-S"
      },
      "source": [
        "### Test With Outlier"
      ]
    },
    {
      "cell_type": "code",
      "metadata": {
        "colab": {
          "base_uri": "https://localhost:8080/"
        },
        "id": "qzdh6PxgKlxj",
        "outputId": "9a818137-68bc-4dfd-b23a-0825be79bd19"
      },
      "source": [
        "#Correct label\n",
        "print('Correct label distribution:')\n",
        "print(accuracy_score(Y1_test, Y1_test))\n",
        "print(confusion_matrix(Y1_test, Y1_test))\n"
      ],
      "execution_count": 33,
      "outputs": [
        {
          "output_type": "stream",
          "name": "stdout",
          "text": [
            "Correct label distribution:\n",
            "1.0\n",
            "[[1570    0    0]\n",
            " [   0 1455    0]\n",
            " [   0    0 1517]]\n",
            "time: 29.2 ms (started: 2021-10-07 14:41:07 +00:00)\n"
          ]
        }
      ]
    },
    {
      "cell_type": "code",
      "metadata": {
        "colab": {
          "base_uri": "https://localhost:8080/",
          "height": 0
        },
        "id": "oNeJNTjDdHzY",
        "outputId": "f4809e0e-a242-4102-df3b-20993a31a4d8"
      },
      "source": [
        "# Make predictions on validation dataset (with Outlier)\n",
        "pred_LR = model1_LR.predict(X1_test)\n",
        "\n",
        "print('LR Result:')\n",
        "print(accuracy_score(Y1_test, pred_LR))\n",
        "print(classification_report(Y1_test, pred_LR))\n",
        "plot_confusion_matrix(model1_LR, X1_test, Y1_test, values_format='d', cmap=plt.cm.Blues)\n",
        "plt.show()"
      ],
      "execution_count": 34,
      "outputs": [
        {
          "output_type": "stream",
          "name": "stdout",
          "text": [
            "LR Result:\n",
            "0.6164685160722149\n",
            "              precision    recall  f1-score   support\n",
            "\n",
            " Maintenance       0.00      0.00      0.00      1570\n",
            "      Normal       0.46      1.00      0.63      1455\n",
            "     Outlier       1.00      0.89      0.94      1517\n",
            "\n",
            "    accuracy                           0.62      4542\n",
            "   macro avg       0.49      0.63      0.52      4542\n",
            "weighted avg       0.48      0.62      0.51      4542\n",
            "\n"
          ]
        },
        {
          "output_type": "display_data",
          "data": {
            "image/png": "[encoded data removed]",
            "text/plain": [
              "<Figure size 432x288 with 2 Axes>"
            ]
          },
          "metadata": {
            "needs_background": "light"
          }
        },
        {
          "output_type": "stream",
          "name": "stdout",
          "text": [
            "time: 344 ms (started: 2021-10-07 14:41:07 +00:00)\n"
          ]
        }
      ]
    },
    {
      "cell_type": "code",
      "metadata": {
        "colab": {
          "base_uri": "https://localhost:8080/",
          "height": 0
        },
        "id": "_lo22qIIdJQT",
        "outputId": "2092c574-bd1b-4b28-829f-1de9646ecd77"
      },
      "source": [
        "pred_KNN = model1_KNN.predict(X1_test)\n",
        "\n",
        "print('KNN Result:')\n",
        "print(accuracy_score(Y1_test, pred_KNN))\n",
        "print(classification_report(Y1_test, pred_KNN))\n",
        "plot_confusion_matrix(model1_KNN, X1_test, Y1_test, values_format='d', cmap=plt.cm.Blues)\n",
        "plt.show()"
      ],
      "execution_count": 35,
      "outputs": [
        {
          "output_type": "stream",
          "name": "stdout",
          "text": [
            "KNN Result:\n",
            "0.9997798326728313\n",
            "              precision    recall  f1-score   support\n",
            "\n",
            " Maintenance       1.00      1.00      1.00      1570\n",
            "      Normal       1.00      1.00      1.00      1455\n",
            "     Outlier       1.00      1.00      1.00      1517\n",
            "\n",
            "    accuracy                           1.00      4542\n",
            "   macro avg       1.00      1.00      1.00      4542\n",
            "weighted avg       1.00      1.00      1.00      4542\n",
            "\n"
          ]
        },
        {
          "output_type": "display_data",
          "data": {
            "image/png": "[encoded data removed]",
            "text/plain": [
              "<Figure size 432x288 with 2 Axes>"
            ]
          },
          "metadata": {
            "needs_background": "light"
          }
        },
        {
          "output_type": "stream",
          "name": "stdout",
          "text": [
            "time: 786 ms (started: 2021-10-07 14:41:07 +00:00)\n"
          ]
        }
      ]
    },
    {
      "cell_type": "code",
      "metadata": {
        "colab": {
          "base_uri": "https://localhost:8080/",
          "height": 0
        },
        "id": "e4wa2VKHdKzc",
        "outputId": "418de7f4-b427-40ad-a53f-8d39d0f8f499"
      },
      "source": [
        "pred_DT = model1_DT.predict(X1_test)\n",
        "\n",
        "print('DT Result:')\n",
        "print(accuracy_score(Y1_test, pred_DT))\n",
        "print(classification_report(Y1_test, pred_DT))\n",
        "plot_confusion_matrix(model1_DT, X1_test, Y1_test, values_format='d', cmap=plt.cm.Blues)\n",
        "plt.show()"
      ],
      "execution_count": 36,
      "outputs": [
        {
          "output_type": "stream",
          "name": "stdout",
          "text": [
            "DT Result:\n",
            "1.0\n",
            "              precision    recall  f1-score   support\n",
            "\n",
            " Maintenance       1.00      1.00      1.00      1570\n",
            "      Normal       1.00      1.00      1.00      1455\n",
            "     Outlier       1.00      1.00      1.00      1517\n",
            "\n",
            "    accuracy                           1.00      4542\n",
            "   macro avg       1.00      1.00      1.00      4542\n",
            "weighted avg       1.00      1.00      1.00      4542\n",
            "\n"
          ]
        },
        {
          "output_type": "display_data",
          "data": {
            "image/png": "[encoded data removed]",
            "text/plain": [
              "<Figure size 432x288 with 2 Axes>"
            ]
          },
          "metadata": {
            "needs_background": "light"
          }
        },
        {
          "output_type": "stream",
          "name": "stdout",
          "text": [
            "time: 329 ms (started: 2021-10-07 14:41:08 +00:00)\n"
          ]
        }
      ]
    },
    {
      "cell_type": "code",
      "metadata": {
        "colab": {
          "base_uri": "https://localhost:8080/",
          "height": 0
        },
        "id": "cw5ucBFedMs5",
        "outputId": "c1eb8efc-26ba-4bcc-908a-16d5fb6a488c"
      },
      "source": [
        "pred_SVM = model1_SVM.predict(X1_test)\n",
        "\n",
        "print('SVM Result:')\n",
        "print(accuracy_score(Y1_test, pred_SVM))\n",
        "print(classification_report(Y1_test, pred_SVM))\n",
        "plot_confusion_matrix(model1_SVM, X1_test, Y1_test, values_format='d', cmap=plt.cm.Blues)\n",
        "plt.show()"
      ],
      "execution_count": 37,
      "outputs": [
        {
          "output_type": "stream",
          "name": "stdout",
          "text": [
            "SVM Result:\n",
            "1.0\n",
            "              precision    recall  f1-score   support\n",
            "\n",
            " Maintenance       1.00      1.00      1.00      1570\n",
            "      Normal       1.00      1.00      1.00      1455\n",
            "     Outlier       1.00      1.00      1.00      1517\n",
            "\n",
            "    accuracy                           1.00      4542\n",
            "   macro avg       1.00      1.00      1.00      4542\n",
            "weighted avg       1.00      1.00      1.00      4542\n",
            "\n"
          ]
        },
        {
          "output_type": "display_data",
          "data": {
            "image/png": "[encoded data removed]",
            "text/plain": [
              "<Figure size 432x288 with 2 Axes>"
            ]
          },
          "metadata": {
            "needs_background": "light"
          }
        },
        {
          "output_type": "stream",
          "name": "stdout",
          "text": [
            "time: 583 ms (started: 2021-10-07 14:41:08 +00:00)\n"
          ]
        }
      ]
    },
    {
      "cell_type": "code",
      "metadata": {
        "colab": {
          "base_uri": "https://localhost:8080/",
          "height": 0
        },
        "id": "Y-jTMT_3dOu7",
        "outputId": "044323f0-28d3-4ebd-f4c3-10c080bf6430"
      },
      "source": [
        "pred_RF = model1_RF.predict(X1_test)\n",
        "\n",
        "print('RF Result:')\n",
        "print(accuracy_score(Y1_test, pred_RF))\n",
        "print(classification_report(Y1_test, pred_RF))\n",
        "plot_confusion_matrix(model1_RF, X1_test, Y1_test, values_format='d', cmap=plt.cm.Blues)\n",
        "plt.show()"
      ],
      "execution_count": 38,
      "outputs": [
        {
          "output_type": "stream",
          "name": "stdout",
          "text": [
            "RF Result:\n",
            "1.0\n",
            "              precision    recall  f1-score   support\n",
            "\n",
            " Maintenance       1.00      1.00      1.00      1570\n",
            "      Normal       1.00      1.00      1.00      1455\n",
            "     Outlier       1.00      1.00      1.00      1517\n",
            "\n",
            "    accuracy                           1.00      4542\n",
            "   macro avg       1.00      1.00      1.00      4542\n",
            "weighted avg       1.00      1.00      1.00      4542\n",
            "\n"
          ]
        },
        {
          "output_type": "display_data",
          "data": {
            "image/png": "[encoded data removed]",
            "text/plain": [
              "<Figure size 432x288 with 2 Axes>"
            ]
          },
          "metadata": {
            "needs_background": "light"
          }
        },
        {
          "output_type": "stream",
          "name": "stdout",
          "text": [
            "time: 403 ms (started: 2021-10-07 14:41:09 +00:00)\n"
          ]
        }
      ]
    },
    {
      "cell_type": "code",
      "metadata": {
        "colab": {
          "base_uri": "https://localhost:8080/",
          "height": 0
        },
        "id": "OkCeL6SddQVD",
        "outputId": "0829d1d8-c67c-4589-fc87-bb778c338b10"
      },
      "source": [
        "pred_LDA = model1_LDA.predict(X1_test)\n",
        "\n",
        "print('LDA Result:')\n",
        "print(accuracy_score(Y1_test, pred_LDA))\n",
        "print(classification_report(Y1_test, pred_LDA))\n",
        "plot_confusion_matrix(model1_LDA, X1_test, Y1_test, values_format='d', cmap=plt.cm.Blues)\n",
        "plt.show()"
      ],
      "execution_count": 39,
      "outputs": [
        {
          "output_type": "stream",
          "name": "stdout",
          "text": [
            "LDA Result:\n",
            "0.38463232056362834\n",
            "              precision    recall  f1-score   support\n",
            "\n",
            " Maintenance       0.00      0.00      0.00      1570\n",
            "      Normal       0.34      1.00      0.51      1455\n",
            "     Outlier       1.00      0.19      0.32      1517\n",
            "\n",
            "    accuracy                           0.38      4542\n",
            "   macro avg       0.45      0.40      0.28      4542\n",
            "weighted avg       0.44      0.38      0.27      4542\n",
            "\n"
          ]
        },
        {
          "output_type": "display_data",
          "data": {
            "image/png": "[encoded data removed]",
            "text/plain": [
              "<Figure size 432x288 with 2 Axes>"
            ]
          },
          "metadata": {
            "needs_background": "light"
          }
        },
        {
          "output_type": "stream",
          "name": "stdout",
          "text": [
            "time: 316 ms (started: 2021-10-07 14:41:09 +00:00)\n"
          ]
        }
      ]
    },
    {
      "cell_type": "code",
      "metadata": {
        "colab": {
          "base_uri": "https://localhost:8080/",
          "height": 0
        },
        "id": "QBRZgRjAdR_T",
        "outputId": "c5ba822d-a3a7-4350-a63b-ebda7ab4e94d"
      },
      "source": [
        "pred_NB = model1_NB.predict(X1_test)\n",
        "\n",
        "print('NB Result:')\n",
        "print(accuracy_score(Y1_test, pred_NB))\n",
        "print(classification_report(Y1_test, pred_NB))\n",
        "plot_confusion_matrix(model1_NB, X1_test, Y1_test, values_format='d', cmap=plt.cm.Blues)\n",
        "plt.show()"
      ],
      "execution_count": 40,
      "outputs": [
        {
          "output_type": "stream",
          "name": "stdout",
          "text": [
            "NB Result:\n",
            "0.9907529722589168\n",
            "              precision    recall  f1-score   support\n",
            "\n",
            " Maintenance       0.98      1.00      0.99      1570\n",
            "      Normal       1.00      1.00      1.00      1455\n",
            "     Outlier       1.00      0.97      0.99      1517\n",
            "\n",
            "    accuracy                           0.99      4542\n",
            "   macro avg       0.99      0.99      0.99      4542\n",
            "weighted avg       0.99      0.99      0.99      4542\n",
            "\n"
          ]
        },
        {
          "output_type": "display_data",
          "data": {
            "image/png": "[encoded data removed]",
            "text/plain": [
              "<Figure size 432x288 with 2 Axes>"
            ]
          },
          "metadata": {
            "needs_background": "light"
          }
        },
        {
          "output_type": "stream",
          "name": "stdout",
          "text": [
            "time: 287 ms (started: 2021-10-07 14:41:09 +00:00)\n"
          ]
        }
      ]
    },
    {
      "cell_type": "markdown",
      "metadata": {
        "id": "3nBchjsya8RL"
      },
      "source": [
        "### Test No Outlier"
      ]
    },
    {
      "cell_type": "code",
      "metadata": {
        "colab": {
          "base_uri": "https://localhost:8080/"
        },
        "id": "Ag6e6WLFNTCv",
        "outputId": "5a1b2132-80df-4da3-d13a-1724ac3e4024"
      },
      "source": [
        "# Each model is separated in different code block for easier tracking of Runtime\n",
        "#Correct label\n",
        "print('Correct label distribution:')\n",
        "print(accuracy_score(Y2_test, Y2_test))\n",
        "print(confusion_matrix(Y2_test, Y2_test))"
      ],
      "execution_count": 41,
      "outputs": [
        {
          "output_type": "stream",
          "name": "stdout",
          "text": [
            "Correct label distribution:\n",
            "1.0\n",
            "[[75  0]\n",
            " [ 0 74]]\n",
            "time: 7.13 ms (started: 2021-10-07 14:41:10 +00:00)\n"
          ]
        }
      ]
    },
    {
      "cell_type": "code",
      "metadata": {
        "colab": {
          "base_uri": "https://localhost:8080/",
          "height": 0
        },
        "id": "-RlFgy5We1tF",
        "outputId": "773d1e58-1894-460d-dfd7-351486bb0cc4"
      },
      "source": [
        "# Make predictions on validation dataset (with Outlier)\n",
        "pred_LR = model2_LR.predict(X2_test)\n",
        "\n",
        "print('LR Result:')\n",
        "print(accuracy_score(Y2_test, pred_LR))\n",
        "print(classification_report(Y2_test, pred_LR))\n",
        "plot_confusion_matrix(model2_LR, X2_test, Y2_test, values_format='d', cmap=plt.cm.Blues)\n",
        "plt.show()"
      ],
      "execution_count": 42,
      "outputs": [
        {
          "output_type": "stream",
          "name": "stdout",
          "text": [
            "LR Result:\n",
            "1.0\n",
            "              precision    recall  f1-score   support\n",
            "\n",
            " Maintenance       1.00      1.00      1.00        75\n",
            "      Normal       1.00      1.00      1.00        74\n",
            "\n",
            "    accuracy                           1.00       149\n",
            "   macro avg       1.00      1.00      1.00       149\n",
            "weighted avg       1.00      1.00      1.00       149\n",
            "\n"
          ]
        },
        {
          "output_type": "display_data",
          "data": {
            "image/png": "[encoded data removed]",
            "text/plain": [
              "<Figure size 432x288 with 2 Axes>"
            ]
          },
          "metadata": {
            "needs_background": "light"
          }
        },
        {
          "output_type": "stream",
          "name": "stdout",
          "text": [
            "time: 180 ms (started: 2021-10-07 14:41:10 +00:00)\n"
          ]
        }
      ]
    },
    {
      "cell_type": "code",
      "metadata": {
        "colab": {
          "base_uri": "https://localhost:8080/",
          "height": 0
        },
        "id": "96PNGuLje1ic",
        "outputId": "fb7bdf6a-4195-4628-c36c-ae678b368962"
      },
      "source": [
        "pred_KNN = model2_KNN.predict(X2_test)\n",
        "\n",
        "print('KNN Result:')\n",
        "print(accuracy_score(Y2_test, pred_KNN))\n",
        "print(classification_report(Y2_test, pred_KNN))\n",
        "plot_confusion_matrix(model2_KNN, X2_test, Y2_test, values_format='d', cmap=plt.cm.Blues)\n",
        "plt.show()"
      ],
      "execution_count": 43,
      "outputs": [
        {
          "output_type": "stream",
          "name": "stdout",
          "text": [
            "KNN Result:\n",
            "1.0\n",
            "              precision    recall  f1-score   support\n",
            "\n",
            " Maintenance       1.00      1.00      1.00        75\n",
            "      Normal       1.00      1.00      1.00        74\n",
            "\n",
            "    accuracy                           1.00       149\n",
            "   macro avg       1.00      1.00      1.00       149\n",
            "weighted avg       1.00      1.00      1.00       149\n",
            "\n"
          ]
        },
        {
          "output_type": "display_data",
          "data": {
            "image/png": "[encoded data removed]",
            "text/plain": [
              "<Figure size 432x288 with 2 Axes>"
            ]
          },
          "metadata": {
            "needs_background": "light"
          }
        },
        {
          "output_type": "stream",
          "name": "stdout",
          "text": [
            "time: 192 ms (started: 2021-10-07 14:41:10 +00:00)\n"
          ]
        }
      ]
    },
    {
      "cell_type": "code",
      "metadata": {
        "colab": {
          "base_uri": "https://localhost:8080/",
          "height": 0
        },
        "id": "vtdB79kXe1XE",
        "outputId": "23eab842-351f-4ee1-83bc-88e8e48021cc"
      },
      "source": [
        "pred_DT = model2_DT.predict(X2_test)\n",
        "\n",
        "print('DT Result:')\n",
        "print(accuracy_score(Y2_test, pred_DT))\n",
        "print(classification_report(Y2_test, pred_DT))\n",
        "plot_confusion_matrix(model2_DT, X2_test, Y2_test, values_format='d', cmap=plt.cm.Blues)\n",
        "plt.show()"
      ],
      "execution_count": 44,
      "outputs": [
        {
          "output_type": "stream",
          "name": "stdout",
          "text": [
            "DT Result:\n",
            "1.0\n",
            "              precision    recall  f1-score   support\n",
            "\n",
            " Maintenance       1.00      1.00      1.00        75\n",
            "      Normal       1.00      1.00      1.00        74\n",
            "\n",
            "    accuracy                           1.00       149\n",
            "   macro avg       1.00      1.00      1.00       149\n",
            "weighted avg       1.00      1.00      1.00       149\n",
            "\n"
          ]
        },
        {
          "output_type": "display_data",
          "data": {
            "image/png": "[encoded data removed]",
            "text/plain": [
              "<Figure size 432x288 with 2 Axes>"
            ]
          },
          "metadata": {
            "needs_background": "light"
          }
        },
        {
          "output_type": "stream",
          "name": "stdout",
          "text": [
            "time: 180 ms (started: 2021-10-07 14:41:10 +00:00)\n"
          ]
        }
      ]
    },
    {
      "cell_type": "code",
      "metadata": {
        "colab": {
          "base_uri": "https://localhost:8080/",
          "height": 0
        },
        "id": "RZxNpFN2e1Lh",
        "outputId": "69cb5b09-b21d-4487-d947-b4f5f1c47e56"
      },
      "source": [
        "pred_SVM = model2_SVM.predict(X2_test)\n",
        "\n",
        "print('SVM Result:')\n",
        "print(accuracy_score(Y2_test, pred_SVM))\n",
        "print(classification_report(Y2_test, pred_SVM))\n",
        "plot_confusion_matrix(model2_SVM, X2_test, Y2_test, values_format='d', cmap=plt.cm.Blues)\n",
        "plt.show()"
      ],
      "execution_count": 45,
      "outputs": [
        {
          "output_type": "stream",
          "name": "stdout",
          "text": [
            "SVM Result:\n",
            "1.0\n",
            "              precision    recall  f1-score   support\n",
            "\n",
            " Maintenance       1.00      1.00      1.00        75\n",
            "      Normal       1.00      1.00      1.00        74\n",
            "\n",
            "    accuracy                           1.00       149\n",
            "   macro avg       1.00      1.00      1.00       149\n",
            "weighted avg       1.00      1.00      1.00       149\n",
            "\n"
          ]
        },
        {
          "output_type": "display_data",
          "data": {
            "image/png": "[encoded data removed]",
            "text/plain": [
              "<Figure size 432x288 with 2 Axes>"
            ]
          },
          "metadata": {
            "needs_background": "light"
          }
        },
        {
          "output_type": "stream",
          "name": "stdout",
          "text": [
            "time: 291 ms (started: 2021-10-07 14:41:10 +00:00)\n"
          ]
        }
      ]
    },
    {
      "cell_type": "code",
      "metadata": {
        "colab": {
          "base_uri": "https://localhost:8080/",
          "height": 0
        },
        "id": "ofr8gOJ7e1AT",
        "outputId": "358d2195-0864-4285-e60d-5e461910bebf"
      },
      "source": [
        "pred_RF = model2_RF.predict(X2_test)\n",
        "\n",
        "print('RF Result:')\n",
        "print(accuracy_score(Y2_test, pred_RF))\n",
        "print(classification_report(Y2_test, pred_RF))\n",
        "plot_confusion_matrix(model2_RF, X2_test, Y2_test, values_format='d', cmap=plt.cm.Blues)\n",
        "plt.show()"
      ],
      "execution_count": 46,
      "outputs": [
        {
          "output_type": "stream",
          "name": "stdout",
          "text": [
            "RF Result:\n",
            "1.0\n",
            "              precision    recall  f1-score   support\n",
            "\n",
            " Maintenance       1.00      1.00      1.00        75\n",
            "      Normal       1.00      1.00      1.00        74\n",
            "\n",
            "    accuracy                           1.00       149\n",
            "   macro avg       1.00      1.00      1.00       149\n",
            "weighted avg       1.00      1.00      1.00       149\n",
            "\n"
          ]
        },
        {
          "output_type": "display_data",
          "data": {
            "image/png": "[encoded data removed]",
            "text/plain": [
              "<Figure size 432x288 with 2 Axes>"
            ]
          },
          "metadata": {
            "needs_background": "light"
          }
        },
        {
          "output_type": "stream",
          "name": "stdout",
          "text": [
            "time: 208 ms (started: 2021-10-07 14:41:11 +00:00)\n"
          ]
        }
      ]
    },
    {
      "cell_type": "code",
      "metadata": {
        "colab": {
          "base_uri": "https://localhost:8080/",
          "height": 0
        },
        "id": "ci5iIxsoe0zF",
        "outputId": "3e402e14-1cf8-495c-c2e3-068f293e464f"
      },
      "source": [
        "pred_LDA = model2_LDA.predict(X2_test)\n",
        "\n",
        "print('LDA Result:')\n",
        "print(accuracy_score(Y2_test, pred_LDA))\n",
        "print(classification_report(Y2_test, pred_LDA))\n",
        "plot_confusion_matrix(model2_LDA, X2_test, Y2_test, values_format='d', cmap=plt.cm.Blues)\n",
        "plt.show()"
      ],
      "execution_count": 47,
      "outputs": [
        {
          "output_type": "stream",
          "name": "stdout",
          "text": [
            "LDA Result:\n",
            "0.9798657718120806\n",
            "              precision    recall  f1-score   support\n",
            "\n",
            " Maintenance       0.96      1.00      0.98        75\n",
            "      Normal       1.00      0.96      0.98        74\n",
            "\n",
            "    accuracy                           0.98       149\n",
            "   macro avg       0.98      0.98      0.98       149\n",
            "weighted avg       0.98      0.98      0.98       149\n",
            "\n"
          ]
        },
        {
          "output_type": "display_data",
          "data": {
            "image/png": "[encoded data removed]",
            "text/plain": [
              "<Figure size 432x288 with 2 Axes>"
            ]
          },
          "metadata": {
            "needs_background": "light"
          }
        },
        {
          "output_type": "stream",
          "name": "stdout",
          "text": [
            "time: 187 ms (started: 2021-10-07 14:41:11 +00:00)\n"
          ]
        }
      ]
    },
    {
      "cell_type": "code",
      "metadata": {
        "colab": {
          "base_uri": "https://localhost:8080/",
          "height": 0
        },
        "id": "aGJLDuoee0OW",
        "outputId": "4533a77d-bdfe-4e4f-ef03-062d6d26b8f9"
      },
      "source": [
        "pred_NB = model2_NB.predict(X2_test)\n",
        "\n",
        "print('NB Result:')\n",
        "print(accuracy_score(Y2_test, pred_NB))\n",
        "print(classification_report(Y2_test, pred_NB))\n",
        "plot_confusion_matrix(model2_NB, X2_test, Y2_test, values_format='d', cmap=plt.cm.Blues)\n",
        "plt.show()"
      ],
      "execution_count": 48,
      "outputs": [
        {
          "output_type": "stream",
          "name": "stdout",
          "text": [
            "NB Result:\n",
            "1.0\n",
            "              precision    recall  f1-score   support\n",
            "\n",
            " Maintenance       1.00      1.00      1.00        75\n",
            "      Normal       1.00      1.00      1.00        74\n",
            "\n",
            "    accuracy                           1.00       149\n",
            "   macro avg       1.00      1.00      1.00       149\n",
            "weighted avg       1.00      1.00      1.00       149\n",
            "\n"
          ]
        },
        {
          "output_type": "display_data",
          "data": {
            "image/png": "[encoded data removed]",
            "text/plain": [
              "<Figure size 432x288 with 2 Axes>"
            ]
          },
          "metadata": {
            "needs_background": "light"
          }
        },
        {
          "output_type": "stream",
          "name": "stdout",
          "text": [
            "time: 186 ms (started: 2021-10-07 14:41:11 +00:00)\n"
          ]
        }
      ]
    },
    {
      "cell_type": "markdown",
      "metadata": {
        "id": "mjBUy0hXaNiL"
      },
      "source": [
        "### Prediction Test with Outlier"
      ]
    },
    {
      "cell_type": "code",
      "metadata": {
        "colab": {
          "base_uri": "https://localhost:8080/",
          "height": 0
        },
        "id": "AqkTqhUQqFal",
        "outputId": "a8425db5-8f64-4526-9b59-2e2be8830327"
      },
      "source": [
        "# Make predictions on unlabelled dataset with outlier\n",
        "predictions1_LR = model1_LR.predict(df_Unlabelled[features])\n",
        "predictions1_KNN = model1_KNN.predict(df_Unlabelled[features])\n",
        "predictions1_DT = model1_DT.predict(df_Unlabelled[features])\n",
        "predictions1_SVM = model1_SVM.predict(df_Unlabelled[features])\n",
        "predictions1_RF = model1_RF.predict(df_Unlabelled[features])\n",
        "predictions1_LDA = model1_LDA.predict(df_Unlabelled[features])\n",
        "predictions1_NB = model1_NB.predict(df_Unlabelled[features])\n",
        "\n",
        "df_predict1 =  pd.DataFrame({'LR': predictions1_LR, 'KNN': predictions1_KNN,\n",
        "                         'DT':predictions1_DT, 'SVM':predictions1_SVM,\n",
        "                         'RF':predictions1_RF, 'LDA':predictions1_LDA,\n",
        "                         'NB':predictions1_NB})\n",
        "\n",
        "df_predict1"
      ],
      "execution_count": 49,
      "outputs": [
        {
          "output_type": "execute_result",
          "data": {
            "text/html": [
              "<div>\n",
              "<style scoped>\n",
              "    .dataframe tbody tr th:only-of-type {\n",
              "        vertical-align: middle;\n",
              "    }\n",
              "\n",
              "    .dataframe tbody tr th {\n",
              "        vertical-align: top;\n",
              "    }\n",
              "\n",
              "    .dataframe thead th {\n",
              "        text-align: right;\n",
              "    }\n",
              "</style>\n",
              "<table border=\"1\" class=\"dataframe\">\n",
              "  <thead>\n",
              "    <tr style=\"text-align: right;\">\n",
              "      <th></th>\n",
              "      <th>LR</th>\n",
              "      <th>KNN</th>\n",
              "      <th>DT</th>\n",
              "      <th>SVM</th>\n",
              "      <th>RF</th>\n",
              "      <th>LDA</th>\n",
              "      <th>NB</th>\n",
              "    </tr>\n",
              "  </thead>\n",
              "  <tbody>\n",
              "    <tr>\n",
              "      <th>0</th>\n",
              "      <td>Outlier</td>\n",
              "      <td>Outlier</td>\n",
              "      <td>Normal</td>\n",
              "      <td>Outlier</td>\n",
              "      <td>Normal</td>\n",
              "      <td>Outlier</td>\n",
              "      <td>Outlier</td>\n",
              "    </tr>\n",
              "    <tr>\n",
              "      <th>1</th>\n",
              "      <td>Outlier</td>\n",
              "      <td>Outlier</td>\n",
              "      <td>Normal</td>\n",
              "      <td>Outlier</td>\n",
              "      <td>Outlier</td>\n",
              "      <td>Outlier</td>\n",
              "      <td>Outlier</td>\n",
              "    </tr>\n",
              "    <tr>\n",
              "      <th>2</th>\n",
              "      <td>Outlier</td>\n",
              "      <td>Outlier</td>\n",
              "      <td>Outlier</td>\n",
              "      <td>Outlier</td>\n",
              "      <td>Outlier</td>\n",
              "      <td>Outlier</td>\n",
              "      <td>Outlier</td>\n",
              "    </tr>\n",
              "    <tr>\n",
              "      <th>3</th>\n",
              "      <td>Outlier</td>\n",
              "      <td>Outlier</td>\n",
              "      <td>Outlier</td>\n",
              "      <td>Outlier</td>\n",
              "      <td>Outlier</td>\n",
              "      <td>Outlier</td>\n",
              "      <td>Outlier</td>\n",
              "    </tr>\n",
              "    <tr>\n",
              "      <th>4</th>\n",
              "      <td>Outlier</td>\n",
              "      <td>Outlier</td>\n",
              "      <td>Outlier</td>\n",
              "      <td>Outlier</td>\n",
              "      <td>Outlier</td>\n",
              "      <td>Outlier</td>\n",
              "      <td>Outlier</td>\n",
              "    </tr>\n",
              "    <tr>\n",
              "      <th>...</th>\n",
              "      <td>...</td>\n",
              "      <td>...</td>\n",
              "      <td>...</td>\n",
              "      <td>...</td>\n",
              "      <td>...</td>\n",
              "      <td>...</td>\n",
              "      <td>...</td>\n",
              "    </tr>\n",
              "    <tr>\n",
              "      <th>33827</th>\n",
              "      <td>Outlier</td>\n",
              "      <td>Outlier</td>\n",
              "      <td>Outlier</td>\n",
              "      <td>Outlier</td>\n",
              "      <td>Outlier</td>\n",
              "      <td>Outlier</td>\n",
              "      <td>Outlier</td>\n",
              "    </tr>\n",
              "    <tr>\n",
              "      <th>33828</th>\n",
              "      <td>Outlier</td>\n",
              "      <td>Outlier</td>\n",
              "      <td>Outlier</td>\n",
              "      <td>Outlier</td>\n",
              "      <td>Outlier</td>\n",
              "      <td>Outlier</td>\n",
              "      <td>Outlier</td>\n",
              "    </tr>\n",
              "    <tr>\n",
              "      <th>33829</th>\n",
              "      <td>Outlier</td>\n",
              "      <td>Outlier</td>\n",
              "      <td>Normal</td>\n",
              "      <td>Outlier</td>\n",
              "      <td>Normal</td>\n",
              "      <td>Outlier</td>\n",
              "      <td>Outlier</td>\n",
              "    </tr>\n",
              "    <tr>\n",
              "      <th>33830</th>\n",
              "      <td>Outlier</td>\n",
              "      <td>Outlier</td>\n",
              "      <td>Outlier</td>\n",
              "      <td>Outlier</td>\n",
              "      <td>Outlier</td>\n",
              "      <td>Normal</td>\n",
              "      <td>Outlier</td>\n",
              "    </tr>\n",
              "    <tr>\n",
              "      <th>33831</th>\n",
              "      <td>Outlier</td>\n",
              "      <td>Outlier</td>\n",
              "      <td>Outlier</td>\n",
              "      <td>Outlier</td>\n",
              "      <td>Outlier</td>\n",
              "      <td>Normal</td>\n",
              "      <td>Outlier</td>\n",
              "    </tr>\n",
              "  </tbody>\n",
              "</table>\n",
              "<p>33832 rows × 7 columns</p>\n",
              "</div>"
            ],
            "text/plain": [
              "            LR      KNN       DT      SVM       RF      LDA       NB\n",
              "0      Outlier  Outlier   Normal  Outlier   Normal  Outlier  Outlier\n",
              "1      Outlier  Outlier   Normal  Outlier  Outlier  Outlier  Outlier\n",
              "2      Outlier  Outlier  Outlier  Outlier  Outlier  Outlier  Outlier\n",
              "3      Outlier  Outlier  Outlier  Outlier  Outlier  Outlier  Outlier\n",
              "4      Outlier  Outlier  Outlier  Outlier  Outlier  Outlier  Outlier\n",
              "...        ...      ...      ...      ...      ...      ...      ...\n",
              "33827  Outlier  Outlier  Outlier  Outlier  Outlier  Outlier  Outlier\n",
              "33828  Outlier  Outlier  Outlier  Outlier  Outlier  Outlier  Outlier\n",
              "33829  Outlier  Outlier   Normal  Outlier   Normal  Outlier  Outlier\n",
              "33830  Outlier  Outlier  Outlier  Outlier  Outlier   Normal  Outlier\n",
              "33831  Outlier  Outlier  Outlier  Outlier  Outlier   Normal  Outlier\n",
              "\n",
              "[33832 rows x 7 columns]"
            ]
          },
          "metadata": {},
          "execution_count": 49
        },
        {
          "output_type": "stream",
          "name": "stdout",
          "text": [
            "time: 2.75 s (started: 2021-10-07 14:41:11 +00:00)\n"
          ]
        }
      ]
    },
    {
      "cell_type": "markdown",
      "metadata": {
        "id": "16M55TV0qQ1H"
      },
      "source": [
        "### Prediction Test no Outlier"
      ]
    },
    {
      "cell_type": "code",
      "metadata": {
        "id": "Al9FF6tHtXUj",
        "colab": {
          "base_uri": "https://localhost:8080/",
          "height": 0
        },
        "outputId": "5605810b-9c39-4e12-ec13-7b092652731c"
      },
      "source": [
        "# Make predictions on unlabelled dataset no outlier\n",
        "predictions2_LR = model2_LR.predict(df_Unlabelled[features])\n",
        "predictions2_KNN = model2_KNN.predict(df_Unlabelled[features])\n",
        "predictions2_DT = model2_DT.predict(df_Unlabelled[features])\n",
        "predictions2_SVM = model2_SVM.predict(df_Unlabelled[features])\n",
        "predictions2_RF = model2_RF.predict(df_Unlabelled[features])\n",
        "predictions2_LDA = model2_LDA.predict(df_Unlabelled[features])\n",
        "predictions2_NB = model2_NB.predict(df_Unlabelled[features])\n",
        "\n",
        "df_predict2 =  pd.DataFrame({'LR': predictions2_LR, 'KNN': predictions2_KNN,\n",
        "                         'DT':predictions2_DT, 'SVM':predictions2_SVM,\n",
        "                         'RF':predictions2_RF, 'LDA':predictions2_LDA,\n",
        "                         'NB':predictions2_NB})\n",
        "\n",
        "\n",
        "df_predict2"
      ],
      "execution_count": 50,
      "outputs": [
        {
          "output_type": "execute_result",
          "data": {
            "text/html": [
              "<div>\n",
              "<style scoped>\n",
              "    .dataframe tbody tr th:only-of-type {\n",
              "        vertical-align: middle;\n",
              "    }\n",
              "\n",
              "    .dataframe tbody tr th {\n",
              "        vertical-align: top;\n",
              "    }\n",
              "\n",
              "    .dataframe thead th {\n",
              "        text-align: right;\n",
              "    }\n",
              "</style>\n",
              "<table border=\"1\" class=\"dataframe\">\n",
              "  <thead>\n",
              "    <tr style=\"text-align: right;\">\n",
              "      <th></th>\n",
              "      <th>LR</th>\n",
              "      <th>KNN</th>\n",
              "      <th>DT</th>\n",
              "      <th>SVM</th>\n",
              "      <th>RF</th>\n",
              "      <th>LDA</th>\n",
              "      <th>NB</th>\n",
              "    </tr>\n",
              "  </thead>\n",
              "  <tbody>\n",
              "    <tr>\n",
              "      <th>0</th>\n",
              "      <td>Maintenance</td>\n",
              "      <td>Maintenance</td>\n",
              "      <td>Normal</td>\n",
              "      <td>Normal</td>\n",
              "      <td>Normal</td>\n",
              "      <td>Maintenance</td>\n",
              "      <td>Maintenance</td>\n",
              "    </tr>\n",
              "    <tr>\n",
              "      <th>1</th>\n",
              "      <td>Maintenance</td>\n",
              "      <td>Maintenance</td>\n",
              "      <td>Normal</td>\n",
              "      <td>Normal</td>\n",
              "      <td>Normal</td>\n",
              "      <td>Maintenance</td>\n",
              "      <td>Maintenance</td>\n",
              "    </tr>\n",
              "    <tr>\n",
              "      <th>2</th>\n",
              "      <td>Maintenance</td>\n",
              "      <td>Maintenance</td>\n",
              "      <td>Normal</td>\n",
              "      <td>Normal</td>\n",
              "      <td>Normal</td>\n",
              "      <td>Maintenance</td>\n",
              "      <td>Maintenance</td>\n",
              "    </tr>\n",
              "    <tr>\n",
              "      <th>3</th>\n",
              "      <td>Maintenance</td>\n",
              "      <td>Maintenance</td>\n",
              "      <td>Normal</td>\n",
              "      <td>Normal</td>\n",
              "      <td>Normal</td>\n",
              "      <td>Maintenance</td>\n",
              "      <td>Maintenance</td>\n",
              "    </tr>\n",
              "    <tr>\n",
              "      <th>4</th>\n",
              "      <td>Maintenance</td>\n",
              "      <td>Maintenance</td>\n",
              "      <td>Normal</td>\n",
              "      <td>Normal</td>\n",
              "      <td>Normal</td>\n",
              "      <td>Maintenance</td>\n",
              "      <td>Maintenance</td>\n",
              "    </tr>\n",
              "    <tr>\n",
              "      <th>...</th>\n",
              "      <td>...</td>\n",
              "      <td>...</td>\n",
              "      <td>...</td>\n",
              "      <td>...</td>\n",
              "      <td>...</td>\n",
              "      <td>...</td>\n",
              "      <td>...</td>\n",
              "    </tr>\n",
              "    <tr>\n",
              "      <th>33827</th>\n",
              "      <td>Maintenance</td>\n",
              "      <td>Maintenance</td>\n",
              "      <td>Normal</td>\n",
              "      <td>Normal</td>\n",
              "      <td>Normal</td>\n",
              "      <td>Maintenance</td>\n",
              "      <td>Maintenance</td>\n",
              "    </tr>\n",
              "    <tr>\n",
              "      <th>33828</th>\n",
              "      <td>Maintenance</td>\n",
              "      <td>Maintenance</td>\n",
              "      <td>Normal</td>\n",
              "      <td>Normal</td>\n",
              "      <td>Normal</td>\n",
              "      <td>Maintenance</td>\n",
              "      <td>Maintenance</td>\n",
              "    </tr>\n",
              "    <tr>\n",
              "      <th>33829</th>\n",
              "      <td>Maintenance</td>\n",
              "      <td>Maintenance</td>\n",
              "      <td>Normal</td>\n",
              "      <td>Normal</td>\n",
              "      <td>Normal</td>\n",
              "      <td>Maintenance</td>\n",
              "      <td>Maintenance</td>\n",
              "    </tr>\n",
              "    <tr>\n",
              "      <th>33830</th>\n",
              "      <td>Maintenance</td>\n",
              "      <td>Maintenance</td>\n",
              "      <td>Maintenance</td>\n",
              "      <td>Normal</td>\n",
              "      <td>Maintenance</td>\n",
              "      <td>Maintenance</td>\n",
              "      <td>Maintenance</td>\n",
              "    </tr>\n",
              "    <tr>\n",
              "      <th>33831</th>\n",
              "      <td>Maintenance</td>\n",
              "      <td>Maintenance</td>\n",
              "      <td>Maintenance</td>\n",
              "      <td>Normal</td>\n",
              "      <td>Maintenance</td>\n",
              "      <td>Maintenance</td>\n",
              "      <td>Maintenance</td>\n",
              "    </tr>\n",
              "  </tbody>\n",
              "</table>\n",
              "<p>33832 rows × 7 columns</p>\n",
              "</div>"
            ],
            "text/plain": [
              "                LR          KNN  ...          LDA           NB\n",
              "0      Maintenance  Maintenance  ...  Maintenance  Maintenance\n",
              "1      Maintenance  Maintenance  ...  Maintenance  Maintenance\n",
              "2      Maintenance  Maintenance  ...  Maintenance  Maintenance\n",
              "3      Maintenance  Maintenance  ...  Maintenance  Maintenance\n",
              "4      Maintenance  Maintenance  ...  Maintenance  Maintenance\n",
              "...            ...          ...  ...          ...          ...\n",
              "33827  Maintenance  Maintenance  ...  Maintenance  Maintenance\n",
              "33828  Maintenance  Maintenance  ...  Maintenance  Maintenance\n",
              "33829  Maintenance  Maintenance  ...  Maintenance  Maintenance\n",
              "33830  Maintenance  Maintenance  ...  Maintenance  Maintenance\n",
              "33831  Maintenance  Maintenance  ...  Maintenance  Maintenance\n",
              "\n",
              "[33832 rows x 7 columns]"
            ]
          },
          "metadata": {},
          "execution_count": 50
        },
        {
          "output_type": "stream",
          "name": "stdout",
          "text": [
            "time: 1.36 s (started: 2021-10-07 14:41:14 +00:00)\n"
          ]
        }
      ]
    },
    {
      "cell_type": "markdown",
      "metadata": {
        "id": "2-fFg9G2dnNu"
      },
      "source": [
        "## 2) Result Documenting"
      ]
    },
    {
      "cell_type": "code",
      "metadata": {
        "colab": {
          "base_uri": "https://localhost:8080/",
          "height": 796
        },
        "id": "6JVwlKQRdx2-",
        "outputId": "f67ff8ce-03a7-47dd-b8fb-85403a52ac2b"
      },
      "source": [
        "df_result1 = pd.concat([df_Unlabelled.reset_index(drop=True), df_predict1.reset_index(drop=True)],axis=1)\n",
        "\n",
        "df_result1"
      ],
      "execution_count": 51,
      "outputs": [
        {
          "output_type": "execute_result",
          "data": {
            "text/html": [
              "<div>\n",
              "<style scoped>\n",
              "    .dataframe tbody tr th:only-of-type {\n",
              "        vertical-align: middle;\n",
              "    }\n",
              "\n",
              "    .dataframe tbody tr th {\n",
              "        vertical-align: top;\n",
              "    }\n",
              "\n",
              "    .dataframe thead th {\n",
              "        text-align: right;\n",
              "    }\n",
              "</style>\n",
              "<table border=\"1\" class=\"dataframe\">\n",
              "  <thead>\n",
              "    <tr style=\"text-align: right;\">\n",
              "      <th></th>\n",
              "      <th>Datetime</th>\n",
              "      <th>Oil_Pressure</th>\n",
              "      <th>Coolant_Temp</th>\n",
              "      <th>PF_Avg</th>\n",
              "      <th>ECU_Temp</th>\n",
              "      <th>Train_code</th>\n",
              "      <th>LR</th>\n",
              "      <th>KNN</th>\n",
              "      <th>DT</th>\n",
              "      <th>SVM</th>\n",
              "      <th>RF</th>\n",
              "      <th>LDA</th>\n",
              "      <th>NB</th>\n",
              "    </tr>\n",
              "  </thead>\n",
              "  <tbody>\n",
              "    <tr>\n",
              "      <th>0</th>\n",
              "      <td>2020-01-08 02:03:00</td>\n",
              "      <td>636.0</td>\n",
              "      <td>81.0</td>\n",
              "      <td>0.83</td>\n",
              "      <td>32767.0</td>\n",
              "      <td>MP3-01605</td>\n",
              "      <td>Outlier</td>\n",
              "      <td>Outlier</td>\n",
              "      <td>Normal</td>\n",
              "      <td>Outlier</td>\n",
              "      <td>Normal</td>\n",
              "      <td>Outlier</td>\n",
              "      <td>Outlier</td>\n",
              "    </tr>\n",
              "    <tr>\n",
              "      <th>1</th>\n",
              "      <td>2020-01-08 03:00:00</td>\n",
              "      <td>636.0</td>\n",
              "      <td>81.0</td>\n",
              "      <td>0.76</td>\n",
              "      <td>32767.0</td>\n",
              "      <td>MP3-01605</td>\n",
              "      <td>Outlier</td>\n",
              "      <td>Outlier</td>\n",
              "      <td>Normal</td>\n",
              "      <td>Outlier</td>\n",
              "      <td>Outlier</td>\n",
              "      <td>Outlier</td>\n",
              "      <td>Outlier</td>\n",
              "    </tr>\n",
              "    <tr>\n",
              "      <th>2</th>\n",
              "      <td>2020-01-08 04:00:00</td>\n",
              "      <td>632.0</td>\n",
              "      <td>82.0</td>\n",
              "      <td>0.77</td>\n",
              "      <td>32767.0</td>\n",
              "      <td>MP3-01605</td>\n",
              "      <td>Outlier</td>\n",
              "      <td>Outlier</td>\n",
              "      <td>Outlier</td>\n",
              "      <td>Outlier</td>\n",
              "      <td>Outlier</td>\n",
              "      <td>Outlier</td>\n",
              "      <td>Outlier</td>\n",
              "    </tr>\n",
              "    <tr>\n",
              "      <th>3</th>\n",
              "      <td>2020-01-08 05:00:00</td>\n",
              "      <td>632.0</td>\n",
              "      <td>82.0</td>\n",
              "      <td>0.78</td>\n",
              "      <td>32767.0</td>\n",
              "      <td>MP3-01605</td>\n",
              "      <td>Outlier</td>\n",
              "      <td>Outlier</td>\n",
              "      <td>Outlier</td>\n",
              "      <td>Outlier</td>\n",
              "      <td>Outlier</td>\n",
              "      <td>Outlier</td>\n",
              "      <td>Outlier</td>\n",
              "    </tr>\n",
              "    <tr>\n",
              "      <th>4</th>\n",
              "      <td>2020-01-08 06:00:00</td>\n",
              "      <td>628.0</td>\n",
              "      <td>82.0</td>\n",
              "      <td>0.78</td>\n",
              "      <td>32767.0</td>\n",
              "      <td>MP3-01605</td>\n",
              "      <td>Outlier</td>\n",
              "      <td>Outlier</td>\n",
              "      <td>Outlier</td>\n",
              "      <td>Outlier</td>\n",
              "      <td>Outlier</td>\n",
              "      <td>Outlier</td>\n",
              "      <td>Outlier</td>\n",
              "    </tr>\n",
              "    <tr>\n",
              "      <th>...</th>\n",
              "      <td>...</td>\n",
              "      <td>...</td>\n",
              "      <td>...</td>\n",
              "      <td>...</td>\n",
              "      <td>...</td>\n",
              "      <td>...</td>\n",
              "      <td>...</td>\n",
              "      <td>...</td>\n",
              "      <td>...</td>\n",
              "      <td>...</td>\n",
              "      <td>...</td>\n",
              "      <td>...</td>\n",
              "      <td>...</td>\n",
              "    </tr>\n",
              "    <tr>\n",
              "      <th>33827</th>\n",
              "      <td>2020-12-31 13:00:00</td>\n",
              "      <td>600.0</td>\n",
              "      <td>83.0</td>\n",
              "      <td>0.88</td>\n",
              "      <td>32767.0</td>\n",
              "      <td>P-01914</td>\n",
              "      <td>Outlier</td>\n",
              "      <td>Outlier</td>\n",
              "      <td>Outlier</td>\n",
              "      <td>Outlier</td>\n",
              "      <td>Outlier</td>\n",
              "      <td>Outlier</td>\n",
              "      <td>Outlier</td>\n",
              "    </tr>\n",
              "    <tr>\n",
              "      <th>33828</th>\n",
              "      <td>2020-12-31 14:00:00</td>\n",
              "      <td>604.0</td>\n",
              "      <td>82.0</td>\n",
              "      <td>0.88</td>\n",
              "      <td>32767.0</td>\n",
              "      <td>P-01914</td>\n",
              "      <td>Outlier</td>\n",
              "      <td>Outlier</td>\n",
              "      <td>Outlier</td>\n",
              "      <td>Outlier</td>\n",
              "      <td>Outlier</td>\n",
              "      <td>Outlier</td>\n",
              "      <td>Outlier</td>\n",
              "    </tr>\n",
              "    <tr>\n",
              "      <th>33829</th>\n",
              "      <td>2020-12-31 15:00:00</td>\n",
              "      <td>604.0</td>\n",
              "      <td>81.0</td>\n",
              "      <td>0.87</td>\n",
              "      <td>32767.0</td>\n",
              "      <td>P-01914</td>\n",
              "      <td>Outlier</td>\n",
              "      <td>Outlier</td>\n",
              "      <td>Normal</td>\n",
              "      <td>Outlier</td>\n",
              "      <td>Normal</td>\n",
              "      <td>Outlier</td>\n",
              "      <td>Outlier</td>\n",
              "    </tr>\n",
              "    <tr>\n",
              "      <th>33830</th>\n",
              "      <td>2020-12-31 16:00:00</td>\n",
              "      <td>0.0</td>\n",
              "      <td>0.0</td>\n",
              "      <td>0.00</td>\n",
              "      <td>0.0</td>\n",
              "      <td>P-01914</td>\n",
              "      <td>Outlier</td>\n",
              "      <td>Outlier</td>\n",
              "      <td>Outlier</td>\n",
              "      <td>Outlier</td>\n",
              "      <td>Outlier</td>\n",
              "      <td>Normal</td>\n",
              "      <td>Outlier</td>\n",
              "    </tr>\n",
              "    <tr>\n",
              "      <th>33831</th>\n",
              "      <td>2020-12-31 17:05:00</td>\n",
              "      <td>0.0</td>\n",
              "      <td>0.0</td>\n",
              "      <td>0.00</td>\n",
              "      <td>0.0</td>\n",
              "      <td>P-01914</td>\n",
              "      <td>Outlier</td>\n",
              "      <td>Outlier</td>\n",
              "      <td>Outlier</td>\n",
              "      <td>Outlier</td>\n",
              "      <td>Outlier</td>\n",
              "      <td>Normal</td>\n",
              "      <td>Outlier</td>\n",
              "    </tr>\n",
              "  </tbody>\n",
              "</table>\n",
              "<p>33832 rows × 13 columns</p>\n",
              "</div>"
            ],
            "text/plain": [
              "                  Datetime  Oil_Pressure  ...      LDA       NB\n",
              "0      2020-01-08 02:03:00         636.0  ...  Outlier  Outlier\n",
              "1      2020-01-08 03:00:00         636.0  ...  Outlier  Outlier\n",
              "2      2020-01-08 04:00:00         632.0  ...  Outlier  Outlier\n",
              "3      2020-01-08 05:00:00         632.0  ...  Outlier  Outlier\n",
              "4      2020-01-08 06:00:00         628.0  ...  Outlier  Outlier\n",
              "...                    ...           ...  ...      ...      ...\n",
              "33827  2020-12-31 13:00:00         600.0  ...  Outlier  Outlier\n",
              "33828  2020-12-31 14:00:00         604.0  ...  Outlier  Outlier\n",
              "33829  2020-12-31 15:00:00         604.0  ...  Outlier  Outlier\n",
              "33830  2020-12-31 16:00:00           0.0  ...   Normal  Outlier\n",
              "33831  2020-12-31 17:05:00           0.0  ...   Normal  Outlier\n",
              "\n",
              "[33832 rows x 13 columns]"
            ]
          },
          "metadata": {},
          "execution_count": 51
        },
        {
          "output_type": "stream",
          "name": "stdout",
          "text": [
            "time: 75.8 ms (started: 2021-10-07 14:41:15 +00:00)\n"
          ]
        }
      ]
    },
    {
      "cell_type": "code",
      "metadata": {
        "colab": {
          "base_uri": "https://localhost:8080/",
          "height": 796
        },
        "id": "8LE0EWsYfd9v",
        "outputId": "fa181861-447a-4577-b66e-5280a589d7fc"
      },
      "source": [
        "df_result2 = pd.concat([df_Unlabelled.reset_index(drop=True), df_predict2.reset_index(drop=True)],axis=1)\n",
        "df_result2"
      ],
      "execution_count": 52,
      "outputs": [
        {
          "output_type": "execute_result",
          "data": {
            "text/html": [
              "<div>\n",
              "<style scoped>\n",
              "    .dataframe tbody tr th:only-of-type {\n",
              "        vertical-align: middle;\n",
              "    }\n",
              "\n",
              "    .dataframe tbody tr th {\n",
              "        vertical-align: top;\n",
              "    }\n",
              "\n",
              "    .dataframe thead th {\n",
              "        text-align: right;\n",
              "    }\n",
              "</style>\n",
              "<table border=\"1\" class=\"dataframe\">\n",
              "  <thead>\n",
              "    <tr style=\"text-align: right;\">\n",
              "      <th></th>\n",
              "      <th>Datetime</th>\n",
              "      <th>Oil_Pressure</th>\n",
              "      <th>Coolant_Temp</th>\n",
              "      <th>PF_Avg</th>\n",
              "      <th>ECU_Temp</th>\n",
              "      <th>Train_code</th>\n",
              "      <th>LR</th>\n",
              "      <th>KNN</th>\n",
              "      <th>DT</th>\n",
              "      <th>SVM</th>\n",
              "      <th>RF</th>\n",
              "      <th>LDA</th>\n",
              "      <th>NB</th>\n",
              "    </tr>\n",
              "  </thead>\n",
              "  <tbody>\n",
              "    <tr>\n",
              "      <th>0</th>\n",
              "      <td>2020-01-08 02:03:00</td>\n",
              "      <td>636.0</td>\n",
              "      <td>81.0</td>\n",
              "      <td>0.83</td>\n",
              "      <td>32767.0</td>\n",
              "      <td>MP3-01605</td>\n",
              "      <td>Maintenance</td>\n",
              "      <td>Maintenance</td>\n",
              "      <td>Normal</td>\n",
              "      <td>Normal</td>\n",
              "      <td>Normal</td>\n",
              "      <td>Maintenance</td>\n",
              "      <td>Maintenance</td>\n",
              "    </tr>\n",
              "    <tr>\n",
              "      <th>1</th>\n",
              "      <td>2020-01-08 03:00:00</td>\n",
              "      <td>636.0</td>\n",
              "      <td>81.0</td>\n",
              "      <td>0.76</td>\n",
              "      <td>32767.0</td>\n",
              "      <td>MP3-01605</td>\n",
              "      <td>Maintenance</td>\n",
              "      <td>Maintenance</td>\n",
              "      <td>Normal</td>\n",
              "      <td>Normal</td>\n",
              "      <td>Normal</td>\n",
              "      <td>Maintenance</td>\n",
              "      <td>Maintenance</td>\n",
              "    </tr>\n",
              "    <tr>\n",
              "      <th>2</th>\n",
              "      <td>2020-01-08 04:00:00</td>\n",
              "      <td>632.0</td>\n",
              "      <td>82.0</td>\n",
              "      <td>0.77</td>\n",
              "      <td>32767.0</td>\n",
              "      <td>MP3-01605</td>\n",
              "      <td>Maintenance</td>\n",
              "      <td>Maintenance</td>\n",
              "      <td>Normal</td>\n",
              "      <td>Normal</td>\n",
              "      <td>Normal</td>\n",
              "      <td>Maintenance</td>\n",
              "      <td>Maintenance</td>\n",
              "    </tr>\n",
              "    <tr>\n",
              "      <th>3</th>\n",
              "      <td>2020-01-08 05:00:00</td>\n",
              "      <td>632.0</td>\n",
              "      <td>82.0</td>\n",
              "      <td>0.78</td>\n",
              "      <td>32767.0</td>\n",
              "      <td>MP3-01605</td>\n",
              "      <td>Maintenance</td>\n",
              "      <td>Maintenance</td>\n",
              "      <td>Normal</td>\n",
              "      <td>Normal</td>\n",
              "      <td>Normal</td>\n",
              "      <td>Maintenance</td>\n",
              "      <td>Maintenance</td>\n",
              "    </tr>\n",
              "    <tr>\n",
              "      <th>4</th>\n",
              "      <td>2020-01-08 06:00:00</td>\n",
              "      <td>628.0</td>\n",
              "      <td>82.0</td>\n",
              "      <td>0.78</td>\n",
              "      <td>32767.0</td>\n",
              "      <td>MP3-01605</td>\n",
              "      <td>Maintenance</td>\n",
              "      <td>Maintenance</td>\n",
              "      <td>Normal</td>\n",
              "      <td>Normal</td>\n",
              "      <td>Normal</td>\n",
              "      <td>Maintenance</td>\n",
              "      <td>Maintenance</td>\n",
              "    </tr>\n",
              "    <tr>\n",
              "      <th>...</th>\n",
              "      <td>...</td>\n",
              "      <td>...</td>\n",
              "      <td>...</td>\n",
              "      <td>...</td>\n",
              "      <td>...</td>\n",
              "      <td>...</td>\n",
              "      <td>...</td>\n",
              "      <td>...</td>\n",
              "      <td>...</td>\n",
              "      <td>...</td>\n",
              "      <td>...</td>\n",
              "      <td>...</td>\n",
              "      <td>...</td>\n",
              "    </tr>\n",
              "    <tr>\n",
              "      <th>33827</th>\n",
              "      <td>2020-12-31 13:00:00</td>\n",
              "      <td>600.0</td>\n",
              "      <td>83.0</td>\n",
              "      <td>0.88</td>\n",
              "      <td>32767.0</td>\n",
              "      <td>P-01914</td>\n",
              "      <td>Maintenance</td>\n",
              "      <td>Maintenance</td>\n",
              "      <td>Normal</td>\n",
              "      <td>Normal</td>\n",
              "      <td>Normal</td>\n",
              "      <td>Maintenance</td>\n",
              "      <td>Maintenance</td>\n",
              "    </tr>\n",
              "    <tr>\n",
              "      <th>33828</th>\n",
              "      <td>2020-12-31 14:00:00</td>\n",
              "      <td>604.0</td>\n",
              "      <td>82.0</td>\n",
              "      <td>0.88</td>\n",
              "      <td>32767.0</td>\n",
              "      <td>P-01914</td>\n",
              "      <td>Maintenance</td>\n",
              "      <td>Maintenance</td>\n",
              "      <td>Normal</td>\n",
              "      <td>Normal</td>\n",
              "      <td>Normal</td>\n",
              "      <td>Maintenance</td>\n",
              "      <td>Maintenance</td>\n",
              "    </tr>\n",
              "    <tr>\n",
              "      <th>33829</th>\n",
              "      <td>2020-12-31 15:00:00</td>\n",
              "      <td>604.0</td>\n",
              "      <td>81.0</td>\n",
              "      <td>0.87</td>\n",
              "      <td>32767.0</td>\n",
              "      <td>P-01914</td>\n",
              "      <td>Maintenance</td>\n",
              "      <td>Maintenance</td>\n",
              "      <td>Normal</td>\n",
              "      <td>Normal</td>\n",
              "      <td>Normal</td>\n",
              "      <td>Maintenance</td>\n",
              "      <td>Maintenance</td>\n",
              "    </tr>\n",
              "    <tr>\n",
              "      <th>33830</th>\n",
              "      <td>2020-12-31 16:00:00</td>\n",
              "      <td>0.0</td>\n",
              "      <td>0.0</td>\n",
              "      <td>0.00</td>\n",
              "      <td>0.0</td>\n",
              "      <td>P-01914</td>\n",
              "      <td>Maintenance</td>\n",
              "      <td>Maintenance</td>\n",
              "      <td>Maintenance</td>\n",
              "      <td>Normal</td>\n",
              "      <td>Maintenance</td>\n",
              "      <td>Maintenance</td>\n",
              "      <td>Maintenance</td>\n",
              "    </tr>\n",
              "    <tr>\n",
              "      <th>33831</th>\n",
              "      <td>2020-12-31 17:05:00</td>\n",
              "      <td>0.0</td>\n",
              "      <td>0.0</td>\n",
              "      <td>0.00</td>\n",
              "      <td>0.0</td>\n",
              "      <td>P-01914</td>\n",
              "      <td>Maintenance</td>\n",
              "      <td>Maintenance</td>\n",
              "      <td>Maintenance</td>\n",
              "      <td>Normal</td>\n",
              "      <td>Maintenance</td>\n",
              "      <td>Maintenance</td>\n",
              "      <td>Maintenance</td>\n",
              "    </tr>\n",
              "  </tbody>\n",
              "</table>\n",
              "<p>33832 rows × 13 columns</p>\n",
              "</div>"
            ],
            "text/plain": [
              "                  Datetime  Oil_Pressure  ...          LDA           NB\n",
              "0      2020-01-08 02:03:00         636.0  ...  Maintenance  Maintenance\n",
              "1      2020-01-08 03:00:00         636.0  ...  Maintenance  Maintenance\n",
              "2      2020-01-08 04:00:00         632.0  ...  Maintenance  Maintenance\n",
              "3      2020-01-08 05:00:00         632.0  ...  Maintenance  Maintenance\n",
              "4      2020-01-08 06:00:00         628.0  ...  Maintenance  Maintenance\n",
              "...                    ...           ...  ...          ...          ...\n",
              "33827  2020-12-31 13:00:00         600.0  ...  Maintenance  Maintenance\n",
              "33828  2020-12-31 14:00:00         604.0  ...  Maintenance  Maintenance\n",
              "33829  2020-12-31 15:00:00         604.0  ...  Maintenance  Maintenance\n",
              "33830  2020-12-31 16:00:00           0.0  ...  Maintenance  Maintenance\n",
              "33831  2020-12-31 17:05:00           0.0  ...  Maintenance  Maintenance\n",
              "\n",
              "[33832 rows x 13 columns]"
            ]
          },
          "metadata": {},
          "execution_count": 52
        },
        {
          "output_type": "stream",
          "name": "stdout",
          "text": [
            "time: 48.8 ms (started: 2021-10-07 14:41:15 +00:00)\n"
          ]
        }
      ]
    },
    {
      "cell_type": "code",
      "metadata": {
        "colab": {
          "base_uri": "https://localhost:8080/"
        },
        "id": "RlqIm36MiGYn",
        "outputId": "a7b57976-9db1-457f-e0e6-ac953970e5b7"
      },
      "source": [
        "df_result1.to_csv(process_dir+'predict1_smote.csv')\n",
        "df_result2.to_csv(process_dir+'predict2_smote.csv')"
      ],
      "execution_count": 53,
      "outputs": [
        {
          "output_type": "stream",
          "name": "stdout",
          "text": [
            "time: 506 ms (started: 2021-10-07 14:41:16 +00:00)\n"
          ]
        }
      ]
    }
  ]
}
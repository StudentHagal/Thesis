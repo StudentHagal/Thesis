{
  "nbformat": 4,
  "nbformat_minor": 0,
  "metadata": {
    "colab": {
      "name": "Copy of Clustering Approach.ipynb",
      "provenance": [],
      "mount_file_id": "1zXH3urucUlRqQ4h7mQ8OlC1keJcWlmdn",
      "authorship_tag": "ABX9TyOC/IRoxt6bPI3FZouJY3tS",
      "include_colab_link": true
    },
    "kernelspec": {
      "name": "python3",
      "display_name": "Python 3"
    },
    "language_info": {
      "name": "python"
    }
  },
  "cells": [
    {
      "cell_type": "markdown",
      "metadata": {
        "id": "view-in-github",
        "colab_type": "text"
      },
      "source": [
        "<a href=\"https://colab.research.google.com/github/StudentHagal/Thesis/blob/main/Clustering_Approach.ipynb\" target=\"_parent\"><img src=\"https://colab.research.google.com/assets/colab-badge.svg\" alt=\"Open In Colab\"/></a>"
      ]
    },
    {
      "cell_type": "markdown",
      "metadata": {
        "id": "70Ac-YHBubkt"
      },
      "source": [
        "In this Python Notebook, i will try to design ML model for PdM of Railway Vehicles using Clustering Algorithm to give label to dataset, and Classification Algorithm to predict out of sample data."
      ]
    },
    {
      "cell_type": "markdown",
      "metadata": {
        "id": "7abxNzhgbxzN"
      },
      "source": [
        "# ML Modelling Process"
      ]
    },
    {
      "cell_type": "markdown",
      "metadata": {
        "id": "pXx1CSDw01sB"
      },
      "source": [
        "# 0) Preparation"
      ]
    },
    {
      "cell_type": "markdown",
      "metadata": {
        "id": "hw3ZiBVi1AG_"
      },
      "source": [
        "## Loading Requirements"
      ]
    },
    {
      "cell_type": "code",
      "metadata": {
        "colab": {
          "base_uri": "https://localhost:8080/"
        },
        "id": "J2JFhSZS4yIJ",
        "outputId": "2a97c153-17c5-4810-b2e4-a5540b721071"
      },
      "source": [
        "# Github repository\n",
        "!git clone https://github.com/StudentHagal/Thesis.git\n",
        "\n",
        "# Libraries\n",
        "import sys\n",
        "import pandas as pd\n",
        "import hashlib\n",
        "import matplotlib\n",
        "import numpy as np\n",
        "import pandas as pd\n",
        "import sklearn\n",
        "import scipy\n",
        "import joblib\n",
        "import matplotlib.pyplot as plt\n",
        "from collections import Counter\n",
        "from imblearn.over_sampling import SMOTE\n",
        "from pandas import read_csv\n",
        "from pandas.plotting import scatter_matrix\n",
        "from matplotlib import pyplot\n",
        "from sklearn.model_selection import train_test_split\n",
        "from sklearn.model_selection import cross_val_score\n",
        "from sklearn.model_selection import StratifiedKFold\n",
        "from sklearn.metrics import classification_report\n",
        "from sklearn.metrics import confusion_matrix\n",
        "from sklearn.metrics import accuracy_score\n",
        "from sklearn.metrics import plot_confusion_matrix\n",
        "from sklearn.linear_model import LogisticRegression\n",
        "from sklearn.tree import DecisionTreeClassifier\n",
        "from sklearn.neighbors import KNeighborsClassifier\n",
        "from sklearn.discriminant_analysis import LinearDiscriminantAnalysis\n",
        "from sklearn.naive_bayes import GaussianNB\n",
        "from sklearn.svm import SVC\n",
        "from sklearn.ensemble import RandomForestClassifier\n",
        "from sklearn.cluster import DBSCAN\n",
        "from sklearn.cluster import KMeans\n",
        "from sklearn.preprocessing import StandardScaler\n",
        "from sklearn.preprocessing import normalize\n",
        "from sklearn.decomposition import PCA\n",
        "\n",
        "#Extension\n",
        "!pip install ipython-autotime\n",
        "%load_ext autotime\n",
        "\n",
        "print('Load completed')\n"
      ],
      "execution_count": null,
      "outputs": [
        {
          "output_type": "stream",
          "name": "stdout",
          "text": [
            "fatal: destination path 'Thesis' already exists and is not an empty directory.\n"
          ]
        },
        {
          "output_type": "stream",
          "name": "stderr",
          "text": [
            "/usr/local/lib/python3.7/dist-packages/sklearn/externals/six.py:31: FutureWarning: The module is deprecated in version 0.21 and will be removed in version 0.23 since we've dropped support for Python 2.7. Please rely on the official version of six (https://pypi.org/project/six/).\n",
            "  \"(https://pypi.org/project/six/).\", FutureWarning)\n",
            "/usr/local/lib/python3.7/dist-packages/sklearn/utils/deprecation.py:144: FutureWarning: The sklearn.neighbors.base module is  deprecated in version 0.22 and will be removed in version 0.24. The corresponding classes / functions should instead be imported from sklearn.neighbors. Anything that cannot be imported from sklearn.neighbors is now part of the private API.\n",
            "  warnings.warn(message, FutureWarning)\n"
          ]
        },
        {
          "output_type": "stream",
          "name": "stdout",
          "text": [
            "Requirement already satisfied: ipython-autotime in /usr/local/lib/python3.7/dist-packages (0.3.1)\n",
            "Requirement already satisfied: ipython in /usr/local/lib/python3.7/dist-packages (from ipython-autotime) (5.5.0)\n",
            "Requirement already satisfied: pickleshare in /usr/local/lib/python3.7/dist-packages (from ipython->ipython-autotime) (0.7.5)\n",
            "Requirement already satisfied: pygments in /usr/local/lib/python3.7/dist-packages (from ipython->ipython-autotime) (2.6.1)\n",
            "Requirement already satisfied: setuptools>=18.5 in /usr/local/lib/python3.7/dist-packages (from ipython->ipython-autotime) (57.4.0)\n",
            "Requirement already satisfied: pexpect in /usr/local/lib/python3.7/dist-packages (from ipython->ipython-autotime) (4.8.0)\n",
            "Requirement already satisfied: simplegeneric>0.8 in /usr/local/lib/python3.7/dist-packages (from ipython->ipython-autotime) (0.8.1)\n",
            "Requirement already satisfied: decorator in /usr/local/lib/python3.7/dist-packages (from ipython->ipython-autotime) (4.4.2)\n",
            "Requirement already satisfied: traitlets>=4.2 in /usr/local/lib/python3.7/dist-packages (from ipython->ipython-autotime) (5.1.0)\n",
            "Requirement already satisfied: prompt-toolkit<2.0.0,>=1.0.4 in /usr/local/lib/python3.7/dist-packages (from ipython->ipython-autotime) (1.0.18)\n",
            "Requirement already satisfied: six>=1.9.0 in /usr/local/lib/python3.7/dist-packages (from prompt-toolkit<2.0.0,>=1.0.4->ipython->ipython-autotime) (1.15.0)\n",
            "Requirement already satisfied: wcwidth in /usr/local/lib/python3.7/dist-packages (from prompt-toolkit<2.0.0,>=1.0.4->ipython->ipython-autotime) (0.2.5)\n",
            "Requirement already satisfied: ptyprocess>=0.5 in /usr/local/lib/python3.7/dist-packages (from pexpect->ipython->ipython-autotime) (0.7.0)\n",
            "Load completed\n",
            "time: 1.16 ms (started: 2021-10-07 15:19:47 +00:00)\n"
          ]
        }
      ]
    },
    {
      "cell_type": "code",
      "metadata": {
        "colab": {
          "base_uri": "https://localhost:8080/"
        },
        "id": "wi05_LPpXQVt",
        "outputId": "74ee46c2-d170-4523-a2c1-56f4a797a91c"
      },
      "source": [
        "# Check the versions of libraries\n",
        "# !!! WARNING !!!\n",
        "# Important because model result may be different for other version\n",
        " \n",
        "print('Python: {}'.format(sys.version))\n",
        "print('scipy: {}'.format(scipy.__version__))\n",
        "print('numpy: {}'.format(np.__version__))\n",
        "print('matplotlib: {}'.format(matplotlib.__version__))\n",
        "print('pandas: {}'.format(pd.__version__))\n",
        "print('sklearn: {}'.format(sklearn.__version__))\n",
        "print('joblib: {}'.format(joblib.__version__))"
      ],
      "execution_count": null,
      "outputs": [
        {
          "output_type": "stream",
          "name": "stdout",
          "text": [
            "Python: 3.7.12 (default, Sep 10 2021, 00:21:48) \n",
            "[GCC 7.5.0]\n",
            "scipy: 1.4.1\n",
            "numpy: 1.19.5\n",
            "matplotlib: 3.2.2\n",
            "pandas: 1.1.5\n",
            "sklearn: 0.22.2.post1\n",
            "joblib: 1.0.1\n",
            "time: 5.88 ms (started: 2021-10-07 15:19:47 +00:00)\n"
          ]
        }
      ]
    },
    {
      "cell_type": "markdown",
      "metadata": {
        "id": "2b4yyag41HSl"
      },
      "source": [
        "## Define Functions and Variables"
      ]
    },
    {
      "cell_type": "markdown",
      "metadata": {
        "id": "Putkm7BG24Ed"
      },
      "source": [
        "### Global Variables"
      ]
    },
    {
      "cell_type": "code",
      "metadata": {
        "colab": {
          "base_uri": "https://localhost:8080/"
        },
        "id": "KYUo2tyS2-Ax",
        "outputId": "f11c9548-a20d-4c18-b6fa-881c34785e18"
      },
      "source": [
        "#Global variables declaration\n",
        "compare = '10f68054068bc4ac4d7fee65e8fd7a184151e3ce3abce5d85350fc13c412d93b'                         #known hash value of file\n",
        "#Stored file path                     \n",
        "raw_file = \"/content/Thesis/Resources/database.csv\"\n",
        "#environment path\n",
        "main_dir = '/content/Thesis/'           \n",
        "model_dir = '/content/Thesis/Resources/models/'                                  \n",
        "process_dir = '/content/Thesis/Resources/Processed/'\n",
        "col_names = ['No', 'Datetime', 'Control_Mode', 'L1', 'L2', 'L3', 'Frequency', 'kVA_Total',           #Column names for dataset\n",
        "             'kVA_L1', 'kVA_L2', 'kVA_L3', 'KVAr', 'Oil_Pressure', 'Coolant_Temp', \n",
        "             'Charger_Alternator', 'PF_Avg', 'PF_L1', 'PF_L2', \n",
        "             'PF_L3', 'L1_N', 'L2_N', 'L3_N', 'Source_Ext_Voltage', 'ECU_Temp', \n",
        "             'RPM', 'Train_code']\n",
        "unused_col = ['No', 'Datetime', 'Control_Mode', 'L1', 'L2', 'L3', 'Frequency',                       #Unused columns in dataset\n",
        "              'kVA_Total', 'kVA_L1', 'kVA_L2', 'kVA_L3', 'KVAr', 'Charger_Alternator',\n",
        "              'RPM', 'PF_L1', 'PF_L2', 'PF_L3', 'L1_N','L2_N', 'L3_N',\n",
        "              'Source_Ext_Voltage', 'Train_code']\n",
        "dataset = pd.read_csv(raw_file, names=col_names)\n",
        "val_results = []\n",
        "names = []\n",
        "# Algorithm considered\n",
        "model_LR = LogisticRegression(max_iter=475)\n",
        "model_KNN = KNeighborsClassifier()\n",
        "model_DT = DecisionTreeClassifier()\n",
        "model_SVM = SVC(gamma='auto')\n",
        "model_RF = RandomForestClassifier()\n",
        "model_LDA = LinearDiscriminantAnalysis()\n",
        "model_NB = GaussianNB()\n",
        "model_Kmeans = KMeans(n_clusters=3, random_state=0)\n",
        "model_dbscan = DBSCAN(eps=0.5, min_samples=100)\n",
        "balancing_smote = SMOTE(random_state=1)\n",
        "###################################################################\n",
        "models = []\n",
        "models.append(('LR', model_LR))\n",
        "models.append(('KNN', model_KNN))\n",
        "models.append(('DT', model_DT))\n",
        "models.append(('SVM', model_SVM))\n",
        "models.append(('RF', model_RF))\n",
        "models.append(('LDA', model_LDA))\n",
        "models.append(('NB', model_NB))\n"
      ],
      "execution_count": null,
      "outputs": [
        {
          "output_type": "stream",
          "name": "stdout",
          "text": [
            "time: 143 ms (started: 2021-10-07 15:19:47 +00:00)\n"
          ]
        }
      ]
    },
    {
      "cell_type": "markdown",
      "metadata": {
        "id": "8y3lIxoczDcq"
      },
      "source": [
        "### Hash Check Function"
      ]
    },
    {
      "cell_type": "code",
      "metadata": {
        "colab": {
          "base_uri": "https://localhost:8080/"
        },
        "id": "WC-iF60Lzq4A",
        "outputId": "7fbb6f03-2fac-4571-8e86-bca447d12aa0"
      },
      "source": [
        "# Create function that returns the SHA-2 hash of the file\n",
        "def hash_file(filepath):\n",
        "\n",
        "   # make a hash object with SHA-2\n",
        "   h = hashlib.sha256()\n",
        "\n",
        "   # open file for reading in binary mode\n",
        "   with open(filepath,'rb') as file:\n",
        "       # loop till the end of the file\n",
        "       chunk = 0\n",
        "       while chunk != b'':\n",
        "           # read only 1024 bytes at a time\n",
        "           chunk = file.read(1024)\n",
        "           h.update(chunk)\n",
        "\n",
        "   # return the hex representation of digest\n",
        "   return h.hexdigest()"
      ],
      "execution_count": null,
      "outputs": [
        {
          "output_type": "stream",
          "name": "stdout",
          "text": [
            "time: 5.88 ms (started: 2021-10-07 15:19:47 +00:00)\n"
          ]
        }
      ]
    },
    {
      "cell_type": "markdown",
      "metadata": {
        "id": "RI8R_ekoiSkg"
      },
      "source": [
        "### Show cluster result function"
      ]
    },
    {
      "cell_type": "code",
      "metadata": {
        "colab": {
          "base_uri": "https://localhost:8080/"
        },
        "id": "6zc4m1n2h_i6",
        "outputId": "be48b776-bdd9-4a8c-c401-a9251f0929c7"
      },
      "source": [
        "#Function to show cluster result\n",
        "def show_clusters(dataset, labels):\n",
        "  df = pd.DataFrame(dict(x=X_principal['P1'], y=X_principal['P2'], label=labels))\n",
        "  colors = {-1:'black', 0:'blue', 1:'red', 2:'yellow' ,3:'green', 4:'orange'}\n",
        "  fig, ax = plt.subplots(figsize=(8,8))\n",
        "  grouped = df.groupby('label')\n",
        "  for key, group in grouped:\n",
        "    group.plot(ax=ax, kind='scatter', x='x', y='y', label=key, color=colors[key])\n",
        "  plt.xlabel('X_1')\n",
        "  plt.ylabel('X_2')\n",
        "  plt.title('Estimated number of clusters: %d' % n_clusters_)\n",
        "  plt.show()\n"
      ],
      "execution_count": null,
      "outputs": [
        {
          "output_type": "stream",
          "name": "stdout",
          "text": [
            "time: 11.8 ms (started: 2021-10-07 15:19:47 +00:00)\n"
          ]
        }
      ]
    },
    {
      "cell_type": "markdown",
      "metadata": {
        "id": "DpwVGPXeTteG"
      },
      "source": [
        "## 1) Standardized Dataset"
      ]
    },
    {
      "cell_type": "markdown",
      "metadata": {
        "id": "7ND-1OCb0Ggj"
      },
      "source": [
        "### Checking Hash"
      ]
    },
    {
      "cell_type": "code",
      "metadata": {
        "colab": {
          "base_uri": "https://localhost:8080/"
        },
        "id": "LhyimYT4WY8T",
        "outputId": "cd87f591-7069-4e12-9be5-29414f903703"
      },
      "source": [
        "message = hash_file(raw_file)\n",
        "print('SHA-256 value of your file is :')\n",
        "print(message)\n",
        "if (compare == message) :\n",
        "  print('Hash check SUCCESS')\n",
        "else :\n",
        "  print('Hash check INVALID')"
      ],
      "execution_count": null,
      "outputs": [
        {
          "output_type": "stream",
          "name": "stdout",
          "text": [
            "SHA-256 value of your file is :\n",
            "10f68054068bc4ac4d7fee65e8fd7a184151e3ce3abce5d85350fc13c412d93b\n",
            "Hash check SUCCESS\n",
            "time: 22.9 ms (started: 2021-10-07 15:19:47 +00:00)\n"
          ]
        }
      ]
    },
    {
      "cell_type": "markdown",
      "metadata": {
        "id": "M3XMIBx30Zur"
      },
      "source": [
        "### Processing dataset"
      ]
    },
    {
      "cell_type": "code",
      "metadata": {
        "colab": {
          "base_uri": "https://localhost:8080/"
        },
        "id": "C16kcQx-WuLT",
        "outputId": "89e16293-7540-4dc0-8bfe-1930b5bf1745"
      },
      "source": [
        "# Dataset summary\n",
        "pd.set_option('display.max_columns', None)      # Pandas display options\n",
        "print('Total data size : ', dataset.shape)     # size of data (row, column)"
      ],
      "execution_count": null,
      "outputs": [
        {
          "output_type": "stream",
          "name": "stdout",
          "text": [
            "Total data size :  (34357, 26)\n",
            "time: 3.47 ms (started: 2021-10-07 15:19:47 +00:00)\n"
          ]
        }
      ]
    },
    {
      "cell_type": "code",
      "metadata": {
        "colab": {
          "base_uri": "https://localhost:8080/"
        },
        "id": "WYduSCvVrSSZ",
        "outputId": "1185e19b-15bb-4dd5-b464-aabc43933f18"
      },
      "source": [
        "dataset.head(5)                               # show sample entry"
      ],
      "execution_count": null,
      "outputs": [
        {
          "output_type": "execute_result",
          "data": {
            "text/html": [
              "<div>\n",
              "<style scoped>\n",
              "    .dataframe tbody tr th:only-of-type {\n",
              "        vertical-align: middle;\n",
              "    }\n",
              "\n",
              "    .dataframe tbody tr th {\n",
              "        vertical-align: top;\n",
              "    }\n",
              "\n",
              "    .dataframe thead th {\n",
              "        text-align: right;\n",
              "    }\n",
              "</style>\n",
              "<table border=\"1\" class=\"dataframe\">\n",
              "  <thead>\n",
              "    <tr style=\"text-align: right;\">\n",
              "      <th></th>\n",
              "      <th>No</th>\n",
              "      <th>Datetime</th>\n",
              "      <th>Control_Mode</th>\n",
              "      <th>L1</th>\n",
              "      <th>L2</th>\n",
              "      <th>L3</th>\n",
              "      <th>Frequency</th>\n",
              "      <th>kVA_Total</th>\n",
              "      <th>kVA_L1</th>\n",
              "      <th>kVA_L2</th>\n",
              "      <th>kVA_L3</th>\n",
              "      <th>KVAr</th>\n",
              "      <th>Oil_Pressure</th>\n",
              "      <th>Coolant_Temp</th>\n",
              "      <th>Charger_Alternator</th>\n",
              "      <th>PF_Avg</th>\n",
              "      <th>PF_L1</th>\n",
              "      <th>PF_L2</th>\n",
              "      <th>PF_L3</th>\n",
              "      <th>L1_N</th>\n",
              "      <th>L2_N</th>\n",
              "      <th>L3_N</th>\n",
              "      <th>Source_Ext_Voltage</th>\n",
              "      <th>ECU_Temp</th>\n",
              "      <th>RPM</th>\n",
              "      <th>Train_code</th>\n",
              "    </tr>\n",
              "  </thead>\n",
              "  <tbody>\n",
              "    <tr>\n",
              "      <th>0</th>\n",
              "      <td>1.1</td>\n",
              "      <td>01-08-20 02:03</td>\n",
              "      <td>2.0</td>\n",
              "      <td>28.0</td>\n",
              "      <td>27.0</td>\n",
              "      <td>26.0</td>\n",
              "      <td>50.0</td>\n",
              "      <td>18.51</td>\n",
              "      <td>6.35</td>\n",
              "      <td>6.09</td>\n",
              "      <td>5.89</td>\n",
              "      <td>0.00</td>\n",
              "      <td>636.0</td>\n",
              "      <td>81.0</td>\n",
              "      <td>26.9</td>\n",
              "      <td>0.83</td>\n",
              "      <td>0.83</td>\n",
              "      <td>0.82</td>\n",
              "      <td>0.84</td>\n",
              "      <td>220.8</td>\n",
              "      <td>221.1</td>\n",
              "      <td>220.8</td>\n",
              "      <td>25.98</td>\n",
              "      <td>32767.0</td>\n",
              "      <td>1499.0</td>\n",
              "      <td>MP3-01605</td>\n",
              "    </tr>\n",
              "    <tr>\n",
              "      <th>1</th>\n",
              "      <td>1.2</td>\n",
              "      <td>01-08-20 03:00</td>\n",
              "      <td>2.0</td>\n",
              "      <td>39.0</td>\n",
              "      <td>39.0</td>\n",
              "      <td>37.0</td>\n",
              "      <td>50.0</td>\n",
              "      <td>25.74</td>\n",
              "      <td>8.65</td>\n",
              "      <td>8.45</td>\n",
              "      <td>8.24</td>\n",
              "      <td>0.00</td>\n",
              "      <td>636.0</td>\n",
              "      <td>81.0</td>\n",
              "      <td>26.9</td>\n",
              "      <td>0.76</td>\n",
              "      <td>0.77</td>\n",
              "      <td>0.75</td>\n",
              "      <td>0.77</td>\n",
              "      <td>220.8</td>\n",
              "      <td>220.5</td>\n",
              "      <td>220.8</td>\n",
              "      <td>25.84</td>\n",
              "      <td>32767.0</td>\n",
              "      <td>1501.0</td>\n",
              "      <td>MP3-01605</td>\n",
              "    </tr>\n",
              "    <tr>\n",
              "      <th>2</th>\n",
              "      <td>1.3</td>\n",
              "      <td>01-08-20 04:00</td>\n",
              "      <td>2.0</td>\n",
              "      <td>104.0</td>\n",
              "      <td>100.0</td>\n",
              "      <td>100.0</td>\n",
              "      <td>50.0</td>\n",
              "      <td>68.59</td>\n",
              "      <td>22.89</td>\n",
              "      <td>22.32</td>\n",
              "      <td>22.02</td>\n",
              "      <td>46.74</td>\n",
              "      <td>632.0</td>\n",
              "      <td>82.0</td>\n",
              "      <td>26.9</td>\n",
              "      <td>0.77</td>\n",
              "      <td>0.77</td>\n",
              "      <td>0.76</td>\n",
              "      <td>0.77</td>\n",
              "      <td>220.2</td>\n",
              "      <td>220.7</td>\n",
              "      <td>220.5</td>\n",
              "      <td>25.93</td>\n",
              "      <td>32767.0</td>\n",
              "      <td>1499.0</td>\n",
              "      <td>MP3-01605</td>\n",
              "    </tr>\n",
              "    <tr>\n",
              "      <th>3</th>\n",
              "      <td>1.4</td>\n",
              "      <td>01-08-20 05:00</td>\n",
              "      <td>2.0</td>\n",
              "      <td>90.0</td>\n",
              "      <td>87.0</td>\n",
              "      <td>87.0</td>\n",
              "      <td>50.0</td>\n",
              "      <td>59.36</td>\n",
              "      <td>19.81</td>\n",
              "      <td>19.30</td>\n",
              "      <td>19.15</td>\n",
              "      <td>39.78</td>\n",
              "      <td>632.0</td>\n",
              "      <td>82.0</td>\n",
              "      <td>26.9</td>\n",
              "      <td>0.78</td>\n",
              "      <td>0.78</td>\n",
              "      <td>0.77</td>\n",
              "      <td>0.78</td>\n",
              "      <td>220.5</td>\n",
              "      <td>220.5</td>\n",
              "      <td>220.8</td>\n",
              "      <td>26.18</td>\n",
              "      <td>32767.0</td>\n",
              "      <td>1500.0</td>\n",
              "      <td>MP3-01605</td>\n",
              "    </tr>\n",
              "    <tr>\n",
              "      <th>4</th>\n",
              "      <td>1.5</td>\n",
              "      <td>01-08-20 06:00</td>\n",
              "      <td>2.0</td>\n",
              "      <td>98.0</td>\n",
              "      <td>96.0</td>\n",
              "      <td>96.0</td>\n",
              "      <td>50.0</td>\n",
              "      <td>64.60</td>\n",
              "      <td>21.66</td>\n",
              "      <td>21.14</td>\n",
              "      <td>21.14</td>\n",
              "      <td>43.31</td>\n",
              "      <td>628.0</td>\n",
              "      <td>82.0</td>\n",
              "      <td>27.0</td>\n",
              "      <td>0.78</td>\n",
              "      <td>0.77</td>\n",
              "      <td>0.78</td>\n",
              "      <td>0.78</td>\n",
              "      <td>220.3</td>\n",
              "      <td>220.4</td>\n",
              "      <td>220.6</td>\n",
              "      <td>26.14</td>\n",
              "      <td>32767.0</td>\n",
              "      <td>1500.0</td>\n",
              "      <td>MP3-01605</td>\n",
              "    </tr>\n",
              "  </tbody>\n",
              "</table>\n",
              "</div>"
            ],
            "text/plain": [
              "    No        Datetime  Control_Mode     L1     L2     L3  Frequency  \\\n",
              "0  1.1  01-08-20 02:03           2.0   28.0   27.0   26.0       50.0   \n",
              "1  1.2  01-08-20 03:00           2.0   39.0   39.0   37.0       50.0   \n",
              "2  1.3  01-08-20 04:00           2.0  104.0  100.0  100.0       50.0   \n",
              "3  1.4  01-08-20 05:00           2.0   90.0   87.0   87.0       50.0   \n",
              "4  1.5  01-08-20 06:00           2.0   98.0   96.0   96.0       50.0   \n",
              "\n",
              "   kVA_Total  kVA_L1  kVA_L2  kVA_L3   KVAr  Oil_Pressure  Coolant_Temp  \\\n",
              "0      18.51    6.35    6.09    5.89   0.00         636.0          81.0   \n",
              "1      25.74    8.65    8.45    8.24   0.00         636.0          81.0   \n",
              "2      68.59   22.89   22.32   22.02  46.74         632.0          82.0   \n",
              "3      59.36   19.81   19.30   19.15  39.78         632.0          82.0   \n",
              "4      64.60   21.66   21.14   21.14  43.31         628.0          82.0   \n",
              "\n",
              "   Charger_Alternator  PF_Avg  PF_L1  PF_L2  PF_L3   L1_N   L2_N   L3_N  \\\n",
              "0                26.9    0.83   0.83   0.82   0.84  220.8  221.1  220.8   \n",
              "1                26.9    0.76   0.77   0.75   0.77  220.8  220.5  220.8   \n",
              "2                26.9    0.77   0.77   0.76   0.77  220.2  220.7  220.5   \n",
              "3                26.9    0.78   0.78   0.77   0.78  220.5  220.5  220.8   \n",
              "4                27.0    0.78   0.77   0.78   0.78  220.3  220.4  220.6   \n",
              "\n",
              "   Source_Ext_Voltage  ECU_Temp     RPM Train_code  \n",
              "0               25.98   32767.0  1499.0  MP3-01605  \n",
              "1               25.84   32767.0  1501.0  MP3-01605  \n",
              "2               25.93   32767.0  1499.0  MP3-01605  \n",
              "3               26.18   32767.0  1500.0  MP3-01605  \n",
              "4               26.14   32767.0  1500.0  MP3-01605  "
            ]
          },
          "metadata": {},
          "execution_count": 8
        },
        {
          "output_type": "stream",
          "name": "stdout",
          "text": [
            "time: 40.6 ms (started: 2021-10-07 15:19:47 +00:00)\n"
          ]
        }
      ]
    },
    {
      "cell_type": "code",
      "metadata": {
        "colab": {
          "base_uri": "https://localhost:8080/"
        },
        "id": "ZYiKPbywyN3J",
        "outputId": "88f85a6b-5e97-4ca7-f894-e2dcd81c2468"
      },
      "source": [
        "dataset.info()                                 # concise information"
      ],
      "execution_count": null,
      "outputs": [
        {
          "output_type": "stream",
          "name": "stdout",
          "text": [
            "<class 'pandas.core.frame.DataFrame'>\n",
            "RangeIndex: 34357 entries, 0 to 34356\n",
            "Data columns (total 26 columns):\n",
            " #   Column              Non-Null Count  Dtype  \n",
            "---  ------              --------------  -----  \n",
            " 0   No                  33832 non-null  float64\n",
            " 1   Datetime            33832 non-null  object \n",
            " 2   Control_Mode        33832 non-null  float64\n",
            " 3   L1                  33832 non-null  float64\n",
            " 4   L2                  33832 non-null  float64\n",
            " 5   L3                  33832 non-null  float64\n",
            " 6   Frequency           33832 non-null  float64\n",
            " 7   kVA_Total           33832 non-null  float64\n",
            " 8   kVA_L1              33832 non-null  float64\n",
            " 9   kVA_L2              33832 non-null  float64\n",
            " 10  kVA_L3              33832 non-null  float64\n",
            " 11  KVAr                33832 non-null  float64\n",
            " 12  Oil_Pressure        33832 non-null  float64\n",
            " 13  Coolant_Temp        33832 non-null  float64\n",
            " 14  Charger_Alternator  33832 non-null  float64\n",
            " 15  PF_Avg              33832 non-null  float64\n",
            " 16  PF_L1               33832 non-null  float64\n",
            " 17  PF_L2               33832 non-null  float64\n",
            " 18  PF_L3               33832 non-null  float64\n",
            " 19  L1_N                33832 non-null  float64\n",
            " 20  L2_N                33832 non-null  float64\n",
            " 21  L3_N                33832 non-null  float64\n",
            " 22  Source_Ext_Voltage  33832 non-null  float64\n",
            " 23  ECU_Temp            33832 non-null  float64\n",
            " 24  RPM                 33832 non-null  float64\n",
            " 25  Train_code          33832 non-null  object \n",
            "dtypes: float64(24), object(2)\n",
            "memory usage: 6.8+ MB\n",
            "time: 20 ms (started: 2021-10-07 15:19:47 +00:00)\n"
          ]
        }
      ]
    },
    {
      "cell_type": "code",
      "metadata": {
        "colab": {
          "base_uri": "https://localhost:8080/"
        },
        "id": "akKdyZgWyd5n",
        "outputId": "61583afb-49c0-449e-f701-dd49e372204e"
      },
      "source": [
        "dataset.groupby('Train_code').size()   # class distribution"
      ],
      "execution_count": null,
      "outputs": [
        {
          "output_type": "execute_result",
          "data": {
            "text/plain": [
              "Train_code\n",
              "MP3-01605    1434\n",
              "MP3-01606     983\n",
              "P-01601       423\n",
              "P-01801      1922\n",
              "P-01808      3068\n",
              "P-01810      2570\n",
              "P-01811      2258\n",
              "P-01812      1231\n",
              "P-01818      2280\n",
              "P-01820      2186\n",
              "P-01821      2006\n",
              "P-01822      2901\n",
              "P-01823       867\n",
              "P-01825      1396\n",
              "P-01903      2128\n",
              "P-01908      3187\n",
              "P-01914      2992\n",
              "dtype: int64"
            ]
          },
          "metadata": {},
          "execution_count": 10
        },
        {
          "output_type": "stream",
          "name": "stdout",
          "text": [
            "time: 16.2 ms (started: 2021-10-07 15:19:47 +00:00)\n"
          ]
        }
      ]
    },
    {
      "cell_type": "code",
      "metadata": {
        "colab": {
          "base_uri": "https://localhost:8080/"
        },
        "id": "tUoajWgByhI4",
        "outputId": "2d8c0c99-8b1e-4c96-d86b-2a47426da8f4"
      },
      "source": [
        "dataset.describe()                      # statistical value of data"
      ],
      "execution_count": null,
      "outputs": [
        {
          "output_type": "execute_result",
          "data": {
            "text/html": [
              "<div>\n",
              "<style scoped>\n",
              "    .dataframe tbody tr th:only-of-type {\n",
              "        vertical-align: middle;\n",
              "    }\n",
              "\n",
              "    .dataframe tbody tr th {\n",
              "        vertical-align: top;\n",
              "    }\n",
              "\n",
              "    .dataframe thead th {\n",
              "        text-align: right;\n",
              "    }\n",
              "</style>\n",
              "<table border=\"1\" class=\"dataframe\">\n",
              "  <thead>\n",
              "    <tr style=\"text-align: right;\">\n",
              "      <th></th>\n",
              "      <th>No</th>\n",
              "      <th>Control_Mode</th>\n",
              "      <th>L1</th>\n",
              "      <th>L2</th>\n",
              "      <th>L3</th>\n",
              "      <th>Frequency</th>\n",
              "      <th>kVA_Total</th>\n",
              "      <th>kVA_L1</th>\n",
              "      <th>kVA_L2</th>\n",
              "      <th>kVA_L3</th>\n",
              "      <th>KVAr</th>\n",
              "      <th>Oil_Pressure</th>\n",
              "      <th>Coolant_Temp</th>\n",
              "      <th>Charger_Alternator</th>\n",
              "      <th>PF_Avg</th>\n",
              "      <th>PF_L1</th>\n",
              "      <th>PF_L2</th>\n",
              "      <th>PF_L3</th>\n",
              "      <th>L1_N</th>\n",
              "      <th>L2_N</th>\n",
              "      <th>L3_N</th>\n",
              "      <th>Source_Ext_Voltage</th>\n",
              "      <th>ECU_Temp</th>\n",
              "      <th>RPM</th>\n",
              "    </tr>\n",
              "  </thead>\n",
              "  <tbody>\n",
              "    <tr>\n",
              "      <th>count</th>\n",
              "      <td>33832.000000</td>\n",
              "      <td>33832.000000</td>\n",
              "      <td>33832.000000</td>\n",
              "      <td>33832.000000</td>\n",
              "      <td>33832.000000</td>\n",
              "      <td>33832.000000</td>\n",
              "      <td>33832.000000</td>\n",
              "      <td>33832.000000</td>\n",
              "      <td>33832.000000</td>\n",
              "      <td>33832.000000</td>\n",
              "      <td>3.383200e+04</td>\n",
              "      <td>33832.000000</td>\n",
              "      <td>33832.000000</td>\n",
              "      <td>33832.000000</td>\n",
              "      <td>33832.000000</td>\n",
              "      <td>33832.000000</td>\n",
              "      <td>33832.000000</td>\n",
              "      <td>33832.000000</td>\n",
              "      <td>33832.000000</td>\n",
              "      <td>33832.000000</td>\n",
              "      <td>33832.000000</td>\n",
              "      <td>33832.000000</td>\n",
              "      <td>33832.000000</td>\n",
              "      <td>33832.000000</td>\n",
              "    </tr>\n",
              "    <tr>\n",
              "      <th>mean</th>\n",
              "      <td>16.382906</td>\n",
              "      <td>1.531893</td>\n",
              "      <td>104.661208</td>\n",
              "      <td>103.481822</td>\n",
              "      <td>103.836072</td>\n",
              "      <td>41.849285</td>\n",
              "      <td>69.517004</td>\n",
              "      <td>23.098147</td>\n",
              "      <td>22.853998</td>\n",
              "      <td>22.919337</td>\n",
              "      <td>2.567771e+04</td>\n",
              "      <td>1533.996364</td>\n",
              "      <td>663.118379</td>\n",
              "      <td>23.126040</td>\n",
              "      <td>5.953150</td>\n",
              "      <td>5.577243</td>\n",
              "      <td>5.935014</td>\n",
              "      <td>6.347120</td>\n",
              "      <td>186.349900</td>\n",
              "      <td>186.401478</td>\n",
              "      <td>186.174010</td>\n",
              "      <td>23.340322</td>\n",
              "      <td>6278.678647</td>\n",
              "      <td>1345.971831</td>\n",
              "    </tr>\n",
              "    <tr>\n",
              "      <th>std</th>\n",
              "      <td>9.070813</td>\n",
              "      <td>0.810421</td>\n",
              "      <td>79.092619</td>\n",
              "      <td>78.685596</td>\n",
              "      <td>78.725843</td>\n",
              "      <td>18.329195</td>\n",
              "      <td>52.483808</td>\n",
              "      <td>17.573883</td>\n",
              "      <td>17.497579</td>\n",
              "      <td>17.482340</td>\n",
              "      <td>3.308827e+05</td>\n",
              "      <td>8092.570600</td>\n",
              "      <td>4389.881127</td>\n",
              "      <td>10.263944</td>\n",
              "      <td>40.234364</td>\n",
              "      <td>39.608321</td>\n",
              "      <td>41.013527</td>\n",
              "      <td>42.585116</td>\n",
              "      <td>80.731685</td>\n",
              "      <td>80.867993</td>\n",
              "      <td>80.890586</td>\n",
              "      <td>9.010295</td>\n",
              "      <td>12862.110888</td>\n",
              "      <td>2602.133855</td>\n",
              "    </tr>\n",
              "    <tr>\n",
              "      <th>min</th>\n",
              "      <td>1.100000</td>\n",
              "      <td>0.000000</td>\n",
              "      <td>0.000000</td>\n",
              "      <td>0.000000</td>\n",
              "      <td>0.000000</td>\n",
              "      <td>0.000000</td>\n",
              "      <td>0.000000</td>\n",
              "      <td>0.000000</td>\n",
              "      <td>0.000000</td>\n",
              "      <td>0.000000</td>\n",
              "      <td>0.000000e+00</td>\n",
              "      <td>0.000000</td>\n",
              "      <td>0.000000</td>\n",
              "      <td>0.000000</td>\n",
              "      <td>0.000000</td>\n",
              "      <td>0.000000</td>\n",
              "      <td>0.000000</td>\n",
              "      <td>0.000000</td>\n",
              "      <td>0.000000</td>\n",
              "      <td>0.000000</td>\n",
              "      <td>0.000000</td>\n",
              "      <td>0.000000</td>\n",
              "      <td>0.000000</td>\n",
              "      <td>0.000000</td>\n",
              "    </tr>\n",
              "    <tr>\n",
              "      <th>25%</th>\n",
              "      <td>8.200000</td>\n",
              "      <td>1.000000</td>\n",
              "      <td>39.000000</td>\n",
              "      <td>38.000000</td>\n",
              "      <td>38.000000</td>\n",
              "      <td>50.000000</td>\n",
              "      <td>26.037500</td>\n",
              "      <td>8.440000</td>\n",
              "      <td>8.280000</td>\n",
              "      <td>8.260000</td>\n",
              "      <td>9.680000e+00</td>\n",
              "      <td>592.000000</td>\n",
              "      <td>76.000000</td>\n",
              "      <td>27.100000</td>\n",
              "      <td>0.780000</td>\n",
              "      <td>0.780000</td>\n",
              "      <td>0.780000</td>\n",
              "      <td>0.780000</td>\n",
              "      <td>219.600000</td>\n",
              "      <td>219.700000</td>\n",
              "      <td>219.675000</td>\n",
              "      <td>26.330000</td>\n",
              "      <td>36.000000</td>\n",
              "      <td>1499.000000</td>\n",
              "    </tr>\n",
              "    <tr>\n",
              "      <th>50%</th>\n",
              "      <td>16.900000</td>\n",
              "      <td>2.000000</td>\n",
              "      <td>104.000000</td>\n",
              "      <td>103.000000</td>\n",
              "      <td>103.000000</td>\n",
              "      <td>50.000000</td>\n",
              "      <td>69.020000</td>\n",
              "      <td>22.985000</td>\n",
              "      <td>22.725000</td>\n",
              "      <td>22.940000</td>\n",
              "      <td>3.354000e+01</td>\n",
              "      <td>612.000000</td>\n",
              "      <td>81.000000</td>\n",
              "      <td>27.700000</td>\n",
              "      <td>0.870000</td>\n",
              "      <td>0.870000</td>\n",
              "      <td>0.860000</td>\n",
              "      <td>0.860000</td>\n",
              "      <td>221.100000</td>\n",
              "      <td>221.300000</td>\n",
              "      <td>221.100000</td>\n",
              "      <td>27.110000</td>\n",
              "      <td>41.000000</td>\n",
              "      <td>1499.000000</td>\n",
              "    </tr>\n",
              "    <tr>\n",
              "      <th>75%</th>\n",
              "      <td>24.360000</td>\n",
              "      <td>2.000000</td>\n",
              "      <td>159.000000</td>\n",
              "      <td>157.000000</td>\n",
              "      <td>157.000000</td>\n",
              "      <td>50.000000</td>\n",
              "      <td>105.420000</td>\n",
              "      <td>35.160000</td>\n",
              "      <td>34.700000</td>\n",
              "      <td>34.680000</td>\n",
              "      <td>5.388000e+01</td>\n",
              "      <td>624.000000</td>\n",
              "      <td>82.000000</td>\n",
              "      <td>27.900000</td>\n",
              "      <td>0.890000</td>\n",
              "      <td>0.890000</td>\n",
              "      <td>0.890000</td>\n",
              "      <td>0.880000</td>\n",
              "      <td>222.200000</td>\n",
              "      <td>222.400000</td>\n",
              "      <td>222.300000</td>\n",
              "      <td>27.300000</td>\n",
              "      <td>48.000000</td>\n",
              "      <td>1500.000000</td>\n",
              "    </tr>\n",
              "    <tr>\n",
              "      <th>max</th>\n",
              "      <td>31.990000</td>\n",
              "      <td>5.000000</td>\n",
              "      <td>555.000000</td>\n",
              "      <td>562.000000</td>\n",
              "      <td>557.000000</td>\n",
              "      <td>51.900000</td>\n",
              "      <td>376.510000</td>\n",
              "      <td>125.340000</td>\n",
              "      <td>127.240000</td>\n",
              "      <td>125.700000</td>\n",
              "      <td>4.294967e+06</td>\n",
              "      <td>65535.000000</td>\n",
              "      <td>65531.000000</td>\n",
              "      <td>29.900000</td>\n",
              "      <td>327.650000</td>\n",
              "      <td>327.650000</td>\n",
              "      <td>327.650000</td>\n",
              "      <td>327.650000</td>\n",
              "      <td>227.800000</td>\n",
              "      <td>227.900000</td>\n",
              "      <td>229.100000</td>\n",
              "      <td>30.720000</td>\n",
              "      <td>32767.000000</td>\n",
              "      <td>65531.000000</td>\n",
              "    </tr>\n",
              "  </tbody>\n",
              "</table>\n",
              "</div>"
            ],
            "text/plain": [
              "                 No  Control_Mode            L1            L2            L3  \\\n",
              "count  33832.000000  33832.000000  33832.000000  33832.000000  33832.000000   \n",
              "mean      16.382906      1.531893    104.661208    103.481822    103.836072   \n",
              "std        9.070813      0.810421     79.092619     78.685596     78.725843   \n",
              "min        1.100000      0.000000      0.000000      0.000000      0.000000   \n",
              "25%        8.200000      1.000000     39.000000     38.000000     38.000000   \n",
              "50%       16.900000      2.000000    104.000000    103.000000    103.000000   \n",
              "75%       24.360000      2.000000    159.000000    157.000000    157.000000   \n",
              "max       31.990000      5.000000    555.000000    562.000000    557.000000   \n",
              "\n",
              "          Frequency     kVA_Total        kVA_L1        kVA_L2        kVA_L3  \\\n",
              "count  33832.000000  33832.000000  33832.000000  33832.000000  33832.000000   \n",
              "mean      41.849285     69.517004     23.098147     22.853998     22.919337   \n",
              "std       18.329195     52.483808     17.573883     17.497579     17.482340   \n",
              "min        0.000000      0.000000      0.000000      0.000000      0.000000   \n",
              "25%       50.000000     26.037500      8.440000      8.280000      8.260000   \n",
              "50%       50.000000     69.020000     22.985000     22.725000     22.940000   \n",
              "75%       50.000000    105.420000     35.160000     34.700000     34.680000   \n",
              "max       51.900000    376.510000    125.340000    127.240000    125.700000   \n",
              "\n",
              "               KVAr  Oil_Pressure  Coolant_Temp  Charger_Alternator  \\\n",
              "count  3.383200e+04  33832.000000  33832.000000        33832.000000   \n",
              "mean   2.567771e+04   1533.996364    663.118379           23.126040   \n",
              "std    3.308827e+05   8092.570600   4389.881127           10.263944   \n",
              "min    0.000000e+00      0.000000      0.000000            0.000000   \n",
              "25%    9.680000e+00    592.000000     76.000000           27.100000   \n",
              "50%    3.354000e+01    612.000000     81.000000           27.700000   \n",
              "75%    5.388000e+01    624.000000     82.000000           27.900000   \n",
              "max    4.294967e+06  65535.000000  65531.000000           29.900000   \n",
              "\n",
              "             PF_Avg         PF_L1         PF_L2         PF_L3          L1_N  \\\n",
              "count  33832.000000  33832.000000  33832.000000  33832.000000  33832.000000   \n",
              "mean       5.953150      5.577243      5.935014      6.347120    186.349900   \n",
              "std       40.234364     39.608321     41.013527     42.585116     80.731685   \n",
              "min        0.000000      0.000000      0.000000      0.000000      0.000000   \n",
              "25%        0.780000      0.780000      0.780000      0.780000    219.600000   \n",
              "50%        0.870000      0.870000      0.860000      0.860000    221.100000   \n",
              "75%        0.890000      0.890000      0.890000      0.880000    222.200000   \n",
              "max      327.650000    327.650000    327.650000    327.650000    227.800000   \n",
              "\n",
              "               L2_N          L3_N  Source_Ext_Voltage      ECU_Temp  \\\n",
              "count  33832.000000  33832.000000        33832.000000  33832.000000   \n",
              "mean     186.401478    186.174010           23.340322   6278.678647   \n",
              "std       80.867993     80.890586            9.010295  12862.110888   \n",
              "min        0.000000      0.000000            0.000000      0.000000   \n",
              "25%      219.700000    219.675000           26.330000     36.000000   \n",
              "50%      221.300000    221.100000           27.110000     41.000000   \n",
              "75%      222.400000    222.300000           27.300000     48.000000   \n",
              "max      227.900000    229.100000           30.720000  32767.000000   \n",
              "\n",
              "                RPM  \n",
              "count  33832.000000  \n",
              "mean    1345.971831  \n",
              "std     2602.133855  \n",
              "min        0.000000  \n",
              "25%     1499.000000  \n",
              "50%     1499.000000  \n",
              "75%     1500.000000  \n",
              "max    65531.000000  "
            ]
          },
          "metadata": {},
          "execution_count": 11
        },
        {
          "output_type": "stream",
          "name": "stdout",
          "text": [
            "time: 126 ms (started: 2021-10-07 15:19:47 +00:00)\n"
          ]
        }
      ]
    },
    {
      "cell_type": "markdown",
      "metadata": {
        "id": "-DmyHvW5UGlM"
      },
      "source": [
        "## 2) Feature Engineering"
      ]
    },
    {
      "cell_type": "markdown",
      "metadata": {
        "id": "lFjywDrjt7fl"
      },
      "source": [
        "### Feature Selection"
      ]
    },
    {
      "cell_type": "code",
      "metadata": {
        "colab": {
          "base_uri": "https://localhost:8080/"
        },
        "id": "kTY67ABL6dyU",
        "outputId": "ee5e4f39-2557-4c59-a462-319dfc6c484c"
      },
      "source": [
        "# Process dataset to obtain usable features\n",
        "# delete columns with condition\n",
        "dataset.drop(labels=unused_col, axis=1, inplace=True)\n",
        "dataset"
      ],
      "execution_count": null,
      "outputs": [
        {
          "output_type": "execute_result",
          "data": {
            "text/html": [
              "<div>\n",
              "<style scoped>\n",
              "    .dataframe tbody tr th:only-of-type {\n",
              "        vertical-align: middle;\n",
              "    }\n",
              "\n",
              "    .dataframe tbody tr th {\n",
              "        vertical-align: top;\n",
              "    }\n",
              "\n",
              "    .dataframe thead th {\n",
              "        text-align: right;\n",
              "    }\n",
              "</style>\n",
              "<table border=\"1\" class=\"dataframe\">\n",
              "  <thead>\n",
              "    <tr style=\"text-align: right;\">\n",
              "      <th></th>\n",
              "      <th>Oil_Pressure</th>\n",
              "      <th>Coolant_Temp</th>\n",
              "      <th>PF_Avg</th>\n",
              "      <th>ECU_Temp</th>\n",
              "    </tr>\n",
              "  </thead>\n",
              "  <tbody>\n",
              "    <tr>\n",
              "      <th>0</th>\n",
              "      <td>636.0</td>\n",
              "      <td>81.0</td>\n",
              "      <td>0.83</td>\n",
              "      <td>32767.0</td>\n",
              "    </tr>\n",
              "    <tr>\n",
              "      <th>1</th>\n",
              "      <td>636.0</td>\n",
              "      <td>81.0</td>\n",
              "      <td>0.76</td>\n",
              "      <td>32767.0</td>\n",
              "    </tr>\n",
              "    <tr>\n",
              "      <th>2</th>\n",
              "      <td>632.0</td>\n",
              "      <td>82.0</td>\n",
              "      <td>0.77</td>\n",
              "      <td>32767.0</td>\n",
              "    </tr>\n",
              "    <tr>\n",
              "      <th>3</th>\n",
              "      <td>632.0</td>\n",
              "      <td>82.0</td>\n",
              "      <td>0.78</td>\n",
              "      <td>32767.0</td>\n",
              "    </tr>\n",
              "    <tr>\n",
              "      <th>4</th>\n",
              "      <td>628.0</td>\n",
              "      <td>82.0</td>\n",
              "      <td>0.78</td>\n",
              "      <td>32767.0</td>\n",
              "    </tr>\n",
              "    <tr>\n",
              "      <th>...</th>\n",
              "      <td>...</td>\n",
              "      <td>...</td>\n",
              "      <td>...</td>\n",
              "      <td>...</td>\n",
              "    </tr>\n",
              "    <tr>\n",
              "      <th>34352</th>\n",
              "      <td>600.0</td>\n",
              "      <td>83.0</td>\n",
              "      <td>0.88</td>\n",
              "      <td>32767.0</td>\n",
              "    </tr>\n",
              "    <tr>\n",
              "      <th>34353</th>\n",
              "      <td>604.0</td>\n",
              "      <td>82.0</td>\n",
              "      <td>0.88</td>\n",
              "      <td>32767.0</td>\n",
              "    </tr>\n",
              "    <tr>\n",
              "      <th>34354</th>\n",
              "      <td>604.0</td>\n",
              "      <td>81.0</td>\n",
              "      <td>0.87</td>\n",
              "      <td>32767.0</td>\n",
              "    </tr>\n",
              "    <tr>\n",
              "      <th>34355</th>\n",
              "      <td>0.0</td>\n",
              "      <td>0.0</td>\n",
              "      <td>0.00</td>\n",
              "      <td>0.0</td>\n",
              "    </tr>\n",
              "    <tr>\n",
              "      <th>34356</th>\n",
              "      <td>0.0</td>\n",
              "      <td>0.0</td>\n",
              "      <td>0.00</td>\n",
              "      <td>0.0</td>\n",
              "    </tr>\n",
              "  </tbody>\n",
              "</table>\n",
              "<p>34357 rows × 4 columns</p>\n",
              "</div>"
            ],
            "text/plain": [
              "       Oil_Pressure  Coolant_Temp  PF_Avg  ECU_Temp\n",
              "0             636.0          81.0    0.83   32767.0\n",
              "1             636.0          81.0    0.76   32767.0\n",
              "2             632.0          82.0    0.77   32767.0\n",
              "3             632.0          82.0    0.78   32767.0\n",
              "4             628.0          82.0    0.78   32767.0\n",
              "...             ...           ...     ...       ...\n",
              "34352         600.0          83.0    0.88   32767.0\n",
              "34353         604.0          82.0    0.88   32767.0\n",
              "34354         604.0          81.0    0.87   32767.0\n",
              "34355           0.0           0.0    0.00       0.0\n",
              "34356           0.0           0.0    0.00       0.0\n",
              "\n",
              "[34357 rows x 4 columns]"
            ]
          },
          "metadata": {},
          "execution_count": 12
        },
        {
          "output_type": "stream",
          "name": "stdout",
          "text": [
            "time: 16.4 ms (started: 2021-10-07 15:19:47 +00:00)\n"
          ]
        }
      ]
    },
    {
      "cell_type": "code",
      "metadata": {
        "colab": {
          "base_uri": "https://localhost:8080/"
        },
        "id": "4j1vcr1k2Nyy",
        "outputId": "a09bf1ca-15e7-4ac2-fb25-cb92d3f6ddad"
      },
      "source": [
        "dataset.describe()     # statistical value of data"
      ],
      "execution_count": null,
      "outputs": [
        {
          "output_type": "execute_result",
          "data": {
            "text/html": [
              "<div>\n",
              "<style scoped>\n",
              "    .dataframe tbody tr th:only-of-type {\n",
              "        vertical-align: middle;\n",
              "    }\n",
              "\n",
              "    .dataframe tbody tr th {\n",
              "        vertical-align: top;\n",
              "    }\n",
              "\n",
              "    .dataframe thead th {\n",
              "        text-align: right;\n",
              "    }\n",
              "</style>\n",
              "<table border=\"1\" class=\"dataframe\">\n",
              "  <thead>\n",
              "    <tr style=\"text-align: right;\">\n",
              "      <th></th>\n",
              "      <th>Oil_Pressure</th>\n",
              "      <th>Coolant_Temp</th>\n",
              "      <th>PF_Avg</th>\n",
              "      <th>ECU_Temp</th>\n",
              "    </tr>\n",
              "  </thead>\n",
              "  <tbody>\n",
              "    <tr>\n",
              "      <th>count</th>\n",
              "      <td>33832.000000</td>\n",
              "      <td>33832.000000</td>\n",
              "      <td>33832.000000</td>\n",
              "      <td>33832.000000</td>\n",
              "    </tr>\n",
              "    <tr>\n",
              "      <th>mean</th>\n",
              "      <td>1533.996364</td>\n",
              "      <td>663.118379</td>\n",
              "      <td>5.953150</td>\n",
              "      <td>6278.678647</td>\n",
              "    </tr>\n",
              "    <tr>\n",
              "      <th>std</th>\n",
              "      <td>8092.570600</td>\n",
              "      <td>4389.881127</td>\n",
              "      <td>40.234364</td>\n",
              "      <td>12862.110888</td>\n",
              "    </tr>\n",
              "    <tr>\n",
              "      <th>min</th>\n",
              "      <td>0.000000</td>\n",
              "      <td>0.000000</td>\n",
              "      <td>0.000000</td>\n",
              "      <td>0.000000</td>\n",
              "    </tr>\n",
              "    <tr>\n",
              "      <th>25%</th>\n",
              "      <td>592.000000</td>\n",
              "      <td>76.000000</td>\n",
              "      <td>0.780000</td>\n",
              "      <td>36.000000</td>\n",
              "    </tr>\n",
              "    <tr>\n",
              "      <th>50%</th>\n",
              "      <td>612.000000</td>\n",
              "      <td>81.000000</td>\n",
              "      <td>0.870000</td>\n",
              "      <td>41.000000</td>\n",
              "    </tr>\n",
              "    <tr>\n",
              "      <th>75%</th>\n",
              "      <td>624.000000</td>\n",
              "      <td>82.000000</td>\n",
              "      <td>0.890000</td>\n",
              "      <td>48.000000</td>\n",
              "    </tr>\n",
              "    <tr>\n",
              "      <th>max</th>\n",
              "      <td>65535.000000</td>\n",
              "      <td>65531.000000</td>\n",
              "      <td>327.650000</td>\n",
              "      <td>32767.000000</td>\n",
              "    </tr>\n",
              "  </tbody>\n",
              "</table>\n",
              "</div>"
            ],
            "text/plain": [
              "       Oil_Pressure  Coolant_Temp        PF_Avg      ECU_Temp\n",
              "count  33832.000000  33832.000000  33832.000000  33832.000000\n",
              "mean    1533.996364    663.118379      5.953150   6278.678647\n",
              "std     8092.570600   4389.881127     40.234364  12862.110888\n",
              "min        0.000000      0.000000      0.000000      0.000000\n",
              "25%      592.000000     76.000000      0.780000     36.000000\n",
              "50%      612.000000     81.000000      0.870000     41.000000\n",
              "75%      624.000000     82.000000      0.890000     48.000000\n",
              "max    65535.000000  65531.000000    327.650000  32767.000000"
            ]
          },
          "metadata": {},
          "execution_count": 13
        },
        {
          "output_type": "stream",
          "name": "stdout",
          "text": [
            "time: 41.6 ms (started: 2021-10-07 15:19:47 +00:00)\n"
          ]
        }
      ]
    },
    {
      "cell_type": "code",
      "metadata": {
        "colab": {
          "base_uri": "https://localhost:8080/"
        },
        "id": "DiAXXTHG2Sq2",
        "outputId": "acc4c12a-b3ee-4063-9215-778803f20154"
      },
      "source": [
        "dataset.hist()                # Visualize data using histograms\n",
        "pyplot.show()"
      ],
      "execution_count": null,
      "outputs": [
        {
          "output_type": "display_data",
          "data": {
            "image/png": "[encoded data removed]",
            "text/plain": [
              "<Figure size 432x288 with 4 Axes>"
            ]
          },
          "metadata": {
            "needs_background": "light"
          }
        },
        {
          "output_type": "stream",
          "name": "stdout",
          "text": [
            "time: 509 ms (started: 2021-10-07 15:19:47 +00:00)\n"
          ]
        }
      ]
    },
    {
      "cell_type": "markdown",
      "metadata": {
        "id": "PtO0pbeY5xwB"
      },
      "source": [
        "### Data Labelling\n",
        "Data labelling using Clustering Algorithm\n"
      ]
    },
    {
      "cell_type": "code",
      "metadata": {
        "colab": {
          "base_uri": "https://localhost:8080/",
          "height": 376
        },
        "id": "MdMAcMzu6E0y",
        "outputId": "103d3770-da39-4b98-b196-e2895778c050"
      },
      "source": [
        "# Pre-process data\n",
        "dataset.fillna(method ='ffill', inplace = True)           #fill any missing values\n",
        "dataset.drop_duplicates()                       \n",
        "X_scaled = StandardScaler().fit_transform(dataset)        #Bring all the attributes to a comparable level\n",
        "X_normalized = normalize(X_scaled)                        #Making the data approximately follows a Gaussian distribution\n",
        "X_normalized = pd.DataFrame(X_normalized)                 #Converting the numpy array into a pandas DataFrame\n",
        "\n",
        "X_normalized.head(10)"
      ],
      "execution_count": null,
      "outputs": [
        {
          "output_type": "execute_result",
          "data": {
            "text/html": [
              "<div>\n",
              "<style scoped>\n",
              "    .dataframe tbody tr th:only-of-type {\n",
              "        vertical-align: middle;\n",
              "    }\n",
              "\n",
              "    .dataframe tbody tr th {\n",
              "        vertical-align: top;\n",
              "    }\n",
              "\n",
              "    .dataframe thead th {\n",
              "        text-align: right;\n",
              "    }\n",
              "</style>\n",
              "<table border=\"1\" class=\"dataframe\">\n",
              "  <thead>\n",
              "    <tr style=\"text-align: right;\">\n",
              "      <th></th>\n",
              "      <th>0</th>\n",
              "      <th>1</th>\n",
              "      <th>2</th>\n",
              "      <th>3</th>\n",
              "    </tr>\n",
              "  </thead>\n",
              "  <tbody>\n",
              "    <tr>\n",
              "      <th>0</th>\n",
              "      <td>-0.053887</td>\n",
              "      <td>-0.064232</td>\n",
              "      <td>-0.061986</td>\n",
              "      <td>0.994549</td>\n",
              "    </tr>\n",
              "    <tr>\n",
              "      <th>1</th>\n",
              "      <td>-0.053884</td>\n",
              "      <td>-0.064228</td>\n",
              "      <td>-0.062816</td>\n",
              "      <td>0.994498</td>\n",
              "    </tr>\n",
              "    <tr>\n",
              "      <th>2</th>\n",
              "      <td>-0.054122</td>\n",
              "      <td>-0.064119</td>\n",
              "      <td>-0.062697</td>\n",
              "      <td>0.994499</td>\n",
              "    </tr>\n",
              "    <tr>\n",
              "      <th>3</th>\n",
              "      <td>-0.054122</td>\n",
              "      <td>-0.064119</td>\n",
              "      <td>-0.062579</td>\n",
              "      <td>0.994507</td>\n",
              "    </tr>\n",
              "    <tr>\n",
              "      <th>4</th>\n",
              "      <td>-0.054359</td>\n",
              "      <td>-0.064118</td>\n",
              "      <td>-0.062578</td>\n",
              "      <td>0.994494</td>\n",
              "    </tr>\n",
              "    <tr>\n",
              "      <th>5</th>\n",
              "      <td>-0.054360</td>\n",
              "      <td>-0.064119</td>\n",
              "      <td>-0.062341</td>\n",
              "      <td>0.994509</td>\n",
              "    </tr>\n",
              "    <tr>\n",
              "      <th>6</th>\n",
              "      <td>-0.054834</td>\n",
              "      <td>-0.064118</td>\n",
              "      <td>-0.062102</td>\n",
              "      <td>0.994498</td>\n",
              "    </tr>\n",
              "    <tr>\n",
              "      <th>7</th>\n",
              "      <td>-0.055071</td>\n",
              "      <td>-0.064117</td>\n",
              "      <td>-0.062219</td>\n",
              "      <td>0.994477</td>\n",
              "    </tr>\n",
              "    <tr>\n",
              "      <th>8</th>\n",
              "      <td>-0.054834</td>\n",
              "      <td>-0.064118</td>\n",
              "      <td>-0.062102</td>\n",
              "      <td>0.994498</td>\n",
              "    </tr>\n",
              "    <tr>\n",
              "      <th>9</th>\n",
              "      <td>-0.055072</td>\n",
              "      <td>-0.064009</td>\n",
              "      <td>-0.061864</td>\n",
              "      <td>0.994506</td>\n",
              "    </tr>\n",
              "  </tbody>\n",
              "</table>\n",
              "</div>"
            ],
            "text/plain": [
              "          0         1         2         3\n",
              "0 -0.053887 -0.064232 -0.061986  0.994549\n",
              "1 -0.053884 -0.064228 -0.062816  0.994498\n",
              "2 -0.054122 -0.064119 -0.062697  0.994499\n",
              "3 -0.054122 -0.064119 -0.062579  0.994507\n",
              "4 -0.054359 -0.064118 -0.062578  0.994494\n",
              "5 -0.054360 -0.064119 -0.062341  0.994509\n",
              "6 -0.054834 -0.064118 -0.062102  0.994498\n",
              "7 -0.055071 -0.064117 -0.062219  0.994477\n",
              "8 -0.054834 -0.064118 -0.062102  0.994498\n",
              "9 -0.055072 -0.064009 -0.061864  0.994506"
            ]
          },
          "metadata": {},
          "execution_count": 15
        },
        {
          "output_type": "stream",
          "name": "stdout",
          "text": [
            "time: 34.2 ms (started: 2021-10-07 15:19:48 +00:00)\n"
          ]
        }
      ]
    },
    {
      "cell_type": "code",
      "metadata": {
        "colab": {
          "base_uri": "https://localhost:8080/",
          "height": 701
        },
        "id": "A2vyT-MS-DMA",
        "outputId": "77768786-224e-43ff-864d-8b3e8a92d5b3"
      },
      "source": [
        "#reduce dimension for easier visualization\n",
        "pca = PCA(n_components = 2)\n",
        "X_principal = pca.fit_transform(X_normalized)\n",
        "X_principal = pd.DataFrame(X_principal)\n",
        "X_principal.columns = ['P1', 'P2']\n",
        "\n",
        "# Scatter plot data\n",
        "print(X_principal.head(10))\n",
        "df = pd.DataFrame(dict(x=X_principal['P1'], y=X_principal['P2']))\n",
        "fig, ax = plt.subplots(figsize=(8,8))\n",
        "df.plot(ax=ax, kind='scatter', x='x', y='y')\n",
        "plt.xlabel('P1')\n",
        "plt.ylabel('P2')\n",
        "plt.show()\n"
      ],
      "execution_count": null,
      "outputs": [
        {
          "output_type": "stream",
          "name": "stdout",
          "text": [
            "         P1        P2\n",
            "0  1.565863 -0.120209\n",
            "1  1.565702 -0.120623\n",
            "2  1.565705 -0.120640\n",
            "3  1.565728 -0.120581\n",
            "4  1.565687 -0.120718\n",
            "5  1.565733 -0.120600\n",
            "6  1.565697 -0.120756\n",
            "7  1.565633 -0.120953\n",
            "8  1.565697 -0.120756\n",
            "9  1.565723 -0.120714\n"
          ]
        },
        {
          "output_type": "display_data",
          "data": {
            "image/png": "[encoded data removed]",
            "text/plain": [
              "<Figure size 576x576 with 1 Axes>"
            ]
          },
          "metadata": {
            "needs_background": "light"
          }
        },
        {
          "output_type": "stream",
          "name": "stdout",
          "text": [
            "time: 445 ms (started: 2021-10-07 15:19:48 +00:00)\n"
          ]
        }
      ]
    },
    {
      "cell_type": "code",
      "metadata": {
        "colab": {
          "base_uri": "https://localhost:8080/"
        },
        "id": "Y8ZTw_tE-Kjx",
        "outputId": "8904e711-c73f-4b87-caeb-22220f1138d1"
      },
      "source": [
        "# Build DBSCAN Model\n",
        "model_dbscan.fit(X_principal)\n",
        "labels_dbscan = model_dbscan.labels_\n",
        "\n",
        "# Number of clusters in labels, ignoring noise if present.\n",
        "n_clusters_ = len(set(labels_dbscan)) - (1 if -1 in labels_dbscan else 0)\n",
        "n_noise_ = list(labels_dbscan).count(-1)\n",
        "\n",
        "print('Estimated number of dbscan clusters: %d' % n_clusters_)\n",
        "print('Estimated number of noise points: %d' % n_noise_)"
      ],
      "execution_count": null,
      "outputs": [
        {
          "output_type": "stream",
          "name": "stdout",
          "text": [
            "Estimated number of dbscan clusters: 3\n",
            "Estimated number of noise points: 0\n",
            "time: 14.3 s (started: 2021-10-07 15:19:48 +00:00)\n"
          ]
        }
      ]
    },
    {
      "cell_type": "code",
      "metadata": {
        "colab": {
          "base_uri": "https://localhost:8080/"
        },
        "id": "byaOECEMvVke",
        "outputId": "522533bc-de35-4591-9bf3-7b5379b9fed4"
      },
      "source": [
        "# Build K means model\n",
        "model_Kmeans.fit(X_principal)\n",
        "labels_Kmeans = model_Kmeans.labels_\n",
        "\n",
        "print('Estimated number of kmeans clusters: ')\n",
        "print(len(set(labels_dbscan)))"
      ],
      "execution_count": null,
      "outputs": [
        {
          "output_type": "stream",
          "name": "stdout",
          "text": [
            "Estimated number of kmeans clusters: \n",
            "3\n",
            "time: 157 ms (started: 2021-10-07 15:20:03 +00:00)\n"
          ]
        }
      ]
    },
    {
      "cell_type": "code",
      "metadata": {
        "colab": {
          "base_uri": "https://localhost:8080/",
          "height": 531
        },
        "id": "tf0YzeJ1ELs1",
        "outputId": "3c5dd386-2af0-4293-ca78-f6690d3ef1c4"
      },
      "source": [
        "# cluster result from DBSCAN\n",
        "show_clusters(dataset, labels_dbscan)"
      ],
      "execution_count": null,
      "outputs": [
        {
          "output_type": "display_data",
          "data": {
            "image/png": "[encoded data removed]",
            "text/plain": [
              "<Figure size 576x576 with 1 Axes>"
            ]
          },
          "metadata": {
            "needs_background": "light"
          }
        },
        {
          "output_type": "stream",
          "name": "stdout",
          "text": [
            "time: 526 ms (started: 2021-10-07 15:20:03 +00:00)\n"
          ]
        }
      ]
    },
    {
      "cell_type": "code",
      "metadata": {
        "colab": {
          "base_uri": "https://localhost:8080/",
          "height": 531
        },
        "id": "bgRQZXRfwuDA",
        "outputId": "e5d3f115-66ed-4e62-d28c-2f04f7c042a4"
      },
      "source": [
        "# cluster result from K-Means\n",
        "show_clusters(dataset, labels_Kmeans)"
      ],
      "execution_count": null,
      "outputs": [
        {
          "output_type": "display_data",
          "data": {
            "image/png": "[encoded data removed]",
            "text/plain": [
              "<Figure size 576x576 with 1 Axes>"
            ]
          },
          "metadata": {
            "needs_background": "light"
          }
        },
        {
          "output_type": "stream",
          "name": "stdout",
          "text": [
            "time: 492 ms (started: 2021-10-07 15:20:03 +00:00)\n"
          ]
        }
      ]
    },
    {
      "cell_type": "code",
      "metadata": {
        "colab": {
          "base_uri": "https://localhost:8080/"
        },
        "id": "mMZEH5efan6a",
        "outputId": "8627a301-093d-4cd4-89df-1c618b6a8bfa"
      },
      "source": [
        "# add predicted label into dataframe\n",
        "dfx = pd.DataFrame(X_principal)\n",
        "dfx['clusters_dbscan'] = labels_dbscan\n",
        "dfx['clusters_kmeans'] = labels_Kmeans\n",
        "dfx.groupby('clusters_dbscan').size()\n",
        "\n",
        "# Cluster assumption:\n",
        "# 0 is Normal\n",
        "# 1 is Maintenance\n",
        "# 2 is Outlier"
      ],
      "execution_count": null,
      "outputs": [
        {
          "output_type": "execute_result",
          "data": {
            "text/plain": [
              "clusters_dbscan\n",
              "0     5475\n",
              "1     1288\n",
              "2    27594\n",
              "dtype: int64"
            ]
          },
          "metadata": {},
          "execution_count": 21
        },
        {
          "output_type": "stream",
          "name": "stdout",
          "text": [
            "time: 14.5 ms (started: 2021-10-07 15:20:04 +00:00)\n"
          ]
        }
      ]
    },
    {
      "cell_type": "code",
      "metadata": {
        "colab": {
          "base_uri": "https://localhost:8080/"
        },
        "id": "28svzi7q2-0_",
        "outputId": "5041e37f-10cf-4cb4-bcd2-397274cc2ccd"
      },
      "source": [
        "dfx.groupby('clusters_kmeans').size()\n",
        "\n",
        "# Cluster assumption:\n",
        "# 0 is Outlier\n",
        "# 1 is Normal\n",
        "# 2 is Maintenance"
      ],
      "execution_count": null,
      "outputs": [
        {
          "output_type": "execute_result",
          "data": {
            "text/plain": [
              "clusters_kmeans\n",
              "0    27594\n",
              "1     5475\n",
              "2     1288\n",
              "dtype: int64"
            ]
          },
          "metadata": {},
          "execution_count": 22
        },
        {
          "output_type": "stream",
          "name": "stdout",
          "text": [
            "time: 11.4 ms (started: 2021-10-07 15:20:04 +00:00)\n"
          ]
        }
      ]
    },
    {
      "cell_type": "code",
      "metadata": {
        "colab": {
          "base_uri": "https://localhost:8080/"
        },
        "id": "l1C-mYbPbAwo",
        "outputId": "73290f6a-369b-4651-cc21-09ea85f2c5b1"
      },
      "source": [
        "# !!! WARNING !!!\n",
        "# Only choose either DBSCAN or Kmeans to be used as the basis for the label\n",
        "# Running with both active will return the last value computed\n",
        "\n",
        "# Export chosen label (DBSCAN) into external file\n",
        "#dataset['clusters'] = labels_dbscan\n",
        "#dataset.to_csv(process_dir+'output_dbscan.csv')\n",
        "#dataset.groupby('clusters').size()"
      ],
      "execution_count": null,
      "outputs": [
        {
          "output_type": "stream",
          "name": "stdout",
          "text": [
            "time: 2.87 ms (started: 2021-10-07 15:20:04 +00:00)\n"
          ]
        }
      ]
    },
    {
      "cell_type": "code",
      "metadata": {
        "colab": {
          "base_uri": "https://localhost:8080/"
        },
        "id": "BRNughuT0_d5",
        "outputId": "d121b583-bd2a-4592-d6a7-248409dc210c"
      },
      "source": [
        "# !!! WARNING !!!\n",
        "# Only choose either DBSCAN or Kmeans to be used as the basis for the label\n",
        "# Running with both active will return the last value computed\n",
        "\n",
        "# Export chosen label (Kmeans) into external file\n",
        "dataset['clusters'] = labels_Kmeans\n",
        "dataset.to_csv(process_dir+'output_kmeans.csv')\n",
        "dataset.groupby('clusters').size()"
      ],
      "execution_count": null,
      "outputs": [
        {
          "output_type": "execute_result",
          "data": {
            "text/plain": [
              "clusters\n",
              "0    27594\n",
              "1     5475\n",
              "2     1288\n",
              "dtype: int64"
            ]
          },
          "metadata": {},
          "execution_count": 24
        },
        {
          "output_type": "stream",
          "name": "stdout",
          "text": [
            "time: 186 ms (started: 2021-10-07 15:20:04 +00:00)\n"
          ]
        }
      ]
    },
    {
      "cell_type": "markdown",
      "metadata": {
        "id": "K6synAswUR7D"
      },
      "source": [
        "## 3) Algorithm Selection\n",
        "Differ for each iteration, by default all consideration will be selected to build ML model. But after the best choice is identified, there may be only a few algorithm to be selected.\n",
        "\n",
        "Algorithm considered:\n",
        "LogisticRegression(), KNeighborsClassifier(), DecisionTreeClassifier(), SVC(), RandomForestClassifier(), LinearDiscriminantAnalysis(), GaussianNB()"
      ]
    },
    {
      "cell_type": "markdown",
      "metadata": {
        "id": "0395c-ThVF6p"
      },
      "source": [
        "## 4) Data Pre Processing"
      ]
    },
    {
      "cell_type": "code",
      "metadata": {
        "colab": {
          "base_uri": "https://localhost:8080/",
          "height": 436
        },
        "id": "yk2Z76HrYHTs",
        "outputId": "5fb4980a-94e2-4d0e-cb91-e91907342e71"
      },
      "source": [
        "#Visualize dataset\n",
        "dataset"
      ],
      "execution_count": null,
      "outputs": [
        {
          "output_type": "execute_result",
          "data": {
            "text/html": [
              "<div>\n",
              "<style scoped>\n",
              "    .dataframe tbody tr th:only-of-type {\n",
              "        vertical-align: middle;\n",
              "    }\n",
              "\n",
              "    .dataframe tbody tr th {\n",
              "        vertical-align: top;\n",
              "    }\n",
              "\n",
              "    .dataframe thead th {\n",
              "        text-align: right;\n",
              "    }\n",
              "</style>\n",
              "<table border=\"1\" class=\"dataframe\">\n",
              "  <thead>\n",
              "    <tr style=\"text-align: right;\">\n",
              "      <th></th>\n",
              "      <th>Oil_Pressure</th>\n",
              "      <th>Coolant_Temp</th>\n",
              "      <th>PF_Avg</th>\n",
              "      <th>ECU_Temp</th>\n",
              "      <th>clusters</th>\n",
              "    </tr>\n",
              "  </thead>\n",
              "  <tbody>\n",
              "    <tr>\n",
              "      <th>0</th>\n",
              "      <td>636.0</td>\n",
              "      <td>81.0</td>\n",
              "      <td>0.83</td>\n",
              "      <td>32767.0</td>\n",
              "      <td>1</td>\n",
              "    </tr>\n",
              "    <tr>\n",
              "      <th>1</th>\n",
              "      <td>636.0</td>\n",
              "      <td>81.0</td>\n",
              "      <td>0.76</td>\n",
              "      <td>32767.0</td>\n",
              "      <td>1</td>\n",
              "    </tr>\n",
              "    <tr>\n",
              "      <th>2</th>\n",
              "      <td>632.0</td>\n",
              "      <td>82.0</td>\n",
              "      <td>0.77</td>\n",
              "      <td>32767.0</td>\n",
              "      <td>1</td>\n",
              "    </tr>\n",
              "    <tr>\n",
              "      <th>3</th>\n",
              "      <td>632.0</td>\n",
              "      <td>82.0</td>\n",
              "      <td>0.78</td>\n",
              "      <td>32767.0</td>\n",
              "      <td>1</td>\n",
              "    </tr>\n",
              "    <tr>\n",
              "      <th>4</th>\n",
              "      <td>628.0</td>\n",
              "      <td>82.0</td>\n",
              "      <td>0.78</td>\n",
              "      <td>32767.0</td>\n",
              "      <td>1</td>\n",
              "    </tr>\n",
              "    <tr>\n",
              "      <th>...</th>\n",
              "      <td>...</td>\n",
              "      <td>...</td>\n",
              "      <td>...</td>\n",
              "      <td>...</td>\n",
              "      <td>...</td>\n",
              "    </tr>\n",
              "    <tr>\n",
              "      <th>34352</th>\n",
              "      <td>600.0</td>\n",
              "      <td>83.0</td>\n",
              "      <td>0.88</td>\n",
              "      <td>32767.0</td>\n",
              "      <td>1</td>\n",
              "    </tr>\n",
              "    <tr>\n",
              "      <th>34353</th>\n",
              "      <td>604.0</td>\n",
              "      <td>82.0</td>\n",
              "      <td>0.88</td>\n",
              "      <td>32767.0</td>\n",
              "      <td>1</td>\n",
              "    </tr>\n",
              "    <tr>\n",
              "      <th>34354</th>\n",
              "      <td>604.0</td>\n",
              "      <td>81.0</td>\n",
              "      <td>0.87</td>\n",
              "      <td>32767.0</td>\n",
              "      <td>1</td>\n",
              "    </tr>\n",
              "    <tr>\n",
              "      <th>34355</th>\n",
              "      <td>0.0</td>\n",
              "      <td>0.0</td>\n",
              "      <td>0.00</td>\n",
              "      <td>0.0</td>\n",
              "      <td>0</td>\n",
              "    </tr>\n",
              "    <tr>\n",
              "      <th>34356</th>\n",
              "      <td>0.0</td>\n",
              "      <td>0.0</td>\n",
              "      <td>0.00</td>\n",
              "      <td>0.0</td>\n",
              "      <td>0</td>\n",
              "    </tr>\n",
              "  </tbody>\n",
              "</table>\n",
              "<p>34357 rows × 5 columns</p>\n",
              "</div>"
            ],
            "text/plain": [
              "       Oil_Pressure  Coolant_Temp  PF_Avg  ECU_Temp  clusters\n",
              "0             636.0          81.0    0.83   32767.0         1\n",
              "1             636.0          81.0    0.76   32767.0         1\n",
              "2             632.0          82.0    0.77   32767.0         1\n",
              "3             632.0          82.0    0.78   32767.0         1\n",
              "4             628.0          82.0    0.78   32767.0         1\n",
              "...             ...           ...     ...       ...       ...\n",
              "34352         600.0          83.0    0.88   32767.0         1\n",
              "34353         604.0          82.0    0.88   32767.0         1\n",
              "34354         604.0          81.0    0.87   32767.0         1\n",
              "34355           0.0           0.0    0.00       0.0         0\n",
              "34356           0.0           0.0    0.00       0.0         0\n",
              "\n",
              "[34357 rows x 5 columns]"
            ]
          },
          "metadata": {},
          "execution_count": 25
        },
        {
          "output_type": "stream",
          "name": "stdout",
          "text": [
            "time: 19 ms (started: 2021-10-07 15:20:04 +00:00)\n"
          ]
        }
      ]
    },
    {
      "cell_type": "code",
      "metadata": {
        "colab": {
          "base_uri": "https://localhost:8080/"
        },
        "id": "w0I4VlmdYS6A",
        "outputId": "1d48774e-52ef-47e1-8943-5251aeda087f"
      },
      "source": [
        "dataset.info()"
      ],
      "execution_count": null,
      "outputs": [
        {
          "output_type": "stream",
          "name": "stdout",
          "text": [
            "<class 'pandas.core.frame.DataFrame'>\n",
            "RangeIndex: 34357 entries, 0 to 34356\n",
            "Data columns (total 5 columns):\n",
            " #   Column        Non-Null Count  Dtype  \n",
            "---  ------        --------------  -----  \n",
            " 0   Oil_Pressure  34357 non-null  float64\n",
            " 1   Coolant_Temp  34357 non-null  float64\n",
            " 2   PF_Avg        34357 non-null  float64\n",
            " 3   ECU_Temp      34357 non-null  float64\n",
            " 4   clusters      34357 non-null  int32  \n",
            "dtypes: float64(4), int32(1)\n",
            "memory usage: 1.2 MB\n",
            "time: 15.6 ms (started: 2021-10-07 15:20:04 +00:00)\n"
          ]
        }
      ]
    },
    {
      "cell_type": "code",
      "metadata": {
        "colab": {
          "base_uri": "https://localhost:8080/"
        },
        "id": "Mczmm_EjXuK5",
        "outputId": "f7aff2b7-3de7-40db-c4da-93153bd667bb"
      },
      "source": [
        "print(dataset.groupby('clusters').size())"
      ],
      "execution_count": null,
      "outputs": [
        {
          "output_type": "stream",
          "name": "stdout",
          "text": [
            "clusters\n",
            "0    27594\n",
            "1     5475\n",
            "2     1288\n",
            "dtype: int64\n",
            "time: 5.56 ms (started: 2021-10-07 15:20:04 +00:00)\n"
          ]
        }
      ]
    },
    {
      "cell_type": "code",
      "metadata": {
        "colab": {
          "base_uri": "https://localhost:8080/",
          "height": 314
        },
        "id": "zUpq2J1IYZgc",
        "outputId": "e84ec122-7a72-4176-d526-67f61238dc2f"
      },
      "source": [
        "dataset.describe()"
      ],
      "execution_count": null,
      "outputs": [
        {
          "output_type": "execute_result",
          "data": {
            "text/html": [
              "<div>\n",
              "<style scoped>\n",
              "    .dataframe tbody tr th:only-of-type {\n",
              "        vertical-align: middle;\n",
              "    }\n",
              "\n",
              "    .dataframe tbody tr th {\n",
              "        vertical-align: top;\n",
              "    }\n",
              "\n",
              "    .dataframe thead th {\n",
              "        text-align: right;\n",
              "    }\n",
              "</style>\n",
              "<table border=\"1\" class=\"dataframe\">\n",
              "  <thead>\n",
              "    <tr style=\"text-align: right;\">\n",
              "      <th></th>\n",
              "      <th>Oil_Pressure</th>\n",
              "      <th>Coolant_Temp</th>\n",
              "      <th>PF_Avg</th>\n",
              "      <th>ECU_Temp</th>\n",
              "      <th>clusters</th>\n",
              "    </tr>\n",
              "  </thead>\n",
              "  <tbody>\n",
              "    <tr>\n",
              "      <th>count</th>\n",
              "      <td>34357.000000</td>\n",
              "      <td>34357.000000</td>\n",
              "      <td>34357.000000</td>\n",
              "      <td>34357.000000</td>\n",
              "      <td>34357.000000</td>\n",
              "    </tr>\n",
              "    <tr>\n",
              "      <th>mean</th>\n",
              "      <td>1543.489333</td>\n",
              "      <td>666.242309</td>\n",
              "      <td>6.032283</td>\n",
              "      <td>6281.289664</td>\n",
              "      <td>0.234334</td>\n",
              "    </tr>\n",
              "    <tr>\n",
              "      <th>std</th>\n",
              "      <td>8134.961167</td>\n",
              "      <td>4401.363219</td>\n",
              "      <td>40.541743</td>\n",
              "      <td>12864.273629</td>\n",
              "      <td>0.504387</td>\n",
              "    </tr>\n",
              "    <tr>\n",
              "      <th>min</th>\n",
              "      <td>0.000000</td>\n",
              "      <td>0.000000</td>\n",
              "      <td>0.000000</td>\n",
              "      <td>0.000000</td>\n",
              "      <td>0.000000</td>\n",
              "    </tr>\n",
              "    <tr>\n",
              "      <th>25%</th>\n",
              "      <td>592.000000</td>\n",
              "      <td>76.000000</td>\n",
              "      <td>0.780000</td>\n",
              "      <td>36.000000</td>\n",
              "      <td>0.000000</td>\n",
              "    </tr>\n",
              "    <tr>\n",
              "      <th>50%</th>\n",
              "      <td>612.000000</td>\n",
              "      <td>81.000000</td>\n",
              "      <td>0.860000</td>\n",
              "      <td>41.000000</td>\n",
              "      <td>0.000000</td>\n",
              "    </tr>\n",
              "    <tr>\n",
              "      <th>75%</th>\n",
              "      <td>624.000000</td>\n",
              "      <td>82.000000</td>\n",
              "      <td>0.890000</td>\n",
              "      <td>48.000000</td>\n",
              "      <td>0.000000</td>\n",
              "    </tr>\n",
              "    <tr>\n",
              "      <th>max</th>\n",
              "      <td>65535.000000</td>\n",
              "      <td>65531.000000</td>\n",
              "      <td>327.650000</td>\n",
              "      <td>32767.000000</td>\n",
              "      <td>2.000000</td>\n",
              "    </tr>\n",
              "  </tbody>\n",
              "</table>\n",
              "</div>"
            ],
            "text/plain": [
              "       Oil_Pressure  Coolant_Temp        PF_Avg      ECU_Temp      clusters\n",
              "count  34357.000000  34357.000000  34357.000000  34357.000000  34357.000000\n",
              "mean    1543.489333    666.242309      6.032283   6281.289664      0.234334\n",
              "std     8134.961167   4401.363219     40.541743  12864.273629      0.504387\n",
              "min        0.000000      0.000000      0.000000      0.000000      0.000000\n",
              "25%      592.000000     76.000000      0.780000     36.000000      0.000000\n",
              "50%      612.000000     81.000000      0.860000     41.000000      0.000000\n",
              "75%      624.000000     82.000000      0.890000     48.000000      0.000000\n",
              "max    65535.000000  65531.000000    327.650000  32767.000000      2.000000"
            ]
          },
          "metadata": {},
          "execution_count": 28
        },
        {
          "output_type": "stream",
          "name": "stdout",
          "text": [
            "time: 41.6 ms (started: 2021-10-07 15:20:04 +00:00)\n"
          ]
        }
      ]
    },
    {
      "cell_type": "markdown",
      "metadata": {
        "id": "OhlK45rF6Rv_"
      },
      "source": [
        "### Pre-Processing"
      ]
    },
    {
      "cell_type": "code",
      "metadata": {
        "id": "To60spxhLPwM",
        "colab": {
          "base_uri": "https://localhost:8080/"
        },
        "outputId": "4b039f2d-08c9-4a0f-ba4e-69d65d9c10d5"
      },
      "source": [
        "#resample to balance data\n",
        "array = dataset.values\n",
        "X = array[:,0:4]\n",
        "y = array[:,4]\n",
        "\n",
        "print('Original dataset shape %s' % Counter(y))\n",
        "X_res, y_res = balancing_smote.fit_resample(X, y)\n",
        "print('Resampled dataset shape %s' % Counter(y_res))"
      ],
      "execution_count": null,
      "outputs": [
        {
          "output_type": "stream",
          "name": "stdout",
          "text": [
            "Original dataset shape Counter({0.0: 27594, 1.0: 5475, 2.0: 1288})\n"
          ]
        },
        {
          "output_type": "stream",
          "name": "stderr",
          "text": [
            "/usr/local/lib/python3.7/dist-packages/sklearn/utils/deprecation.py:87: FutureWarning: Function safe_indexing is deprecated; safe_indexing is deprecated in version 0.22 and will be removed in version 0.24.\n",
            "  warnings.warn(msg, category=FutureWarning)\n",
            "/usr/local/lib/python3.7/dist-packages/sklearn/utils/deprecation.py:87: FutureWarning: Function safe_indexing is deprecated; safe_indexing is deprecated in version 0.22 and will be removed in version 0.24.\n",
            "  warnings.warn(msg, category=FutureWarning)\n"
          ]
        },
        {
          "output_type": "stream",
          "name": "stdout",
          "text": [
            "Resampled dataset shape Counter({1.0: 27594, 2.0: 27594, 0.0: 27594})\n",
            "time: 431 ms (started: 2021-10-07 15:20:04 +00:00)\n"
          ]
        }
      ]
    },
    {
      "cell_type": "markdown",
      "metadata": {
        "id": "U7fWPY_J6LjJ"
      },
      "source": [
        "### Split Data\n"
      ]
    },
    {
      "cell_type": "code",
      "metadata": {
        "colab": {
          "base_uri": "https://localhost:8080/"
        },
        "id": "R4qD1p8Y51Jk",
        "outputId": "39ef534c-17ac-42d7-c15d-8ac1fa26927a"
      },
      "source": [
        "# Split-out training and test dataset\n",
        "X_train, X_test, Y_train, Y_test = train_test_split(X_res, y_res, test_size=0.20, \n",
        "                                                    random_state=1)\n",
        "\n",
        "print('training data size = ', X_train.shape)\n",
        "print('testing data size = ', X_test.shape)\n",
        "print('data split completed')"
      ],
      "execution_count": null,
      "outputs": [
        {
          "output_type": "stream",
          "name": "stdout",
          "text": [
            "training data size =  (66225, 4)\n",
            "testing data size =  (16557, 4)\n",
            "data split completed\n",
            "time: 17.9 ms (started: 2021-10-07 15:20:05 +00:00)\n"
          ]
        }
      ]
    },
    {
      "cell_type": "code",
      "metadata": {
        "id": "4RVWOiooG-pn",
        "colab": {
          "base_uri": "https://localhost:8080/"
        },
        "outputId": "de9133d9-d64f-4e58-c29f-cdde43fb09f8"
      },
      "source": [
        "#Training data summary\n",
        "dfx_train = pd.DataFrame(X_train)\n",
        "dfx_train.describe()"
      ],
      "execution_count": null,
      "outputs": [
        {
          "output_type": "execute_result",
          "data": {
            "text/html": [
              "<div>\n",
              "<style scoped>\n",
              "    .dataframe tbody tr th:only-of-type {\n",
              "        vertical-align: middle;\n",
              "    }\n",
              "\n",
              "    .dataframe tbody tr th {\n",
              "        vertical-align: top;\n",
              "    }\n",
              "\n",
              "    .dataframe thead th {\n",
              "        text-align: right;\n",
              "    }\n",
              "</style>\n",
              "<table border=\"1\" class=\"dataframe\">\n",
              "  <thead>\n",
              "    <tr style=\"text-align: right;\">\n",
              "      <th></th>\n",
              "      <th>0</th>\n",
              "      <th>1</th>\n",
              "      <th>2</th>\n",
              "      <th>3</th>\n",
              "    </tr>\n",
              "  </thead>\n",
              "  <tbody>\n",
              "    <tr>\n",
              "      <th>count</th>\n",
              "      <td>66225.000000</td>\n",
              "      <td>66225.000000</td>\n",
              "      <td>66225.000000</td>\n",
              "      <td>66225.000000</td>\n",
              "    </tr>\n",
              "    <tr>\n",
              "      <th>mean</th>\n",
              "      <td>9748.898812</td>\n",
              "      <td>5444.535327</td>\n",
              "      <td>48.197808</td>\n",
              "      <td>20203.741620</td>\n",
              "    </tr>\n",
              "    <tr>\n",
              "      <th>std</th>\n",
              "      <td>22663.976666</td>\n",
              "      <td>12132.321150</td>\n",
              "      <td>112.452875</td>\n",
              "      <td>15918.366438</td>\n",
              "    </tr>\n",
              "    <tr>\n",
              "      <th>min</th>\n",
              "      <td>0.000000</td>\n",
              "      <td>0.000000</td>\n",
              "      <td>0.000000</td>\n",
              "      <td>0.000000</td>\n",
              "    </tr>\n",
              "    <tr>\n",
              "      <th>25%</th>\n",
              "      <td>596.000000</td>\n",
              "      <td>80.000000</td>\n",
              "      <td>0.810000</td>\n",
              "      <td>41.456086</td>\n",
              "    </tr>\n",
              "    <tr>\n",
              "      <th>50%</th>\n",
              "      <td>612.000000</td>\n",
              "      <td>82.000000</td>\n",
              "      <td>0.880000</td>\n",
              "      <td>32767.000000</td>\n",
              "    </tr>\n",
              "    <tr>\n",
              "      <th>75%</th>\n",
              "      <td>632.000000</td>\n",
              "      <td>83.000000</td>\n",
              "      <td>0.910000</td>\n",
              "      <td>32767.000000</td>\n",
              "    </tr>\n",
              "    <tr>\n",
              "      <th>max</th>\n",
              "      <td>65535.000000</td>\n",
              "      <td>65531.000000</td>\n",
              "      <td>327.650000</td>\n",
              "      <td>32767.000000</td>\n",
              "    </tr>\n",
              "  </tbody>\n",
              "</table>\n",
              "</div>"
            ],
            "text/plain": [
              "                  0             1             2             3\n",
              "count  66225.000000  66225.000000  66225.000000  66225.000000\n",
              "mean    9748.898812   5444.535327     48.197808  20203.741620\n",
              "std    22663.976666  12132.321150    112.452875  15918.366438\n",
              "min        0.000000      0.000000      0.000000      0.000000\n",
              "25%      596.000000     80.000000      0.810000     41.456086\n",
              "50%      612.000000     82.000000      0.880000  32767.000000\n",
              "75%      632.000000     83.000000      0.910000  32767.000000\n",
              "max    65535.000000  65531.000000    327.650000  32767.000000"
            ]
          },
          "metadata": {},
          "execution_count": 31
        },
        {
          "output_type": "stream",
          "name": "stdout",
          "text": [
            "time: 43.3 ms (started: 2021-10-07 15:20:05 +00:00)\n"
          ]
        }
      ]
    },
    {
      "cell_type": "code",
      "metadata": {
        "colab": {
          "base_uri": "https://localhost:8080/"
        },
        "id": "gGVbAkgbYx6y",
        "outputId": "ad9fcb45-74f2-4942-a7b2-ad8fa36683af"
      },
      "source": [
        "#Test data summary\n",
        "dfx_test = pd.DataFrame(X_test)\n",
        "dfx_test.describe()"
      ],
      "execution_count": null,
      "outputs": [
        {
          "output_type": "execute_result",
          "data": {
            "text/html": [
              "<div>\n",
              "<style scoped>\n",
              "    .dataframe tbody tr th:only-of-type {\n",
              "        vertical-align: middle;\n",
              "    }\n",
              "\n",
              "    .dataframe tbody tr th {\n",
              "        vertical-align: top;\n",
              "    }\n",
              "\n",
              "    .dataframe thead th {\n",
              "        text-align: right;\n",
              "    }\n",
              "</style>\n",
              "<table border=\"1\" class=\"dataframe\">\n",
              "  <thead>\n",
              "    <tr style=\"text-align: right;\">\n",
              "      <th></th>\n",
              "      <th>0</th>\n",
              "      <th>1</th>\n",
              "      <th>2</th>\n",
              "      <th>3</th>\n",
              "    </tr>\n",
              "  </thead>\n",
              "  <tbody>\n",
              "    <tr>\n",
              "      <th>count</th>\n",
              "      <td>16557.00000</td>\n",
              "      <td>16557.000000</td>\n",
              "      <td>16557.000000</td>\n",
              "      <td>16557.000000</td>\n",
              "    </tr>\n",
              "    <tr>\n",
              "      <th>mean</th>\n",
              "      <td>9664.57096</td>\n",
              "      <td>5243.114204</td>\n",
              "      <td>48.659352</td>\n",
              "      <td>19908.387911</td>\n",
              "    </tr>\n",
              "    <tr>\n",
              "      <th>std</th>\n",
              "      <td>22576.82142</td>\n",
              "      <td>11954.193437</td>\n",
              "      <td>112.995266</td>\n",
              "      <td>15986.339830</td>\n",
              "    </tr>\n",
              "    <tr>\n",
              "      <th>min</th>\n",
              "      <td>0.00000</td>\n",
              "      <td>0.000000</td>\n",
              "      <td>0.000000</td>\n",
              "      <td>0.000000</td>\n",
              "    </tr>\n",
              "    <tr>\n",
              "      <th>25%</th>\n",
              "      <td>596.00000</td>\n",
              "      <td>80.000000</td>\n",
              "      <td>0.810000</td>\n",
              "      <td>41.000000</td>\n",
              "    </tr>\n",
              "    <tr>\n",
              "      <th>50%</th>\n",
              "      <td>612.00000</td>\n",
              "      <td>82.000000</td>\n",
              "      <td>0.880000</td>\n",
              "      <td>32767.000000</td>\n",
              "    </tr>\n",
              "    <tr>\n",
              "      <th>75%</th>\n",
              "      <td>632.00000</td>\n",
              "      <td>83.000000</td>\n",
              "      <td>0.910000</td>\n",
              "      <td>32767.000000</td>\n",
              "    </tr>\n",
              "    <tr>\n",
              "      <th>max</th>\n",
              "      <td>65535.00000</td>\n",
              "      <td>65531.000000</td>\n",
              "      <td>327.650000</td>\n",
              "      <td>32767.000000</td>\n",
              "    </tr>\n",
              "  </tbody>\n",
              "</table>\n",
              "</div>"
            ],
            "text/plain": [
              "                 0             1             2             3\n",
              "count  16557.00000  16557.000000  16557.000000  16557.000000\n",
              "mean    9664.57096   5243.114204     48.659352  19908.387911\n",
              "std    22576.82142  11954.193437    112.995266  15986.339830\n",
              "min        0.00000      0.000000      0.000000      0.000000\n",
              "25%      596.00000     80.000000      0.810000     41.000000\n",
              "50%      612.00000     82.000000      0.880000  32767.000000\n",
              "75%      632.00000     83.000000      0.910000  32767.000000\n",
              "max    65535.00000  65531.000000    327.650000  32767.000000"
            ]
          },
          "metadata": {},
          "execution_count": 32
        },
        {
          "output_type": "stream",
          "name": "stdout",
          "text": [
            "time: 29.8 ms (started: 2021-10-07 15:20:05 +00:00)\n"
          ]
        }
      ]
    },
    {
      "cell_type": "markdown",
      "metadata": {
        "id": "JS6NEB30Vu22"
      },
      "source": [
        "## 5) Algorithm Training & Validation"
      ]
    },
    {
      "cell_type": "code",
      "metadata": {
        "id": "P4Pgur2aVeSB",
        "colab": {
          "base_uri": "https://localhost:8080/",
          "height": 845
        },
        "outputId": "a0da04d0-e848-421c-92d8-5d6541fb336d"
      },
      "source": [
        "# Cross validation of each model training in turn\n",
        "for name, model in models:\n",
        "\tkfold = StratifiedKFold(n_splits=10, random_state=1, shuffle=True)\n",
        "\tcv_results = cross_val_score(model, X_train, Y_train, cv=kfold, scoring='accuracy')\n",
        "\tval_results.append(cv_results)\n",
        "\tnames.append(name)\n",
        "\tprint('%s: %f (%f)' % (name, cv_results.mean(), cv_results.std()))\n",
        "\n",
        "# Compare result\n",
        "pyplot.boxplot(val_results, labels=names)\n",
        "pyplot.title('Algorithm Accuracy Comparison')\n",
        "pyplot.show()"
      ],
      "execution_count": null,
      "outputs": [
        {
          "output_type": "stream",
          "name": "stderr",
          "text": [
            "/usr/local/lib/python3.7/dist-packages/sklearn/linear_model/_logistic.py:940: ConvergenceWarning: lbfgs failed to converge (status=1):\n",
            "STOP: TOTAL NO. of ITERATIONS REACHED LIMIT.\n",
            "\n",
            "Increase the number of iterations (max_iter) or scale the data as shown in:\n",
            "    https://scikit-learn.org/stable/modules/preprocessing.html\n",
            "Please also refer to the documentation for alternative solver options:\n",
            "    https://scikit-learn.org/stable/modules/linear_model.html#logistic-regression\n",
            "  extra_warning_msg=_LOGISTIC_SOLVER_CONVERGENCE_MSG)\n",
            "/usr/local/lib/python3.7/dist-packages/sklearn/linear_model/_logistic.py:940: ConvergenceWarning: lbfgs failed to converge (status=1):\n",
            "STOP: TOTAL NO. of ITERATIONS REACHED LIMIT.\n",
            "\n",
            "Increase the number of iterations (max_iter) or scale the data as shown in:\n",
            "    https://scikit-learn.org/stable/modules/preprocessing.html\n",
            "Please also refer to the documentation for alternative solver options:\n",
            "    https://scikit-learn.org/stable/modules/linear_model.html#logistic-regression\n",
            "  extra_warning_msg=_LOGISTIC_SOLVER_CONVERGENCE_MSG)\n",
            "/usr/local/lib/python3.7/dist-packages/sklearn/linear_model/_logistic.py:940: ConvergenceWarning: lbfgs failed to converge (status=1):\n",
            "STOP: TOTAL NO. of ITERATIONS REACHED LIMIT.\n",
            "\n",
            "Increase the number of iterations (max_iter) or scale the data as shown in:\n",
            "    https://scikit-learn.org/stable/modules/preprocessing.html\n",
            "Please also refer to the documentation for alternative solver options:\n",
            "    https://scikit-learn.org/stable/modules/linear_model.html#logistic-regression\n",
            "  extra_warning_msg=_LOGISTIC_SOLVER_CONVERGENCE_MSG)\n"
          ]
        },
        {
          "output_type": "stream",
          "name": "stdout",
          "text": [
            "LR: 1.000000 (0.000000)\n",
            "KNN: 1.000000 (0.000000)\n",
            "DT: 1.000000 (0.000000)\n",
            "SVM: 0.996391 (0.001007)\n",
            "RF: 1.000000 (0.000000)\n",
            "LDA: 0.950804 (0.002279)\n",
            "NB: 0.998671 (0.000495)\n"
          ]
        },
        {
          "output_type": "display_data",
          "data": {
            "image/png": "[encoded data removed]",
            "text/plain": [
              "<Figure size 432x288 with 1 Axes>"
            ]
          },
          "metadata": {
            "needs_background": "light"
          }
        },
        {
          "output_type": "stream",
          "name": "stdout",
          "text": [
            "time: 19min 36s (started: 2021-10-07 15:20:05 +00:00)\n"
          ]
        }
      ]
    },
    {
      "cell_type": "code",
      "metadata": {
        "id": "PqRTC4KslVeI",
        "colab": {
          "base_uri": "https://localhost:8080/"
        },
        "outputId": "81b5a433-8004-4933-d5d1-a163bd675940"
      },
      "source": [
        "# Re-train each algorithm using whole training dataset for better model\n",
        "# Each model is separated in different code block for easier tracking of Runtime\n",
        "model_LR.fit(X_train, Y_train)\n",
        "joblib.dump(model_LR, model_dir+'Opsi3_LR.joblib')"
      ],
      "execution_count": null,
      "outputs": [
        {
          "output_type": "execute_result",
          "data": {
            "text/plain": [
              "['/content/Thesis/Resources/models/Opsi3_LR.joblib']"
            ]
          },
          "metadata": {},
          "execution_count": 34
        },
        {
          "output_type": "stream",
          "name": "stdout",
          "text": [
            "time: 28.9 s (started: 2021-10-07 15:39:41 +00:00)\n"
          ]
        }
      ]
    },
    {
      "cell_type": "code",
      "metadata": {
        "colab": {
          "base_uri": "https://localhost:8080/"
        },
        "id": "nrSHiQLqfOr-",
        "outputId": "cc70364e-b0e8-4ddf-8d1b-2955ad9b004b"
      },
      "source": [
        "model_KNN.fit(X_train, Y_train)\n",
        "joblib.dump(model_KNN,model_dir+'Opsi3_KNN.joblib')"
      ],
      "execution_count": null,
      "outputs": [
        {
          "output_type": "execute_result",
          "data": {
            "text/plain": [
              "['/content/Thesis/Resources/models/Opsi3_KNN.joblib']"
            ]
          },
          "metadata": {},
          "execution_count": 35
        },
        {
          "output_type": "stream",
          "name": "stdout",
          "text": [
            "time: 414 ms (started: 2021-10-07 15:40:10 +00:00)\n"
          ]
        }
      ]
    },
    {
      "cell_type": "code",
      "metadata": {
        "colab": {
          "base_uri": "https://localhost:8080/"
        },
        "id": "GpoTQrfxfOZ5",
        "outputId": "cfb3c248-9f91-4e3f-9d60-5acc47dd0960"
      },
      "source": [
        "model_DT.fit(X_train, Y_train)\n",
        "joblib.dump(model_DT,model_dir+'Opsi3_DT.joblib')"
      ],
      "execution_count": null,
      "outputs": [
        {
          "output_type": "execute_result",
          "data": {
            "text/plain": [
              "['/content/Thesis/Resources/models/Opsi3_DT.joblib']"
            ]
          },
          "metadata": {},
          "execution_count": 36
        },
        {
          "output_type": "stream",
          "name": "stdout",
          "text": [
            "time: 57.1 ms (started: 2021-10-07 15:40:10 +00:00)\n"
          ]
        }
      ]
    },
    {
      "cell_type": "code",
      "metadata": {
        "colab": {
          "base_uri": "https://localhost:8080/"
        },
        "id": "BhTqdQtgfOQ9",
        "outputId": "ce537921-adeb-4dde-ec6d-34c3f8f85c71"
      },
      "source": [
        "model_SVM.fit(X_train, Y_train)\n",
        "joblib.dump(model_SVM,model_dir+'Opsi3_SVM.joblib')"
      ],
      "execution_count": null,
      "outputs": [
        {
          "output_type": "execute_result",
          "data": {
            "text/plain": [
              "['/content/Thesis/Resources/models/Opsi3_SVM.joblib']"
            ]
          },
          "metadata": {},
          "execution_count": 37
        },
        {
          "output_type": "stream",
          "name": "stdout",
          "text": [
            "time: 1min 49s (started: 2021-10-07 15:40:10 +00:00)\n"
          ]
        }
      ]
    },
    {
      "cell_type": "code",
      "metadata": {
        "colab": {
          "base_uri": "https://localhost:8080/"
        },
        "id": "qFC86JLSfODu",
        "outputId": "5ffe16df-1cd4-4631-e8bb-17a91eca00e8"
      },
      "source": [
        "model_RF.fit(X_train, Y_train)\n",
        "joblib.dump(model_RF,model_dir+'Opsi3_RF.joblib')"
      ],
      "execution_count": null,
      "outputs": [
        {
          "output_type": "execute_result",
          "data": {
            "text/plain": [
              "['/content/Thesis/Resources/models/Opsi3_RF.joblib']"
            ]
          },
          "metadata": {},
          "execution_count": 38
        },
        {
          "output_type": "stream",
          "name": "stdout",
          "text": [
            "time: 2.72 s (started: 2021-10-07 15:42:00 +00:00)\n"
          ]
        }
      ]
    },
    {
      "cell_type": "code",
      "metadata": {
        "colab": {
          "base_uri": "https://localhost:8080/"
        },
        "id": "HQyJeOP1fS0Z",
        "outputId": "cac88081-7b37-40c4-819b-371d172ca6a0"
      },
      "source": [
        "model_LDA.fit(X_train, Y_train)\n",
        "joblib.dump(model_LDA,model_dir+'Opsi3_LDA.joblib')"
      ],
      "execution_count": null,
      "outputs": [
        {
          "output_type": "execute_result",
          "data": {
            "text/plain": [
              "['/content/Thesis/Resources/models/Opsi3_LDA.joblib']"
            ]
          },
          "metadata": {},
          "execution_count": 39
        },
        {
          "output_type": "stream",
          "name": "stdout",
          "text": [
            "time: 67.1 ms (started: 2021-10-07 15:42:03 +00:00)\n"
          ]
        }
      ]
    },
    {
      "cell_type": "code",
      "metadata": {
        "colab": {
          "base_uri": "https://localhost:8080/"
        },
        "id": "3CKvlQ1ffUgx",
        "outputId": "9652b3cc-5f83-4ef2-b697-185f796bdbfd"
      },
      "source": [
        "model_NB.fit(X_train, Y_train)\n",
        "joblib.dump(model_NB,model_dir+'Opsi3_NB.joblib')"
      ],
      "execution_count": null,
      "outputs": [
        {
          "output_type": "execute_result",
          "data": {
            "text/plain": [
              "['/content/Thesis/Resources/models/Opsi3_NB.joblib']"
            ]
          },
          "metadata": {},
          "execution_count": 40
        },
        {
          "output_type": "stream",
          "name": "stdout",
          "text": [
            "time: 30.1 ms (started: 2021-10-07 15:42:03 +00:00)\n"
          ]
        }
      ]
    },
    {
      "cell_type": "code",
      "metadata": {
        "colab": {
          "base_uri": "https://localhost:8080/"
        },
        "id": "kSOx9hnvfsBA",
        "outputId": "8199b0ac-908c-45d0-e0e9-5638febdaaa3"
      },
      "source": [
        "print('Model training completed!')"
      ],
      "execution_count": null,
      "outputs": [
        {
          "output_type": "stream",
          "name": "stdout",
          "text": [
            "Model training completed!\n",
            "time: 7.54 ms (started: 2021-10-07 15:42:03 +00:00)\n"
          ]
        }
      ]
    },
    {
      "cell_type": "markdown",
      "metadata": {
        "id": "bKk1VNHycDqB"
      },
      "source": [
        "# ML Model Evaluation Process\n",
        "Ada dua evaluasi yang akan dilakukan, pertama akan dievaluasi untuk mengecek kemungkinan untuk mendapatkan hasil yang lebih baik, kedua yaitu mengevaluasi hasil yang didapatkan untuk menentukan kesuksesan model ML dengan target sukses yang ditentukan. Target sukses berdasarkan dua kriteria, Akurasi minimal 90% dan Runtime maksimal 15 menit."
      ]
    },
    {
      "cell_type": "markdown",
      "metadata": {
        "id": "wykIUgv0cRiF"
      },
      "source": [
        "## 1) ML Model Testing\n",
        "Pada tahap ini, akan digunakan test dataset untuk menguji performa model ML dengan data yang diketahui labelnya, namun disembunyikan saat pengujian. Dengan demikian dapat diketahui nilai Accuracy, Precision, Recall serta F1-Score untuk dibandingkan dengan hasil training. Jika hasilnya konsisten, atau tidak terlalu menyimpang jauh dengan nilai Akurasi dari hasil training model, maka model ML telah tervalidasi bahwa model dapat digunakan untuk prediksi."
      ]
    },
    {
      "cell_type": "code",
      "metadata": {
        "colab": {
          "base_uri": "https://localhost:8080/",
          "height": 500
        },
        "id": "CtimXLTlgd7W",
        "outputId": "76287180-a429-459b-9404-62d5080fb083"
      },
      "source": [
        "# Test each model using testing dataset for evaluation of accuracy\n",
        "# Each model is separated in different code block for easier tracking of Runtime\n",
        "pred_LR = model_LR.predict(X_test)\n",
        "\n",
        "print('LR Result:')\n",
        "print(accuracy_score(Y_test, pred_LR))\n",
        "print(classification_report(Y_test, pred_LR))\n",
        "plot_confusion_matrix(model_LR, X_test, Y_test, values_format='d', cmap=plt.cm.Blues)\n",
        "plt.show()"
      ],
      "execution_count": null,
      "outputs": [
        {
          "output_type": "stream",
          "name": "stdout",
          "text": [
            "LR Result:\n",
            "1.0\n",
            "              precision    recall  f1-score   support\n",
            "\n",
            "         0.0       1.00      1.00      1.00      5633\n",
            "         1.0       1.00      1.00      1.00      5471\n",
            "         2.0       1.00      1.00      1.00      5453\n",
            "\n",
            "    accuracy                           1.00     16557\n",
            "   macro avg       1.00      1.00      1.00     16557\n",
            "weighted avg       1.00      1.00      1.00     16557\n",
            "\n"
          ]
        },
        {
          "output_type": "display_data",
          "data": {
            "image/png": "[encoded data removed]",
            "text/plain": [
              "<Figure size 432x288 with 2 Axes>"
            ]
          },
          "metadata": {
            "needs_background": "light"
          }
        },
        {
          "output_type": "stream",
          "name": "stdout",
          "text": [
            "time: 272 ms (started: 2021-10-07 15:42:03 +00:00)\n"
          ]
        }
      ]
    },
    {
      "cell_type": "code",
      "metadata": {
        "colab": {
          "base_uri": "https://localhost:8080/",
          "height": 500
        },
        "id": "Oz1nTuY_Y27i",
        "outputId": "16bbbbb0-f994-4241-9065-0e35f122ebf1"
      },
      "source": [
        "pred_KNN = model_KNN.predict(X_test)\n",
        "\n",
        "print('KNN Result:')\n",
        "print(accuracy_score(Y_test, pred_KNN))\n",
        "print(classification_report(Y_test, pred_KNN))\n",
        "plot_confusion_matrix(model_KNN, X_test, Y_test, values_format='d', cmap=plt.cm.Blues)\n",
        "plt.show()"
      ],
      "execution_count": null,
      "outputs": [
        {
          "output_type": "stream",
          "name": "stdout",
          "text": [
            "KNN Result:\n",
            "0.9999396025850094\n",
            "              precision    recall  f1-score   support\n",
            "\n",
            "         0.0       1.00      1.00      1.00      5633\n",
            "         1.0       1.00      1.00      1.00      5471\n",
            "         2.0       1.00      1.00      1.00      5453\n",
            "\n",
            "    accuracy                           1.00     16557\n",
            "   macro avg       1.00      1.00      1.00     16557\n",
            "weighted avg       1.00      1.00      1.00     16557\n",
            "\n"
          ]
        },
        {
          "output_type": "display_data",
          "data": {
            "image/png": "[encoded data removed]",
            "text/plain": [
              "<Figure size 432x288 with 2 Axes>"
            ]
          },
          "metadata": {
            "needs_background": "light"
          }
        },
        {
          "output_type": "stream",
          "name": "stdout",
          "text": [
            "time: 2 s (started: 2021-10-07 15:42:03 +00:00)\n"
          ]
        }
      ]
    },
    {
      "cell_type": "code",
      "metadata": {
        "colab": {
          "base_uri": "https://localhost:8080/",
          "height": 500
        },
        "id": "EI5H4hmcZRJQ",
        "outputId": "0f431053-5537-49d4-c2b1-4fa98d586002"
      },
      "source": [
        "pred_DT = model_DT.predict(X_test)\n",
        "\n",
        "print('DT Result:')\n",
        "print(accuracy_score(Y_test, pred_DT))\n",
        "print(classification_report(Y_test, pred_DT))\n",
        "plot_confusion_matrix(model_DT, X_test, Y_test, values_format='d', cmap=plt.cm.Blues)\n",
        "plt.show()"
      ],
      "execution_count": null,
      "outputs": [
        {
          "output_type": "stream",
          "name": "stdout",
          "text": [
            "DT Result:\n",
            "1.0\n",
            "              precision    recall  f1-score   support\n",
            "\n",
            "         0.0       1.00      1.00      1.00      5633\n",
            "         1.0       1.00      1.00      1.00      5471\n",
            "         2.0       1.00      1.00      1.00      5453\n",
            "\n",
            "    accuracy                           1.00     16557\n",
            "   macro avg       1.00      1.00      1.00     16557\n",
            "weighted avg       1.00      1.00      1.00     16557\n",
            "\n"
          ]
        },
        {
          "output_type": "display_data",
          "data": {
            "image/png": "[encoded data removed]",
            "text/plain": [
              "<Figure size 432x288 with 2 Axes>"
            ]
          },
          "metadata": {
            "needs_background": "light"
          }
        },
        {
          "output_type": "stream",
          "name": "stdout",
          "text": [
            "time: 229 ms (started: 2021-10-07 15:42:06 +00:00)\n"
          ]
        }
      ]
    },
    {
      "cell_type": "code",
      "metadata": {
        "colab": {
          "base_uri": "https://localhost:8080/",
          "height": 500
        },
        "id": "MDVITZDQZZzs",
        "outputId": "d8b12f34-eb58-49d0-c0e2-53af2ffaa654"
      },
      "source": [
        "pred_SVM = model_SVM.predict(X_test)\n",
        "\n",
        "print('SVM Result:')\n",
        "print(accuracy_score(Y_test, pred_SVM))\n",
        "print(classification_report(Y_test, pred_SVM))\n",
        "plot_confusion_matrix(model_SVM, X_test, Y_test, values_format='d', cmap=plt.cm.Blues)\n",
        "plt.show()"
      ],
      "execution_count": null,
      "outputs": [
        {
          "output_type": "stream",
          "name": "stdout",
          "text": [
            "SVM Result:\n",
            "0.9972821163254213\n",
            "              precision    recall  f1-score   support\n",
            "\n",
            "         0.0       0.99      1.00      1.00      5633\n",
            "         1.0       1.00      1.00      1.00      5471\n",
            "         2.0       1.00      0.99      1.00      5453\n",
            "\n",
            "    accuracy                           1.00     16557\n",
            "   macro avg       1.00      1.00      1.00     16557\n",
            "weighted avg       1.00      1.00      1.00     16557\n",
            "\n"
          ]
        },
        {
          "output_type": "display_data",
          "data": {
            "image/png": "[encoded data removed]",
            "text/plain": [
              "<Figure size 432x288 with 2 Axes>"
            ]
          },
          "metadata": {
            "needs_background": "light"
          }
        },
        {
          "output_type": "stream",
          "name": "stdout",
          "text": [
            "time: 5.8 s (started: 2021-10-07 15:42:06 +00:00)\n"
          ]
        }
      ]
    },
    {
      "cell_type": "code",
      "metadata": {
        "colab": {
          "base_uri": "https://localhost:8080/",
          "height": 500
        },
        "id": "pXCCfxXzZncm",
        "outputId": "6862bdd7-6933-4f05-e062-817a67acff1d"
      },
      "source": [
        "pred_RF = model_RF.predict(X_test)\n",
        "\n",
        "print('RF Result:')\n",
        "print(accuracy_score(Y_test, pred_RF))\n",
        "print(classification_report(Y_test, pred_RF))\n",
        "plot_confusion_matrix(model_RF, X_test, Y_test, values_format='d', cmap=plt.cm.Blues)\n",
        "plt.show()"
      ],
      "execution_count": null,
      "outputs": [
        {
          "output_type": "stream",
          "name": "stdout",
          "text": [
            "RF Result:\n",
            "1.0\n",
            "              precision    recall  f1-score   support\n",
            "\n",
            "         0.0       1.00      1.00      1.00      5633\n",
            "         1.0       1.00      1.00      1.00      5471\n",
            "         2.0       1.00      1.00      1.00      5453\n",
            "\n",
            "    accuracy                           1.00     16557\n",
            "   macro avg       1.00      1.00      1.00     16557\n",
            "weighted avg       1.00      1.00      1.00     16557\n",
            "\n"
          ]
        },
        {
          "output_type": "display_data",
          "data": {
            "image/png": "[encoded data removed]",
            "text/plain": [
              "<Figure size 432x288 with 2 Axes>"
            ]
          },
          "metadata": {
            "needs_background": "light"
          }
        },
        {
          "output_type": "stream",
          "name": "stdout",
          "text": [
            "time: 480 ms (started: 2021-10-07 15:42:12 +00:00)\n"
          ]
        }
      ]
    },
    {
      "cell_type": "code",
      "metadata": {
        "colab": {
          "base_uri": "https://localhost:8080/",
          "height": 500
        },
        "id": "XuPvRlAwZvHt",
        "outputId": "0e5c4cdb-3806-48af-84bf-902d0ab99e8d"
      },
      "source": [
        "pred_LDA = model_LDA.predict(X_test)\n",
        "\n",
        "print('LDA Result:')\n",
        "print(accuracy_score(Y_test, pred_LDA))\n",
        "print(classification_report(Y_test, pred_LDA))\n",
        "plot_confusion_matrix(model_LDA, X_test, Y_test, values_format='d', cmap=plt.cm.Blues)\n",
        "plt.show()"
      ],
      "execution_count": null,
      "outputs": [
        {
          "output_type": "stream",
          "name": "stdout",
          "text": [
            "LDA Result:\n",
            "0.9521652473274144\n",
            "              precision    recall  f1-score   support\n",
            "\n",
            "         0.0       0.90      1.00      0.95      5633\n",
            "         1.0       0.97      1.00      0.98      5471\n",
            "         2.0       1.00      0.85      0.92      5453\n",
            "\n",
            "    accuracy                           0.95     16557\n",
            "   macro avg       0.96      0.95      0.95     16557\n",
            "weighted avg       0.96      0.95      0.95     16557\n",
            "\n"
          ]
        },
        {
          "output_type": "display_data",
          "data": {
            "image/png": "[encoded data removed]",
            "text/plain": [
              "<Figure size 432x288 with 2 Axes>"
            ]
          },
          "metadata": {
            "needs_background": "light"
          }
        },
        {
          "output_type": "stream",
          "name": "stdout",
          "text": [
            "time: 247 ms (started: 2021-10-07 15:42:12 +00:00)\n"
          ]
        }
      ]
    },
    {
      "cell_type": "code",
      "metadata": {
        "colab": {
          "base_uri": "https://localhost:8080/",
          "height": 500
        },
        "id": "HkLjdJ_QZ2uQ",
        "outputId": "17d91405-632d-45ec-9cd8-2fd7e07e6052"
      },
      "source": [
        "pred_NB = model_NB.predict(X_test)\n",
        "\n",
        "print('NB Result:')\n",
        "print(accuracy_score(Y_test, pred_NB))\n",
        "print(classification_report(Y_test, pred_NB))\n",
        "plot_confusion_matrix(model_NB, X_test, Y_test, values_format='d', cmap=plt.cm.Blues)\n",
        "plt.show()"
      ],
      "execution_count": null,
      "outputs": [
        {
          "output_type": "stream",
          "name": "stdout",
          "text": [
            "NB Result:\n",
            "0.9983692697952528\n",
            "              precision    recall  f1-score   support\n",
            "\n",
            "         0.0       1.00      1.00      1.00      5633\n",
            "         1.0       1.00      1.00      1.00      5471\n",
            "         2.0       1.00      1.00      1.00      5453\n",
            "\n",
            "    accuracy                           1.00     16557\n",
            "   macro avg       1.00      1.00      1.00     16557\n",
            "weighted avg       1.00      1.00      1.00     16557\n",
            "\n"
          ]
        },
        {
          "output_type": "display_data",
          "data": {
            "image/png": "[encoded data removed]",
            "text/plain": [
              "<Figure size 432x288 with 2 Axes>"
            ]
          },
          "metadata": {
            "needs_background": "light"
          }
        },
        {
          "output_type": "stream",
          "name": "stdout",
          "text": [
            "time: 246 ms (started: 2021-10-07 15:42:12 +00:00)\n"
          ]
        }
      ]
    }
  ]
}
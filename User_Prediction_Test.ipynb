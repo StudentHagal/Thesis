{
  "nbformat": 4,
  "nbformat_minor": 0,
  "metadata": {
    "colab": {
      "name": "Copy of User Prediction Test.ipynb",
      "provenance": [],
      "toc_visible": true,
      "mount_file_id": "13bHySJTqdBA2xuDUINkJ2EvBnR3m-dVx",
      "authorship_tag": "ABX9TyPXiESU/6DxXKqBlyJ4nk41",
      "include_colab_link": true
    },
    "kernelspec": {
      "name": "python3",
      "display_name": "Python 3"
    },
    "language_info": {
      "name": "python"
    }
  },
  "cells": [
    {
      "cell_type": "markdown",
      "metadata": {
        "id": "view-in-github",
        "colab_type": "text"
      },
      "source": [
        "<a href=\"https://colab.research.google.com/github/StudentHagal/Thesis/blob/main/User_Prediction_Test.ipynb\" target=\"_parent\"><img src=\"https://colab.research.google.com/assets/colab-badge.svg\" alt=\"Open In Colab\"/></a>"
      ]
    },
    {
      "cell_type": "markdown",
      "metadata": {
        "id": "5RKzwYyIEo82"
      },
      "source": [
        "# 0) Preparation"
      ]
    },
    {
      "cell_type": "markdown",
      "metadata": {
        "id": "ZWuef7PMFJs2"
      },
      "source": [
        "## Load Requirements"
      ]
    },
    {
      "cell_type": "code",
      "metadata": {
        "colab": {
          "base_uri": "https://localhost:8080/"
        },
        "id": "W01aUFm6EfCE",
        "outputId": "ff467e6e-260d-4a30-e1ff-ad26f46786c1"
      },
      "source": [
        "# Github repository\n",
        "!git clone https://github.com/StudentHagal/Thesis.git\n",
        "\n",
        "# Libraries\n",
        "import sys\n",
        "import numpy as np\n",
        "import pandas as pd\n",
        "import sklearn\n",
        "import joblib\n",
        "import hashlib\n",
        "from sklearn.linear_model import LogisticRegression\n",
        "from sklearn.tree import DecisionTreeClassifier\n",
        "from sklearn.neighbors import KNeighborsClassifier\n",
        "from sklearn.discriminant_analysis import LinearDiscriminantAnalysis\n",
        "from sklearn.naive_bayes import GaussianNB\n",
        "from sklearn.svm import SVC\n",
        "from sklearn.ensemble import RandomForestClassifier\n",
        "\n",
        "#Extension\n",
        "!pip install ipython-autotime\n",
        "%load_ext autotime\n",
        "\n",
        "print('Load completed')"
      ],
      "execution_count": 1,
      "outputs": [
        {
          "output_type": "stream",
          "name": "stdout",
          "text": [
            "Cloning into 'Thesis'...\n",
            "remote: Enumerating objects: 155, done.\u001b[K\n",
            "remote: Counting objects: 100% (155/155), done.\u001b[K\n",
            "remote: Compressing objects: 100% (147/147), done.\u001b[K\n",
            "remote: Total 155 (delta 54), reused 0 (delta 0), pack-reused 0\u001b[K\n",
            "Receiving objects: 100% (155/155), 7.49 MiB | 4.03 MiB/s, done.\n",
            "Resolving deltas: 100% (54/54), done.\n",
            "Collecting ipython-autotime\n",
            "  Downloading ipython_autotime-0.3.1-py2.py3-none-any.whl (6.8 kB)\n",
            "Requirement already satisfied: ipython in /usr/local/lib/python3.7/dist-packages (from ipython-autotime) (5.5.0)\n",
            "Requirement already satisfied: prompt-toolkit<2.0.0,>=1.0.4 in /usr/local/lib/python3.7/dist-packages (from ipython->ipython-autotime) (1.0.18)\n",
            "Requirement already satisfied: pexpect in /usr/local/lib/python3.7/dist-packages (from ipython->ipython-autotime) (4.8.0)\n",
            "Requirement already satisfied: pygments in /usr/local/lib/python3.7/dist-packages (from ipython->ipython-autotime) (2.6.1)\n",
            "Requirement already satisfied: traitlets>=4.2 in /usr/local/lib/python3.7/dist-packages (from ipython->ipython-autotime) (5.1.0)\n",
            "Requirement already satisfied: simplegeneric>0.8 in /usr/local/lib/python3.7/dist-packages (from ipython->ipython-autotime) (0.8.1)\n",
            "Requirement already satisfied: decorator in /usr/local/lib/python3.7/dist-packages (from ipython->ipython-autotime) (4.4.2)\n",
            "Requirement already satisfied: pickleshare in /usr/local/lib/python3.7/dist-packages (from ipython->ipython-autotime) (0.7.5)\n",
            "Requirement already satisfied: setuptools>=18.5 in /usr/local/lib/python3.7/dist-packages (from ipython->ipython-autotime) (57.4.0)\n",
            "Requirement already satisfied: six>=1.9.0 in /usr/local/lib/python3.7/dist-packages (from prompt-toolkit<2.0.0,>=1.0.4->ipython->ipython-autotime) (1.15.0)\n",
            "Requirement already satisfied: wcwidth in /usr/local/lib/python3.7/dist-packages (from prompt-toolkit<2.0.0,>=1.0.4->ipython->ipython-autotime) (0.2.5)\n",
            "Requirement already satisfied: ptyprocess>=0.5 in /usr/local/lib/python3.7/dist-packages (from pexpect->ipython->ipython-autotime) (0.7.0)\n",
            "Installing collected packages: ipython-autotime\n",
            "Successfully installed ipython-autotime-0.3.1\n",
            "Load completed\n",
            "time: 2.83 ms (started: 2021-10-07 16:14:25 +00:00)\n"
          ]
        }
      ]
    },
    {
      "cell_type": "code",
      "metadata": {
        "colab": {
          "base_uri": "https://localhost:8080/"
        },
        "id": "3n2x4fUVE_oW",
        "outputId": "20cf5d9b-b30b-4203-8e4d-52c284e30747"
      },
      "source": [
        "# Check the versions of libraries\n",
        "# !!! WARNING !!!\n",
        "# Important because model result may be different for other version\n",
        " \n",
        "print('Python: {}'.format(sys.version))\n",
        "print('numpy: {}'.format(np.__version__))\n",
        "print('pandas: {}'.format(pd.__version__))\n",
        "print('sklearn: {}'.format(sklearn.__version__))\n",
        "print('joblib: {}'.format(joblib.__version__))"
      ],
      "execution_count": 2,
      "outputs": [
        {
          "output_type": "stream",
          "name": "stdout",
          "text": [
            "Python: 3.7.12 (default, Sep 10 2021, 00:21:48) \n",
            "[GCC 7.5.0]\n",
            "numpy: 1.19.5\n",
            "pandas: 1.1.5\n",
            "sklearn: 0.22.2.post1\n",
            "joblib: 1.0.1\n",
            "time: 3.1 ms (started: 2021-10-07 16:14:25 +00:00)\n"
          ]
        }
      ]
    },
    {
      "cell_type": "markdown",
      "metadata": {
        "id": "sEEGDYunFfDW"
      },
      "source": [
        "## Global Variables"
      ]
    },
    {
      "cell_type": "code",
      "metadata": {
        "colab": {
          "base_uri": "https://localhost:8080/"
        },
        "id": "XQhJdmBOFeBB",
        "outputId": "66f9b032-e3b1-4b5b-9d5e-7d776b435611"
      },
      "source": [
        "#Global variables declaration\n",
        "\n",
        "#Stored file path                     \n",
        "raw_file = \"/content/Thesis/Resources/database.csv\"\n",
        "#environment path\n",
        "main_dir = '/content/Thesis/'           \n",
        "model_dir = '/content/Thesis/Resources/models/'                                  \n",
        "process_dir = '/content/Thesis/Resources/Processed/'\n",
        "#Column names for dataset\n",
        "col_names = ['No', 'Datetime', 'Control_Mode', 'L1', 'L2', 'L3', 'Frequency', 'kVA_Total',           \n",
        "             'kVA_L1', 'kVA_L2', 'kVA_L3', 'KVAr', 'Oil_Pressure', 'Coolant_Temp', \n",
        "             'Charger_Alternator', 'PF_Avg', 'PF_L1', 'PF_L2', \n",
        "             'PF_L3', 'L1_N', 'L2_N', 'L3_N', 'Source_Ext_Voltage', 'ECU_Temp', \n",
        "             'RPM', 'Train_code']\n",
        "features = ['Oil_Pressure', 'Coolant_Temp', 'PF_Avg', 'ECU_Temp']\n",
        "#Unused columns in dataset\n",
        "unused_col = ['No', 'Datetime', 'Control_Mode', 'L1', 'L2', 'L3', 'Frequency',                       \n",
        "              'kVA_Total', 'kVA_L1', 'kVA_L2', 'kVA_L3', 'KVAr', 'Charger_Alternator',\n",
        "              'RPM', 'PF_L1', 'PF_L2', 'PF_L3', 'L1_N','L2_N', 'L3_N',\n",
        "              'Source_Ext_Voltage', 'Train_code']\n",
        "\n",
        "#Import and load Model\n",
        "Opsi1_LR = joblib.load(model_dir+'Opsi1_LR.joblib')\n",
        "Opsi1_KNN = joblib.load(model_dir+'Opsi1_KNN.joblib')\n",
        "Opsi1_DT = joblib.load(model_dir+'Opsi1_DT.joblib')\n",
        "Opsi1_SVM = joblib.load(model_dir+'Opsi1_SVM.joblib')\n",
        "Opsi1_RF = joblib.load(model_dir+'Opsi1_RF.joblib')\n",
        "Opsi1_LDA = joblib.load(model_dir+'Opsi1_LDA.joblib')\n",
        "Opsi1_NB = joblib.load(model_dir+'Opsi1_NB.joblib')\n",
        "\n",
        "Opsi2_LR = joblib.load(model_dir+'Opsi2_LR.joblib')\n",
        "Opsi2_KNN = joblib.load(model_dir+'Opsi2_KNN.joblib')\n",
        "Opsi2_DT = joblib.load(model_dir+'Opsi2_DT.joblib')\n",
        "Opsi2_SVM = joblib.load(model_dir+'Opsi2_SVM.joblib')\n",
        "Opsi2_RF = joblib.load(model_dir+'Opsi2_RF.joblib')\n",
        "Opsi2_LDA = joblib.load(model_dir+'Opsi2_LDA.joblib')\n",
        "Opsi2_NB = joblib.load(model_dir+'Opsi2_NB.joblib')\n",
        "\n",
        "Opsi3_LR = joblib.load(model_dir+'Opsi3_LR.joblib')\n",
        "Opsi3_KNN = joblib.load(model_dir+'Opsi3_KNN.joblib')\n",
        "Opsi3_DT = joblib.load(model_dir+'Opsi3_DT.joblib')\n",
        "Opsi3_SVM = joblib.load(model_dir+'Opsi3_SVM.joblib')\n",
        "Opsi3_RF = joblib.load(model_dir+'Opsi3_RF.joblib')\n",
        "Opsi3_LDA = joblib.load(model_dir+'Opsi3_LDA.joblib')\n",
        "Opsi3_NB = joblib.load(model_dir+'Opsi3_NB.joblib')\n",
        "\n",
        "Opsi4_LR = joblib.load(model_dir+'Opsi4_LR.joblib')\n",
        "Opsi4_KNN = joblib.load(model_dir+'Opsi4_KNN.joblib')\n",
        "Opsi4_DT = joblib.load(model_dir+'Opsi4_DT.joblib')\n",
        "Opsi4_SVM = joblib.load(model_dir+'Opsi4_SVM.joblib')\n",
        "Opsi4_RF = joblib.load(model_dir+'Opsi4_RF.joblib')\n",
        "Opsi4_LDA = joblib.load(model_dir+'Opsi4_LDA.joblib')\n",
        "Opsi4_NB = joblib.load(model_dir+'Opsi4_NB.joblib')\n",
        "\n",
        "RUL_OLS = joblib.load(model_dir+'model_OLS.joblib')\n",
        "RUL_Ridge = joblib.load(model_dir+'model_Ridge.joblib')\n",
        "RUL_RFreg = joblib.load(model_dir+'model_RFreg.joblib')"
      ],
      "execution_count": 3,
      "outputs": [
        {
          "output_type": "stream",
          "name": "stdout",
          "text": [
            "time: 253 ms (started: 2021-10-07 16:14:25 +00:00)\n"
          ]
        }
      ]
    },
    {
      "cell_type": "markdown",
      "metadata": {
        "id": "ttk7DU5sjhFL"
      },
      "source": [
        "## Function Declaration"
      ]
    },
    {
      "cell_type": "code",
      "metadata": {
        "colab": {
          "base_uri": "https://localhost:8080/"
        },
        "id": "zdunRN5zjl1k",
        "outputId": "48cde3bb-2e75-4da9-b620-3a7fde630e74"
      },
      "source": [
        "# Function that returns the SHA-2 hash of the file\n",
        "def hash_file(filepath):\n",
        "\n",
        "   # make a hash object with SHA-2\n",
        "   h = hashlib.sha256()\n",
        "\n",
        "   # open file for reading in binary mode\n",
        "   with open(filepath,'rb') as file:\n",
        "       # loop till the end of the file\n",
        "       chunk = 0\n",
        "       while chunk != b'':\n",
        "           # read only 1024 bytes at a time\n",
        "           chunk = file.read(1024)\n",
        "           h.update(chunk)\n",
        "\n",
        "   # return the hex representation of digest\n",
        "   return h.hexdigest()\n"
      ],
      "execution_count": 4,
      "outputs": [
        {
          "output_type": "stream",
          "name": "stdout",
          "text": [
            "time: 7.03 ms (started: 2021-10-07 16:14:25 +00:00)\n"
          ]
        }
      ]
    },
    {
      "cell_type": "markdown",
      "metadata": {
        "id": "zkNpeh1BEuNe"
      },
      "source": [
        "# 1) Prediction Test"
      ]
    },
    {
      "cell_type": "markdown",
      "metadata": {
        "id": "FiESWlMAi4SA"
      },
      "source": [
        "## Manual Input"
      ]
    },
    {
      "cell_type": "code",
      "metadata": {
        "colab": {
          "base_uri": "https://localhost:8080/"
        },
        "id": "BlolRbOgEzdJ",
        "outputId": "bc5faaa6-5230-4c50-e4c0-a190c09a3613"
      },
      "source": [
        "# user input manually for each sensor value\n",
        "print('-----Prediction Test on ML Model-----')\n",
        "print('Enter value for Oil_Pressure sensor:')\n",
        "feature1 = float(input())\n",
        "print('Enter value for Coolant_Temp sensor:')\n",
        "feature2 = float(input())\n",
        "print('Enter value for PF_Avg sensor:')\n",
        "feature3 = float(input())\n",
        "print('Enter value for ECU_Temp sensor:')\n",
        "feature4 = float(input())\n",
        "\n",
        "df_input = pd.DataFrame({'Oil_Pressure': [feature1], 'Coolant_Temp': [feature2],\n",
        "                         'PF_Avg':[feature3], 'ECU_Temp':[feature4]})"
      ],
      "execution_count": 5,
      "outputs": [
        {
          "output_type": "stream",
          "name": "stdout",
          "text": [
            "-----Prediction Test on ML Model-----\n",
            "Enter value for Oil_Pressure sensor:\n",
            "624\n",
            "Enter value for Coolant_Temp sensor:\n",
            "77\n",
            "Enter value for PF_Avg sensor:\n",
            "0.87\n",
            "Enter value for ECU_Temp sensor:\n",
            "7\n",
            "time: 32.4 s (started: 2021-10-07 16:14:25 +00:00)\n"
          ]
        }
      ]
    },
    {
      "cell_type": "code",
      "metadata": {
        "colab": {
          "base_uri": "https://localhost:8080/",
          "height": 97
        },
        "id": "1bPXrQ4vpmtt",
        "outputId": "130df33d-b729-4552-80ca-1126bb6435c5"
      },
      "source": [
        "df_input"
      ],
      "execution_count": 6,
      "outputs": [
        {
          "output_type": "execute_result",
          "data": {
            "text/html": [
              "<div>\n",
              "<style scoped>\n",
              "    .dataframe tbody tr th:only-of-type {\n",
              "        vertical-align: middle;\n",
              "    }\n",
              "\n",
              "    .dataframe tbody tr th {\n",
              "        vertical-align: top;\n",
              "    }\n",
              "\n",
              "    .dataframe thead th {\n",
              "        text-align: right;\n",
              "    }\n",
              "</style>\n",
              "<table border=\"1\" class=\"dataframe\">\n",
              "  <thead>\n",
              "    <tr style=\"text-align: right;\">\n",
              "      <th></th>\n",
              "      <th>Oil_Pressure</th>\n",
              "      <th>Coolant_Temp</th>\n",
              "      <th>PF_Avg</th>\n",
              "      <th>ECU_Temp</th>\n",
              "    </tr>\n",
              "  </thead>\n",
              "  <tbody>\n",
              "    <tr>\n",
              "      <th>0</th>\n",
              "      <td>624.0</td>\n",
              "      <td>77.0</td>\n",
              "      <td>0.87</td>\n",
              "      <td>7.0</td>\n",
              "    </tr>\n",
              "  </tbody>\n",
              "</table>\n",
              "</div>"
            ],
            "text/plain": [
              "   Oil_Pressure  Coolant_Temp  PF_Avg  ECU_Temp\n",
              "0         624.0          77.0    0.87       7.0"
            ]
          },
          "metadata": {},
          "execution_count": 6
        },
        {
          "output_type": "stream",
          "name": "stdout",
          "text": [
            "time: 23.6 ms (started: 2021-10-07 16:14:57 +00:00)\n"
          ]
        }
      ]
    },
    {
      "cell_type": "markdown",
      "metadata": {
        "id": "nXkPCWm3mKg-"
      },
      "source": [
        "### Opsi 1"
      ]
    },
    {
      "cell_type": "code",
      "metadata": {
        "colab": {
          "base_uri": "https://localhost:8080/",
          "height": 97
        },
        "id": "0PIRzKljE8Oh",
        "outputId": "c761eaaf-089f-40a8-bb4a-8312a1b56116"
      },
      "source": [
        "# print prediction result for each model from user input\n",
        "predictions_LR = Opsi1_LR.predict(df_input)\n",
        "predictions_KNN = Opsi1_KNN.predict(df_input)\n",
        "predictions_DT = Opsi1_DT.predict(df_input)\n",
        "predictions_SVM = Opsi1_SVM.predict(df_input)\n",
        "predictions_RF = Opsi1_RF.predict(df_input)\n",
        "predictions_LDA = Opsi1_LDA.predict(df_input)\n",
        "predictions_NB = Opsi1_NB.predict(df_input)\n",
        "\n",
        "df_predict = pd.DataFrame({'LR': predictions_LR, 'KNN': predictions_KNN,\n",
        "                         'DT':predictions_DT, 'SVM':predictions_SVM,\n",
        "                         'RF':predictions_RF, 'LDA':predictions_LDA,\n",
        "                         'NB':predictions_NB})\n",
        "df_predict"
      ],
      "execution_count": 7,
      "outputs": [
        {
          "output_type": "execute_result",
          "data": {
            "text/html": [
              "<div>\n",
              "<style scoped>\n",
              "    .dataframe tbody tr th:only-of-type {\n",
              "        vertical-align: middle;\n",
              "    }\n",
              "\n",
              "    .dataframe tbody tr th {\n",
              "        vertical-align: top;\n",
              "    }\n",
              "\n",
              "    .dataframe thead th {\n",
              "        text-align: right;\n",
              "    }\n",
              "</style>\n",
              "<table border=\"1\" class=\"dataframe\">\n",
              "  <thead>\n",
              "    <tr style=\"text-align: right;\">\n",
              "      <th></th>\n",
              "      <th>LR</th>\n",
              "      <th>KNN</th>\n",
              "      <th>DT</th>\n",
              "      <th>SVM</th>\n",
              "      <th>RF</th>\n",
              "      <th>LDA</th>\n",
              "      <th>NB</th>\n",
              "    </tr>\n",
              "  </thead>\n",
              "  <tbody>\n",
              "    <tr>\n",
              "      <th>0</th>\n",
              "      <td>Normal</td>\n",
              "      <td>Outlier</td>\n",
              "      <td>Maintenance</td>\n",
              "      <td>Outlier</td>\n",
              "      <td>Maintenance</td>\n",
              "      <td>Normal</td>\n",
              "      <td>Outlier</td>\n",
              "    </tr>\n",
              "  </tbody>\n",
              "</table>\n",
              "</div>"
            ],
            "text/plain": [
              "       LR      KNN           DT      SVM           RF     LDA       NB\n",
              "0  Normal  Outlier  Maintenance  Outlier  Maintenance  Normal  Outlier"
            ]
          },
          "metadata": {},
          "execution_count": 7
        },
        {
          "output_type": "stream",
          "name": "stdout",
          "text": [
            "time: 37.2 ms (started: 2021-10-07 16:14:57 +00:00)\n"
          ]
        }
      ]
    },
    {
      "cell_type": "markdown",
      "metadata": {
        "id": "YthkxikOnvDE"
      },
      "source": [
        "### Opsi 2"
      ]
    },
    {
      "cell_type": "code",
      "metadata": {
        "colab": {
          "base_uri": "https://localhost:8080/",
          "height": 97
        },
        "id": "hNNll2QBn9B1",
        "outputId": "c9b33c57-4446-42a0-ff12-f7e751f05ab9"
      },
      "source": [
        "# print prediction result for each model from user input\n",
        "predictions_LR = Opsi2_LR.predict(df_input)\n",
        "predictions_KNN = Opsi2_KNN.predict(df_input)\n",
        "predictions_DT = Opsi2_DT.predict(df_input)\n",
        "predictions_SVM = Opsi2_SVM.predict(df_input)\n",
        "predictions_RF = Opsi2_RF.predict(df_input)\n",
        "predictions_LDA = Opsi2_LDA.predict(df_input)\n",
        "predictions_NB = Opsi2_NB.predict(df_input)\n",
        "\n",
        "df_predict = pd.DataFrame({'LR': predictions_LR, 'KNN': predictions_KNN,\n",
        "                         'DT':predictions_DT, 'SVM':predictions_SVM,\n",
        "                         'RF':predictions_RF, 'LDA':predictions_LDA,\n",
        "                         'NB':predictions_NB})\n",
        "df_predict"
      ],
      "execution_count": 8,
      "outputs": [
        {
          "output_type": "execute_result",
          "data": {
            "text/html": [
              "<div>\n",
              "<style scoped>\n",
              "    .dataframe tbody tr th:only-of-type {\n",
              "        vertical-align: middle;\n",
              "    }\n",
              "\n",
              "    .dataframe tbody tr th {\n",
              "        vertical-align: top;\n",
              "    }\n",
              "\n",
              "    .dataframe thead th {\n",
              "        text-align: right;\n",
              "    }\n",
              "</style>\n",
              "<table border=\"1\" class=\"dataframe\">\n",
              "  <thead>\n",
              "    <tr style=\"text-align: right;\">\n",
              "      <th></th>\n",
              "      <th>LR</th>\n",
              "      <th>KNN</th>\n",
              "      <th>DT</th>\n",
              "      <th>SVM</th>\n",
              "      <th>RF</th>\n",
              "      <th>LDA</th>\n",
              "      <th>NB</th>\n",
              "    </tr>\n",
              "  </thead>\n",
              "  <tbody>\n",
              "    <tr>\n",
              "      <th>0</th>\n",
              "      <td>Maintenance</td>\n",
              "      <td>Maintenance</td>\n",
              "      <td>Maintenance</td>\n",
              "      <td>Normal</td>\n",
              "      <td>Maintenance</td>\n",
              "      <td>Maintenance</td>\n",
              "      <td>Maintenance</td>\n",
              "    </tr>\n",
              "  </tbody>\n",
              "</table>\n",
              "</div>"
            ],
            "text/plain": [
              "            LR          KNN           DT  ...           RF          LDA           NB\n",
              "0  Maintenance  Maintenance  Maintenance  ...  Maintenance  Maintenance  Maintenance\n",
              "\n",
              "[1 rows x 7 columns]"
            ]
          },
          "metadata": {},
          "execution_count": 8
        },
        {
          "output_type": "stream",
          "name": "stdout",
          "text": [
            "time: 38.9 ms (started: 2021-10-07 16:14:57 +00:00)\n"
          ]
        }
      ]
    },
    {
      "cell_type": "markdown",
      "metadata": {
        "id": "TYq_lkY_nxvR"
      },
      "source": [
        "### Opsi 3"
      ]
    },
    {
      "cell_type": "code",
      "metadata": {
        "colab": {
          "base_uri": "https://localhost:8080/",
          "height": 97
        },
        "id": "VJD6kkLYoCol",
        "outputId": "7956fd0a-fbb6-48a4-a302-8d5c957c6374"
      },
      "source": [
        "# print prediction result for each model from user input\n",
        "predictions_LR = Opsi3_LR.predict(df_input)\n",
        "predictions_KNN = Opsi3_KNN.predict(df_input)\n",
        "predictions_DT = Opsi3_DT.predict(df_input)\n",
        "predictions_SVM = Opsi3_SVM.predict(df_input)\n",
        "predictions_RF = Opsi3_RF.predict(df_input)\n",
        "predictions_LDA = Opsi3_LDA.predict(df_input)\n",
        "predictions_NB = Opsi3_NB.predict(df_input)\n",
        "\n",
        "df_predict = pd.DataFrame({'LR': predictions_LR, 'KNN': predictions_KNN,\n",
        "                         'DT':predictions_DT, 'SVM':predictions_SVM,\n",
        "                         'RF':predictions_RF, 'LDA':predictions_LDA,\n",
        "                         'NB':predictions_NB})\n",
        "df_predict"
      ],
      "execution_count": 9,
      "outputs": [
        {
          "output_type": "execute_result",
          "data": {
            "text/html": [
              "<div>\n",
              "<style scoped>\n",
              "    .dataframe tbody tr th:only-of-type {\n",
              "        vertical-align: middle;\n",
              "    }\n",
              "\n",
              "    .dataframe tbody tr th {\n",
              "        vertical-align: top;\n",
              "    }\n",
              "\n",
              "    .dataframe thead th {\n",
              "        text-align: right;\n",
              "    }\n",
              "</style>\n",
              "<table border=\"1\" class=\"dataframe\">\n",
              "  <thead>\n",
              "    <tr style=\"text-align: right;\">\n",
              "      <th></th>\n",
              "      <th>LR</th>\n",
              "      <th>KNN</th>\n",
              "      <th>DT</th>\n",
              "      <th>SVM</th>\n",
              "      <th>RF</th>\n",
              "      <th>LDA</th>\n",
              "      <th>NB</th>\n",
              "    </tr>\n",
              "  </thead>\n",
              "  <tbody>\n",
              "    <tr>\n",
              "      <th>0</th>\n",
              "      <td>2.0</td>\n",
              "      <td>2.0</td>\n",
              "      <td>2.0</td>\n",
              "      <td>2.0</td>\n",
              "      <td>2.0</td>\n",
              "      <td>2.0</td>\n",
              "      <td>2.0</td>\n",
              "    </tr>\n",
              "  </tbody>\n",
              "</table>\n",
              "</div>"
            ],
            "text/plain": [
              "    LR  KNN   DT  SVM   RF  LDA   NB\n",
              "0  2.0  2.0  2.0  2.0  2.0  2.0  2.0"
            ]
          },
          "metadata": {},
          "execution_count": 9
        },
        {
          "output_type": "stream",
          "name": "stdout",
          "text": [
            "time: 37.5 ms (started: 2021-10-07 16:14:57 +00:00)\n"
          ]
        }
      ]
    },
    {
      "cell_type": "markdown",
      "metadata": {
        "id": "CZJJ3vPEn010"
      },
      "source": [
        "### Opsi 4"
      ]
    },
    {
      "cell_type": "code",
      "metadata": {
        "colab": {
          "base_uri": "https://localhost:8080/",
          "height": 97
        },
        "id": "JPfSM8E2oFrQ",
        "outputId": "24b79525-bbd6-4856-fb2c-21655a352172"
      },
      "source": [
        "# print prediction result for each model from user input\n",
        "predictions_LR = Opsi4_LR.predict(df_input)\n",
        "predictions_KNN = Opsi4_KNN.predict(df_input)\n",
        "predictions_DT = Opsi4_DT.predict(df_input)\n",
        "predictions_SVM = Opsi4_SVM.predict(df_input)\n",
        "predictions_RF = Opsi4_RF.predict(df_input)\n",
        "predictions_LDA = Opsi4_LDA.predict(df_input)\n",
        "predictions_NB = Opsi4_NB.predict(df_input)\n",
        "\n",
        "df_predict = pd.DataFrame({'LR': predictions_LR, 'KNN': predictions_KNN,\n",
        "                         'DT':predictions_DT, 'SVM':predictions_SVM,\n",
        "                         'RF':predictions_RF, 'LDA':predictions_LDA,\n",
        "                         'NB':predictions_NB})\n",
        "df_predict"
      ],
      "execution_count": 10,
      "outputs": [
        {
          "output_type": "execute_result",
          "data": {
            "text/html": [
              "<div>\n",
              "<style scoped>\n",
              "    .dataframe tbody tr th:only-of-type {\n",
              "        vertical-align: middle;\n",
              "    }\n",
              "\n",
              "    .dataframe tbody tr th {\n",
              "        vertical-align: top;\n",
              "    }\n",
              "\n",
              "    .dataframe thead th {\n",
              "        text-align: right;\n",
              "    }\n",
              "</style>\n",
              "<table border=\"1\" class=\"dataframe\">\n",
              "  <thead>\n",
              "    <tr style=\"text-align: right;\">\n",
              "      <th></th>\n",
              "      <th>LR</th>\n",
              "      <th>KNN</th>\n",
              "      <th>DT</th>\n",
              "      <th>SVM</th>\n",
              "      <th>RF</th>\n",
              "      <th>LDA</th>\n",
              "      <th>NB</th>\n",
              "    </tr>\n",
              "  </thead>\n",
              "  <tbody>\n",
              "    <tr>\n",
              "      <th>0</th>\n",
              "      <td>0.0</td>\n",
              "      <td>0.0</td>\n",
              "      <td>0.0</td>\n",
              "      <td>0.0</td>\n",
              "      <td>0.0</td>\n",
              "      <td>0.0</td>\n",
              "      <td>0.0</td>\n",
              "    </tr>\n",
              "  </tbody>\n",
              "</table>\n",
              "</div>"
            ],
            "text/plain": [
              "    LR  KNN   DT  SVM   RF  LDA   NB\n",
              "0  0.0  0.0  0.0  0.0  0.0  0.0  0.0"
            ]
          },
          "metadata": {},
          "execution_count": 10
        },
        {
          "output_type": "stream",
          "name": "stdout",
          "text": [
            "time: 39.7 ms (started: 2021-10-07 16:14:57 +00:00)\n"
          ]
        }
      ]
    },
    {
      "cell_type": "markdown",
      "metadata": {
        "id": "-uVojG5oymjU"
      },
      "source": [
        "### RUL"
      ]
    },
    {
      "cell_type": "code",
      "metadata": {
        "colab": {
          "base_uri": "https://localhost:8080/",
          "height": 97
        },
        "id": "LYwNR2KSysHD",
        "outputId": "0437b01d-2cd7-4d63-a033-7a36587f8d0e"
      },
      "source": [
        "#RUL result is MTBF_Condition-Prediction (differ with each dataset)\n",
        "predictions_OLS = RUL_OLS.predict(df_input)\n",
        "predictions_Ridge = RUL_Ridge.predict(df_input)\n",
        "predictions_RFreg = RUL_RFreg.predict(df_input)\n",
        "\n",
        "df_RUL = pd.DataFrame({'OLS': 3.914026-predictions_OLS, 'Ridge': 3.914026-predictions_Ridge,\n",
        "                         'RF-reg':3.914026-predictions_RFreg})\n",
        "df_RUL"
      ],
      "execution_count": 11,
      "outputs": [
        {
          "output_type": "execute_result",
          "data": {
            "text/html": [
              "<div>\n",
              "<style scoped>\n",
              "    .dataframe tbody tr th:only-of-type {\n",
              "        vertical-align: middle;\n",
              "    }\n",
              "\n",
              "    .dataframe tbody tr th {\n",
              "        vertical-align: top;\n",
              "    }\n",
              "\n",
              "    .dataframe thead th {\n",
              "        text-align: right;\n",
              "    }\n",
              "</style>\n",
              "<table border=\"1\" class=\"dataframe\">\n",
              "  <thead>\n",
              "    <tr style=\"text-align: right;\">\n",
              "      <th></th>\n",
              "      <th>OLS</th>\n",
              "      <th>Ridge</th>\n",
              "      <th>RF-reg</th>\n",
              "    </tr>\n",
              "  </thead>\n",
              "  <tbody>\n",
              "    <tr>\n",
              "      <th>0</th>\n",
              "      <td>-14.404347</td>\n",
              "      <td>-14.407189</td>\n",
              "      <td>2.594609</td>\n",
              "    </tr>\n",
              "  </tbody>\n",
              "</table>\n",
              "</div>"
            ],
            "text/plain": [
              "         OLS      Ridge    RF-reg\n",
              "0 -14.404347 -14.407189  2.594609"
            ]
          },
          "metadata": {},
          "execution_count": 11
        },
        {
          "output_type": "stream",
          "name": "stdout",
          "text": [
            "time: 27.2 ms (started: 2021-10-07 16:14:57 +00:00)\n"
          ]
        }
      ]
    },
    {
      "cell_type": "markdown",
      "metadata": {
        "id": "dro-GCevjJx6"
      },
      "source": [
        "## From csv file"
      ]
    },
    {
      "cell_type": "code",
      "metadata": {
        "colab": {
          "base_uri": "https://localhost:8080/"
        },
        "id": "WXAFdfkwjOfU",
        "outputId": "22031dc0-b103-438c-b295-92e16721b021"
      },
      "source": [
        "#user input path to file\n",
        "print('-----Prediction Test on ML Model-----')\n",
        "print('Enter value for File path: ')\n",
        "file_path = str(input())"
      ],
      "execution_count": 12,
      "outputs": [
        {
          "output_type": "stream",
          "name": "stdout",
          "text": [
            "-----Prediction Test on ML Model-----\n",
            "Enter value for File path: \n",
            "/content/Thesis/Resources/database.csv\n",
            "time: 19.1 s (started: 2021-10-07 16:14:57 +00:00)\n"
          ]
        }
      ]
    },
    {
      "cell_type": "code",
      "metadata": {
        "colab": {
          "base_uri": "https://localhost:8080/",
          "height": 55
        },
        "id": "teOLBi7Jkt_V",
        "outputId": "83177418-8c0c-474b-f3d0-be7ad84167d0"
      },
      "source": [
        "hash_file(file_path)"
      ],
      "execution_count": 13,
      "outputs": [
        {
          "output_type": "execute_result",
          "data": {
            "application/vnd.google.colaboratory.intrinsic+json": {
              "type": "string"
            },
            "text/plain": [
              "'10f68054068bc4ac4d7fee65e8fd7a184151e3ce3abce5d85350fc13c412d93b'"
            ]
          },
          "metadata": {},
          "execution_count": 13
        },
        {
          "output_type": "stream",
          "name": "stdout",
          "text": [
            "time: 26.5 ms (started: 2021-10-07 16:15:17 +00:00)\n"
          ]
        }
      ]
    },
    {
      "cell_type": "code",
      "metadata": {
        "colab": {
          "base_uri": "https://localhost:8080/",
          "height": 626
        },
        "id": "uTYh_MMcmcX4",
        "outputId": "eba2a0da-500b-43f7-b368-b27af5b35721"
      },
      "source": [
        "df_file = pd.read_csv(file_path, names=col_names)\n",
        "df_file"
      ],
      "execution_count": 14,
      "outputs": [
        {
          "output_type": "execute_result",
          "data": {
            "text/html": [
              "<div>\n",
              "<style scoped>\n",
              "    .dataframe tbody tr th:only-of-type {\n",
              "        vertical-align: middle;\n",
              "    }\n",
              "\n",
              "    .dataframe tbody tr th {\n",
              "        vertical-align: top;\n",
              "    }\n",
              "\n",
              "    .dataframe thead th {\n",
              "        text-align: right;\n",
              "    }\n",
              "</style>\n",
              "<table border=\"1\" class=\"dataframe\">\n",
              "  <thead>\n",
              "    <tr style=\"text-align: right;\">\n",
              "      <th></th>\n",
              "      <th>No</th>\n",
              "      <th>Datetime</th>\n",
              "      <th>Control_Mode</th>\n",
              "      <th>L1</th>\n",
              "      <th>L2</th>\n",
              "      <th>L3</th>\n",
              "      <th>Frequency</th>\n",
              "      <th>kVA_Total</th>\n",
              "      <th>kVA_L1</th>\n",
              "      <th>kVA_L2</th>\n",
              "      <th>kVA_L3</th>\n",
              "      <th>KVAr</th>\n",
              "      <th>Oil_Pressure</th>\n",
              "      <th>Coolant_Temp</th>\n",
              "      <th>Charger_Alternator</th>\n",
              "      <th>PF_Avg</th>\n",
              "      <th>PF_L1</th>\n",
              "      <th>PF_L2</th>\n",
              "      <th>PF_L3</th>\n",
              "      <th>L1_N</th>\n",
              "      <th>L2_N</th>\n",
              "      <th>L3_N</th>\n",
              "      <th>Source_Ext_Voltage</th>\n",
              "      <th>ECU_Temp</th>\n",
              "      <th>RPM</th>\n",
              "      <th>Train_code</th>\n",
              "    </tr>\n",
              "  </thead>\n",
              "  <tbody>\n",
              "    <tr>\n",
              "      <th>0</th>\n",
              "      <td>1.10</td>\n",
              "      <td>01-08-20 02:03</td>\n",
              "      <td>2.0</td>\n",
              "      <td>28.0</td>\n",
              "      <td>27.0</td>\n",
              "      <td>26.0</td>\n",
              "      <td>50.0</td>\n",
              "      <td>18.51</td>\n",
              "      <td>6.35</td>\n",
              "      <td>6.09</td>\n",
              "      <td>5.89</td>\n",
              "      <td>0.00</td>\n",
              "      <td>636.0</td>\n",
              "      <td>81.0</td>\n",
              "      <td>26.9</td>\n",
              "      <td>0.83</td>\n",
              "      <td>0.83</td>\n",
              "      <td>0.82</td>\n",
              "      <td>0.84</td>\n",
              "      <td>220.8</td>\n",
              "      <td>221.1</td>\n",
              "      <td>220.8</td>\n",
              "      <td>25.98</td>\n",
              "      <td>32767.0</td>\n",
              "      <td>1499.0</td>\n",
              "      <td>MP3-01605</td>\n",
              "    </tr>\n",
              "    <tr>\n",
              "      <th>1</th>\n",
              "      <td>1.20</td>\n",
              "      <td>01-08-20 03:00</td>\n",
              "      <td>2.0</td>\n",
              "      <td>39.0</td>\n",
              "      <td>39.0</td>\n",
              "      <td>37.0</td>\n",
              "      <td>50.0</td>\n",
              "      <td>25.74</td>\n",
              "      <td>8.65</td>\n",
              "      <td>8.45</td>\n",
              "      <td>8.24</td>\n",
              "      <td>0.00</td>\n",
              "      <td>636.0</td>\n",
              "      <td>81.0</td>\n",
              "      <td>26.9</td>\n",
              "      <td>0.76</td>\n",
              "      <td>0.77</td>\n",
              "      <td>0.75</td>\n",
              "      <td>0.77</td>\n",
              "      <td>220.8</td>\n",
              "      <td>220.5</td>\n",
              "      <td>220.8</td>\n",
              "      <td>25.84</td>\n",
              "      <td>32767.0</td>\n",
              "      <td>1501.0</td>\n",
              "      <td>MP3-01605</td>\n",
              "    </tr>\n",
              "    <tr>\n",
              "      <th>2</th>\n",
              "      <td>1.30</td>\n",
              "      <td>01-08-20 04:00</td>\n",
              "      <td>2.0</td>\n",
              "      <td>104.0</td>\n",
              "      <td>100.0</td>\n",
              "      <td>100.0</td>\n",
              "      <td>50.0</td>\n",
              "      <td>68.59</td>\n",
              "      <td>22.89</td>\n",
              "      <td>22.32</td>\n",
              "      <td>22.02</td>\n",
              "      <td>46.74</td>\n",
              "      <td>632.0</td>\n",
              "      <td>82.0</td>\n",
              "      <td>26.9</td>\n",
              "      <td>0.77</td>\n",
              "      <td>0.77</td>\n",
              "      <td>0.76</td>\n",
              "      <td>0.77</td>\n",
              "      <td>220.2</td>\n",
              "      <td>220.7</td>\n",
              "      <td>220.5</td>\n",
              "      <td>25.93</td>\n",
              "      <td>32767.0</td>\n",
              "      <td>1499.0</td>\n",
              "      <td>MP3-01605</td>\n",
              "    </tr>\n",
              "    <tr>\n",
              "      <th>3</th>\n",
              "      <td>1.40</td>\n",
              "      <td>01-08-20 05:00</td>\n",
              "      <td>2.0</td>\n",
              "      <td>90.0</td>\n",
              "      <td>87.0</td>\n",
              "      <td>87.0</td>\n",
              "      <td>50.0</td>\n",
              "      <td>59.36</td>\n",
              "      <td>19.81</td>\n",
              "      <td>19.30</td>\n",
              "      <td>19.15</td>\n",
              "      <td>39.78</td>\n",
              "      <td>632.0</td>\n",
              "      <td>82.0</td>\n",
              "      <td>26.9</td>\n",
              "      <td>0.78</td>\n",
              "      <td>0.78</td>\n",
              "      <td>0.77</td>\n",
              "      <td>0.78</td>\n",
              "      <td>220.5</td>\n",
              "      <td>220.5</td>\n",
              "      <td>220.8</td>\n",
              "      <td>26.18</td>\n",
              "      <td>32767.0</td>\n",
              "      <td>1500.0</td>\n",
              "      <td>MP3-01605</td>\n",
              "    </tr>\n",
              "    <tr>\n",
              "      <th>4</th>\n",
              "      <td>1.50</td>\n",
              "      <td>01-08-20 06:00</td>\n",
              "      <td>2.0</td>\n",
              "      <td>98.0</td>\n",
              "      <td>96.0</td>\n",
              "      <td>96.0</td>\n",
              "      <td>50.0</td>\n",
              "      <td>64.60</td>\n",
              "      <td>21.66</td>\n",
              "      <td>21.14</td>\n",
              "      <td>21.14</td>\n",
              "      <td>43.31</td>\n",
              "      <td>628.0</td>\n",
              "      <td>82.0</td>\n",
              "      <td>27.0</td>\n",
              "      <td>0.78</td>\n",
              "      <td>0.77</td>\n",
              "      <td>0.78</td>\n",
              "      <td>0.78</td>\n",
              "      <td>220.3</td>\n",
              "      <td>220.4</td>\n",
              "      <td>220.6</td>\n",
              "      <td>26.14</td>\n",
              "      <td>32767.0</td>\n",
              "      <td>1500.0</td>\n",
              "      <td>MP3-01605</td>\n",
              "    </tr>\n",
              "    <tr>\n",
              "      <th>...</th>\n",
              "      <td>...</td>\n",
              "      <td>...</td>\n",
              "      <td>...</td>\n",
              "      <td>...</td>\n",
              "      <td>...</td>\n",
              "      <td>...</td>\n",
              "      <td>...</td>\n",
              "      <td>...</td>\n",
              "      <td>...</td>\n",
              "      <td>...</td>\n",
              "      <td>...</td>\n",
              "      <td>...</td>\n",
              "      <td>...</td>\n",
              "      <td>...</td>\n",
              "      <td>...</td>\n",
              "      <td>...</td>\n",
              "      <td>...</td>\n",
              "      <td>...</td>\n",
              "      <td>...</td>\n",
              "      <td>...</td>\n",
              "      <td>...</td>\n",
              "      <td>...</td>\n",
              "      <td>...</td>\n",
              "      <td>...</td>\n",
              "      <td>...</td>\n",
              "      <td>...</td>\n",
              "    </tr>\n",
              "    <tr>\n",
              "      <th>34352</th>\n",
              "      <td>31.39</td>\n",
              "      <td>31-12-20 13:00</td>\n",
              "      <td>2.0</td>\n",
              "      <td>194.0</td>\n",
              "      <td>184.0</td>\n",
              "      <td>199.0</td>\n",
              "      <td>50.0</td>\n",
              "      <td>129.67</td>\n",
              "      <td>43.40</td>\n",
              "      <td>41.10</td>\n",
              "      <td>44.10</td>\n",
              "      <td>67.90</td>\n",
              "      <td>600.0</td>\n",
              "      <td>83.0</td>\n",
              "      <td>27.7</td>\n",
              "      <td>0.88</td>\n",
              "      <td>0.88</td>\n",
              "      <td>0.87</td>\n",
              "      <td>0.88</td>\n",
              "      <td>223.3</td>\n",
              "      <td>222.6</td>\n",
              "      <td>221.1</td>\n",
              "      <td>27.64</td>\n",
              "      <td>32767.0</td>\n",
              "      <td>1500.0</td>\n",
              "      <td>P-01914</td>\n",
              "    </tr>\n",
              "    <tr>\n",
              "      <th>34353</th>\n",
              "      <td>31.40</td>\n",
              "      <td>31-12-20 14:00</td>\n",
              "      <td>2.0</td>\n",
              "      <td>173.0</td>\n",
              "      <td>165.0</td>\n",
              "      <td>180.0</td>\n",
              "      <td>50.0</td>\n",
              "      <td>115.63</td>\n",
              "      <td>38.60</td>\n",
              "      <td>36.90</td>\n",
              "      <td>39.80</td>\n",
              "      <td>60.90</td>\n",
              "      <td>604.0</td>\n",
              "      <td>82.0</td>\n",
              "      <td>27.7</td>\n",
              "      <td>0.88</td>\n",
              "      <td>0.88</td>\n",
              "      <td>0.87</td>\n",
              "      <td>0.88</td>\n",
              "      <td>223.3</td>\n",
              "      <td>222.8</td>\n",
              "      <td>221.0</td>\n",
              "      <td>27.54</td>\n",
              "      <td>32767.0</td>\n",
              "      <td>1500.0</td>\n",
              "      <td>P-01914</td>\n",
              "    </tr>\n",
              "    <tr>\n",
              "      <th>34354</th>\n",
              "      <td>31.41</td>\n",
              "      <td>31-12-20 15:00</td>\n",
              "      <td>2.0</td>\n",
              "      <td>169.0</td>\n",
              "      <td>163.0</td>\n",
              "      <td>176.0</td>\n",
              "      <td>50.0</td>\n",
              "      <td>112.96</td>\n",
              "      <td>37.80</td>\n",
              "      <td>36.40</td>\n",
              "      <td>38.80</td>\n",
              "      <td>60.20</td>\n",
              "      <td>604.0</td>\n",
              "      <td>81.0</td>\n",
              "      <td>27.9</td>\n",
              "      <td>0.87</td>\n",
              "      <td>0.87</td>\n",
              "      <td>0.87</td>\n",
              "      <td>0.88</td>\n",
              "      <td>223.4</td>\n",
              "      <td>222.6</td>\n",
              "      <td>221.3</td>\n",
              "      <td>27.74</td>\n",
              "      <td>32767.0</td>\n",
              "      <td>1499.0</td>\n",
              "      <td>P-01914</td>\n",
              "    </tr>\n",
              "    <tr>\n",
              "      <th>34355</th>\n",
              "      <td>31.42</td>\n",
              "      <td>31-12-20 16:00</td>\n",
              "      <td>0.0</td>\n",
              "      <td>0.0</td>\n",
              "      <td>0.0</td>\n",
              "      <td>0.0</td>\n",
              "      <td>0.0</td>\n",
              "      <td>0.00</td>\n",
              "      <td>0.00</td>\n",
              "      <td>0.00</td>\n",
              "      <td>0.00</td>\n",
              "      <td>0.00</td>\n",
              "      <td>0.0</td>\n",
              "      <td>0.0</td>\n",
              "      <td>0.0</td>\n",
              "      <td>0.00</td>\n",
              "      <td>0.00</td>\n",
              "      <td>0.00</td>\n",
              "      <td>0.00</td>\n",
              "      <td>0.0</td>\n",
              "      <td>0.0</td>\n",
              "      <td>0.0</td>\n",
              "      <td>0.00</td>\n",
              "      <td>0.0</td>\n",
              "      <td>0.0</td>\n",
              "      <td>P-01914</td>\n",
              "    </tr>\n",
              "    <tr>\n",
              "      <th>34356</th>\n",
              "      <td>31.43</td>\n",
              "      <td>31-12-20 17:05</td>\n",
              "      <td>0.0</td>\n",
              "      <td>0.0</td>\n",
              "      <td>0.0</td>\n",
              "      <td>0.0</td>\n",
              "      <td>0.0</td>\n",
              "      <td>0.00</td>\n",
              "      <td>0.00</td>\n",
              "      <td>0.00</td>\n",
              "      <td>0.00</td>\n",
              "      <td>0.00</td>\n",
              "      <td>0.0</td>\n",
              "      <td>0.0</td>\n",
              "      <td>0.0</td>\n",
              "      <td>0.00</td>\n",
              "      <td>0.00</td>\n",
              "      <td>0.00</td>\n",
              "      <td>0.00</td>\n",
              "      <td>0.0</td>\n",
              "      <td>0.0</td>\n",
              "      <td>0.0</td>\n",
              "      <td>0.00</td>\n",
              "      <td>0.0</td>\n",
              "      <td>0.0</td>\n",
              "      <td>P-01914</td>\n",
              "    </tr>\n",
              "  </tbody>\n",
              "</table>\n",
              "<p>34357 rows × 26 columns</p>\n",
              "</div>"
            ],
            "text/plain": [
              "          No        Datetime  Control_Mode  ...  ECU_Temp     RPM  Train_code\n",
              "0       1.10  01-08-20 02:03           2.0  ...   32767.0  1499.0   MP3-01605\n",
              "1       1.20  01-08-20 03:00           2.0  ...   32767.0  1501.0   MP3-01605\n",
              "2       1.30  01-08-20 04:00           2.0  ...   32767.0  1499.0   MP3-01605\n",
              "3       1.40  01-08-20 05:00           2.0  ...   32767.0  1500.0   MP3-01605\n",
              "4       1.50  01-08-20 06:00           2.0  ...   32767.0  1500.0   MP3-01605\n",
              "...      ...             ...           ...  ...       ...     ...         ...\n",
              "34352  31.39  31-12-20 13:00           2.0  ...   32767.0  1500.0     P-01914\n",
              "34353  31.40  31-12-20 14:00           2.0  ...   32767.0  1500.0     P-01914\n",
              "34354  31.41  31-12-20 15:00           2.0  ...   32767.0  1499.0     P-01914\n",
              "34355  31.42  31-12-20 16:00           0.0  ...       0.0     0.0     P-01914\n",
              "34356  31.43  31-12-20 17:05           0.0  ...       0.0     0.0     P-01914\n",
              "\n",
              "[34357 rows x 26 columns]"
            ]
          },
          "metadata": {},
          "execution_count": 14
        },
        {
          "output_type": "stream",
          "name": "stdout",
          "text": [
            "time: 177 ms (started: 2021-10-07 16:15:17 +00:00)\n"
          ]
        }
      ]
    },
    {
      "cell_type": "code",
      "metadata": {
        "colab": {
          "base_uri": "https://localhost:8080/",
          "height": 436
        },
        "id": "Yrrs_6yysSjq",
        "outputId": "776f0425-cf7f-4b27-d60a-b16ffb8575a9"
      },
      "source": [
        "df_file.drop(labels=unused_col, axis=1, inplace=True)\n",
        "df_file"
      ],
      "execution_count": 15,
      "outputs": [
        {
          "output_type": "execute_result",
          "data": {
            "text/html": [
              "<div>\n",
              "<style scoped>\n",
              "    .dataframe tbody tr th:only-of-type {\n",
              "        vertical-align: middle;\n",
              "    }\n",
              "\n",
              "    .dataframe tbody tr th {\n",
              "        vertical-align: top;\n",
              "    }\n",
              "\n",
              "    .dataframe thead th {\n",
              "        text-align: right;\n",
              "    }\n",
              "</style>\n",
              "<table border=\"1\" class=\"dataframe\">\n",
              "  <thead>\n",
              "    <tr style=\"text-align: right;\">\n",
              "      <th></th>\n",
              "      <th>Oil_Pressure</th>\n",
              "      <th>Coolant_Temp</th>\n",
              "      <th>PF_Avg</th>\n",
              "      <th>ECU_Temp</th>\n",
              "    </tr>\n",
              "  </thead>\n",
              "  <tbody>\n",
              "    <tr>\n",
              "      <th>0</th>\n",
              "      <td>636.0</td>\n",
              "      <td>81.0</td>\n",
              "      <td>0.83</td>\n",
              "      <td>32767.0</td>\n",
              "    </tr>\n",
              "    <tr>\n",
              "      <th>1</th>\n",
              "      <td>636.0</td>\n",
              "      <td>81.0</td>\n",
              "      <td>0.76</td>\n",
              "      <td>32767.0</td>\n",
              "    </tr>\n",
              "    <tr>\n",
              "      <th>2</th>\n",
              "      <td>632.0</td>\n",
              "      <td>82.0</td>\n",
              "      <td>0.77</td>\n",
              "      <td>32767.0</td>\n",
              "    </tr>\n",
              "    <tr>\n",
              "      <th>3</th>\n",
              "      <td>632.0</td>\n",
              "      <td>82.0</td>\n",
              "      <td>0.78</td>\n",
              "      <td>32767.0</td>\n",
              "    </tr>\n",
              "    <tr>\n",
              "      <th>4</th>\n",
              "      <td>628.0</td>\n",
              "      <td>82.0</td>\n",
              "      <td>0.78</td>\n",
              "      <td>32767.0</td>\n",
              "    </tr>\n",
              "    <tr>\n",
              "      <th>...</th>\n",
              "      <td>...</td>\n",
              "      <td>...</td>\n",
              "      <td>...</td>\n",
              "      <td>...</td>\n",
              "    </tr>\n",
              "    <tr>\n",
              "      <th>34352</th>\n",
              "      <td>600.0</td>\n",
              "      <td>83.0</td>\n",
              "      <td>0.88</td>\n",
              "      <td>32767.0</td>\n",
              "    </tr>\n",
              "    <tr>\n",
              "      <th>34353</th>\n",
              "      <td>604.0</td>\n",
              "      <td>82.0</td>\n",
              "      <td>0.88</td>\n",
              "      <td>32767.0</td>\n",
              "    </tr>\n",
              "    <tr>\n",
              "      <th>34354</th>\n",
              "      <td>604.0</td>\n",
              "      <td>81.0</td>\n",
              "      <td>0.87</td>\n",
              "      <td>32767.0</td>\n",
              "    </tr>\n",
              "    <tr>\n",
              "      <th>34355</th>\n",
              "      <td>0.0</td>\n",
              "      <td>0.0</td>\n",
              "      <td>0.00</td>\n",
              "      <td>0.0</td>\n",
              "    </tr>\n",
              "    <tr>\n",
              "      <th>34356</th>\n",
              "      <td>0.0</td>\n",
              "      <td>0.0</td>\n",
              "      <td>0.00</td>\n",
              "      <td>0.0</td>\n",
              "    </tr>\n",
              "  </tbody>\n",
              "</table>\n",
              "<p>34357 rows × 4 columns</p>\n",
              "</div>"
            ],
            "text/plain": [
              "       Oil_Pressure  Coolant_Temp  PF_Avg  ECU_Temp\n",
              "0             636.0          81.0    0.83   32767.0\n",
              "1             636.0          81.0    0.76   32767.0\n",
              "2             632.0          82.0    0.77   32767.0\n",
              "3             632.0          82.0    0.78   32767.0\n",
              "4             628.0          82.0    0.78   32767.0\n",
              "...             ...           ...     ...       ...\n",
              "34352         600.0          83.0    0.88   32767.0\n",
              "34353         604.0          82.0    0.88   32767.0\n",
              "34354         604.0          81.0    0.87   32767.0\n",
              "34355           0.0           0.0    0.00       0.0\n",
              "34356           0.0           0.0    0.00       0.0\n",
              "\n",
              "[34357 rows x 4 columns]"
            ]
          },
          "metadata": {},
          "execution_count": 15
        },
        {
          "output_type": "stream",
          "name": "stdout",
          "text": [
            "time: 24.5 ms (started: 2021-10-07 16:15:17 +00:00)\n"
          ]
        }
      ]
    },
    {
      "cell_type": "code",
      "metadata": {
        "colab": {
          "base_uri": "https://localhost:8080/"
        },
        "id": "3AKNb5Zbuci5",
        "outputId": "e46d1b76-de09-43b9-b062-c21413f4e5f3"
      },
      "source": [
        "df_file = df_file.dropna()"
      ],
      "execution_count": 16,
      "outputs": [
        {
          "output_type": "stream",
          "name": "stdout",
          "text": [
            "time: 22.3 ms (started: 2021-10-07 16:15:17 +00:00)\n"
          ]
        }
      ]
    },
    {
      "cell_type": "code",
      "metadata": {
        "colab": {
          "base_uri": "https://localhost:8080/"
        },
        "id": "M163zeD7vQOC",
        "outputId": "81b5b381-1629-4c78-c561-e5f0b5b38154"
      },
      "source": [
        "df_file.info()"
      ],
      "execution_count": 17,
      "outputs": [
        {
          "output_type": "stream",
          "name": "stdout",
          "text": [
            "<class 'pandas.core.frame.DataFrame'>\n",
            "Int64Index: 33832 entries, 0 to 34356\n",
            "Data columns (total 4 columns):\n",
            " #   Column        Non-Null Count  Dtype  \n",
            "---  ------        --------------  -----  \n",
            " 0   Oil_Pressure  33832 non-null  float64\n",
            " 1   Coolant_Temp  33832 non-null  float64\n",
            " 2   PF_Avg        33832 non-null  float64\n",
            " 3   ECU_Temp      33832 non-null  float64\n",
            "dtypes: float64(4)\n",
            "memory usage: 1.3 MB\n",
            "time: 16.2 ms (started: 2021-10-07 16:15:17 +00:00)\n"
          ]
        }
      ]
    },
    {
      "cell_type": "markdown",
      "metadata": {
        "id": "Wy3dKka4mA4O"
      },
      "source": [
        "### Opsi 1"
      ]
    },
    {
      "cell_type": "code",
      "metadata": {
        "colab": {
          "base_uri": "https://localhost:8080/",
          "height": 436
        },
        "id": "CMebK0YymN_E",
        "outputId": "166d32ea-ab37-40ef-c9e4-500cb5a92ab0"
      },
      "source": [
        "# print prediction result for each model from user input\n",
        "predictions_LR = Opsi1_LR.predict(df_file)\n",
        "predictions_KNN = Opsi1_KNN.predict(df_file)\n",
        "predictions_DT = Opsi1_DT.predict(df_file)\n",
        "predictions_SVM = Opsi1_SVM.predict(df_file)\n",
        "predictions_RF = Opsi1_RF.predict(df_file)\n",
        "predictions_LDA = Opsi1_LDA.predict(df_file)\n",
        "predictions_NB = Opsi1_NB.predict(df_file)\n",
        "\n",
        "df_predict = pd.DataFrame({'LR': predictions_LR, 'KNN': predictions_KNN,\n",
        "                         'DT':predictions_DT, 'SVM':predictions_SVM,\n",
        "                         'RF':predictions_RF, 'LDA':predictions_LDA,\n",
        "                         'NB':predictions_NB})\n",
        "df_predict"
      ],
      "execution_count": 18,
      "outputs": [
        {
          "output_type": "execute_result",
          "data": {
            "text/html": [
              "<div>\n",
              "<style scoped>\n",
              "    .dataframe tbody tr th:only-of-type {\n",
              "        vertical-align: middle;\n",
              "    }\n",
              "\n",
              "    .dataframe tbody tr th {\n",
              "        vertical-align: top;\n",
              "    }\n",
              "\n",
              "    .dataframe thead th {\n",
              "        text-align: right;\n",
              "    }\n",
              "</style>\n",
              "<table border=\"1\" class=\"dataframe\">\n",
              "  <thead>\n",
              "    <tr style=\"text-align: right;\">\n",
              "      <th></th>\n",
              "      <th>LR</th>\n",
              "      <th>KNN</th>\n",
              "      <th>DT</th>\n",
              "      <th>SVM</th>\n",
              "      <th>RF</th>\n",
              "      <th>LDA</th>\n",
              "      <th>NB</th>\n",
              "    </tr>\n",
              "  </thead>\n",
              "  <tbody>\n",
              "    <tr>\n",
              "      <th>0</th>\n",
              "      <td>Outlier</td>\n",
              "      <td>Outlier</td>\n",
              "      <td>Normal</td>\n",
              "      <td>Outlier</td>\n",
              "      <td>Normal</td>\n",
              "      <td>Outlier</td>\n",
              "      <td>Outlier</td>\n",
              "    </tr>\n",
              "    <tr>\n",
              "      <th>1</th>\n",
              "      <td>Outlier</td>\n",
              "      <td>Outlier</td>\n",
              "      <td>Normal</td>\n",
              "      <td>Outlier</td>\n",
              "      <td>Outlier</td>\n",
              "      <td>Outlier</td>\n",
              "      <td>Outlier</td>\n",
              "    </tr>\n",
              "    <tr>\n",
              "      <th>2</th>\n",
              "      <td>Outlier</td>\n",
              "      <td>Outlier</td>\n",
              "      <td>Outlier</td>\n",
              "      <td>Outlier</td>\n",
              "      <td>Outlier</td>\n",
              "      <td>Outlier</td>\n",
              "      <td>Outlier</td>\n",
              "    </tr>\n",
              "    <tr>\n",
              "      <th>3</th>\n",
              "      <td>Outlier</td>\n",
              "      <td>Outlier</td>\n",
              "      <td>Outlier</td>\n",
              "      <td>Outlier</td>\n",
              "      <td>Outlier</td>\n",
              "      <td>Outlier</td>\n",
              "      <td>Outlier</td>\n",
              "    </tr>\n",
              "    <tr>\n",
              "      <th>4</th>\n",
              "      <td>Outlier</td>\n",
              "      <td>Outlier</td>\n",
              "      <td>Outlier</td>\n",
              "      <td>Outlier</td>\n",
              "      <td>Outlier</td>\n",
              "      <td>Outlier</td>\n",
              "      <td>Outlier</td>\n",
              "    </tr>\n",
              "    <tr>\n",
              "      <th>...</th>\n",
              "      <td>...</td>\n",
              "      <td>...</td>\n",
              "      <td>...</td>\n",
              "      <td>...</td>\n",
              "      <td>...</td>\n",
              "      <td>...</td>\n",
              "      <td>...</td>\n",
              "    </tr>\n",
              "    <tr>\n",
              "      <th>33827</th>\n",
              "      <td>Outlier</td>\n",
              "      <td>Outlier</td>\n",
              "      <td>Outlier</td>\n",
              "      <td>Outlier</td>\n",
              "      <td>Outlier</td>\n",
              "      <td>Outlier</td>\n",
              "      <td>Outlier</td>\n",
              "    </tr>\n",
              "    <tr>\n",
              "      <th>33828</th>\n",
              "      <td>Outlier</td>\n",
              "      <td>Outlier</td>\n",
              "      <td>Outlier</td>\n",
              "      <td>Outlier</td>\n",
              "      <td>Outlier</td>\n",
              "      <td>Outlier</td>\n",
              "      <td>Outlier</td>\n",
              "    </tr>\n",
              "    <tr>\n",
              "      <th>33829</th>\n",
              "      <td>Outlier</td>\n",
              "      <td>Outlier</td>\n",
              "      <td>Normal</td>\n",
              "      <td>Outlier</td>\n",
              "      <td>Normal</td>\n",
              "      <td>Outlier</td>\n",
              "      <td>Outlier</td>\n",
              "    </tr>\n",
              "    <tr>\n",
              "      <th>33830</th>\n",
              "      <td>Outlier</td>\n",
              "      <td>Outlier</td>\n",
              "      <td>Outlier</td>\n",
              "      <td>Outlier</td>\n",
              "      <td>Outlier</td>\n",
              "      <td>Normal</td>\n",
              "      <td>Outlier</td>\n",
              "    </tr>\n",
              "    <tr>\n",
              "      <th>33831</th>\n",
              "      <td>Outlier</td>\n",
              "      <td>Outlier</td>\n",
              "      <td>Outlier</td>\n",
              "      <td>Outlier</td>\n",
              "      <td>Outlier</td>\n",
              "      <td>Normal</td>\n",
              "      <td>Outlier</td>\n",
              "    </tr>\n",
              "  </tbody>\n",
              "</table>\n",
              "<p>33832 rows × 7 columns</p>\n",
              "</div>"
            ],
            "text/plain": [
              "            LR      KNN       DT      SVM       RF      LDA       NB\n",
              "0      Outlier  Outlier   Normal  Outlier   Normal  Outlier  Outlier\n",
              "1      Outlier  Outlier   Normal  Outlier  Outlier  Outlier  Outlier\n",
              "2      Outlier  Outlier  Outlier  Outlier  Outlier  Outlier  Outlier\n",
              "3      Outlier  Outlier  Outlier  Outlier  Outlier  Outlier  Outlier\n",
              "4      Outlier  Outlier  Outlier  Outlier  Outlier  Outlier  Outlier\n",
              "...        ...      ...      ...      ...      ...      ...      ...\n",
              "33827  Outlier  Outlier  Outlier  Outlier  Outlier  Outlier  Outlier\n",
              "33828  Outlier  Outlier  Outlier  Outlier  Outlier  Outlier  Outlier\n",
              "33829  Outlier  Outlier   Normal  Outlier   Normal  Outlier  Outlier\n",
              "33830  Outlier  Outlier  Outlier  Outlier  Outlier   Normal  Outlier\n",
              "33831  Outlier  Outlier  Outlier  Outlier  Outlier   Normal  Outlier\n",
              "\n",
              "[33832 rows x 7 columns]"
            ]
          },
          "metadata": {},
          "execution_count": 18
        },
        {
          "output_type": "stream",
          "name": "stdout",
          "text": [
            "time: 2.77 s (started: 2021-10-07 16:15:17 +00:00)\n"
          ]
        }
      ]
    },
    {
      "cell_type": "markdown",
      "metadata": {
        "id": "3s35SY1_mDG0"
      },
      "source": [
        "### Opsi 2"
      ]
    },
    {
      "cell_type": "code",
      "metadata": {
        "colab": {
          "base_uri": "https://localhost:8080/",
          "height": 436
        },
        "id": "YTWgYw_umRP-",
        "outputId": "83c090d7-af8f-42b8-c5c1-5f2a4b02b5af"
      },
      "source": [
        "# print prediction result for each model from user input\n",
        "predictions_LR = Opsi2_LR.predict(df_file)\n",
        "predictions_KNN = Opsi2_KNN.predict(df_file)\n",
        "predictions_DT = Opsi2_DT.predict(df_file)\n",
        "predictions_SVM = Opsi2_SVM.predict(df_file)\n",
        "predictions_RF = Opsi2_RF.predict(df_file)\n",
        "predictions_LDA = Opsi2_LDA.predict(df_file)\n",
        "predictions_NB = Opsi2_NB.predict(df_file)\n",
        "\n",
        "df_predict = pd.DataFrame({'LR': predictions_LR, 'KNN': predictions_KNN,\n",
        "                         'DT':predictions_DT, 'SVM':predictions_SVM,\n",
        "                         'RF':predictions_RF, 'LDA':predictions_LDA,\n",
        "                         'NB':predictions_NB})\n",
        "df_predict"
      ],
      "execution_count": 19,
      "outputs": [
        {
          "output_type": "execute_result",
          "data": {
            "text/html": [
              "<div>\n",
              "<style scoped>\n",
              "    .dataframe tbody tr th:only-of-type {\n",
              "        vertical-align: middle;\n",
              "    }\n",
              "\n",
              "    .dataframe tbody tr th {\n",
              "        vertical-align: top;\n",
              "    }\n",
              "\n",
              "    .dataframe thead th {\n",
              "        text-align: right;\n",
              "    }\n",
              "</style>\n",
              "<table border=\"1\" class=\"dataframe\">\n",
              "  <thead>\n",
              "    <tr style=\"text-align: right;\">\n",
              "      <th></th>\n",
              "      <th>LR</th>\n",
              "      <th>KNN</th>\n",
              "      <th>DT</th>\n",
              "      <th>SVM</th>\n",
              "      <th>RF</th>\n",
              "      <th>LDA</th>\n",
              "      <th>NB</th>\n",
              "    </tr>\n",
              "  </thead>\n",
              "  <tbody>\n",
              "    <tr>\n",
              "      <th>0</th>\n",
              "      <td>Maintenance</td>\n",
              "      <td>Maintenance</td>\n",
              "      <td>Normal</td>\n",
              "      <td>Normal</td>\n",
              "      <td>Normal</td>\n",
              "      <td>Maintenance</td>\n",
              "      <td>Maintenance</td>\n",
              "    </tr>\n",
              "    <tr>\n",
              "      <th>1</th>\n",
              "      <td>Maintenance</td>\n",
              "      <td>Maintenance</td>\n",
              "      <td>Normal</td>\n",
              "      <td>Normal</td>\n",
              "      <td>Normal</td>\n",
              "      <td>Maintenance</td>\n",
              "      <td>Maintenance</td>\n",
              "    </tr>\n",
              "    <tr>\n",
              "      <th>2</th>\n",
              "      <td>Maintenance</td>\n",
              "      <td>Maintenance</td>\n",
              "      <td>Normal</td>\n",
              "      <td>Normal</td>\n",
              "      <td>Normal</td>\n",
              "      <td>Maintenance</td>\n",
              "      <td>Maintenance</td>\n",
              "    </tr>\n",
              "    <tr>\n",
              "      <th>3</th>\n",
              "      <td>Maintenance</td>\n",
              "      <td>Maintenance</td>\n",
              "      <td>Normal</td>\n",
              "      <td>Normal</td>\n",
              "      <td>Normal</td>\n",
              "      <td>Maintenance</td>\n",
              "      <td>Maintenance</td>\n",
              "    </tr>\n",
              "    <tr>\n",
              "      <th>4</th>\n",
              "      <td>Maintenance</td>\n",
              "      <td>Maintenance</td>\n",
              "      <td>Normal</td>\n",
              "      <td>Normal</td>\n",
              "      <td>Normal</td>\n",
              "      <td>Maintenance</td>\n",
              "      <td>Maintenance</td>\n",
              "    </tr>\n",
              "    <tr>\n",
              "      <th>...</th>\n",
              "      <td>...</td>\n",
              "      <td>...</td>\n",
              "      <td>...</td>\n",
              "      <td>...</td>\n",
              "      <td>...</td>\n",
              "      <td>...</td>\n",
              "      <td>...</td>\n",
              "    </tr>\n",
              "    <tr>\n",
              "      <th>33827</th>\n",
              "      <td>Maintenance</td>\n",
              "      <td>Maintenance</td>\n",
              "      <td>Normal</td>\n",
              "      <td>Normal</td>\n",
              "      <td>Normal</td>\n",
              "      <td>Maintenance</td>\n",
              "      <td>Maintenance</td>\n",
              "    </tr>\n",
              "    <tr>\n",
              "      <th>33828</th>\n",
              "      <td>Maintenance</td>\n",
              "      <td>Maintenance</td>\n",
              "      <td>Normal</td>\n",
              "      <td>Normal</td>\n",
              "      <td>Normal</td>\n",
              "      <td>Maintenance</td>\n",
              "      <td>Maintenance</td>\n",
              "    </tr>\n",
              "    <tr>\n",
              "      <th>33829</th>\n",
              "      <td>Maintenance</td>\n",
              "      <td>Maintenance</td>\n",
              "      <td>Normal</td>\n",
              "      <td>Normal</td>\n",
              "      <td>Normal</td>\n",
              "      <td>Maintenance</td>\n",
              "      <td>Maintenance</td>\n",
              "    </tr>\n",
              "    <tr>\n",
              "      <th>33830</th>\n",
              "      <td>Maintenance</td>\n",
              "      <td>Maintenance</td>\n",
              "      <td>Maintenance</td>\n",
              "      <td>Normal</td>\n",
              "      <td>Maintenance</td>\n",
              "      <td>Maintenance</td>\n",
              "      <td>Maintenance</td>\n",
              "    </tr>\n",
              "    <tr>\n",
              "      <th>33831</th>\n",
              "      <td>Maintenance</td>\n",
              "      <td>Maintenance</td>\n",
              "      <td>Maintenance</td>\n",
              "      <td>Normal</td>\n",
              "      <td>Maintenance</td>\n",
              "      <td>Maintenance</td>\n",
              "      <td>Maintenance</td>\n",
              "    </tr>\n",
              "  </tbody>\n",
              "</table>\n",
              "<p>33832 rows × 7 columns</p>\n",
              "</div>"
            ],
            "text/plain": [
              "                LR          KNN  ...          LDA           NB\n",
              "0      Maintenance  Maintenance  ...  Maintenance  Maintenance\n",
              "1      Maintenance  Maintenance  ...  Maintenance  Maintenance\n",
              "2      Maintenance  Maintenance  ...  Maintenance  Maintenance\n",
              "3      Maintenance  Maintenance  ...  Maintenance  Maintenance\n",
              "4      Maintenance  Maintenance  ...  Maintenance  Maintenance\n",
              "...            ...          ...  ...          ...          ...\n",
              "33827  Maintenance  Maintenance  ...  Maintenance  Maintenance\n",
              "33828  Maintenance  Maintenance  ...  Maintenance  Maintenance\n",
              "33829  Maintenance  Maintenance  ...  Maintenance  Maintenance\n",
              "33830  Maintenance  Maintenance  ...  Maintenance  Maintenance\n",
              "33831  Maintenance  Maintenance  ...  Maintenance  Maintenance\n",
              "\n",
              "[33832 rows x 7 columns]"
            ]
          },
          "metadata": {},
          "execution_count": 19
        },
        {
          "output_type": "stream",
          "name": "stdout",
          "text": [
            "time: 1.36 s (started: 2021-10-07 16:15:20 +00:00)\n"
          ]
        }
      ]
    },
    {
      "cell_type": "markdown",
      "metadata": {
        "id": "bdHyjADzmFI0"
      },
      "source": [
        "### Opsi 3"
      ]
    },
    {
      "cell_type": "code",
      "metadata": {
        "colab": {
          "base_uri": "https://localhost:8080/",
          "height": 436
        },
        "id": "-CnD8FXAmTnY",
        "outputId": "11fdd2c1-bc8e-4b42-8808-a9698309e9ae"
      },
      "source": [
        "# print prediction result for each model from user input\n",
        "predictions_LR = Opsi3_LR.predict(df_file)\n",
        "predictions_KNN = Opsi3_KNN.predict(df_file)\n",
        "predictions_DT = Opsi3_DT.predict(df_file)\n",
        "predictions_SVM = Opsi3_SVM.predict(df_file)\n",
        "predictions_RF = Opsi3_RF.predict(df_file)\n",
        "predictions_LDA = Opsi3_LDA.predict(df_file)\n",
        "predictions_NB = Opsi3_NB.predict(df_file)\n",
        "\n",
        "df_predict = pd.DataFrame({'LR': predictions_LR, 'KNN': predictions_KNN,\n",
        "                         'DT':predictions_DT, 'SVM':predictions_SVM,\n",
        "                         'RF':predictions_RF, 'LDA':predictions_LDA,\n",
        "                         'NB':predictions_NB})\n",
        "df_predict"
      ],
      "execution_count": 20,
      "outputs": [
        {
          "output_type": "execute_result",
          "data": {
            "text/html": [
              "<div>\n",
              "<style scoped>\n",
              "    .dataframe tbody tr th:only-of-type {\n",
              "        vertical-align: middle;\n",
              "    }\n",
              "\n",
              "    .dataframe tbody tr th {\n",
              "        vertical-align: top;\n",
              "    }\n",
              "\n",
              "    .dataframe thead th {\n",
              "        text-align: right;\n",
              "    }\n",
              "</style>\n",
              "<table border=\"1\" class=\"dataframe\">\n",
              "  <thead>\n",
              "    <tr style=\"text-align: right;\">\n",
              "      <th></th>\n",
              "      <th>LR</th>\n",
              "      <th>KNN</th>\n",
              "      <th>DT</th>\n",
              "      <th>SVM</th>\n",
              "      <th>RF</th>\n",
              "      <th>LDA</th>\n",
              "      <th>NB</th>\n",
              "    </tr>\n",
              "  </thead>\n",
              "  <tbody>\n",
              "    <tr>\n",
              "      <th>0</th>\n",
              "      <td>0.0</td>\n",
              "      <td>0.0</td>\n",
              "      <td>0.0</td>\n",
              "      <td>0.0</td>\n",
              "      <td>0.0</td>\n",
              "      <td>0.0</td>\n",
              "      <td>0.0</td>\n",
              "    </tr>\n",
              "    <tr>\n",
              "      <th>1</th>\n",
              "      <td>0.0</td>\n",
              "      <td>0.0</td>\n",
              "      <td>0.0</td>\n",
              "      <td>0.0</td>\n",
              "      <td>0.0</td>\n",
              "      <td>0.0</td>\n",
              "      <td>0.0</td>\n",
              "    </tr>\n",
              "    <tr>\n",
              "      <th>2</th>\n",
              "      <td>0.0</td>\n",
              "      <td>0.0</td>\n",
              "      <td>0.0</td>\n",
              "      <td>0.0</td>\n",
              "      <td>0.0</td>\n",
              "      <td>0.0</td>\n",
              "      <td>0.0</td>\n",
              "    </tr>\n",
              "    <tr>\n",
              "      <th>3</th>\n",
              "      <td>0.0</td>\n",
              "      <td>0.0</td>\n",
              "      <td>0.0</td>\n",
              "      <td>0.0</td>\n",
              "      <td>0.0</td>\n",
              "      <td>0.0</td>\n",
              "      <td>0.0</td>\n",
              "    </tr>\n",
              "    <tr>\n",
              "      <th>4</th>\n",
              "      <td>0.0</td>\n",
              "      <td>0.0</td>\n",
              "      <td>0.0</td>\n",
              "      <td>0.0</td>\n",
              "      <td>0.0</td>\n",
              "      <td>0.0</td>\n",
              "      <td>0.0</td>\n",
              "    </tr>\n",
              "    <tr>\n",
              "      <th>...</th>\n",
              "      <td>...</td>\n",
              "      <td>...</td>\n",
              "      <td>...</td>\n",
              "      <td>...</td>\n",
              "      <td>...</td>\n",
              "      <td>...</td>\n",
              "      <td>...</td>\n",
              "    </tr>\n",
              "    <tr>\n",
              "      <th>33827</th>\n",
              "      <td>0.0</td>\n",
              "      <td>0.0</td>\n",
              "      <td>0.0</td>\n",
              "      <td>0.0</td>\n",
              "      <td>0.0</td>\n",
              "      <td>0.0</td>\n",
              "      <td>0.0</td>\n",
              "    </tr>\n",
              "    <tr>\n",
              "      <th>33828</th>\n",
              "      <td>0.0</td>\n",
              "      <td>0.0</td>\n",
              "      <td>0.0</td>\n",
              "      <td>0.0</td>\n",
              "      <td>0.0</td>\n",
              "      <td>0.0</td>\n",
              "      <td>0.0</td>\n",
              "    </tr>\n",
              "    <tr>\n",
              "      <th>33829</th>\n",
              "      <td>0.0</td>\n",
              "      <td>0.0</td>\n",
              "      <td>0.0</td>\n",
              "      <td>0.0</td>\n",
              "      <td>0.0</td>\n",
              "      <td>0.0</td>\n",
              "      <td>0.0</td>\n",
              "    </tr>\n",
              "    <tr>\n",
              "      <th>33830</th>\n",
              "      <td>2.0</td>\n",
              "      <td>2.0</td>\n",
              "      <td>2.0</td>\n",
              "      <td>2.0</td>\n",
              "      <td>2.0</td>\n",
              "      <td>2.0</td>\n",
              "      <td>2.0</td>\n",
              "    </tr>\n",
              "    <tr>\n",
              "      <th>33831</th>\n",
              "      <td>2.0</td>\n",
              "      <td>2.0</td>\n",
              "      <td>2.0</td>\n",
              "      <td>2.0</td>\n",
              "      <td>2.0</td>\n",
              "      <td>2.0</td>\n",
              "      <td>2.0</td>\n",
              "    </tr>\n",
              "  </tbody>\n",
              "</table>\n",
              "<p>33832 rows × 7 columns</p>\n",
              "</div>"
            ],
            "text/plain": [
              "        LR  KNN   DT  SVM   RF  LDA   NB\n",
              "0      0.0  0.0  0.0  0.0  0.0  0.0  0.0\n",
              "1      0.0  0.0  0.0  0.0  0.0  0.0  0.0\n",
              "2      0.0  0.0  0.0  0.0  0.0  0.0  0.0\n",
              "3      0.0  0.0  0.0  0.0  0.0  0.0  0.0\n",
              "4      0.0  0.0  0.0  0.0  0.0  0.0  0.0\n",
              "...    ...  ...  ...  ...  ...  ...  ...\n",
              "33827  0.0  0.0  0.0  0.0  0.0  0.0  0.0\n",
              "33828  0.0  0.0  0.0  0.0  0.0  0.0  0.0\n",
              "33829  0.0  0.0  0.0  0.0  0.0  0.0  0.0\n",
              "33830  2.0  2.0  2.0  2.0  2.0  2.0  2.0\n",
              "33831  2.0  2.0  2.0  2.0  2.0  2.0  2.0\n",
              "\n",
              "[33832 rows x 7 columns]"
            ]
          },
          "metadata": {},
          "execution_count": 20
        },
        {
          "output_type": "stream",
          "name": "stdout",
          "text": [
            "time: 7.95 s (started: 2021-10-07 16:15:21 +00:00)\n"
          ]
        }
      ]
    },
    {
      "cell_type": "markdown",
      "metadata": {
        "id": "zG3vio2wmHKM"
      },
      "source": [
        "### Opsi 4"
      ]
    },
    {
      "cell_type": "code",
      "metadata": {
        "colab": {
          "base_uri": "https://localhost:8080/",
          "height": 436
        },
        "id": "rwQPp61TmUiz",
        "outputId": "3546ad23-08ad-4660-cd33-5c12c1fb2952"
      },
      "source": [
        "# print prediction result for each model from user input\n",
        "predictions_LR = Opsi4_LR.predict(df_file)\n",
        "predictions_KNN = Opsi4_KNN.predict(df_file)\n",
        "predictions_DT = Opsi4_DT.predict(df_file)\n",
        "predictions_SVM = Opsi4_SVM.predict(df_file)\n",
        "predictions_RF = Opsi4_RF.predict(df_file)\n",
        "predictions_LDA = Opsi4_LDA.predict(df_file)\n",
        "predictions_NB = Opsi4_NB.predict(df_file)\n",
        "\n",
        "df_predict = pd.DataFrame({'LR': predictions_LR, 'KNN': predictions_KNN,\n",
        "                         'DT':predictions_DT, 'SVM':predictions_SVM,\n",
        "                         'RF':predictions_RF, 'LDA':predictions_LDA,\n",
        "                         'NB':predictions_NB})\n",
        "df_predict"
      ],
      "execution_count": 21,
      "outputs": [
        {
          "output_type": "execute_result",
          "data": {
            "text/html": [
              "<div>\n",
              "<style scoped>\n",
              "    .dataframe tbody tr th:only-of-type {\n",
              "        vertical-align: middle;\n",
              "    }\n",
              "\n",
              "    .dataframe tbody tr th {\n",
              "        vertical-align: top;\n",
              "    }\n",
              "\n",
              "    .dataframe thead th {\n",
              "        text-align: right;\n",
              "    }\n",
              "</style>\n",
              "<table border=\"1\" class=\"dataframe\">\n",
              "  <thead>\n",
              "    <tr style=\"text-align: right;\">\n",
              "      <th></th>\n",
              "      <th>LR</th>\n",
              "      <th>KNN</th>\n",
              "      <th>DT</th>\n",
              "      <th>SVM</th>\n",
              "      <th>RF</th>\n",
              "      <th>LDA</th>\n",
              "      <th>NB</th>\n",
              "    </tr>\n",
              "  </thead>\n",
              "  <tbody>\n",
              "    <tr>\n",
              "      <th>0</th>\n",
              "      <td>1.0</td>\n",
              "      <td>1.0</td>\n",
              "      <td>1.0</td>\n",
              "      <td>1.0</td>\n",
              "      <td>1.0</td>\n",
              "      <td>1.0</td>\n",
              "      <td>1.0</td>\n",
              "    </tr>\n",
              "    <tr>\n",
              "      <th>1</th>\n",
              "      <td>1.0</td>\n",
              "      <td>1.0</td>\n",
              "      <td>1.0</td>\n",
              "      <td>1.0</td>\n",
              "      <td>1.0</td>\n",
              "      <td>1.0</td>\n",
              "      <td>1.0</td>\n",
              "    </tr>\n",
              "    <tr>\n",
              "      <th>2</th>\n",
              "      <td>1.0</td>\n",
              "      <td>1.0</td>\n",
              "      <td>1.0</td>\n",
              "      <td>1.0</td>\n",
              "      <td>1.0</td>\n",
              "      <td>1.0</td>\n",
              "      <td>1.0</td>\n",
              "    </tr>\n",
              "    <tr>\n",
              "      <th>3</th>\n",
              "      <td>1.0</td>\n",
              "      <td>1.0</td>\n",
              "      <td>1.0</td>\n",
              "      <td>1.0</td>\n",
              "      <td>1.0</td>\n",
              "      <td>1.0</td>\n",
              "      <td>1.0</td>\n",
              "    </tr>\n",
              "    <tr>\n",
              "      <th>4</th>\n",
              "      <td>1.0</td>\n",
              "      <td>1.0</td>\n",
              "      <td>1.0</td>\n",
              "      <td>1.0</td>\n",
              "      <td>1.0</td>\n",
              "      <td>1.0</td>\n",
              "      <td>1.0</td>\n",
              "    </tr>\n",
              "    <tr>\n",
              "      <th>...</th>\n",
              "      <td>...</td>\n",
              "      <td>...</td>\n",
              "      <td>...</td>\n",
              "      <td>...</td>\n",
              "      <td>...</td>\n",
              "      <td>...</td>\n",
              "      <td>...</td>\n",
              "    </tr>\n",
              "    <tr>\n",
              "      <th>33827</th>\n",
              "      <td>1.0</td>\n",
              "      <td>1.0</td>\n",
              "      <td>1.0</td>\n",
              "      <td>1.0</td>\n",
              "      <td>1.0</td>\n",
              "      <td>1.0</td>\n",
              "      <td>1.0</td>\n",
              "    </tr>\n",
              "    <tr>\n",
              "      <th>33828</th>\n",
              "      <td>1.0</td>\n",
              "      <td>1.0</td>\n",
              "      <td>1.0</td>\n",
              "      <td>1.0</td>\n",
              "      <td>1.0</td>\n",
              "      <td>1.0</td>\n",
              "      <td>1.0</td>\n",
              "    </tr>\n",
              "    <tr>\n",
              "      <th>33829</th>\n",
              "      <td>1.0</td>\n",
              "      <td>1.0</td>\n",
              "      <td>1.0</td>\n",
              "      <td>1.0</td>\n",
              "      <td>1.0</td>\n",
              "      <td>1.0</td>\n",
              "      <td>1.0</td>\n",
              "    </tr>\n",
              "    <tr>\n",
              "      <th>33830</th>\n",
              "      <td>0.0</td>\n",
              "      <td>0.0</td>\n",
              "      <td>0.0</td>\n",
              "      <td>0.0</td>\n",
              "      <td>0.0</td>\n",
              "      <td>0.0</td>\n",
              "      <td>0.0</td>\n",
              "    </tr>\n",
              "    <tr>\n",
              "      <th>33831</th>\n",
              "      <td>0.0</td>\n",
              "      <td>0.0</td>\n",
              "      <td>0.0</td>\n",
              "      <td>0.0</td>\n",
              "      <td>0.0</td>\n",
              "      <td>0.0</td>\n",
              "      <td>0.0</td>\n",
              "    </tr>\n",
              "  </tbody>\n",
              "</table>\n",
              "<p>33832 rows × 7 columns</p>\n",
              "</div>"
            ],
            "text/plain": [
              "        LR  KNN   DT  SVM   RF  LDA   NB\n",
              "0      1.0  1.0  1.0  1.0  1.0  1.0  1.0\n",
              "1      1.0  1.0  1.0  1.0  1.0  1.0  1.0\n",
              "2      1.0  1.0  1.0  1.0  1.0  1.0  1.0\n",
              "3      1.0  1.0  1.0  1.0  1.0  1.0  1.0\n",
              "4      1.0  1.0  1.0  1.0  1.0  1.0  1.0\n",
              "...    ...  ...  ...  ...  ...  ...  ...\n",
              "33827  1.0  1.0  1.0  1.0  1.0  1.0  1.0\n",
              "33828  1.0  1.0  1.0  1.0  1.0  1.0  1.0\n",
              "33829  1.0  1.0  1.0  1.0  1.0  1.0  1.0\n",
              "33830  0.0  0.0  0.0  0.0  0.0  0.0  0.0\n",
              "33831  0.0  0.0  0.0  0.0  0.0  0.0  0.0\n",
              "\n",
              "[33832 rows x 7 columns]"
            ]
          },
          "metadata": {},
          "execution_count": 21
        },
        {
          "output_type": "stream",
          "name": "stdout",
          "text": [
            "time: 7.87 s (started: 2021-10-07 16:15:29 +00:00)\n"
          ]
        }
      ]
    },
    {
      "cell_type": "markdown",
      "metadata": {
        "id": "y5ty3LbvmI_L"
      },
      "source": [
        "### RUL"
      ]
    },
    {
      "cell_type": "code",
      "metadata": {
        "colab": {
          "base_uri": "https://localhost:8080/"
        },
        "id": "gYVdEri0rCrO",
        "outputId": "008fd110-c91e-4927-d38f-ad51d92bf41e"
      },
      "source": [
        "print('Enter value for MTBF:')\n",
        "MTBF = float(input())"
      ],
      "execution_count": 22,
      "outputs": [
        {
          "output_type": "stream",
          "name": "stdout",
          "text": [
            "Enter value for MTBF:\n",
            "3.914026\n",
            "time: 32.5 s (started: 2021-10-07 16:15:37 +00:00)\n"
          ]
        }
      ]
    },
    {
      "cell_type": "code",
      "metadata": {
        "colab": {
          "base_uri": "https://localhost:8080/",
          "height": 436
        },
        "id": "ZrbtaDU1l0xt",
        "outputId": "f4ebe818-202a-49e8-c04e-d46942cce98f"
      },
      "source": [
        "#RUL result is MTBF_Condition-Prediction (differ with each dataset)\n",
        "predictions_OLS = MTBF-RUL_OLS.predict(df_file)\n",
        "predictions_Ridge = MTBF-RUL_Ridge.predict(df_file)\n",
        "predictions_RFreg = MTBF-RUL_RFreg.predict(df_file)\n",
        "\n",
        "df_RUL = pd.DataFrame({'OLS': predictions_OLS, 'Ridge': predictions_Ridge,\n",
        "                         'RF-reg':predictions_RFreg})\n",
        "df_RUL"
      ],
      "execution_count": 23,
      "outputs": [
        {
          "output_type": "execute_result",
          "data": {
            "text/html": [
              "<div>\n",
              "<style scoped>\n",
              "    .dataframe tbody tr th:only-of-type {\n",
              "        vertical-align: middle;\n",
              "    }\n",
              "\n",
              "    .dataframe tbody tr th {\n",
              "        vertical-align: top;\n",
              "    }\n",
              "\n",
              "    .dataframe thead th {\n",
              "        text-align: right;\n",
              "    }\n",
              "</style>\n",
              "<table border=\"1\" class=\"dataframe\">\n",
              "  <thead>\n",
              "    <tr style=\"text-align: right;\">\n",
              "      <th></th>\n",
              "      <th>OLS</th>\n",
              "      <th>Ridge</th>\n",
              "      <th>RF-reg</th>\n",
              "    </tr>\n",
              "  </thead>\n",
              "  <tbody>\n",
              "    <tr>\n",
              "      <th>0</th>\n",
              "      <td>12398.842045</td>\n",
              "      <td>12523.345927</td>\n",
              "      <td>-2.642474</td>\n",
              "    </tr>\n",
              "    <tr>\n",
              "      <th>1</th>\n",
              "      <td>12400.560297</td>\n",
              "      <td>12524.552364</td>\n",
              "      <td>2.112207</td>\n",
              "    </tr>\n",
              "    <tr>\n",
              "      <th>2</th>\n",
              "      <td>12400.753519</td>\n",
              "      <td>12524.804782</td>\n",
              "      <td>2.176068</td>\n",
              "    </tr>\n",
              "    <tr>\n",
              "      <th>3</th>\n",
              "      <td>12400.508055</td>\n",
              "      <td>12524.632433</td>\n",
              "      <td>2.176068</td>\n",
              "    </tr>\n",
              "    <tr>\n",
              "      <th>4</th>\n",
              "      <td>12400.741339</td>\n",
              "      <td>12524.869383</td>\n",
              "      <td>2.176068</td>\n",
              "    </tr>\n",
              "    <tr>\n",
              "      <th>...</th>\n",
              "      <td>...</td>\n",
              "      <td>...</td>\n",
              "      <td>...</td>\n",
              "    </tr>\n",
              "    <tr>\n",
              "      <th>33827</th>\n",
              "      <td>12400.125088</td>\n",
              "      <td>12524.992362</td>\n",
              "      <td>2.369026</td>\n",
              "    </tr>\n",
              "    <tr>\n",
              "      <th>33828</th>\n",
              "      <td>12399.686401</td>\n",
              "      <td>12524.567596</td>\n",
              "      <td>0.744097</td>\n",
              "    </tr>\n",
              "    <tr>\n",
              "      <th>33829</th>\n",
              "      <td>12399.726464</td>\n",
              "      <td>12524.552127</td>\n",
              "      <td>-11.841052</td>\n",
              "    </tr>\n",
              "    <tr>\n",
              "      <th>33830</th>\n",
              "      <td>24.875320</td>\n",
              "      <td>20.410386</td>\n",
              "      <td>-0.415541</td>\n",
              "    </tr>\n",
              "    <tr>\n",
              "      <th>33831</th>\n",
              "      <td>24.875320</td>\n",
              "      <td>20.410386</td>\n",
              "      <td>-0.415541</td>\n",
              "    </tr>\n",
              "  </tbody>\n",
              "</table>\n",
              "<p>33832 rows × 3 columns</p>\n",
              "</div>"
            ],
            "text/plain": [
              "                OLS         Ridge     RF-reg\n",
              "0      12398.842045  12523.345927  -2.642474\n",
              "1      12400.560297  12524.552364   2.112207\n",
              "2      12400.753519  12524.804782   2.176068\n",
              "3      12400.508055  12524.632433   2.176068\n",
              "4      12400.741339  12524.869383   2.176068\n",
              "...             ...           ...        ...\n",
              "33827  12400.125088  12524.992362   2.369026\n",
              "33828  12399.686401  12524.567596   0.744097\n",
              "33829  12399.726464  12524.552127 -11.841052\n",
              "33830     24.875320     20.410386  -0.415541\n",
              "33831     24.875320     20.410386  -0.415541\n",
              "\n",
              "[33832 rows x 3 columns]"
            ]
          },
          "metadata": {},
          "execution_count": 23
        },
        {
          "output_type": "stream",
          "name": "stdout",
          "text": [
            "time: 325 ms (started: 2021-10-07 16:16:09 +00:00)\n"
          ]
        }
      ]
    }
  ]
}